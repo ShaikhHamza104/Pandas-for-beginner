{
 "cells": [
  {
   "cell_type": "code",
   "id": "initial_id",
   "metadata": {
    "collapsed": true,
    "ExecuteTime": {
     "end_time": "2025-02-05T11:26:58.740092Z",
     "start_time": "2025-02-05T11:26:56.634521Z"
    }
   },
   "source": [
    "import  pandas as pd\n",
    "import numpy as np"
   ],
   "outputs": [],
   "execution_count": 1
  },
  {
   "metadata": {},
   "cell_type": "markdown",
   "source": [
    "### 1. Create a Pandas Series\n",
    "- Create a Pandas Series with the numbers `[10, 20, 30, 40, 50]`.\n",
    "- Find the mean and standard deviation of the Series.\n",
    "\n",
    "---"
   ],
   "id": "308e2151140bc3c6"
  },
  {
   "metadata": {
    "ExecuteTime": {
     "end_time": "2025-02-05T11:26:58.834681Z",
     "start_time": "2025-02-05T11:26:58.804716Z"
    }
   },
   "cell_type": "code",
   "source": [
    "s = pd.Series([10, 20, 30, 40, 50])\n",
    "print(s)\n",
    "print(s.mean())\n",
    "print(s.std())"
   ],
   "id": "eb95c63986713968",
   "outputs": [
    {
     "name": "stdout",
     "output_type": "stream",
     "text": [
      "0    10\n",
      "1    20\n",
      "2    30\n",
      "3    40\n",
      "4    50\n",
      "dtype: int64\n",
      "30.0\n",
      "15.811388300841896\n"
     ]
    }
   ],
   "execution_count": 2
  },
  {
   "metadata": {},
   "cell_type": "markdown",
   "source": [
    "### 2. Series Creation and Basic Information\n",
    "- Create a Pandas Series named fruits containing the following fruits: \"apple\", \"banana\", \"orange\", \"grape\", \"kiwi\".  Print the Series and its data type.  Then, access and print the second element of the Series."
   ],
   "id": "1226dabcf266ce75"
  },
  {
   "metadata": {
    "ExecuteTime": {
     "end_time": "2025-02-05T11:26:59.021178Z",
     "start_time": "2025-02-05T11:26:58.972656Z"
    }
   },
   "cell_type": "code",
   "source": [
    "fruits = pd.Series([\"apple\", \"banana\", \"orange\", \"grape\", \"kiwi\"])\n",
    "print(fruits)\n",
    "print(fruits.dtypes)\n",
    "print(fruits[1])"
   ],
   "id": "ea0b336c2ce229f",
   "outputs": [
    {
     "name": "stdout",
     "output_type": "stream",
     "text": [
      "0     apple\n",
      "1    banana\n",
      "2    orange\n",
      "3     grape\n",
      "4      kiwi\n",
      "dtype: object\n",
      "object\n",
      "banana\n"
     ]
    }
   ],
   "execution_count": 3
  },
  {
   "metadata": {},
   "cell_type": "markdown",
   "source": [
    "3. Series with Custom Index\n",
    "\n",
    "- Create a Pandas Series named **prices** representing the prices of the fruits above.  Use the fruit names as the index. The prices are: apple - 1.0, banana - 0.5, orange - 0.75, grape - 2.0, kiwi - 1.5. Print the Series."
   ],
   "id": "ba185dc0635893d1"
  },
  {
   "metadata": {
    "ExecuteTime": {
     "end_time": "2025-02-05T11:26:59.925586Z",
     "start_time": "2025-02-05T11:26:59.901669Z"
    }
   },
   "cell_type": "code",
   "source": [
    "price = {'apple' : 1.0, 'banana' :0.5, 'orange' : 0.75, 'grape' : 2.0, 'kiwi' : 1.5}\n",
    "price_series = pd.Series(price)\n",
    "print(price_series)"
   ],
   "id": "3a335bb13867982b",
   "outputs": [
    {
     "name": "stdout",
     "output_type": "stream",
     "text": [
      "apple     1.00\n",
      "banana    0.50\n",
      "orange    0.75\n",
      "grape     2.00\n",
      "kiwi      1.50\n",
      "dtype: float64\n"
     ]
    }
   ],
   "execution_count": 4
  },
  {
   "metadata": {},
   "cell_type": "markdown",
   "source": [
    "4. Accessing Data with Labels\n",
    "\n",
    "- Using the prices Series, print the price of \"grape\" and \"banana\""
   ],
   "id": "b41e00ad754f20d5"
  },
  {
   "metadata": {
    "ExecuteTime": {
     "end_time": "2025-02-05T11:27:00.034874Z",
     "start_time": "2025-02-05T11:27:00.009175Z"
    }
   },
   "cell_type": "code",
   "source": [
    "print(price_series['grape'])\n",
    "print(price_series['banana'])"
   ],
   "id": "96fda305aee0844d",
   "outputs": [
    {
     "name": "stdout",
     "output_type": "stream",
     "text": [
      "2.0\n",
      "0.5\n"
     ]
    }
   ],
   "execution_count": 5
  },
  {
   "metadata": {},
   "cell_type": "markdown",
   "source": [
    "5. Slicing Series\n",
    "- Using the prices Series, print the prices of the fruits from \"banana\" to \"grape\" (inclusive)"
   ],
   "id": "6a008d0de078d82b"
  },
  {
   "metadata": {
    "ExecuteTime": {
     "end_time": "2025-02-05T11:27:00.498351Z",
     "start_time": "2025-02-05T11:27:00.443012Z"
    }
   },
   "cell_type": "code",
   "source": "price_series['banana':'grape']",
   "id": "598b2918201581f3",
   "outputs": [
    {
     "data": {
      "text/plain": [
       "banana    0.50\n",
       "orange    0.75\n",
       "grape     2.00\n",
       "dtype: float64"
      ]
     },
     "execution_count": 6,
     "metadata": {},
     "output_type": "execute_result"
    }
   ],
   "execution_count": 6
  },
  {
   "metadata": {},
   "cell_type": "markdown",
   "source": [
    "6. Series Operations\n",
    "\n",
    "Create a new Series called **discounted_prices** by applying a 10% discount to each **price** in the prices Series. Print the **discounted_prices**."
   ],
   "id": "1ed42af3310e0684"
  },
  {
   "metadata": {
    "ExecuteTime": {
     "end_time": "2025-02-05T11:27:00.776776Z",
     "start_time": "2025-02-05T11:27:00.759126Z"
    }
   },
   "cell_type": "code",
   "source": [
    "discounted_price = price_series*0.9\n",
    "print(discounted_price)"
   ],
   "id": "93f00ccff763d0fd",
   "outputs": [
    {
     "name": "stdout",
     "output_type": "stream",
     "text": [
      "apple     0.900\n",
      "banana    0.450\n",
      "orange    0.675\n",
      "grape     1.800\n",
      "kiwi      1.350\n",
      "dtype: float64\n"
     ]
    }
   ],
   "execution_count": 7
  },
  {
   "metadata": {},
   "cell_type": "markdown",
   "source": [
    "7.  Checking for Missing Values\n",
    "\n",
    "Add a missing value (NaN) to the **prices** Series for a new fruit \"mango\" with a price of NaN.  Then, use the **.isnull()** method to check for missing values and print the result."
   ],
   "id": "1c02a8c605c6616"
  },
  {
   "metadata": {
    "ExecuteTime": {
     "end_time": "2025-02-05T11:27:01.034059Z",
     "start_time": "2025-02-05T11:27:00.985582Z"
    }
   },
   "cell_type": "code",
   "source": [
    "price_series['mango']= np.nan\n",
    "print(price_series)"
   ],
   "id": "d4a1067346fdaa06",
   "outputs": [
    {
     "name": "stdout",
     "output_type": "stream",
     "text": [
      "apple     1.00\n",
      "banana    0.50\n",
      "orange    0.75\n",
      "grape     2.00\n",
      "kiwi      1.50\n",
      "mango      NaN\n",
      "dtype: float64\n"
     ]
    }
   ],
   "execution_count": 8
  },
  {
   "metadata": {
    "ExecuteTime": {
     "end_time": "2025-02-05T11:27:01.194182Z",
     "start_time": "2025-02-05T11:27:01.169921Z"
    }
   },
   "cell_type": "code",
   "source": "price_series.isnull().sum()",
   "id": "db358b924202219a",
   "outputs": [
    {
     "data": {
      "text/plain": [
       "np.int64(1)"
      ]
     },
     "execution_count": 9,
     "metadata": {},
     "output_type": "execute_result"
    }
   ],
   "execution_count": 9
  },
  {
   "metadata": {},
   "cell_type": "markdown",
   "source": [
    "8.\n",
    "9.\n",
    "10. Filtering Data\n",
    "\n",
    "Using the **prices** Series, print the names of the fruits that **cost** more than 1.0."
   ],
   "id": "a12de3f8bdd3e0c7"
  },
  {
   "metadata": {
    "ExecuteTime": {
     "end_time": "2025-02-05T11:27:01.435530Z",
     "start_time": "2025-02-05T11:27:01.410998Z"
    }
   },
   "cell_type": "code",
   "source": "price_series[price_series>1.0]",
   "id": "127eebc763892d1a",
   "outputs": [
    {
     "data": {
      "text/plain": [
       "grape    2.0\n",
       "kiwi     1.5\n",
       "dtype: float64"
      ]
     },
     "execution_count": 10,
     "metadata": {},
     "output_type": "execute_result"
    }
   ],
   "execution_count": 10
  },
  {
   "metadata": {},
   "cell_type": "markdown",
   "source": [
    "9.  Applying Functions to Series\n",
    "\n",
    "Exercise: Create a function that adds \" (expensive)\" to the **fruit** name if its **price** is greater than 1.0. Apply this function to the prices Series and print the result."
   ],
   "id": "f580fddd0b60274b"
  },
  {
   "metadata": {
    "ExecuteTime": {
     "end_time": "2025-02-05T11:27:02.643831Z",
     "start_time": "2025-02-05T11:27:02.606292Z"
    }
   },
   "cell_type": "code",
   "source": [
    "def label_expensive(fruit_price):\n",
    "  if fruit_price > 1.0:\n",
    "    return str(fruit_price) + \" (expensive)\" # .\n",
    "  return fruit_price\n",
    "price_series.apply(label_expensive)"
   ],
   "id": "6516b912ad9b9f13",
   "outputs": [
    {
     "data": {
      "text/plain": [
       "apple                 1.0\n",
       "banana                0.5\n",
       "orange               0.75\n",
       "grape     2.0 (expensive)\n",
       "kiwi      1.5 (expensive)\n",
       "mango                 NaN\n",
       "dtype: object"
      ]
     },
     "execution_count": 11,
     "metadata": {},
     "output_type": "execute_result"
    }
   ],
   "execution_count": 11
  },
  {
   "metadata": {},
   "cell_type": "markdown",
   "source": [
    "In Pandas, a DataFrame is a two-dimensional labeled data structure with columns of\n",
    "potentially different types. It's similar to an Excel spreadsheet or a SQL table, where\n",
    "you can store and manipulate tabular data efficiently."
   ],
   "id": "b4f0ce60729c9f21"
  },
  {
   "metadata": {},
   "cell_type": "code",
   "outputs": [],
   "execution_count": null,
   "source": "",
   "id": "441f8a3c635e6852"
  }
 ],
 "metadata": {
  "kernelspec": {
   "display_name": "Python 3",
   "language": "python",
   "name": "python3"
  },
  "language_info": {
   "codemirror_mode": {
    "name": "ipython",
    "version": 2
   },
   "file_extension": ".py",
   "mimetype": "text/x-python",
   "name": "python",
   "nbconvert_exporter": "python",
   "pygments_lexer": "ipython2",
   "version": "2.7.6"
  }
 },
 "nbformat": 4,
 "nbformat_minor": 5
}
