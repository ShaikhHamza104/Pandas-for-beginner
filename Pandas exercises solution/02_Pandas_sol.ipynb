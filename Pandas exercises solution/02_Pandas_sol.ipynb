{
 "cells": [
  {
   "metadata": {},
   "cell_type": "markdown",
   "source": [
    "## Basic DataFrame\n",
    "\n",
    "```\n",
    "data = {'birds': ['Cranes', 'Cranes', 'plovers', 'spoonbills', 'spoonbills', 'Cranes', 'plovers', 'Cranes', 'spoonbills', 'spoonbills', 'Cranes'],\n",
    "        'age': [3.5, 4, 1.5, np.nan, 6, 3, 5.5, np.nan, 8, 4, 3.5], 'visits': [2, 4, 3, 4, 3, 4, 2, 2, 3, 2, 2],\n",
    "        'priority': ['yes', 'yes', 'no', np.nan, 'no', 'no', 'no', 'yes', 'no', 'no','yes']}\n",
    "```\n",
    "```\n",
    "labels = ['a', 'b', 'c', 'd', 'e', 'f', 'g', 'h', 'i', 'j', 'k']\n",
    "```"
   ],
   "id": "1111c7b59645ef58"
  },
  {
   "metadata": {
    "ExecuteTime": {
     "end_time": "2025-02-06T05:36:15.380315Z",
     "start_time": "2025-02-06T05:36:13.999682Z"
    }
   },
   "cell_type": "code",
   "source": [
    "import  pandas as pd\n",
    "import numpy as np"
   ],
   "id": "af7222225056d7b1",
   "outputs": [],
   "execution_count": 1
  },
  {
   "metadata": {},
   "cell_type": "markdown",
   "source": [
    "### `Q-1:`\n",
    "i. Create a DataFrame birds from the above dictionary data which has the index labels.\n",
    "\n",
    "ii. Display basic information about the dataFrame.\n",
    "\n",
    "iii. Show Alternate rows of the dataframe."
   ],
   "id": "da2c7e34eac23bba"
  },
  {
   "metadata": {
    "ExecuteTime": {
     "end_time": "2025-02-06T05:40:57.990616Z",
     "start_time": "2025-02-06T05:40:57.959364Z"
    }
   },
   "cell_type": "code",
   "source": [
    "data = {'birds': ['Cranes', 'Cranes', 'plovers', 'spoonbills', 'spoonbills', 'Cranes', 'plovers', 'Cranes', 'spoonbills', 'spoonbills', 'Cranes'],\n",
    "        'age': [3.5, 4, 1.5, np.nan, 6, 3, 5.5, np.nan, 8, 4, 3.5], 'visits': [2, 4, 3, 4, 3, 4, 2, 2, 3, 2, 2],\n",
    "        'priority': ['yes', 'yes', 'no', np.nan, 'no', 'no', 'no', 'yes', 'no', 'no','yes']}\n",
    "labels = ['a', 'b', 'c', 'd', 'e', 'f', 'g', 'h', 'i', 'j', 'k']\n",
    "# i\n",
    "df = pd.DataFrame(data, index=labels,)\n",
    "df\n",
    "# ii. Display basic information about the dataFrame.\n",
    "df.head()\n",
    "df.tail()\n",
    "df.sample()\n",
    "print(df.index)\n",
    "print(df.values)\n",
    "print(df.size)\n",
    "print(df.describe())\n",
    "print(df.isnull().sum())\n",
    "print(df.shape)\n",
    "\n",
    "# iii. Show Alternate rows of the dataframe.\n",
    "print(df[::2])"
   ],
   "id": "14875b81a2db920c",
   "outputs": [
    {
     "name": "stdout",
     "output_type": "stream",
     "text": [
      "Index(['a', 'b', 'c', 'd', 'e', 'f', 'g', 'h', 'i', 'j', 'k'], dtype='object')\n",
      "[['Cranes' 3.5 2 'yes']\n",
      " ['Cranes' 4.0 4 'yes']\n",
      " ['plovers' 1.5 3 'no']\n",
      " ['spoonbills' nan 4 nan]\n",
      " ['spoonbills' 6.0 3 'no']\n",
      " ['Cranes' 3.0 4 'no']\n",
      " ['plovers' 5.5 2 'no']\n",
      " ['Cranes' nan 2 'yes']\n",
      " ['spoonbills' 8.0 3 'no']\n",
      " ['spoonbills' 4.0 2 'no']\n",
      " ['Cranes' 3.5 2 'yes']]\n",
      "44\n",
      "            age     visits\n",
      "count  9.000000  11.000000\n",
      "mean   4.333333   2.818182\n",
      "std    1.903943   0.873863\n",
      "min    1.500000   2.000000\n",
      "25%    3.500000   2.000000\n",
      "50%    4.000000   3.000000\n",
      "75%    5.500000   3.500000\n",
      "max    8.000000   4.000000\n",
      "birds       0\n",
      "age         2\n",
      "visits      0\n",
      "priority    1\n",
      "dtype: int64\n",
      "(11, 4)\n",
      "        birds  age  visits priority\n",
      "a      Cranes  3.5       2      yes\n",
      "c     plovers  1.5       3       no\n",
      "e  spoonbills  6.0       3       no\n",
      "g     plovers  5.5       2       no\n",
      "i  spoonbills  8.0       3       no\n",
      "k      Cranes  3.5       2      yes\n"
     ]
    }
   ],
   "execution_count": 15
  },
  {
   "metadata": {},
   "cell_type": "markdown",
   "source": [
    "### `Q-2:`\n",
    "i. Show only rows [1st, 3rd, 7th] from columns ['bird', 'age']\n",
    "\n",
    "ii. Select rows where the number of visits is less than 4."
   ],
   "id": "b05350c9410be917"
  },
  {
   "metadata": {
    "ExecuteTime": {
     "end_time": "2025-02-06T05:42:50.683245Z",
     "start_time": "2025-02-06T05:42:50.651994Z"
    }
   },
   "cell_type": "code",
   "source": [
    "# i\n",
    "df.iloc[[0,2,6]]\n",
    "# ii\n",
    "df[df['visits']<4]"
   ],
   "id": "473227daaf153471",
   "outputs": [
    {
     "data": {
      "text/plain": [
       "        birds  age  visits priority\n",
       "a      Cranes  3.5       2      yes\n",
       "c     plovers  1.5       3       no\n",
       "e  spoonbills  6.0       3       no\n",
       "g     plovers  5.5       2       no\n",
       "h      Cranes  NaN       2      yes\n",
       "i  spoonbills  8.0       3       no\n",
       "j  spoonbills  4.0       2       no\n",
       "k      Cranes  3.5       2      yes"
      ],
      "text/html": [
       "<div>\n",
       "<style scoped>\n",
       "    .dataframe tbody tr th:only-of-type {\n",
       "        vertical-align: middle;\n",
       "    }\n",
       "\n",
       "    .dataframe tbody tr th {\n",
       "        vertical-align: top;\n",
       "    }\n",
       "\n",
       "    .dataframe thead th {\n",
       "        text-align: right;\n",
       "    }\n",
       "</style>\n",
       "<table border=\"1\" class=\"dataframe\">\n",
       "  <thead>\n",
       "    <tr style=\"text-align: right;\">\n",
       "      <th></th>\n",
       "      <th>birds</th>\n",
       "      <th>age</th>\n",
       "      <th>visits</th>\n",
       "      <th>priority</th>\n",
       "    </tr>\n",
       "  </thead>\n",
       "  <tbody>\n",
       "    <tr>\n",
       "      <th>a</th>\n",
       "      <td>Cranes</td>\n",
       "      <td>3.5</td>\n",
       "      <td>2</td>\n",
       "      <td>yes</td>\n",
       "    </tr>\n",
       "    <tr>\n",
       "      <th>c</th>\n",
       "      <td>plovers</td>\n",
       "      <td>1.5</td>\n",
       "      <td>3</td>\n",
       "      <td>no</td>\n",
       "    </tr>\n",
       "    <tr>\n",
       "      <th>e</th>\n",
       "      <td>spoonbills</td>\n",
       "      <td>6.0</td>\n",
       "      <td>3</td>\n",
       "      <td>no</td>\n",
       "    </tr>\n",
       "    <tr>\n",
       "      <th>g</th>\n",
       "      <td>plovers</td>\n",
       "      <td>5.5</td>\n",
       "      <td>2</td>\n",
       "      <td>no</td>\n",
       "    </tr>\n",
       "    <tr>\n",
       "      <th>h</th>\n",
       "      <td>Cranes</td>\n",
       "      <td>NaN</td>\n",
       "      <td>2</td>\n",
       "      <td>yes</td>\n",
       "    </tr>\n",
       "    <tr>\n",
       "      <th>i</th>\n",
       "      <td>spoonbills</td>\n",
       "      <td>8.0</td>\n",
       "      <td>3</td>\n",
       "      <td>no</td>\n",
       "    </tr>\n",
       "    <tr>\n",
       "      <th>j</th>\n",
       "      <td>spoonbills</td>\n",
       "      <td>4.0</td>\n",
       "      <td>2</td>\n",
       "      <td>no</td>\n",
       "    </tr>\n",
       "    <tr>\n",
       "      <th>k</th>\n",
       "      <td>Cranes</td>\n",
       "      <td>3.5</td>\n",
       "      <td>2</td>\n",
       "      <td>yes</td>\n",
       "    </tr>\n",
       "  </tbody>\n",
       "</table>\n",
       "</div>"
      ]
     },
     "execution_count": 18,
     "metadata": {},
     "output_type": "execute_result"
    }
   ],
   "execution_count": 18
  },
  {
   "metadata": {},
   "cell_type": "markdown",
   "source": [
    "### `Q-3:`\n",
    "i. Select all rows with nan values in age and visits column.\n",
    "\n",
    "ii. Fill nan with respective series mode value."
   ],
   "id": "7dc7492c627ca33c"
  },
  {
   "metadata": {
    "ExecuteTime": {
     "end_time": "2025-02-06T05:44:24.395426Z",
     "start_time": "2025-02-06T05:44:24.364171Z"
    }
   },
   "cell_type": "code",
   "source": [
    "# i\n",
    "df[['age','visits']].isnull().sum()"
   ],
   "id": "6b10e2e0bea9fa35",
   "outputs": [
    {
     "data": {
      "text/plain": [
       "age       2\n",
       "visits    0\n",
       "dtype: int64"
      ]
     },
     "execution_count": 21,
     "metadata": {},
     "output_type": "execute_result"
    }
   ],
   "execution_count": 21
  },
  {
   "metadata": {
    "ExecuteTime": {
     "end_time": "2025-02-06T05:52:52.455665Z",
     "start_time": "2025-02-06T05:52:52.433557Z"
    }
   },
   "cell_type": "code",
   "source": [
    "df =df.infer_objects(copy=False)\n",
    "df['visits'] = df['visits'].interpolate(method='linear')\n",
    "df['priority'] = df['priority'].interpolate(method='linear')"
   ],
   "id": "25abc77060510a48",
   "outputs": [
    {
     "data": {
      "text/plain": [
       "        birds   age  visits priority\n",
       "a      Cranes  3.50       2      yes\n",
       "b      Cranes  4.00       4      yes\n",
       "c     plovers  1.50       3       no\n",
       "d  spoonbills  3.75       4      NaN\n",
       "e  spoonbills  6.00       3       no\n",
       "f      Cranes  3.00       4       no\n",
       "g     plovers  5.50       2       no\n",
       "h      Cranes  6.75       2      yes\n",
       "i  spoonbills  8.00       3       no\n",
       "j  spoonbills  4.00       2       no\n",
       "k      Cranes  3.50       2      yes"
      ],
      "text/html": [
       "<div>\n",
       "<style scoped>\n",
       "    .dataframe tbody tr th:only-of-type {\n",
       "        vertical-align: middle;\n",
       "    }\n",
       "\n",
       "    .dataframe tbody tr th {\n",
       "        vertical-align: top;\n",
       "    }\n",
       "\n",
       "    .dataframe thead th {\n",
       "        text-align: right;\n",
       "    }\n",
       "</style>\n",
       "<table border=\"1\" class=\"dataframe\">\n",
       "  <thead>\n",
       "    <tr style=\"text-align: right;\">\n",
       "      <th></th>\n",
       "      <th>birds</th>\n",
       "      <th>age</th>\n",
       "      <th>visits</th>\n",
       "      <th>priority</th>\n",
       "    </tr>\n",
       "  </thead>\n",
       "  <tbody>\n",
       "    <tr>\n",
       "      <th>a</th>\n",
       "      <td>Cranes</td>\n",
       "      <td>3.50</td>\n",
       "      <td>2</td>\n",
       "      <td>yes</td>\n",
       "    </tr>\n",
       "    <tr>\n",
       "      <th>b</th>\n",
       "      <td>Cranes</td>\n",
       "      <td>4.00</td>\n",
       "      <td>4</td>\n",
       "      <td>yes</td>\n",
       "    </tr>\n",
       "    <tr>\n",
       "      <th>c</th>\n",
       "      <td>plovers</td>\n",
       "      <td>1.50</td>\n",
       "      <td>3</td>\n",
       "      <td>no</td>\n",
       "    </tr>\n",
       "    <tr>\n",
       "      <th>d</th>\n",
       "      <td>spoonbills</td>\n",
       "      <td>3.75</td>\n",
       "      <td>4</td>\n",
       "      <td>NaN</td>\n",
       "    </tr>\n",
       "    <tr>\n",
       "      <th>e</th>\n",
       "      <td>spoonbills</td>\n",
       "      <td>6.00</td>\n",
       "      <td>3</td>\n",
       "      <td>no</td>\n",
       "    </tr>\n",
       "    <tr>\n",
       "      <th>f</th>\n",
       "      <td>Cranes</td>\n",
       "      <td>3.00</td>\n",
       "      <td>4</td>\n",
       "      <td>no</td>\n",
       "    </tr>\n",
       "    <tr>\n",
       "      <th>g</th>\n",
       "      <td>plovers</td>\n",
       "      <td>5.50</td>\n",
       "      <td>2</td>\n",
       "      <td>no</td>\n",
       "    </tr>\n",
       "    <tr>\n",
       "      <th>h</th>\n",
       "      <td>Cranes</td>\n",
       "      <td>6.75</td>\n",
       "      <td>2</td>\n",
       "      <td>yes</td>\n",
       "    </tr>\n",
       "    <tr>\n",
       "      <th>i</th>\n",
       "      <td>spoonbills</td>\n",
       "      <td>8.00</td>\n",
       "      <td>3</td>\n",
       "      <td>no</td>\n",
       "    </tr>\n",
       "    <tr>\n",
       "      <th>j</th>\n",
       "      <td>spoonbills</td>\n",
       "      <td>4.00</td>\n",
       "      <td>2</td>\n",
       "      <td>no</td>\n",
       "    </tr>\n",
       "    <tr>\n",
       "      <th>k</th>\n",
       "      <td>Cranes</td>\n",
       "      <td>3.50</td>\n",
       "      <td>2</td>\n",
       "      <td>yes</td>\n",
       "    </tr>\n",
       "  </tbody>\n",
       "</table>\n",
       "</div>"
      ]
     },
     "execution_count": 32,
     "metadata": {},
     "output_type": "execute_result"
    }
   ],
   "execution_count": 32
  },
  {
   "metadata": {},
   "cell_type": "markdown",
   "source": [
    "### `Q-4`\n",
    "i. Find the total number of visits of the bird Cranes\n",
    "\n",
    "ii. Find the number of each type of birds in dataframe.\n",
    "\n",
    "iii. Print no of duplicate rows\n",
    "\n",
    "iv. Drop Duplicates rows and make this changes permanent. Show dataframe after changes."
   ],
   "id": "993b175bf1e4038c"
  },
  {
   "metadata": {
    "ExecuteTime": {
     "end_time": "2025-02-06T05:56:41.517320Z",
     "start_time": "2025-02-06T05:56:41.471913Z"
    }
   },
   "cell_type": "code",
   "source": [
    "df[df['birds']=='Cranes'].sum()\n",
    "df['birds'].unique()\n",
    "df.duplicated().sum()\n",
    "df.drop_duplicates(inplace=True)\n",
    "df"
   ],
   "id": "a4ebb73dbe6eb296",
   "outputs": [
    {
     "data": {
      "text/plain": [
       "        birds   age  visits priority\n",
       "a      Cranes  3.50       2      yes\n",
       "b      Cranes  4.00       4      yes\n",
       "c     plovers  1.50       3       no\n",
       "d  spoonbills  3.75       4      NaN\n",
       "e  spoonbills  6.00       3       no\n",
       "f      Cranes  3.00       4       no\n",
       "g     plovers  5.50       2       no\n",
       "h      Cranes  6.75       2      yes\n",
       "i  spoonbills  8.00       3       no\n",
       "j  spoonbills  4.00       2       no"
      ],
      "text/html": [
       "<div>\n",
       "<style scoped>\n",
       "    .dataframe tbody tr th:only-of-type {\n",
       "        vertical-align: middle;\n",
       "    }\n",
       "\n",
       "    .dataframe tbody tr th {\n",
       "        vertical-align: top;\n",
       "    }\n",
       "\n",
       "    .dataframe thead th {\n",
       "        text-align: right;\n",
       "    }\n",
       "</style>\n",
       "<table border=\"1\" class=\"dataframe\">\n",
       "  <thead>\n",
       "    <tr style=\"text-align: right;\">\n",
       "      <th></th>\n",
       "      <th>birds</th>\n",
       "      <th>age</th>\n",
       "      <th>visits</th>\n",
       "      <th>priority</th>\n",
       "    </tr>\n",
       "  </thead>\n",
       "  <tbody>\n",
       "    <tr>\n",
       "      <th>a</th>\n",
       "      <td>Cranes</td>\n",
       "      <td>3.50</td>\n",
       "      <td>2</td>\n",
       "      <td>yes</td>\n",
       "    </tr>\n",
       "    <tr>\n",
       "      <th>b</th>\n",
       "      <td>Cranes</td>\n",
       "      <td>4.00</td>\n",
       "      <td>4</td>\n",
       "      <td>yes</td>\n",
       "    </tr>\n",
       "    <tr>\n",
       "      <th>c</th>\n",
       "      <td>plovers</td>\n",
       "      <td>1.50</td>\n",
       "      <td>3</td>\n",
       "      <td>no</td>\n",
       "    </tr>\n",
       "    <tr>\n",
       "      <th>d</th>\n",
       "      <td>spoonbills</td>\n",
       "      <td>3.75</td>\n",
       "      <td>4</td>\n",
       "      <td>NaN</td>\n",
       "    </tr>\n",
       "    <tr>\n",
       "      <th>e</th>\n",
       "      <td>spoonbills</td>\n",
       "      <td>6.00</td>\n",
       "      <td>3</td>\n",
       "      <td>no</td>\n",
       "    </tr>\n",
       "    <tr>\n",
       "      <th>f</th>\n",
       "      <td>Cranes</td>\n",
       "      <td>3.00</td>\n",
       "      <td>4</td>\n",
       "      <td>no</td>\n",
       "    </tr>\n",
       "    <tr>\n",
       "      <th>g</th>\n",
       "      <td>plovers</td>\n",
       "      <td>5.50</td>\n",
       "      <td>2</td>\n",
       "      <td>no</td>\n",
       "    </tr>\n",
       "    <tr>\n",
       "      <th>h</th>\n",
       "      <td>Cranes</td>\n",
       "      <td>6.75</td>\n",
       "      <td>2</td>\n",
       "      <td>yes</td>\n",
       "    </tr>\n",
       "    <tr>\n",
       "      <th>i</th>\n",
       "      <td>spoonbills</td>\n",
       "      <td>8.00</td>\n",
       "      <td>3</td>\n",
       "      <td>no</td>\n",
       "    </tr>\n",
       "    <tr>\n",
       "      <th>j</th>\n",
       "      <td>spoonbills</td>\n",
       "      <td>4.00</td>\n",
       "      <td>2</td>\n",
       "      <td>no</td>\n",
       "    </tr>\n",
       "  </tbody>\n",
       "</table>\n",
       "</div>"
      ]
     },
     "execution_count": 41,
     "metadata": {},
     "output_type": "execute_result"
    }
   ],
   "execution_count": 41
  },
  {
   "metadata": {},
   "cell_type": "markdown",
   "source": [
    "### `Q-5:` In IPL matches dataset some teams name has changed.\n",
    "You will have to consider them as same.\n",
    "```\n",
    "'Delhi Capitals' formerly as 'Delhi Daredevils'\n",
    "'Punjab Kings' formerly as 'Kings XI Punjab'\n",
    "'Rising Pune Supergiant' formerly as 'Rising Pune Supergiants'\n",
    "```\n",
    "You need to make changes accordingly. Consider current name for each teams.\n",
    "\n",
    "Be careful Gujrat Titans and Gujrat Lions are different teams."
   ],
   "id": "c6e22eca6eba4193"
  },
  {
   "metadata": {
    "ExecuteTime": {
     "end_time": "2025-02-06T06:01:18.293202Z",
     "start_time": "2025-02-06T06:01:18.226041Z"
    }
   },
   "cell_type": "code",
   "source": [
    "ipl = pd.read_csv('../datasets/IPL_Matches_2008_2022.csv')\n",
    "\n",
    "ipl.sample(2)"
   ],
   "id": "ffb26461a4774a5e",
   "outputs": [
    {
     "data": {
      "text/plain": [
       "          ID    City        Date   Season MatchNumber            Team1  \\\n",
       "151  1216498     NaN  2020-10-24  2020/21          43  Kings XI Punjab   \n",
       "7    1304113  Mumbai  2022-05-19     2022          67   Gujarat Titans   \n",
       "\n",
       "                           Team2                                Venue  \\\n",
       "151          Sunrisers Hyderabad  Dubai International Cricket Stadium   \n",
       "7    Royal Challengers Bangalore             Wankhede Stadium, Mumbai   \n",
       "\n",
       "              TossWinner TossDecision SuperOver                  WinningTeam  \\\n",
       "151  Sunrisers Hyderabad        field         N              Kings XI Punjab   \n",
       "7         Gujarat Titans          bat         N  Royal Challengers Bangalore   \n",
       "\n",
       "       WonBy  Margin method Player_of_Match  \\\n",
       "151     Runs    12.0    NaN       CJ Jordan   \n",
       "7    Wickets     8.0    NaN         V Kohli   \n",
       "\n",
       "                                                                                                                                                     Team1Players  \\\n",
       "151  ['KL Rahul', 'Mandeep Singh', 'CH Gayle', 'N Pooran', 'GJ Maxwell', 'DJ Hooda', 'CJ Jordan', 'M Ashwin', 'Ravi Bishnoi', 'Mohammed Shami', 'Arshdeep Singh']   \n",
       "7    ['WP Saha', 'Shubman Gill', 'MS Wade', 'HH Pandya', 'DA Miller', 'R Tewatia', 'Rashid Khan', 'R Sai Kishore', 'LH Ferguson', 'Yash Dayal', 'Mohammed Shami']   \n",
       "\n",
       "                                                                                                                                                  Team2Players  \\\n",
       "151  ['DA Warner', 'JM Bairstow', 'MK Pandey', 'Abdul Samad', 'V Shankar', 'JO Holder', 'PK Garg', 'Rashid Khan', 'Sandeep Sharma', 'T Natarajan', 'KK Ahmed']   \n",
       "7    ['V Kohli', 'F du Plessis', 'GJ Maxwell', 'KD Karthik', 'RM Patidar', 'MK Lomror', 'Shahbaz Ahmed', 'HV Patel', 'PWH de Silva', 'JR Hazlewood', 'S Kaul']   \n",
       "\n",
       "                   Umpire1           Umpire2  \n",
       "151            AY Dandekar        PR Reiffel  \n",
       "7    KN Ananthapadmanabhan  GR Sadashiv Iyer  "
      ],
      "text/html": [
       "<div>\n",
       "<style scoped>\n",
       "    .dataframe tbody tr th:only-of-type {\n",
       "        vertical-align: middle;\n",
       "    }\n",
       "\n",
       "    .dataframe tbody tr th {\n",
       "        vertical-align: top;\n",
       "    }\n",
       "\n",
       "    .dataframe thead th {\n",
       "        text-align: right;\n",
       "    }\n",
       "</style>\n",
       "<table border=\"1\" class=\"dataframe\">\n",
       "  <thead>\n",
       "    <tr style=\"text-align: right;\">\n",
       "      <th></th>\n",
       "      <th>ID</th>\n",
       "      <th>City</th>\n",
       "      <th>Date</th>\n",
       "      <th>Season</th>\n",
       "      <th>MatchNumber</th>\n",
       "      <th>Team1</th>\n",
       "      <th>Team2</th>\n",
       "      <th>Venue</th>\n",
       "      <th>TossWinner</th>\n",
       "      <th>TossDecision</th>\n",
       "      <th>SuperOver</th>\n",
       "      <th>WinningTeam</th>\n",
       "      <th>WonBy</th>\n",
       "      <th>Margin</th>\n",
       "      <th>method</th>\n",
       "      <th>Player_of_Match</th>\n",
       "      <th>Team1Players</th>\n",
       "      <th>Team2Players</th>\n",
       "      <th>Umpire1</th>\n",
       "      <th>Umpire2</th>\n",
       "    </tr>\n",
       "  </thead>\n",
       "  <tbody>\n",
       "    <tr>\n",
       "      <th>151</th>\n",
       "      <td>1216498</td>\n",
       "      <td>NaN</td>\n",
       "      <td>2020-10-24</td>\n",
       "      <td>2020/21</td>\n",
       "      <td>43</td>\n",
       "      <td>Kings XI Punjab</td>\n",
       "      <td>Sunrisers Hyderabad</td>\n",
       "      <td>Dubai International Cricket Stadium</td>\n",
       "      <td>Sunrisers Hyderabad</td>\n",
       "      <td>field</td>\n",
       "      <td>N</td>\n",
       "      <td>Kings XI Punjab</td>\n",
       "      <td>Runs</td>\n",
       "      <td>12.0</td>\n",
       "      <td>NaN</td>\n",
       "      <td>CJ Jordan</td>\n",
       "      <td>['KL Rahul', 'Mandeep Singh', 'CH Gayle', 'N Pooran', 'GJ Maxwell', 'DJ Hooda', 'CJ Jordan', 'M Ashwin', 'Ravi Bishnoi', 'Mohammed Shami', 'Arshdeep Singh']</td>\n",
       "      <td>['DA Warner', 'JM Bairstow', 'MK Pandey', 'Abdul Samad', 'V Shankar', 'JO Holder', 'PK Garg', 'Rashid Khan', 'Sandeep Sharma', 'T Natarajan', 'KK Ahmed']</td>\n",
       "      <td>AY Dandekar</td>\n",
       "      <td>PR Reiffel</td>\n",
       "    </tr>\n",
       "    <tr>\n",
       "      <th>7</th>\n",
       "      <td>1304113</td>\n",
       "      <td>Mumbai</td>\n",
       "      <td>2022-05-19</td>\n",
       "      <td>2022</td>\n",
       "      <td>67</td>\n",
       "      <td>Gujarat Titans</td>\n",
       "      <td>Royal Challengers Bangalore</td>\n",
       "      <td>Wankhede Stadium, Mumbai</td>\n",
       "      <td>Gujarat Titans</td>\n",
       "      <td>bat</td>\n",
       "      <td>N</td>\n",
       "      <td>Royal Challengers Bangalore</td>\n",
       "      <td>Wickets</td>\n",
       "      <td>8.0</td>\n",
       "      <td>NaN</td>\n",
       "      <td>V Kohli</td>\n",
       "      <td>['WP Saha', 'Shubman Gill', 'MS Wade', 'HH Pandya', 'DA Miller', 'R Tewatia', 'Rashid Khan', 'R Sai Kishore', 'LH Ferguson', 'Yash Dayal', 'Mohammed Shami']</td>\n",
       "      <td>['V Kohli', 'F du Plessis', 'GJ Maxwell', 'KD Karthik', 'RM Patidar', 'MK Lomror', 'Shahbaz Ahmed', 'HV Patel', 'PWH de Silva', 'JR Hazlewood', 'S Kaul']</td>\n",
       "      <td>KN Ananthapadmanabhan</td>\n",
       "      <td>GR Sadashiv Iyer</td>\n",
       "    </tr>\n",
       "  </tbody>\n",
       "</table>\n",
       "</div>"
      ]
     },
     "execution_count": 44,
     "metadata": {},
     "output_type": "execute_result"
    }
   ],
   "execution_count": 44
  },
  {
   "metadata": {
    "ExecuteTime": {
     "end_time": "2025-02-06T06:05:08.939300Z",
     "start_time": "2025-02-06T06:05:08.913027Z"
    }
   },
   "cell_type": "code",
   "source": [
    "updated_city={\n",
    "\n",
    "'Delhi Capitals': 'Delhi Daredevils',\n",
    "'Punjab Kings' : 'Kings XI Punjab',\n",
    "'Rising Pune Supergiant': 'Rising Pune Supergiants'\n",
    "}\n",
    "ipl['City'].rename(updated_city,axis='rows',inplace=True)\n",
    "ipl.sample(2)"
   ],
   "id": "883ad20a91652bac",
   "outputs": [
    {
     "data": {
      "text/plain": [
       "         ID    City        Date   Season         MatchNumber  \\\n",
       "402  980961  Rajkot  2016-05-03     2016                  31   \n",
       "776  419164  Mumbai  2010-04-24  2009/10  3rd Place Play-Off   \n",
       "\n",
       "                           Team1             Team2  \\\n",
       "402                Gujarat Lions  Delhi Daredevils   \n",
       "776  Royal Challengers Bangalore   Deccan Chargers   \n",
       "\n",
       "                                      Venue        TossWinner TossDecision  \\\n",
       "402  Saurashtra Cricket Association Stadium  Delhi Daredevils        field   \n",
       "776              Dr DY Patil Sports Academy   Deccan Chargers          bat   \n",
       "\n",
       "    SuperOver                  WinningTeam    WonBy  Margin method  \\\n",
       "402         N             Delhi Daredevils  Wickets     8.0    NaN   \n",
       "776         N  Royal Challengers Bangalore  Wickets     9.0    NaN   \n",
       "\n",
       "    Player_of_Match  \\\n",
       "402         RR Pant   \n",
       "776        A Kumble   \n",
       "\n",
       "                                                                                                                                             Team1Players  \\\n",
       "402  ['DR Smith', 'BB McCullum', 'AJ Finch', 'SK Raina', 'KD Karthik', 'RA Jadeja', 'JP Faulkner', 'Ishan Kishan', 'P Kumar', 'DS Kulkarni', 'S Kaushik']   \n",
       "776              ['JH Kallis', 'R Dravid', 'KP Pietersen', 'RV Uthappa', 'V Kohli', 'CL White', 'B Akhil', 'P Kumar', 'A Kumble', 'ND Doshi', 'DW Steyn']   \n",
       "\n",
       "                                                                                                                                                     Team2Players  \\\n",
       "402                 ['Q de Kock', 'RR Pant', 'SV Samson', 'JP Duminy', 'KK Nair', 'SW Billings', 'CH Morris', 'A Mishra', 'Mohammed Shami', 'Z Khan', 'S Nadeem']   \n",
       "776  ['AC Gilchrist', 'MD Mishra', 'Anirudh Singh', 'RG Sharma', 'A Symonds', 'DR Smith', 'Y Venugopal Rao', 'RJ Harris', 'R Sharma', 'Harmeet Singh', 'PP Ojha']   \n",
       "\n",
       "         Umpire1       Umpire2  \n",
       "402  CB Gaffaney  BNJ Oxenford  \n",
       "776  RE Koertzen    SJA Taufel  "
      ],
      "text/html": [
       "<div>\n",
       "<style scoped>\n",
       "    .dataframe tbody tr th:only-of-type {\n",
       "        vertical-align: middle;\n",
       "    }\n",
       "\n",
       "    .dataframe tbody tr th {\n",
       "        vertical-align: top;\n",
       "    }\n",
       "\n",
       "    .dataframe thead th {\n",
       "        text-align: right;\n",
       "    }\n",
       "</style>\n",
       "<table border=\"1\" class=\"dataframe\">\n",
       "  <thead>\n",
       "    <tr style=\"text-align: right;\">\n",
       "      <th></th>\n",
       "      <th>ID</th>\n",
       "      <th>City</th>\n",
       "      <th>Date</th>\n",
       "      <th>Season</th>\n",
       "      <th>MatchNumber</th>\n",
       "      <th>Team1</th>\n",
       "      <th>Team2</th>\n",
       "      <th>Venue</th>\n",
       "      <th>TossWinner</th>\n",
       "      <th>TossDecision</th>\n",
       "      <th>SuperOver</th>\n",
       "      <th>WinningTeam</th>\n",
       "      <th>WonBy</th>\n",
       "      <th>Margin</th>\n",
       "      <th>method</th>\n",
       "      <th>Player_of_Match</th>\n",
       "      <th>Team1Players</th>\n",
       "      <th>Team2Players</th>\n",
       "      <th>Umpire1</th>\n",
       "      <th>Umpire2</th>\n",
       "    </tr>\n",
       "  </thead>\n",
       "  <tbody>\n",
       "    <tr>\n",
       "      <th>402</th>\n",
       "      <td>980961</td>\n",
       "      <td>Rajkot</td>\n",
       "      <td>2016-05-03</td>\n",
       "      <td>2016</td>\n",
       "      <td>31</td>\n",
       "      <td>Gujarat Lions</td>\n",
       "      <td>Delhi Daredevils</td>\n",
       "      <td>Saurashtra Cricket Association Stadium</td>\n",
       "      <td>Delhi Daredevils</td>\n",
       "      <td>field</td>\n",
       "      <td>N</td>\n",
       "      <td>Delhi Daredevils</td>\n",
       "      <td>Wickets</td>\n",
       "      <td>8.0</td>\n",
       "      <td>NaN</td>\n",
       "      <td>RR Pant</td>\n",
       "      <td>['DR Smith', 'BB McCullum', 'AJ Finch', 'SK Raina', 'KD Karthik', 'RA Jadeja', 'JP Faulkner', 'Ishan Kishan', 'P Kumar', 'DS Kulkarni', 'S Kaushik']</td>\n",
       "      <td>['Q de Kock', 'RR Pant', 'SV Samson', 'JP Duminy', 'KK Nair', 'SW Billings', 'CH Morris', 'A Mishra', 'Mohammed Shami', 'Z Khan', 'S Nadeem']</td>\n",
       "      <td>CB Gaffaney</td>\n",
       "      <td>BNJ Oxenford</td>\n",
       "    </tr>\n",
       "    <tr>\n",
       "      <th>776</th>\n",
       "      <td>419164</td>\n",
       "      <td>Mumbai</td>\n",
       "      <td>2010-04-24</td>\n",
       "      <td>2009/10</td>\n",
       "      <td>3rd Place Play-Off</td>\n",
       "      <td>Royal Challengers Bangalore</td>\n",
       "      <td>Deccan Chargers</td>\n",
       "      <td>Dr DY Patil Sports Academy</td>\n",
       "      <td>Deccan Chargers</td>\n",
       "      <td>bat</td>\n",
       "      <td>N</td>\n",
       "      <td>Royal Challengers Bangalore</td>\n",
       "      <td>Wickets</td>\n",
       "      <td>9.0</td>\n",
       "      <td>NaN</td>\n",
       "      <td>A Kumble</td>\n",
       "      <td>['JH Kallis', 'R Dravid', 'KP Pietersen', 'RV Uthappa', 'V Kohli', 'CL White', 'B Akhil', 'P Kumar', 'A Kumble', 'ND Doshi', 'DW Steyn']</td>\n",
       "      <td>['AC Gilchrist', 'MD Mishra', 'Anirudh Singh', 'RG Sharma', 'A Symonds', 'DR Smith', 'Y Venugopal Rao', 'RJ Harris', 'R Sharma', 'Harmeet Singh', 'PP Ojha']</td>\n",
       "      <td>RE Koertzen</td>\n",
       "      <td>SJA Taufel</td>\n",
       "    </tr>\n",
       "  </tbody>\n",
       "</table>\n",
       "</div>"
      ]
     },
     "execution_count": 52,
     "metadata": {},
     "output_type": "execute_result"
    }
   ],
   "execution_count": 52
  },
  {
   "metadata": {},
   "cell_type": "markdown",
   "source": [
    "### `Q-6` Write a code which can display the bar chart of top 5 teams who have played maximum number of matches in the IPL.\n",
    ">  Hint: Be careful the data is divided in 2 different cols(Team 1 and Team 2)\n"
   ],
   "id": "13b586975bc84d53"
  },
  {
   "metadata": {
    "ExecuteTime": {
     "end_time": "2025-02-06T06:08:07.933103Z",
     "start_time": "2025-02-06T06:08:06.456383Z"
    }
   },
   "cell_type": "code",
   "source": "(ipl['Team1']+ipl['Team2']).value_counts().sort_values(ascending=False).head().plot(kind='bar')",
   "id": "1feeb71503af240c",
   "outputs": [
    {
     "data": {
      "text/plain": [
       "<Axes: >"
      ]
     },
     "execution_count": 59,
     "metadata": {},
     "output_type": "execute_result"
    },
    {
     "data": {
      "text/plain": [
       "<Figure size 640x480 with 1 Axes>"
      ],
      "image/png": "[encoded data removed]"
     },
     "metadata": {},
     "output_type": "display_data"
    }
   ],
   "execution_count": 59
  },
  {
   "metadata": {},
   "cell_type": "markdown",
   "source": [
    "### `Q-7:` Player who got Most no. of player of the match award playing against Mumbai Indians.\n",
    "> Just for this question assume player of the match award is given to players from winning team. Although this is true in most of the cases.\n"
   ],
   "id": "2f76d8c70fd22838"
  },
  {
   "metadata": {
    "ExecuteTime": {
     "end_time": "2025-02-06T06:13:18.632231Z",
     "start_time": "2025-02-06T06:13:18.600983Z"
    }
   },
   "cell_type": "code",
   "source": [
    "m1 =(ipl['Team1']=='Mumbai Indians')| (ipl['Team2']=='Mumbai Indians')\n",
    "m2 = ipl.WinningTeam != 'Mumbai Indians'\n",
    "ipl[m1&m2].Player_of_Match.value_counts().head(1)"
   ],
   "id": "43e1d7d119058486",
   "outputs": [
    {
     "data": {
      "text/plain": [
       "Player_of_Match\n",
       "KL Rahul    4\n",
       "Name: count, dtype: int64"
      ]
     },
     "execution_count": 73,
     "metadata": {},
     "output_type": "execute_result"
    }
   ],
   "execution_count": 73
  }
 ],
 "metadata": {
  "kernelspec": {
   "display_name": "Python 3",
   "language": "python",
   "name": "python3"
  },
  "language_info": {
   "codemirror_mode": {
    "name": "ipython",
    "version": 2
   },
   "file_extension": ".py",
   "mimetype": "text/x-python",
   "name": "python",
   "nbconvert_exporter": "python",
   "pygments_lexer": "ipython2",
   "version": "2.7.6"
  }
 },
 "nbformat": 4,
 "nbformat_minor": 5
}
