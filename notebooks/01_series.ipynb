{
 "cells": [
  {
   "cell_type": "markdown",
   "id": "631bb33e5b904387",
   "metadata": {},
   "source": [
    "### What is Pandas?\n",
    "Pandas is a popular open-source library in Python for data manipulation and analysis. It provides\n",
    "various tools for:\n",
    "\n",
    "* Handling structured data (tables, spreadsheets)\n",
    "* Performing data cleaning, filtering, grouping, and merging\n",
    "* Data analysis and visualization\n",
    "* Data processing and transformation\n",
    "\n",
    "Pandas is often used for working with large datasets, making it a crucial tool for data scientists,\n",
    "analysts, and researchers."
   ]
  },
  {
   "cell_type": "markdown",
   "id": "91b6692977202c4b",
   "metadata": {},
   "source": [
    "### What is Series?\n",
    "In Pandas, a Series is a one-dimensional labeled array of values, similar to a column in a spreadsheet\n",
    "or a vector in mathematics. It contains:\n",
    "\n",
    "* A unique index (label) for each element\n",
    "* A single type of data (e.g., integer, float, string)\n",
    "* A collection of values, often referred to as \"elements\" or \"items\""
   ]
  },
  {
   "cell_type": "markdown",
   "id": "ba642e0ebb25b2b7",
   "metadata": {},
   "source": [
    "### Importing Pandas"
   ]
  },
  {
   "cell_type": "code",
   "execution_count": 1,
   "id": "d71ebf2079ba7d63",
   "metadata": {
    "ExecuteTime": {
     "end_time": "2025-02-07T11:30:37.467178Z",
     "start_time": "2025-02-07T11:30:37.456183Z"
    }
   },
   "outputs": [],
   "source": [
    "import pandas as pd\n",
    "import numpy as np"
   ]
  },
  {
   "cell_type": "markdown",
   "id": "13cb334187441c44",
   "metadata": {},
   "source": [
    "### Series From Lists"
   ]
  },
  {
   "cell_type": "code",
   "execution_count": 2,
   "id": "6400f830ef6115f8",
   "metadata": {
    "ExecuteTime": {
     "end_time": "2025-02-07T11:30:37.629448Z",
     "start_time": "2025-02-07T11:30:37.598207Z"
    }
   },
   "outputs": [
    {
     "data": {
      "text/plain": [
       "0       India\n",
       "1    Pakistan\n",
       "2         USA\n",
       "3       Nepal\n",
       "4    Srilanka\n",
       "dtype: object"
      ]
     },
     "execution_count": 2,
     "metadata": {},
     "output_type": "execute_result"
    }
   ],
   "source": [
    "#string\n",
    "country = ['India','Pakistan','USA','Nepal','Srilanka']\n",
    "pd.Series(country)"
   ]
  },
  {
   "cell_type": "code",
   "execution_count": 3,
   "id": "c54b558d18eb729",
   "metadata": {
    "ExecuteTime": {
     "end_time": "2025-02-07T11:30:38.028246Z",
     "start_time": "2025-02-07T11:30:38.006245Z"
    }
   },
   "outputs": [
    {
     "data": {
      "text/plain": [
       "0     67\n",
       "1     56\n",
       "2     89\n",
       "3    100\n",
       "dtype: int64"
      ]
     },
     "execution_count": 3,
     "metadata": {},
     "output_type": "execute_result"
    }
   ],
   "source": [
    "# Integer\n",
    "run =[67,56,89,100]\n",
    "pd.Series(run)"
   ]
  },
  {
   "cell_type": "code",
   "execution_count": 4,
   "id": "5331c58524eb0def",
   "metadata": {
    "ExecuteTime": {
     "end_time": "2025-02-07T11:30:38.504866Z",
     "start_time": "2025-02-07T11:30:38.473931Z"
    }
   },
   "outputs": [
    {
     "data": {
      "text/plain": [
       "Math        67\n",
       "English     78\n",
       "Science     89\n",
       "Hindi      100\n",
       "dtype: int64"
      ]
     },
     "execution_count": 4,
     "metadata": {},
     "output_type": "execute_result"
    }
   ],
   "source": [
    "#coustom index\n",
    "marks = [67,78,89,100]\n",
    "subject = ['Math','English','Science','Hindi']\n",
    "pd.Series(data=marks,index=subject)"
   ]
  },
  {
   "cell_type": "code",
   "execution_count": 5,
   "id": "122b601df3be6ed5",
   "metadata": {
    "ExecuteTime": {
     "end_time": "2025-02-07T11:30:38.926671Z",
     "start_time": "2025-02-07T11:30:38.901805Z"
    }
   },
   "outputs": [
    {
     "data": {
      "text/plain": [
       "Math        67\n",
       "English     78\n",
       "Science     89\n",
       "Hindi      100\n",
       "Name: Marks, dtype: int64"
      ]
     },
     "execution_count": 5,
     "metadata": {},
     "output_type": "execute_result"
    }
   ],
   "source": [
    "#Setting up name\n",
    "marks = pd.Series(data=marks,index=subject,name='Marks')\n",
    "marks"
   ]
  },
  {
   "cell_type": "markdown",
   "id": "4eb52a50722d25f6",
   "metadata": {},
   "source": [
    "### Series From Dict"
   ]
  },
  {
   "cell_type": "code",
   "execution_count": 6,
   "id": "2a04ca07250f7271",
   "metadata": {
    "ExecuteTime": {
     "end_time": "2025-02-07T11:30:39.442755Z",
     "start_time": "2025-02-07T11:30:39.411504Z"
    }
   },
   "outputs": [
    {
     "data": {
      "text/plain": [
       "Math       90\n",
       "English    80\n",
       "Science    70\n",
       "Hindi      60\n",
       "Marathi    50\n",
       "Name: Marks, dtype: int64"
      ]
     },
     "execution_count": 6,
     "metadata": {},
     "output_type": "execute_result"
    }
   ],
   "source": [
    "marks ={\n",
    "    'Math':90,\n",
    "    'English':80,\n",
    "    'Science':70,\n",
    "    'Hindi':60,\n",
    "    'Marathi':50,\n",
    "}\n",
    "marks_series = pd.Series(marks,name='Marks')\n",
    "marks_series"
   ]
  },
  {
   "cell_type": "markdown",
   "id": "b58b24e66613b384",
   "metadata": {},
   "source": [
    "### Series Attribute"
   ]
  },
  {
   "cell_type": "markdown",
   "id": "d3e8f1263869338a",
   "metadata": {},
   "source": [
    "### size\n",
    "The **size** attribute in **pandas.Series()** returns the total number of elements present in the Series."
   ]
  },
  {
   "cell_type": "code",
   "execution_count": 7,
   "id": "f8562363ad2ff5c1",
   "metadata": {
    "ExecuteTime": {
     "end_time": "2025-02-07T11:30:39.877626Z",
     "start_time": "2025-02-07T11:30:39.846358Z"
    }
   },
   "outputs": [
    {
     "data": {
      "text/plain": [
       "5"
      ]
     },
     "execution_count": 7,
     "metadata": {},
     "output_type": "execute_result"
    }
   ],
   "source": [
    "marks_series.size"
   ]
  },
  {
   "cell_type": "markdown",
   "id": "652839b372065635",
   "metadata": {},
   "source": [
    "### dtypes\n",
    "The `dtypes` attribute in Pandas provides a **Series** indicating the data type for each column in a **DataFrame**."
   ]
  },
  {
   "cell_type": "code",
   "execution_count": 8,
   "id": "e9e0f3d53689cab6",
   "metadata": {
    "ExecuteTime": {
     "end_time": "2025-02-07T11:30:40.170612Z",
     "start_time": "2025-02-07T11:30:40.139363Z"
    }
   },
   "outputs": [
    {
     "data": {
      "text/plain": [
       "dtype('int64')"
      ]
     },
     "execution_count": 8,
     "metadata": {},
     "output_type": "execute_result"
    }
   ],
   "source": [
    "marks_series.dtypes"
   ]
  },
  {
   "cell_type": "markdown",
   "id": "d61d7424331250da",
   "metadata": {},
   "source": [
    "### name\n",
    "The `name` attribute of a Pandas object (such as a Series) returns the name of the object, which can be set using the `name` parameter or updated with the `.name` property."
   ]
  },
  {
   "cell_type": "code",
   "execution_count": 9,
   "id": "f597a5664343a996",
   "metadata": {
    "ExecuteTime": {
     "end_time": "2025-02-07T11:30:40.346870Z",
     "start_time": "2025-02-07T11:30:40.333872Z"
    }
   },
   "outputs": [
    {
     "data": {
      "text/plain": [
       "'Marks'"
      ]
     },
     "execution_count": 9,
     "metadata": {},
     "output_type": "execute_result"
    }
   ],
   "source": [
    "marks_series.name"
   ]
  },
  {
   "cell_type": "code",
   "execution_count": 10,
   "id": "f0a2193252f05e00",
   "metadata": {
    "ExecuteTime": {
     "end_time": "2025-02-07T11:30:40.509742Z",
     "start_time": "2025-02-07T11:30:40.494054Z"
    }
   },
   "outputs": [],
   "source": [
    "marks_series.name = 'Marks of student'"
   ]
  },
  {
   "cell_type": "code",
   "execution_count": 11,
   "id": "ba1f88220a328f1c",
   "metadata": {
    "ExecuteTime": {
     "end_time": "2025-02-07T11:30:40.871761Z",
     "start_time": "2025-02-07T11:30:40.838006Z"
    }
   },
   "outputs": [
    {
     "data": {
      "text/plain": [
       "'Marks of student'"
      ]
     },
     "execution_count": 11,
     "metadata": {},
     "output_type": "execute_result"
    }
   ],
   "source": [
    "marks_series.name"
   ]
  },
  {
   "cell_type": "markdown",
   "id": "25e8313e35efe74c",
   "metadata": {},
   "source": [
    "### is_unique\n",
    "The `is_unique` attribute of a Pandas Series checks if all values in the Series are unique, returning a boolean value (`True` or `False`)."
   ]
  },
  {
   "cell_type": "code",
   "execution_count": 12,
   "id": "b1f607376ada2770",
   "metadata": {
    "ExecuteTime": {
     "end_time": "2025-02-07T11:30:41.134263Z",
     "start_time": "2025-02-07T11:30:41.110493Z"
    }
   },
   "outputs": [
    {
     "data": {
      "text/plain": [
       "True"
      ]
     },
     "execution_count": 12,
     "metadata": {},
     "output_type": "execute_result"
    }
   ],
   "source": [
    "marks_series.is_unique"
   ]
  },
  {
   "cell_type": "code",
   "execution_count": 13,
   "id": "82477ac3d4fb9e8e",
   "metadata": {
    "ExecuteTime": {
     "end_time": "2025-02-07T11:30:41.230101Z",
     "start_time": "2025-02-07T11:30:41.198848Z"
    }
   },
   "outputs": [
    {
     "data": {
      "text/plain": [
       "False"
      ]
     },
     "execution_count": 13,
     "metadata": {},
     "output_type": "execute_result"
    }
   ],
   "source": [
    "pd.Series([1,1,2,3,4,5]).is_unique"
   ]
  },
  {
   "cell_type": "markdown",
   "id": "dcb3c4fcd4fddb79",
   "metadata": {},
   "source": [
    "### index\n",
    "The `index` attribute of a Pandas object (such as a DataFrame or Series) returns the index of that object, providing access to the labels along the other axes."
   ]
  },
  {
   "cell_type": "code",
   "execution_count": 14,
   "id": "12a8834d8b446eca",
   "metadata": {
    "ExecuteTime": {
     "end_time": "2025-02-07T11:30:41.353807Z",
     "start_time": "2025-02-07T11:30:41.344797Z"
    }
   },
   "outputs": [
    {
     "data": {
      "text/plain": [
       "Index(['Math', 'English', 'Science', 'Hindi', 'Marathi'], dtype='object')"
      ]
     },
     "execution_count": 14,
     "metadata": {},
     "output_type": "execute_result"
    }
   ],
   "source": [
    "marks_series.index"
   ]
  },
  {
   "cell_type": "markdown",
   "id": "ed6cd14c623029fb",
   "metadata": {},
   "source": [
    "### values\n",
    "The `values` attribute of a Pandas Series or DataFrame returns a NumPy array containing the actual data values of the object."
   ]
  },
  {
   "cell_type": "code",
   "execution_count": 15,
   "id": "fa4497cd495863a5",
   "metadata": {
    "ExecuteTime": {
     "end_time": "2025-02-07T11:30:41.496212Z",
     "start_time": "2025-02-07T11:30:41.464560Z"
    }
   },
   "outputs": [
    {
     "data": {
      "text/plain": [
       "array([90, 80, 70, 60, 50])"
      ]
     },
     "execution_count": 15,
     "metadata": {},
     "output_type": "execute_result"
    }
   ],
   "source": [
    "marks_series.values"
   ]
  },
  {
   "cell_type": "markdown",
   "id": "7a9e29492f82d825",
   "metadata": {},
   "source": [
    "### Series Using read_csv"
   ]
  },
  {
   "cell_type": "code",
   "execution_count": 16,
   "id": "9b26e770b26a5cdd",
   "metadata": {
    "ExecuteTime": {
     "end_time": "2025-02-07T11:30:41.652450Z",
     "start_time": "2025-02-07T11:30:41.618736Z"
    }
   },
   "outputs": [
    {
     "data": {
      "text/plain": [
       "0       48\n",
       "1       57\n",
       "2       40\n",
       "3       43\n",
       "4       44\n",
       "      ... \n",
       "360    231\n",
       "361    226\n",
       "362    155\n",
       "363    144\n",
       "364    172\n",
       "Name: Subscribers gained, Length: 365, dtype: int64"
      ]
     },
     "execution_count": 16,
     "metadata": {},
     "output_type": "execute_result"
    }
   ],
   "source": [
    "subs = pd.read_csv('../datasets/subs.csv').squeeze()\n",
    "subs"
   ]
  },
  {
   "cell_type": "code",
   "execution_count": 17,
   "id": "ae2aaa95e0fcd19c",
   "metadata": {
    "ExecuteTime": {
     "end_time": "2025-02-07T11:30:41.815893Z",
     "start_time": "2025-02-07T11:30:41.776376Z"
    }
   },
   "outputs": [
    {
     "data": {
      "text/html": [
       "<div>\n",
       "<style scoped>\n",
       "    .dataframe tbody tr th:only-of-type {\n",
       "        vertical-align: middle;\n",
       "    }\n",
       "\n",
       "    .dataframe tbody tr th {\n",
       "        vertical-align: top;\n",
       "    }\n",
       "\n",
       "    .dataframe thead th {\n",
       "        text-align: right;\n",
       "    }\n",
       "</style>\n",
       "<table border=\"1\" class=\"dataframe\">\n",
       "  <thead>\n",
       "    <tr style=\"text-align: right;\">\n",
       "      <th></th>\n",
       "      <th>match_no</th>\n",
       "      <th>runs</th>\n",
       "    </tr>\n",
       "  </thead>\n",
       "  <tbody>\n",
       "    <tr>\n",
       "      <th>0</th>\n",
       "      <td>1</td>\n",
       "      <td>1</td>\n",
       "    </tr>\n",
       "    <tr>\n",
       "      <th>1</th>\n",
       "      <td>2</td>\n",
       "      <td>23</td>\n",
       "    </tr>\n",
       "    <tr>\n",
       "      <th>2</th>\n",
       "      <td>3</td>\n",
       "      <td>13</td>\n",
       "    </tr>\n",
       "    <tr>\n",
       "      <th>3</th>\n",
       "      <td>4</td>\n",
       "      <td>12</td>\n",
       "    </tr>\n",
       "    <tr>\n",
       "      <th>4</th>\n",
       "      <td>5</td>\n",
       "      <td>1</td>\n",
       "    </tr>\n",
       "    <tr>\n",
       "      <th>...</th>\n",
       "      <td>...</td>\n",
       "      <td>...</td>\n",
       "    </tr>\n",
       "    <tr>\n",
       "      <th>210</th>\n",
       "      <td>211</td>\n",
       "      <td>0</td>\n",
       "    </tr>\n",
       "    <tr>\n",
       "      <th>211</th>\n",
       "      <td>212</td>\n",
       "      <td>20</td>\n",
       "    </tr>\n",
       "    <tr>\n",
       "      <th>212</th>\n",
       "      <td>213</td>\n",
       "      <td>73</td>\n",
       "    </tr>\n",
       "    <tr>\n",
       "      <th>213</th>\n",
       "      <td>214</td>\n",
       "      <td>25</td>\n",
       "    </tr>\n",
       "    <tr>\n",
       "      <th>214</th>\n",
       "      <td>215</td>\n",
       "      <td>7</td>\n",
       "    </tr>\n",
       "  </tbody>\n",
       "</table>\n",
       "<p>215 rows × 2 columns</p>\n",
       "</div>"
      ],
      "text/plain": [
       "     match_no  runs\n",
       "0           1     1\n",
       "1           2    23\n",
       "2           3    13\n",
       "3           4    12\n",
       "4           5     1\n",
       "..        ...   ...\n",
       "210       211     0\n",
       "211       212    20\n",
       "212       213    73\n",
       "213       214    25\n",
       "214       215     7\n",
       "\n",
       "[215 rows x 2 columns]"
      ]
     },
     "execution_count": 17,
     "metadata": {},
     "output_type": "execute_result"
    }
   ],
   "source": [
    "vk = pd.read_csv('../datasets/kohli_ipl.csv').squeeze()\n",
    "vk"
   ]
  },
  {
   "cell_type": "code",
   "execution_count": 18,
   "id": "a987ca606030bf9c",
   "metadata": {
    "ExecuteTime": {
     "end_time": "2025-02-07T11:30:42.074526Z",
     "start_time": "2025-02-07T11:30:42.040942Z"
    }
   },
   "outputs": [
    {
     "data": {
      "text/html": [
       "<div>\n",
       "<style scoped>\n",
       "    .dataframe tbody tr th:only-of-type {\n",
       "        vertical-align: middle;\n",
       "    }\n",
       "\n",
       "    .dataframe tbody tr th {\n",
       "        vertical-align: top;\n",
       "    }\n",
       "\n",
       "    .dataframe thead th {\n",
       "        text-align: right;\n",
       "    }\n",
       "</style>\n",
       "<table border=\"1\" class=\"dataframe\">\n",
       "  <thead>\n",
       "    <tr style=\"text-align: right;\">\n",
       "      <th></th>\n",
       "      <th>movie</th>\n",
       "      <th>lead</th>\n",
       "    </tr>\n",
       "  </thead>\n",
       "  <tbody>\n",
       "    <tr>\n",
       "      <th>0</th>\n",
       "      <td>Uri: The Surgical Strike</td>\n",
       "      <td>Vicky Kaushal</td>\n",
       "    </tr>\n",
       "    <tr>\n",
       "      <th>1</th>\n",
       "      <td>Battalion 609</td>\n",
       "      <td>Vicky Ahuja</td>\n",
       "    </tr>\n",
       "    <tr>\n",
       "      <th>2</th>\n",
       "      <td>The Accidental Prime Minister (film)</td>\n",
       "      <td>Anupam Kher</td>\n",
       "    </tr>\n",
       "    <tr>\n",
       "      <th>3</th>\n",
       "      <td>Why Cheat India</td>\n",
       "      <td>Emraan Hashmi</td>\n",
       "    </tr>\n",
       "    <tr>\n",
       "      <th>4</th>\n",
       "      <td>Evening Shadows</td>\n",
       "      <td>Mona Ambegaonkar</td>\n",
       "    </tr>\n",
       "    <tr>\n",
       "      <th>...</th>\n",
       "      <td>...</td>\n",
       "      <td>...</td>\n",
       "    </tr>\n",
       "    <tr>\n",
       "      <th>1495</th>\n",
       "      <td>Hum Tumhare Hain Sanam</td>\n",
       "      <td>Shah Rukh Khan</td>\n",
       "    </tr>\n",
       "    <tr>\n",
       "      <th>1496</th>\n",
       "      <td>Aankhen (2002 film)</td>\n",
       "      <td>Amitabh Bachchan</td>\n",
       "    </tr>\n",
       "    <tr>\n",
       "      <th>1497</th>\n",
       "      <td>Saathiya (film)</td>\n",
       "      <td>Vivek Oberoi</td>\n",
       "    </tr>\n",
       "    <tr>\n",
       "      <th>1498</th>\n",
       "      <td>Company (film)</td>\n",
       "      <td>Ajay Devgn</td>\n",
       "    </tr>\n",
       "    <tr>\n",
       "      <th>1499</th>\n",
       "      <td>Awara Paagal Deewana</td>\n",
       "      <td>Akshay Kumar</td>\n",
       "    </tr>\n",
       "  </tbody>\n",
       "</table>\n",
       "<p>1500 rows × 2 columns</p>\n",
       "</div>"
      ],
      "text/plain": [
       "                                     movie              lead\n",
       "0                 Uri: The Surgical Strike     Vicky Kaushal\n",
       "1                            Battalion 609       Vicky Ahuja\n",
       "2     The Accidental Prime Minister (film)       Anupam Kher\n",
       "3                          Why Cheat India     Emraan Hashmi\n",
       "4                          Evening Shadows  Mona Ambegaonkar\n",
       "...                                    ...               ...\n",
       "1495                Hum Tumhare Hain Sanam    Shah Rukh Khan\n",
       "1496                   Aankhen (2002 film)  Amitabh Bachchan\n",
       "1497                       Saathiya (film)      Vivek Oberoi\n",
       "1498                        Company (film)        Ajay Devgn\n",
       "1499                  Awara Paagal Deewana      Akshay Kumar\n",
       "\n",
       "[1500 rows x 2 columns]"
      ]
     },
     "execution_count": 18,
     "metadata": {},
     "output_type": "execute_result"
    }
   ],
   "source": [
    "movies = pd.read_csv('../datasets/bollywood.csv').squeeze()\n",
    "movies"
   ]
  },
  {
   "cell_type": "markdown",
   "id": "d08933f74be8589e",
   "metadata": {},
   "source": [
    "### Series Methods"
   ]
  },
  {
   "cell_type": "markdown",
   "id": "5332e407d56dfae2",
   "metadata": {},
   "source": [
    "### head\n",
    "The `head()` method of a Pandas DataFrame or Series returns the first few rows (default 5) of the data, providing a quick preview of the dataset."
   ]
  },
  {
   "cell_type": "code",
   "execution_count": 19,
   "id": "c187e8e1be7cd917",
   "metadata": {
    "ExecuteTime": {
     "end_time": "2025-02-07T11:30:42.370356Z",
     "start_time": "2025-02-07T11:30:42.339064Z"
    }
   },
   "outputs": [
    {
     "data": {
      "text/plain": [
       "0    48\n",
       "1    57\n",
       "2    40\n",
       "3    43\n",
       "4    44\n",
       "Name: Subscribers gained, dtype: int64"
      ]
     },
     "execution_count": 19,
     "metadata": {},
     "output_type": "execute_result"
    }
   ],
   "source": [
    "subs.head()"
   ]
  },
  {
   "cell_type": "markdown",
   "id": "f1a47af6cd5bd0b3",
   "metadata": {},
   "source": [
    "### tail\n",
    "The `tail()` method of a Pandas DataFrame or Series returns the last few rows (default 5) of the data, providing a quick preview of the bottom portion of the dataset."
   ]
  },
  {
   "cell_type": "code",
   "execution_count": 20,
   "id": "27600800c77eb975",
   "metadata": {
    "ExecuteTime": {
     "end_time": "2025-02-07T11:30:42.786753Z",
     "start_time": "2025-02-07T11:30:42.755496Z"
    }
   },
   "outputs": [
    {
     "data": {
      "text/plain": [
       "360    231\n",
       "361    226\n",
       "362    155\n",
       "363    144\n",
       "364    172\n",
       "Name: Subscribers gained, dtype: int64"
      ]
     },
     "execution_count": 20,
     "metadata": {},
     "output_type": "execute_result"
    }
   ],
   "source": [
    "subs.tail()"
   ]
  },
  {
   "cell_type": "code",
   "execution_count": 21,
   "id": "98abe4b70d54bf12",
   "metadata": {
    "ExecuteTime": {
     "end_time": "2025-02-07T11:30:43.164841Z",
     "start_time": "2025-02-07T11:30:43.133591Z"
    }
   },
   "outputs": [
    {
     "data": {
      "text/html": [
       "<div>\n",
       "<style scoped>\n",
       "    .dataframe tbody tr th:only-of-type {\n",
       "        vertical-align: middle;\n",
       "    }\n",
       "\n",
       "    .dataframe tbody tr th {\n",
       "        vertical-align: top;\n",
       "    }\n",
       "\n",
       "    .dataframe thead th {\n",
       "        text-align: right;\n",
       "    }\n",
       "</style>\n",
       "<table border=\"1\" class=\"dataframe\">\n",
       "  <thead>\n",
       "    <tr style=\"text-align: right;\">\n",
       "      <th></th>\n",
       "      <th>match_no</th>\n",
       "      <th>runs</th>\n",
       "    </tr>\n",
       "  </thead>\n",
       "  <tbody>\n",
       "    <tr>\n",
       "      <th>0</th>\n",
       "      <td>1</td>\n",
       "      <td>1</td>\n",
       "    </tr>\n",
       "    <tr>\n",
       "      <th>1</th>\n",
       "      <td>2</td>\n",
       "      <td>23</td>\n",
       "    </tr>\n",
       "    <tr>\n",
       "      <th>2</th>\n",
       "      <td>3</td>\n",
       "      <td>13</td>\n",
       "    </tr>\n",
       "    <tr>\n",
       "      <th>3</th>\n",
       "      <td>4</td>\n",
       "      <td>12</td>\n",
       "    </tr>\n",
       "    <tr>\n",
       "      <th>4</th>\n",
       "      <td>5</td>\n",
       "      <td>1</td>\n",
       "    </tr>\n",
       "  </tbody>\n",
       "</table>\n",
       "</div>"
      ],
      "text/plain": [
       "   match_no  runs\n",
       "0         1     1\n",
       "1         2    23\n",
       "2         3    13\n",
       "3         4    12\n",
       "4         5     1"
      ]
     },
     "execution_count": 21,
     "metadata": {},
     "output_type": "execute_result"
    }
   ],
   "source": [
    "vk.head()"
   ]
  },
  {
   "cell_type": "code",
   "execution_count": 22,
   "id": "e955d3847bc2ad3a",
   "metadata": {
    "ExecuteTime": {
     "end_time": "2025-02-07T11:30:44.033144Z",
     "start_time": "2025-02-07T11:30:43.997543Z"
    }
   },
   "outputs": [
    {
     "data": {
      "text/html": [
       "<div>\n",
       "<style scoped>\n",
       "    .dataframe tbody tr th:only-of-type {\n",
       "        vertical-align: middle;\n",
       "    }\n",
       "\n",
       "    .dataframe tbody tr th {\n",
       "        vertical-align: top;\n",
       "    }\n",
       "\n",
       "    .dataframe thead th {\n",
       "        text-align: right;\n",
       "    }\n",
       "</style>\n",
       "<table border=\"1\" class=\"dataframe\">\n",
       "  <thead>\n",
       "    <tr style=\"text-align: right;\">\n",
       "      <th></th>\n",
       "      <th>match_no</th>\n",
       "      <th>runs</th>\n",
       "    </tr>\n",
       "  </thead>\n",
       "  <tbody>\n",
       "    <tr>\n",
       "      <th>210</th>\n",
       "      <td>211</td>\n",
       "      <td>0</td>\n",
       "    </tr>\n",
       "    <tr>\n",
       "      <th>211</th>\n",
       "      <td>212</td>\n",
       "      <td>20</td>\n",
       "    </tr>\n",
       "    <tr>\n",
       "      <th>212</th>\n",
       "      <td>213</td>\n",
       "      <td>73</td>\n",
       "    </tr>\n",
       "    <tr>\n",
       "      <th>213</th>\n",
       "      <td>214</td>\n",
       "      <td>25</td>\n",
       "    </tr>\n",
       "    <tr>\n",
       "      <th>214</th>\n",
       "      <td>215</td>\n",
       "      <td>7</td>\n",
       "    </tr>\n",
       "  </tbody>\n",
       "</table>\n",
       "</div>"
      ],
      "text/plain": [
       "     match_no  runs\n",
       "210       211     0\n",
       "211       212    20\n",
       "212       213    73\n",
       "213       214    25\n",
       "214       215     7"
      ]
     },
     "execution_count": 22,
     "metadata": {},
     "output_type": "execute_result"
    }
   ],
   "source": [
    "vk.tail()"
   ]
  },
  {
   "cell_type": "markdown",
   "id": "4a9c2215545da814",
   "metadata": {},
   "source": [
    "### sample\n",
    "The `sample()` method of a Pandas DataFrame or Series returns random samples or a subset of the data, allowing for flexible selection with parameters like `n`, `frac`, and `random_state`."
   ]
  },
  {
   "cell_type": "code",
   "execution_count": 23,
   "id": "ad167d0ff7be96c6",
   "metadata": {
    "ExecuteTime": {
     "end_time": "2025-02-07T11:30:44.388675Z",
     "start_time": "2025-02-07T11:30:44.373050Z"
    }
   },
   "outputs": [
    {
     "data": {
      "text/html": [
       "<div>\n",
       "<style scoped>\n",
       "    .dataframe tbody tr th:only-of-type {\n",
       "        vertical-align: middle;\n",
       "    }\n",
       "\n",
       "    .dataframe tbody tr th {\n",
       "        vertical-align: top;\n",
       "    }\n",
       "\n",
       "    .dataframe thead th {\n",
       "        text-align: right;\n",
       "    }\n",
       "</style>\n",
       "<table border=\"1\" class=\"dataframe\">\n",
       "  <thead>\n",
       "    <tr style=\"text-align: right;\">\n",
       "      <th></th>\n",
       "      <th>movie</th>\n",
       "      <th>lead</th>\n",
       "    </tr>\n",
       "  </thead>\n",
       "  <tbody>\n",
       "    <tr>\n",
       "      <th>657</th>\n",
       "      <td>War Chhod Na Yaar</td>\n",
       "      <td>Sharman Joshi</td>\n",
       "    </tr>\n",
       "    <tr>\n",
       "      <th>1058</th>\n",
       "      <td>Apna Asmaan</td>\n",
       "      <td>Irrfan Khan</td>\n",
       "    </tr>\n",
       "    <tr>\n",
       "      <th>952</th>\n",
       "      <td>Chintu Ji</td>\n",
       "      <td>Rishi Kapoor</td>\n",
       "    </tr>\n",
       "    <tr>\n",
       "      <th>1493</th>\n",
       "      <td>Devdas (2002 Hindi film)</td>\n",
       "      <td>Shah Rukh Khan</td>\n",
       "    </tr>\n",
       "    <tr>\n",
       "      <th>607</th>\n",
       "      <td>Raanjhanaa</td>\n",
       "      <td>Dhanush</td>\n",
       "    </tr>\n",
       "  </tbody>\n",
       "</table>\n",
       "</div>"
      ],
      "text/plain": [
       "                         movie            lead\n",
       "657          War Chhod Na Yaar   Sharman Joshi\n",
       "1058               Apna Asmaan     Irrfan Khan\n",
       "952                  Chintu Ji    Rishi Kapoor\n",
       "1493  Devdas (2002 Hindi film)  Shah Rukh Khan\n",
       "607                 Raanjhanaa         Dhanush"
      ]
     },
     "execution_count": 23,
     "metadata": {},
     "output_type": "execute_result"
    }
   ],
   "source": [
    "movies.sample(5)"
   ]
  },
  {
   "cell_type": "code",
   "execution_count": 24,
   "id": "fb26507709ca41d1",
   "metadata": {
    "jupyter": {
     "is_executing": true
    }
   },
   "outputs": [
    {
     "data": {
      "text/html": [
       "<div>\n",
       "<style scoped>\n",
       "    .dataframe tbody tr th:only-of-type {\n",
       "        vertical-align: middle;\n",
       "    }\n",
       "\n",
       "    .dataframe tbody tr th {\n",
       "        vertical-align: top;\n",
       "    }\n",
       "\n",
       "    .dataframe thead th {\n",
       "        text-align: right;\n",
       "    }\n",
       "</style>\n",
       "<table border=\"1\" class=\"dataframe\">\n",
       "  <thead>\n",
       "    <tr style=\"text-align: right;\">\n",
       "      <th></th>\n",
       "      <th>movie</th>\n",
       "      <th>lead</th>\n",
       "    </tr>\n",
       "  </thead>\n",
       "  <tbody>\n",
       "    <tr>\n",
       "      <th>1482</th>\n",
       "      <td>Raja Bhaiya (film)</td>\n",
       "      <td>Sadashiv Amrapurkar</td>\n",
       "    </tr>\n",
       "    <tr>\n",
       "      <th>522</th>\n",
       "      <td>Pizza (2014 film)</td>\n",
       "      <td>Akshay Oberoi</td>\n",
       "    </tr>\n",
       "    <tr>\n",
       "      <th>1493</th>\n",
       "      <td>Devdas (2002 Hindi film)</td>\n",
       "      <td>Shah Rukh Khan</td>\n",
       "    </tr>\n",
       "    <tr>\n",
       "      <th>726</th>\n",
       "      <td>Sons of Ram</td>\n",
       "      <td>Sunidhi Chauhan</td>\n",
       "    </tr>\n",
       "    <tr>\n",
       "      <th>54</th>\n",
       "      <td>The Zoya Factor (film)</td>\n",
       "      <td>Sonam Kapoor</td>\n",
       "    </tr>\n",
       "    <tr>\n",
       "      <th>...</th>\n",
       "      <td>...</td>\n",
       "      <td>...</td>\n",
       "    </tr>\n",
       "    <tr>\n",
       "      <th>396</th>\n",
       "      <td>Margarita with a Straw</td>\n",
       "      <td>Kalki Koechlin</td>\n",
       "    </tr>\n",
       "    <tr>\n",
       "      <th>1170</th>\n",
       "      <td>Golmaal: Fun Unlimited</td>\n",
       "      <td>Ajay Devgn</td>\n",
       "    </tr>\n",
       "    <tr>\n",
       "      <th>484</th>\n",
       "      <td>2 States (2014 film)</td>\n",
       "      <td>Arjun Kapoor</td>\n",
       "    </tr>\n",
       "    <tr>\n",
       "      <th>427</th>\n",
       "      <td>Bangistan</td>\n",
       "      <td>Jacqueline Fernandez</td>\n",
       "    </tr>\n",
       "    <tr>\n",
       "      <th>501</th>\n",
       "      <td>Kahin Hai Mera Pyar</td>\n",
       "      <td>Eesha Agarwal</td>\n",
       "    </tr>\n",
       "  </tbody>\n",
       "</table>\n",
       "<p>150 rows × 2 columns</p>\n",
       "</div>"
      ],
      "text/plain": [
       "                         movie                  lead\n",
       "1482        Raja Bhaiya (film)   Sadashiv Amrapurkar\n",
       "522          Pizza (2014 film)         Akshay Oberoi\n",
       "1493  Devdas (2002 Hindi film)        Shah Rukh Khan\n",
       "726                Sons of Ram       Sunidhi Chauhan\n",
       "54      The Zoya Factor (film)          Sonam Kapoor\n",
       "...                        ...                   ...\n",
       "396     Margarita with a Straw        Kalki Koechlin\n",
       "1170    Golmaal: Fun Unlimited            Ajay Devgn\n",
       "484       2 States (2014 film)          Arjun Kapoor\n",
       "427                  Bangistan  Jacqueline Fernandez\n",
       "501        Kahin Hai Mera Pyar         Eesha Agarwal\n",
       "\n",
       "[150 rows x 2 columns]"
      ]
     },
     "execution_count": 24,
     "metadata": {},
     "output_type": "execute_result"
    }
   ],
   "source": [
    "movies.sample(random_state=18,frac=0.1)"
   ]
  },
  {
   "cell_type": "markdown",
   "id": "e63b9ef6bc3e58ed",
   "metadata": {},
   "source": [
    "### value_counts\n",
    "The `value_counts()` method of a Pandas Series returns a Series containing counts of unique values in the Series, sorted in descending order by default."
   ]
  },
  {
   "cell_type": "code",
   "execution_count": 25,
   "id": "cf235702f4924efd",
   "metadata": {
    "ExecuteTime": {
     "end_time": "2025-02-07T11:30:10.214740Z",
     "start_time": "2025-02-07T11:30:10.183489Z"
    }
   },
   "outputs": [
    {
     "data": {
      "text/plain": [
       "movie                    lead           \n",
       "Gabbar Is Back           Akshay Kumar       2\n",
       "Andaaz                   Akshay Kumar       2\n",
       "Tanu Weds Manu: Returns  Kangana Ranaut     2\n",
       "Yuvvraaj                 Salman Khan        1\n",
       "Yuva                     Ajay Devgn         1\n",
       "                                           ..\n",
       "Yeh Mera India           Anupam Kher        1\n",
       "Yeh Saali Aashiqui       Vardhan Puri       1\n",
       "Youngistaan              Jackky Bhagnani    1\n",
       "Yun Hota Toh Kya Hota    Paresh Rawal       1\n",
       "Yakeen (2005 film)       Arjun Rampal       1\n",
       "Name: count, Length: 1497, dtype: int64"
      ]
     },
     "execution_count": 25,
     "metadata": {},
     "output_type": "execute_result"
    }
   ],
   "source": [
    "#value_counts()\n",
    "movies.value_counts()"
   ]
  },
  {
   "cell_type": "markdown",
   "id": "ffd3bee8736a5d0b",
   "metadata": {},
   "source": [
    "### sort_values\n",
    "\n",
    "The `sort_values()` method of a Pandas DataFrame or Series sorts the data based on one or more columns (or the Series values) either in ascending or descending order, with options for customizing the sort order and stability."
   ]
  },
  {
   "cell_type": "code",
   "execution_count": 26,
   "id": "e60d78d429dea39c",
   "metadata": {
    "ExecuteTime": {
     "end_time": "2025-02-07T11:30:10.460317Z",
     "start_time": "2025-02-07T11:30:10.429107Z"
    }
   },
   "outputs": [
    {
     "data": {
      "text/plain": [
       "np.int64(113)"
      ]
     },
     "execution_count": 26,
     "metadata": {},
     "output_type": "execute_result"
    }
   ],
   "source": [
    "vk.sort_values(by='runs',ascending=False).head(1).values[0][1]"
   ]
  },
  {
   "cell_type": "markdown",
   "id": "5ab49ec80e714458",
   "metadata": {},
   "source": [
    "### sort_index\n",
    "The `sort_index()` method of a Pandas DataFrame or Series sorts the data by the index, allowing for sorting in both ascending and descending order, and provides options for axis, stable sort, and key functions for more complex sorting."
   ]
  },
  {
   "cell_type": "code",
   "execution_count": 27,
   "id": "15897dae9a6ef1f9",
   "metadata": {
    "ExecuteTime": {
     "end_time": "2025-02-07T11:30:10.907906Z",
     "start_time": "2025-02-07T11:30:10.896725Z"
    }
   },
   "outputs": [],
   "source": [
    "# sort_index()\n",
    "movies.sort_index(ascending=False,inplace=True)"
   ]
  },
  {
   "cell_type": "code",
   "execution_count": 28,
   "id": "33fca4890bec0381",
   "metadata": {
    "ExecuteTime": {
     "end_time": "2025-02-07T11:30:11.108849Z",
     "start_time": "2025-02-07T11:30:11.077598Z"
    }
   },
   "outputs": [
    {
     "data": {
      "text/html": [
       "<div>\n",
       "<style scoped>\n",
       "    .dataframe tbody tr th:only-of-type {\n",
       "        vertical-align: middle;\n",
       "    }\n",
       "\n",
       "    .dataframe tbody tr th {\n",
       "        vertical-align: top;\n",
       "    }\n",
       "\n",
       "    .dataframe thead th {\n",
       "        text-align: right;\n",
       "    }\n",
       "</style>\n",
       "<table border=\"1\" class=\"dataframe\">\n",
       "  <thead>\n",
       "    <tr style=\"text-align: right;\">\n",
       "      <th></th>\n",
       "      <th>movie</th>\n",
       "      <th>lead</th>\n",
       "    </tr>\n",
       "  </thead>\n",
       "  <tbody>\n",
       "    <tr>\n",
       "      <th>1499</th>\n",
       "      <td>Awara Paagal Deewana</td>\n",
       "      <td>Akshay Kumar</td>\n",
       "    </tr>\n",
       "    <tr>\n",
       "      <th>1498</th>\n",
       "      <td>Company (film)</td>\n",
       "      <td>Ajay Devgn</td>\n",
       "    </tr>\n",
       "    <tr>\n",
       "      <th>1497</th>\n",
       "      <td>Saathiya (film)</td>\n",
       "      <td>Vivek Oberoi</td>\n",
       "    </tr>\n",
       "    <tr>\n",
       "      <th>1496</th>\n",
       "      <td>Aankhen (2002 film)</td>\n",
       "      <td>Amitabh Bachchan</td>\n",
       "    </tr>\n",
       "    <tr>\n",
       "      <th>1495</th>\n",
       "      <td>Hum Tumhare Hain Sanam</td>\n",
       "      <td>Shah Rukh Khan</td>\n",
       "    </tr>\n",
       "    <tr>\n",
       "      <th>...</th>\n",
       "      <td>...</td>\n",
       "      <td>...</td>\n",
       "    </tr>\n",
       "    <tr>\n",
       "      <th>4</th>\n",
       "      <td>Evening Shadows</td>\n",
       "      <td>Mona Ambegaonkar</td>\n",
       "    </tr>\n",
       "    <tr>\n",
       "      <th>3</th>\n",
       "      <td>Why Cheat India</td>\n",
       "      <td>Emraan Hashmi</td>\n",
       "    </tr>\n",
       "    <tr>\n",
       "      <th>2</th>\n",
       "      <td>The Accidental Prime Minister (film)</td>\n",
       "      <td>Anupam Kher</td>\n",
       "    </tr>\n",
       "    <tr>\n",
       "      <th>1</th>\n",
       "      <td>Battalion 609</td>\n",
       "      <td>Vicky Ahuja</td>\n",
       "    </tr>\n",
       "    <tr>\n",
       "      <th>0</th>\n",
       "      <td>Uri: The Surgical Strike</td>\n",
       "      <td>Vicky Kaushal</td>\n",
       "    </tr>\n",
       "  </tbody>\n",
       "</table>\n",
       "<p>1500 rows × 2 columns</p>\n",
       "</div>"
      ],
      "text/plain": [
       "                                     movie              lead\n",
       "1499                  Awara Paagal Deewana      Akshay Kumar\n",
       "1498                        Company (film)        Ajay Devgn\n",
       "1497                       Saathiya (film)      Vivek Oberoi\n",
       "1496                   Aankhen (2002 film)  Amitabh Bachchan\n",
       "1495                Hum Tumhare Hain Sanam    Shah Rukh Khan\n",
       "...                                    ...               ...\n",
       "4                          Evening Shadows  Mona Ambegaonkar\n",
       "3                          Why Cheat India     Emraan Hashmi\n",
       "2     The Accidental Prime Minister (film)       Anupam Kher\n",
       "1                            Battalion 609       Vicky Ahuja\n",
       "0                 Uri: The Surgical Strike     Vicky Kaushal\n",
       "\n",
       "[1500 rows x 2 columns]"
      ]
     },
     "execution_count": 28,
     "metadata": {},
     "output_type": "execute_result"
    }
   ],
   "source": [
    "movies"
   ]
  },
  {
   "cell_type": "markdown",
   "id": "7c04ae9965297270",
   "metadata": {},
   "source": [
    "### Series Math Methods"
   ]
  },
  {
   "cell_type": "markdown",
   "id": "39f31c614976f653",
   "metadata": {},
   "source": [
    "### count\n",
    "The `count()` method of a Pandas Series or DataFrame returns the number of non-null values in the object, providing a quick way to determine how many entries are valid."
   ]
  },
  {
   "cell_type": "code",
   "execution_count": 29,
   "id": "e48f8631b77b6695",
   "metadata": {
    "ExecuteTime": {
     "end_time": "2025-02-07T11:30:11.405722Z",
     "start_time": "2025-02-07T11:30:11.374507Z"
    }
   },
   "outputs": [
    {
     "data": {
      "text/plain": [
       "match_no    215\n",
       "runs        215\n",
       "dtype: int64"
      ]
     },
     "execution_count": 29,
     "metadata": {},
     "output_type": "execute_result"
    }
   ],
   "source": [
    "vk.count()"
   ]
  },
  {
   "cell_type": "markdown",
   "id": "a244e7483ba7c86",
   "metadata": {},
   "source": [
    "### sum\n",
    "The `sum()` method of a Pandas Series or DataFrame calculates the sum of the elements along a specified axis, allowing for customization with parameters like `axis`, `skipna`, and `numeric_only`."
   ]
  },
  {
   "cell_type": "code",
   "execution_count": 30,
   "id": "daed875b1593ae10",
   "metadata": {
    "ExecuteTime": {
     "end_time": "2025-02-07T11:30:11.627063Z",
     "start_time": "2025-02-07T11:30:11.611439Z"
    }
   },
   "outputs": [
    {
     "data": {
      "text/plain": [
       "np.int64(49510)"
      ]
     },
     "execution_count": 30,
     "metadata": {},
     "output_type": "execute_result"
    }
   ],
   "source": [
    "subs.sum()"
   ]
  },
  {
   "cell_type": "markdown",
   "id": "d8e889bf36dcfc85",
   "metadata": {},
   "source": [
    "### mean->median->mode->std->var\n",
    "- `.mean()`: Calculates the arithmetic mean of the values over a specified axis.\n",
    "- `.median()`: Computes the median of the values over a specified axis.\n",
    "- `.mode()`: Returns the mode(s) of the values, which are the most frequently occurring value(s).\n",
    "- `.std()` (Standard Deviation): Measures the dispersion or spread of the values from the mean.\n",
    "- `.var()` (Variance): Calculates the variance of the values, which is the average of the squared differences from the Mean."
   ]
  },
  {
   "cell_type": "code",
   "execution_count": 31,
   "id": "6c0316ece1f049c9",
   "metadata": {
    "ExecuteTime": {
     "end_time": "2025-02-07T11:30:12.267464Z",
     "start_time": "2025-02-07T11:30:12.082945Z"
    }
   },
   "outputs": [
    {
     "name": "stdout",
     "output_type": "stream",
     "text": [
      "135.64383561643837\n",
      "62.6750230372527\n",
      "match_no    3870.000000\n",
      "runs         688.002478\n",
      "dtype: float64\n",
      "     match_no  runs\n",
      "0           1   0.0\n",
      "1           2   NaN\n",
      "2           3   NaN\n",
      "3           4   NaN\n",
      "4           5   NaN\n",
      "..        ...   ...\n",
      "210       211   NaN\n",
      "211       212   NaN\n",
      "212       213   NaN\n",
      "213       214   NaN\n",
      "214       215   NaN\n",
      "\n",
      "[215 rows x 2 columns]\n"
     ]
    }
   ],
   "source": [
    "print(subs.mean())\n",
    "print(subs.std())\n",
    "print(vk.var())\n",
    "print(vk.mode())"
   ]
  },
  {
   "cell_type": "markdown",
   "id": "8656614bd6cebcda",
   "metadata": {},
   "source": [
    "### Series Indexing"
   ]
  },
  {
   "cell_type": "code",
   "execution_count": 32,
   "id": "7935b4a3c5ec9e84",
   "metadata": {
    "ExecuteTime": {
     "end_time": "2025-02-07T11:30:12.687471Z",
     "start_time": "2025-02-07T11:30:12.671845Z"
    }
   },
   "outputs": [
    {
     "data": {
      "text/plain": [
       "0    12\n",
       "1    13\n",
       "2    14\n",
       "3    35\n",
       "4    46\n",
       "5    57\n",
       "6    58\n",
       "7    79\n",
       "8     9\n",
       "dtype: int64"
      ]
     },
     "execution_count": 32,
     "metadata": {},
     "output_type": "execute_result"
    }
   ],
   "source": [
    "x = pd.Series([12,13,14,35,46,57,58,79,9])\n",
    "x"
   ]
  },
  {
   "cell_type": "markdown",
   "id": "6969d490c1c7ee07",
   "metadata": {},
   "source": [
    "### Why Series Does Not Support Negative Indexing:\n",
    "\n",
    "1. **Consistency with Other Pandas Objects**:\n",
    "   - Lists and arrays in Python support negative indexing, which can lead to confusion when working with other Pandas objects that might not support it.\n",
    "\n",
    "2. **Clarity and Readability**:\n",
    "   - Using only positive indices makes the intent of accessing elements more explicit. For example, `df.iloc[-1]` is generally used for getting the last element in a DataFrame or Series, which is clear and unambiguous.\n",
    "\n",
    "3. **Avoiding Ambiguity**:\n",
    "   - Negative indexing can sometimes lead to ambiguity, especially when working with large datasets where the end of a sequence might not be immediately obvious.\n",
    "\n",
    "4. **Consistency Across Pandas Objects**:\n",
    "   - All Pandas objects (Series, DataFrame) follow this consistent approach to index access, ensuring uniform behavior and reducing cognitive load for users.\n"
   ]
  },
  {
   "cell_type": "code",
   "execution_count": 33,
   "id": "6fa10eb8a4567285",
   "metadata": {
    "ExecuteTime": {
     "end_time": "2025-02-07T11:30:13.219591Z",
     "start_time": "2025-02-07T11:30:13.172446Z"
    }
   },
   "outputs": [
    {
     "data": {
      "text/plain": [
       "np.int64(9)"
      ]
     },
     "execution_count": 33,
     "metadata": {},
     "output_type": "execute_result"
    }
   ],
   "source": [
    "#negative indexing\n",
    "# x[-1]\n",
    "# Use\n",
    "x.iloc[-1]"
   ]
  },
  {
   "cell_type": "code",
   "execution_count": 34,
   "id": "4fa815a5cdcbdc57",
   "metadata": {
    "ExecuteTime": {
     "end_time": "2025-02-07T11:30:13.645584Z",
     "start_time": "2025-02-07T11:30:13.614335Z"
    }
   },
   "outputs": [
    {
     "data": {
      "text/html": [
       "<div>\n",
       "<style scoped>\n",
       "    .dataframe tbody tr th:only-of-type {\n",
       "        vertical-align: middle;\n",
       "    }\n",
       "\n",
       "    .dataframe tbody tr th {\n",
       "        vertical-align: top;\n",
       "    }\n",
       "\n",
       "    .dataframe thead th {\n",
       "        text-align: right;\n",
       "    }\n",
       "</style>\n",
       "<table border=\"1\" class=\"dataframe\">\n",
       "  <thead>\n",
       "    <tr style=\"text-align: right;\">\n",
       "      <th></th>\n",
       "      <th>match_no</th>\n",
       "      <th>runs</th>\n",
       "    </tr>\n",
       "  </thead>\n",
       "  <tbody>\n",
       "    <tr>\n",
       "      <th>210</th>\n",
       "      <td>211</td>\n",
       "      <td>0</td>\n",
       "    </tr>\n",
       "    <tr>\n",
       "      <th>211</th>\n",
       "      <td>212</td>\n",
       "      <td>20</td>\n",
       "    </tr>\n",
       "    <tr>\n",
       "      <th>212</th>\n",
       "      <td>213</td>\n",
       "      <td>73</td>\n",
       "    </tr>\n",
       "    <tr>\n",
       "      <th>213</th>\n",
       "      <td>214</td>\n",
       "      <td>25</td>\n",
       "    </tr>\n",
       "    <tr>\n",
       "      <th>214</th>\n",
       "      <td>215</td>\n",
       "      <td>7</td>\n",
       "    </tr>\n",
       "  </tbody>\n",
       "</table>\n",
       "</div>"
      ],
      "text/plain": [
       "     match_no  runs\n",
       "210       211     0\n",
       "211       212    20\n",
       "212       213    73\n",
       "213       214    25\n",
       "214       215     7"
      ]
     },
     "execution_count": 34,
     "metadata": {},
     "output_type": "execute_result"
    }
   ],
   "source": [
    "# negative slicing\n",
    "vk[-5:]"
   ]
  },
  {
   "cell_type": "code",
   "execution_count": 35,
   "id": "9fab019556f14b68",
   "metadata": {},
   "outputs": [
    {
     "data": {
      "text/html": [
       "<div>\n",
       "<style scoped>\n",
       "    .dataframe tbody tr th:only-of-type {\n",
       "        vertical-align: middle;\n",
       "    }\n",
       "\n",
       "    .dataframe tbody tr th {\n",
       "        vertical-align: top;\n",
       "    }\n",
       "\n",
       "    .dataframe thead th {\n",
       "        text-align: right;\n",
       "    }\n",
       "</style>\n",
       "<table border=\"1\" class=\"dataframe\">\n",
       "  <thead>\n",
       "    <tr style=\"text-align: right;\">\n",
       "      <th></th>\n",
       "      <th>movie</th>\n",
       "      <th>lead</th>\n",
       "    </tr>\n",
       "  </thead>\n",
       "  <tbody>\n",
       "    <tr>\n",
       "      <th>1499</th>\n",
       "      <td>Awara Paagal Deewana</td>\n",
       "      <td>Akshay Kumar</td>\n",
       "    </tr>\n",
       "    <tr>\n",
       "      <th>1497</th>\n",
       "      <td>Saathiya (film)</td>\n",
       "      <td>Vivek Oberoi</td>\n",
       "    </tr>\n",
       "    <tr>\n",
       "      <th>1495</th>\n",
       "      <td>Hum Tumhare Hain Sanam</td>\n",
       "      <td>Shah Rukh Khan</td>\n",
       "    </tr>\n",
       "    <tr>\n",
       "      <th>1493</th>\n",
       "      <td>Devdas (2002 Hindi film)</td>\n",
       "      <td>Shah Rukh Khan</td>\n",
       "    </tr>\n",
       "    <tr>\n",
       "      <th>1491</th>\n",
       "      <td>Zameen (2003 film)</td>\n",
       "      <td>Ajay Devgn</td>\n",
       "    </tr>\n",
       "    <tr>\n",
       "      <th>...</th>\n",
       "      <td>...</td>\n",
       "      <td>...</td>\n",
       "    </tr>\n",
       "    <tr>\n",
       "      <th>9</th>\n",
       "      <td>Thackeray (film)</td>\n",
       "      <td>Nawazuddin Siddiqui</td>\n",
       "    </tr>\n",
       "    <tr>\n",
       "      <th>7</th>\n",
       "      <td>Bombairiya</td>\n",
       "      <td>Radhika Apte</td>\n",
       "    </tr>\n",
       "    <tr>\n",
       "      <th>5</th>\n",
       "      <td>Soni (film)</td>\n",
       "      <td>Geetika Vidya Ohlyan</td>\n",
       "    </tr>\n",
       "    <tr>\n",
       "      <th>3</th>\n",
       "      <td>Why Cheat India</td>\n",
       "      <td>Emraan Hashmi</td>\n",
       "    </tr>\n",
       "    <tr>\n",
       "      <th>1</th>\n",
       "      <td>Battalion 609</td>\n",
       "      <td>Vicky Ahuja</td>\n",
       "    </tr>\n",
       "  </tbody>\n",
       "</table>\n",
       "<p>750 rows × 2 columns</p>\n",
       "</div>"
      ],
      "text/plain": [
       "                         movie                  lead\n",
       "1499      Awara Paagal Deewana          Akshay Kumar\n",
       "1497           Saathiya (film)          Vivek Oberoi\n",
       "1495    Hum Tumhare Hain Sanam        Shah Rukh Khan\n",
       "1493  Devdas (2002 Hindi film)        Shah Rukh Khan\n",
       "1491        Zameen (2003 film)            Ajay Devgn\n",
       "...                        ...                   ...\n",
       "9             Thackeray (film)   Nawazuddin Siddiqui\n",
       "7                   Bombairiya          Radhika Apte\n",
       "5                  Soni (film)  Geetika Vidya Ohlyan\n",
       "3              Why Cheat India         Emraan Hashmi\n",
       "1                Battalion 609           Vicky Ahuja\n",
       "\n",
       "[750 rows x 2 columns]"
      ]
     },
     "execution_count": 35,
     "metadata": {},
     "output_type": "execute_result"
    }
   ],
   "source": [
    "movies[::2]"
   ]
  },
  {
   "cell_type": "code",
   "execution_count": 36,
   "id": "37f459f939811e22",
   "metadata": {},
   "outputs": [
    {
     "data": {
      "text/html": [
       "<div>\n",
       "<style scoped>\n",
       "    .dataframe tbody tr th:only-of-type {\n",
       "        vertical-align: middle;\n",
       "    }\n",
       "\n",
       "    .dataframe tbody tr th {\n",
       "        vertical-align: top;\n",
       "    }\n",
       "\n",
       "    .dataframe thead th {\n",
       "        text-align: right;\n",
       "    }\n",
       "</style>\n",
       "<table border=\"1\" class=\"dataframe\">\n",
       "  <thead>\n",
       "    <tr style=\"text-align: right;\">\n",
       "      <th></th>\n",
       "      <th>match_no</th>\n",
       "      <th>runs</th>\n",
       "    </tr>\n",
       "  </thead>\n",
       "  <tbody>\n",
       "    <tr>\n",
       "      <th>0</th>\n",
       "      <td>1</td>\n",
       "      <td>1</td>\n",
       "    </tr>\n",
       "    <tr>\n",
       "      <th>2</th>\n",
       "      <td>3</td>\n",
       "      <td>13</td>\n",
       "    </tr>\n",
       "    <tr>\n",
       "      <th>1</th>\n",
       "      <td>2</td>\n",
       "      <td>23</td>\n",
       "    </tr>\n",
       "  </tbody>\n",
       "</table>\n",
       "</div>"
      ],
      "text/plain": [
       "   match_no  runs\n",
       "0         1     1\n",
       "2         3    13\n",
       "1         2    23"
      ]
     },
     "execution_count": 36,
     "metadata": {},
     "output_type": "execute_result"
    }
   ],
   "source": [
    "# fancy indexing\n",
    "vk.iloc[[0,2,1]]"
   ]
  },
  {
   "cell_type": "code",
   "execution_count": 37,
   "id": "392f676a728c63de",
   "metadata": {
    "ExecuteTime": {
     "end_time": "2025-02-07T11:30:18.864772Z",
     "start_time": "2025-02-07T11:30:18.833549Z"
    }
   },
   "outputs": [
    {
     "data": {
      "text/plain": [
       "1499                    Awara Paagal Deewana\n",
       "1498                          Company (film)\n",
       "1497                         Saathiya (film)\n",
       "1496                     Aankhen (2002 film)\n",
       "1495                  Hum Tumhare Hain Sanam\n",
       "                        ...                 \n",
       "4                            Evening Shadows\n",
       "3                            Why Cheat India\n",
       "2       The Accidental Prime Minister (film)\n",
       "1                              Battalion 609\n",
       "0                   Uri: The Surgical Strike\n",
       "Name: movie, Length: 1500, dtype: object"
      ]
     },
     "execution_count": 37,
     "metadata": {},
     "output_type": "execute_result"
    }
   ],
   "source": [
    "# indexing with labels -> fancy indexing\n",
    "movies['movie']"
   ]
  },
  {
   "cell_type": "markdown",
   "id": "123c4b0bd7756a28",
   "metadata": {},
   "source": [
    "### Editing Series"
   ]
  },
  {
   "cell_type": "code",
   "execution_count": 38,
   "id": "edfbec5a890c06b3",
   "metadata": {
    "ExecuteTime": {
     "end_time": "2025-02-07T11:30:19.642045Z",
     "start_time": "2025-02-07T11:30:19.614841Z"
    }
   },
   "outputs": [
    {
     "name": "stderr",
     "output_type": "stream",
     "text": [
      "C:\\Users\\kmoha\\AppData\\Local\\Temp\\ipykernel_14008\\676866948.py:1: FutureWarning: Series.__setitem__ treating keys as positions is deprecated. In a future version, integer keys will always be treated as labels (consistent with DataFrame behavior). To set a value by position, use `ser.iloc[pos] = value`\n",
      "  marks_series[1]=100\n"
     ]
    }
   ],
   "source": [
    "marks_series[1]=100"
   ]
  },
  {
   "cell_type": "code",
   "execution_count": 39,
   "id": "29143b5f32ee3491",
   "metadata": {
    "ExecuteTime": {
     "end_time": "2025-02-07T11:30:20.467607Z",
     "start_time": "2025-02-07T11:30:20.442917Z"
    }
   },
   "outputs": [],
   "source": [
    "marks_series.iloc[1]=100"
   ]
  },
  {
   "cell_type": "code",
   "execution_count": 40,
   "id": "374fd17c3f178cf",
   "metadata": {
    "ExecuteTime": {
     "end_time": "2025-02-07T11:30:21.207098Z",
     "start_time": "2025-02-07T11:30:21.187088Z"
    }
   },
   "outputs": [
    {
     "data": {
      "text/plain": [
       "Math        90\n",
       "English    100\n",
       "Science     70\n",
       "Hindi       60\n",
       "Marathi     50\n",
       "evs        100\n",
       "Name: Marks of student, dtype: int64"
      ]
     },
     "execution_count": 40,
     "metadata": {},
     "output_type": "execute_result"
    }
   ],
   "source": [
    "# what if an index does not exist\n",
    "marks_series['evs'] = 100\n",
    "marks_series"
   ]
  },
  {
   "cell_type": "code",
   "execution_count": 41,
   "id": "d842754f0aad8f54",
   "metadata": {
    "ExecuteTime": {
     "end_time": "2025-02-07T11:30:21.546542Z",
     "start_time": "2025-02-07T11:30:21.523538Z"
    }
   },
   "outputs": [
    {
     "data": {
      "text/plain": [
       "0     67\n",
       "1     56\n",
       "2    100\n",
       "3    100\n",
       "4     10\n",
       "dtype: int64"
      ]
     },
     "execution_count": 41,
     "metadata": {},
     "output_type": "execute_result"
    }
   ],
   "source": [
    "#slicing\n",
    "run_series = pd.Series([67,56,89,100,10])\n",
    "run_series[2:4]=[100,100]\n",
    "run_series"
   ]
  },
  {
   "cell_type": "code",
   "execution_count": 42,
   "id": "2c02dc29c0daf02e",
   "metadata": {
    "ExecuteTime": {
     "end_time": "2025-02-07T11:30:21.825105Z",
     "start_time": "2025-02-07T11:30:21.807968Z"
    }
   },
   "outputs": [
    {
     "data": {
      "text/plain": [
       "0     67\n",
       "3    100\n",
       "4     10\n",
       "dtype: int64"
      ]
     },
     "execution_count": 42,
     "metadata": {},
     "output_type": "execute_result"
    }
   ],
   "source": [
    "#fancy indexing\n",
    "run_series[[0,3,4]]"
   ]
  },
  {
   "cell_type": "code",
   "execution_count": null,
   "id": "fb9bcada4376deaf",
   "metadata": {
    "ExecuteTime": {
     "end_time": "2025-02-07T11:30:22.231079Z",
     "start_time": "2025-02-07T11:30:22.219087Z"
    }
   },
   "outputs": [],
   "source": []
  },
  {
   "cell_type": "markdown",
   "id": "3c2eef9547cd8e94",
   "metadata": {},
   "source": [
    "### Series with python functionalities"
   ]
  },
  {
   "cell_type": "code",
   "execution_count": 43,
   "id": "12eb3d06a7ce8433",
   "metadata": {
    "ExecuteTime": {
     "end_time": "2025-02-07T11:30:22.617763Z",
     "start_time": "2025-02-07T11:30:22.600056Z"
    }
   },
   "outputs": [
    {
     "name": "stdout",
     "output_type": "stream",
     "text": [
      "365\n",
      "<class 'pandas.core.series.Series'>\n",
      "33\n",
      "396\n"
     ]
    }
   ],
   "source": [
    "print(len(subs))\n",
    "print(type(subs))\n",
    "print(min(subs))\n",
    "print(max(subs))"
   ]
  },
  {
   "cell_type": "code",
   "execution_count": 44,
   "id": "ff9d5c1330a907cb",
   "metadata": {
    "ExecuteTime": {
     "end_time": "2025-02-07T11:30:22.842531Z",
     "start_time": "2025-02-07T11:30:22.827002Z"
    }
   },
   "outputs": [
    {
     "name": "stdout",
     "output_type": "stream",
     "text": [
      "[90, 100, 70, 60, 50, 100]\n",
      "{'Math': np.int64(90), 'English': np.int64(100), 'Science': np.int64(70), 'Hindi': np.int64(60), 'Marathi': np.int64(50), 'evs': np.int64(100)}\n"
     ]
    }
   ],
   "source": [
    "#type conversion\n",
    "print(list(marks_series))\n",
    "print(dict(marks_series))"
   ]
  },
  {
   "cell_type": "code",
   "execution_count": 45,
   "id": "606c07bf92d13eb5",
   "metadata": {
    "ExecuteTime": {
     "end_time": "2025-02-07T11:30:22.991792Z",
     "start_time": "2025-02-07T11:30:22.970836Z"
    }
   },
   "outputs": [
    {
     "data": {
      "text/plain": [
       "True"
      ]
     },
     "execution_count": 45,
     "metadata": {},
     "output_type": "execute_result"
    }
   ],
   "source": [
    "# membership operator\n",
    "5 in x"
   ]
  },
  {
   "cell_type": "code",
   "execution_count": 46,
   "id": "aa2b0ad617dcdf3",
   "metadata": {
    "ExecuteTime": {
     "end_time": "2025-02-07T11:30:23.282029Z",
     "start_time": "2025-02-07T11:30:23.040350Z"
    }
   },
   "outputs": [
    {
     "name": "stdout",
     "output_type": "stream",
     "text": [
      "['Awara Paagal Deewana' 'Akshay Kumar']\n",
      "['Company (film)' 'Ajay Devgn']\n",
      "['Saathiya (film)' 'Vivek Oberoi']\n",
      "['Aankhen (2002 film)' 'Amitabh Bachchan']\n",
      "['Hum Tumhare Hain Sanam' 'Shah Rukh Khan']\n",
      "['Kaante' 'Amitabh Bachchan']\n",
      "['Devdas (2002 Hindi film)' 'Shah Rukh Khan']\n",
      "['Waisa Bhi Hota Hai Part II' 'Arshad Warsi']\n",
      "['Zameen (2003 film)' 'Ajay Devgn']\n",
      "['Raaz (2002 film)' 'Dino Morea']\n",
      "['Xcuse Me' 'Sharman Joshi']\n",
      "['Yeh Dil' 'Tusshar Kapoor']\n",
      "['The Pink Mirror' 'Edwin Fernandes']\n",
      "['Tehzeeb (2003 film)' 'Shabana Azmi']\n",
      "['Talaash: The Hunt Begins...' 'Rakhee Gulzar']\n",
      "['Tujhe Meri Kasam' 'Riteish Deshmukh']\n",
      "['Tere Naam' 'Salman Khan']\n",
      "['Raja Bhaiya (film)' 'Sadashiv Amrapurkar']\n",
      "['Right Here Right Now (film)' 'Ankit']\n",
      "['Rules: Pyaar Ka Superhit Formula' 'Tanuja']\n",
      "['Stumped (film)' 'Raveena Tandon']\n",
      "['Raghu Romeo' 'Vijay Raaz']\n",
      "['Praan Jaye Par Shaan Na Jaye' 'Raveena Tandon']\n",
      "['Sssshhh...' 'Tanishaa Mukerji']\n",
      "['Satta (film)' 'Raveena Tandon']\n",
      "['Nayee Padosan' 'Vikas Kalantri']\n",
      "['Samay: When Time Strikes' 'Sushmita Sen']\n",
      "['Saaya (2003 film)' 'John Abraham']\n",
      "['Mumbai Se Aaya Mera Dost' 'Abhishek Bachchan']\n",
      "['Pinjar (film)' 'Urmila Matondkar']\n",
      "['Parwana (2003 film)' 'Ajay Devgn']\n",
      "['Matrubhoomi' 'Tulip Joshi']\n",
      "['Mumbai Matinee' 'Rahul Bose']\n",
      "['Out of Control (2003 film)' 'Riteish Deshmukh']\n",
      "['Om (2003 film)' 'Attin Bhalla']\n",
      "['Market (2003 film)' 'Manisha Koirala']\n",
      "[\"Joggers' Park (film)\" 'Victor Banerjee']\n",
      "['Main Madhuri Dixit Banna Chahti Hoon' 'Antara Mali']\n",
      "['Kuch Naa Kaho' 'Aishwarya Rai Bachchan']\n",
      "['Kucch To Hai' 'Tusshar Kapoor']\n",
      "['Khwahish' 'Himanshu Malik']\n",
      "['Khushi (2003 Hindi film)' 'Fardeen Khan']\n",
      "['Kaise Kahoon Ke... Pyaar Hai' 'Amit Hingorani']\n",
      "['Janasheen' 'Feroz Khan']\n",
      "['Khel – No Ordinary Game' 'Sunny Deol']\n",
      "['Kash Aap Hamare Hote' 'Juhi Babbar']\n",
      "['Kagaar: Life on the Edge' 'Om Puri']\n",
      "['Jhankaar Beats' 'Sanjay Suri']\n",
      "['Jism (2003 film)' 'Bipasha Basu']\n",
      "['Jajantaram Mamantaram' 'Javed Jaffrey']\n",
      "['Hawayein' 'Babbu Mann']\n",
      "['Ishq Vishk' 'Shahid Kapoor']\n",
      "['Jaal: The Trap' 'Sunny Deol']\n",
      "['Inteha (2003 film)' 'Ashmit Patel']\n",
      "['Fun2shh... Dudes in the 10th Century' 'Rushali Arora']\n",
      "['Indian Babu' 'Jaz Pandher']\n",
      "['Flavors (film)' 'Reef Karim']\n",
      "['Green Card Fever' 'Vikram Dasu']\n",
      "['Hungama (2003 film)' 'Akshaye Khanna']\n",
      "['Ek Aur Ek Gyarah' 'Sanjay Dutt']\n",
      "['Haasil' 'Jimmy Sheirgill']\n",
      "['Hawa (film)' 'Tabu']\n",
      "['Gangaajal' 'Ajay Devgn']\n",
      "['Ek Din 24 Ghante' 'Rahul Bose']\n",
      "['Escape from Taliban' 'Manisha Koirala']\n",
      "['Footpath (2003 film)' 'Aftab Shivdasani']\n",
      "['Ek Alag Mausam' 'Nandita Das']\n",
      "['Dil Pardesi Ho Gayaa' 'Kapil Jhaveri']\n",
      "['Dum (2003 Hindi film)' 'Vivek Oberoi']\n",
      "['The Bypass' 'Nawazuddin Siddiqui']\n",
      "['Chura Liyaa Hai Tumne' 'Zayed Khan']\n",
      "['Dhund (2003 film)' 'Amar Upadhyaya']\n",
      "['Dhoop' 'Om Puri']\n",
      "['Darna Mana Hai' 'Sameera Reddy']\n",
      "['Dil Ka Rishta' 'Arjun Rampal']\n",
      "['Magic Magic 3D' 'Sooraj Balaji']\n",
      "['Basti (film)' 'Sadashiv Amrapurkar']\n",
      "['Baaz: A Bird in Danger' 'Jackie Shroff']\n",
      "['Calcutta Mail' 'Anil Kapoor']\n",
      "['Chori Chori (2003 film)' 'Ajay Devgn']\n",
      "['Armaan (2003 film)' 'Amitabh Bachchan']\n",
      "['Andaaz' 'Akshay Kumar']\n",
      "['Andaaz' 'Akshay Kumar']\n",
      "['Aaj Ka Andha Kanoon' 'Sudesh Berry']\n",
      "['Boom (film)' 'Amitabh Bachchan']\n",
      "['Bhoot (film)' 'Ajay Devgn']\n",
      "['Aapko Pehle Bhi Kahin Dekha Hai' 'Priyanshu Chatterjee']\n",
      "['Aanch' 'Arun Bakshi']\n",
      "['3 Deewarein' 'Naseeruddin Shah']\n",
      "['88 Antop Hill' 'Atul Kulkarni']\n",
      "['Qayamat: City Under Threat' 'Ajay Devgn']\n",
      "['Munna Bhai M.B.B.S.' 'Sanjay Dutt']\n",
      "['Border (1997 film)' 'Sanjay Dutt']\n",
      "['LOC Kargil' 'Sanjay Dutt']\n",
      "['Main Prem Ki Diwani Hoon' 'Hrithik Roshan']\n",
      "['Baghban (2003 film)' 'Amitabh Bachchan']\n",
      "['The Hero: Love Story of a Spy' 'Sunny Deol']\n",
      "['Chalte Chalte (2003 film)' 'Shah Rukh Khan']\n",
      "['Shukriya: Till Death Do Us Apart' 'Anupam Kher']\n",
      "['Kal Ho Naa Ho' 'Shah Rukh Khan']\n",
      "['Koi... Mil Gaya' 'Rekha']\n",
      "['Thoda Tum Badlo Thoda Hum' 'Arya Babbar']\n",
      "[\"Dude Where's the Party?\" 'Diwakar Pathak']\n",
      "['Sheen (film)' 'Tarun Arora']\n",
      "['Yeh Lamhe Judaai Ke' 'Shah Rukh Khan']\n",
      "['Vaastu Shastra (film)' 'Vicky Ahuja']\n",
      "['Tumsa Nahin Dekha: A Love Story' 'Emraan Hashmi']\n",
      "['Shart: The Challenge' 'Tusshar Kapoor']\n",
      "['Nothing but Life' 'Madhavan']\n",
      "['Taarzan: The Wonder Car' 'Vatsal Sheth']\n",
      "['Swades' 'Shah Rukh Khan']\n",
      "['Suno Sasurjee' 'Aftab Shivdasani']\n",
      "['Rok Sako To Rok Lo' 'Sunny Deol']\n",
      "['Run (2004 film)' 'Abhishek Bachchan']\n",
      "['Shaadi Ka Laddoo' 'Sanjay Suri']\n",
      "['Rudraksh (film)' 'Sanjay Dutt']\n",
      "['Raincoat (film)' 'Ajay Devgn']\n",
      "['Rakht' 'Sanjay Dutt']\n",
      "['Popcorn Khao! Mast Ho Jao' 'Akshay Kapoor']\n",
      "['Paisa Vasool' 'Manisha Koirala']\n",
      "['Police Force: An Inside Story' 'Akshay Kumar']\n",
      "['Plan (film)' 'Sanjay Dutt']\n",
      "['Phir Milenge' 'Salman Khan']\n",
      "['Paap' 'John Abraham']\n",
      "['Netaji Subhas Chandra Bose: The Forgotten Hero' 'Vinay Anand']\n",
      "['Naach (2004 film)' 'Antara Mali']\n",
      "['Meri Biwi Ka Jawaab Nahin' 'Akshay Kumar']\n",
      "['Muskaan' 'Aftab Shivdasani']\n",
      "['Mughal-e-Azam' 'Prithviraj Kapoor']\n",
      "['Musafir (2004 film)' 'Anil Kapoor']\n",
      "['Meenaxi: A Tale of Three Cities' 'Tabu']\n",
      "['Masti (2004 film)' 'Aftab Shivdasani']\n",
      "['Maqbool' 'Irrfan Khan']\n",
      "['Ishq Hai Tumse' 'Dino Morea']\n",
      "['Lakshya (film)' 'Hrithik Roshan']\n",
      "['Madhoshi' 'Bipasha Basu']\n",
      "['Kyun! Ho Gaya Na...' 'Amitabh Bachchan']\n",
      "['Krishna Cottage' 'Sohail Khan']\n",
      "['Lakeer – Forbidden Lines' 'Sunny Deol']\n",
      "['Kismat (2004 film)' 'Bobby Deol']\n",
      "['Khamosh Pani' 'Kiron Kher']\n",
      "['I Proud to Be an Indian' 'Sohail Khan']\n",
      "['Insaaf: The Justice' 'Dino Morea']\n",
      "['Kis Kis Ki Kismat' 'Mallika Sherawat']\n",
      "['Inteqam: The Perfect Game' 'Manoj Bajpayee']\n",
      "['Kaun Hai Jo Sapno Mein Aaya' 'Raqesh Bapat']\n",
      "['Julie (2004 film)' 'Neha Dhupia']\n",
      "['Hyderabad Blues 2' 'Tisca Chopra']\n",
      "['Hawas (2004 film)' 'Shawar Ali']\n",
      "['Hava Aney Dey' 'Aniket Vishwasrao']\n",
      "['Hatya (2004 film)' 'Akshay Kumar']\n",
      "['Girlfriend (2004 film)' 'Isha Koppikar']\n",
      "['Ek Hasina Thi (film)' 'Saif Ali Khan']\n",
      "['Ek Se Badhkar Ek (2004 film)' 'Sunil Shetty']\n",
      "['Garv: Pride & Honour' 'Salman Khan']\n",
      "['Fida' 'Kareena Kapoor']\n",
      "['Gayab' 'Tusshar Kapoor']\n",
      "['Dil Bechara Pyaar Ka Maara' 'Vikaas Kalantari']\n",
      "['Aabra Ka Daabra' 'Naveen Bawa']\n",
      "['Dobara' 'Jackie Shroff']\n",
      "['Dil Ne Jise Apna Kahaa' 'Salman Khan']\n",
      "['Dil Maange More' 'Shahid Kapoor']\n",
      "['Dev (2004 film)' 'Amitabh Bachchan']\n",
      "['Deewaar (2004 film)' 'Amitabh Bachchan']\n",
      "['Charas (2004 film)' 'Jimmy Sheirgill']\n",
      "['Asambhav' 'Arjun Rampal']\n",
      "['Agnipankh' 'Jimmy Sheirgill']\n",
      "['Chameli (film)' 'Kareena Kapoor']\n",
      "['Bardaasht' 'Bobby Deol']\n",
      "['Aan: Men at Work' 'Shatrughan Sinha']\n",
      "['Ab Tumhare Hawale Watan Saathiyo' 'Amitabh Bachchan']\n",
      "['Aetbaar' 'Amitabh Bachchan']\n",
      "['Aitraaz' 'Akshay Kumar']\n",
      "['Yuva' 'Ajay Devgn']\n",
      "['Murder (2004 film)' 'Mallika Sherawat']\n",
      "['Hulchul (2004 film)' 'Akshaye Khanna']\n",
      "['Hum Tum' 'Saif Ali Khan']\n",
      "['Khakee' 'Amitabh Bachchan']\n",
      "['Dhoom' 'Abhishek Bachchan']\n",
      "['Mujhse Shaadi Karogi' 'Salman Khan']\n",
      "['Zameer: The Fire Within' 'Ajay Devgn']\n",
      "['Main Hoon Na' 'Shah Rukh Khan']\n",
      "['Veer-Zaara' 'Shah Rukh Khan']\n",
      "['Zeher' 'Emraan Hashmi']\n",
      "['Yakeen (2005 film)' 'Arjun Rampal']\n",
      "['Vidyaarthi' 'Vikram Aditya']\n",
      "['Waqt: The Race Against Time' 'Amitabh Bachchan']\n",
      "['Viruddh... Family Comes First' 'Amitabh Bachchan']\n",
      "['Shaadi No. 1' 'Fardeen Khan']\n",
      "['Ssukh' 'Aarti Chhabria']\n",
      "['Vaah! Life Ho Toh Aisi!' 'Shahid Kapoor']\n",
      "['Vaada (film)' 'Arjun Rampal']\n",
      "['The Film' 'Nassar Abdulla']\n",
      "['Tango Charlie' 'Ajay Devgn']\n",
      "['Taj Mahal: An Eternal Love Story' 'Zulfi Sayed']\n",
      "['Socha Na Tha' 'Abhay Deol']\n",
      "['Silsiilay' 'Tabu']\n",
      "['Ramji Londonwaley' 'Madhavan']\n",
      "['Sheesha (2005 film)' 'Neha Dhupia']\n",
      "['Shabnam Mausi' 'Ashutosh Rana']\n",
      "['Shabd (film)' 'Sanjay Dutt']\n",
      "['Sehar' 'Arshad Warsi']\n",
      "['Sarkar (2005 film)' 'Amitabh Bachchan']\n",
      "['Revati (film)' 'Kashmira Shah']\n",
      "['Salaam Namaste' 'Saif Ali Khan']\n",
      "['Pyaar Mein Twist' 'Rishi Kapoor']\n",
      "['Rog' 'Irrfan Khan']\n",
      "['Paheli' 'Shah Rukh Khan']\n",
      "['Pehchaan: The Face of Truth' 'Vinod Khanna']\n",
      "['Parineeta (2005 film)' 'Saif Ali Khan']\n",
      "['Morning Raga' 'Shabana Azmi']\n",
      "['Page 3 (film)' 'Konkona Sen Sharma']\n",
      "['Padmashree Laloo Prasad Yadav' 'Sunil Shetty']\n",
      "['No Entry' 'Anil Kapoor']\n",
      "[\"Neal 'n' Nikki\" 'Uday Chopra']\n",
      "['Naina (2005 film)' 'Urmila Matondkar']\n",
      "[\"My Wife's Murder\" 'Anil Kapoor']\n",
      "['My Brother…Nikhil' 'Sanjay Suri']\n",
      "['Mr Prime Minister' 'Dev Anand']\n",
      "['Koi Mere Dil Mein Hai' 'Dia Mirza']\n",
      "['Mangal Pandey: The Rising' 'Aamir Khan']\n",
      "['Maine Pyaar Kyun Kiya?' 'Salman Khan']\n",
      "['Maine Gandhi Ko Nahin Mara' 'Anupam Kher']\n",
      "['Main Meri Patni Aur Woh' 'Rajpal Yadav']\n",
      "['Kyon Ki' 'Salman Khan']\n",
      "['Main Aisa Hi Hoon' 'Ajay Devgn']\n",
      "['Lucky: No Time for Love' 'Salman Khan']\n",
      "['Kyaa Kool Hai Hum' 'Tusshar Kapoor']\n",
      "['Kuchh Meetha Ho Jaye' 'Arshad Warsi']\n",
      "['Jurm (2005 film)' 'Kamal Adib']\n",
      "['Khamoshh... Khauff Ki Raat' 'Shilpa Shetty Kundra']\n",
      "['Koi Aap Sa' 'Aftab Shivdasani']\n",
      "['Kisna: The Warrior Poet' 'Vivek Oberoi']\n",
      "['James (2005 film)' 'Mohit Ahlawat']\n",
      "['Hanuman (2005 film)' 'Mukesh Khanna']\n",
      "['Kasak (2005 film)' 'Lucky Ali']\n",
      "['Kalyug (2005 film)' 'Kunal Khemu']\n",
      "['Kaal (2005 film)' 'Ajay Devgn']\n",
      "['Karam (film)' 'John Abraham']\n",
      "['Jo Bole So Nihaal (film)' 'Sunny Deol']\n",
      "['Insan' 'Akshay Kumar']\n",
      "['Hazaaron Khwaishein Aisi' 'Kay Kay Menon']\n",
      "['Jai Chiranjeeva' 'Chiranjeevi']\n",
      "['Iqbal (film)' 'Shreyas Talpade']\n",
      "['Garam Masala (2005 film)' 'Akshay Kumar']\n",
      "['Home Delivery' 'Vivek Oberoi']\n",
      "['Dreams (2006 film)' 'Aseel Adel']\n",
      "['Double Cross (2005 film)' 'Ayesha Jhulka']\n",
      "['Ek Khiladi Ek Haseena (film)' 'Fardeen Khan']\n",
      "['Fun – Can Be Dangerous Sometimes' 'Siddharth Koirala']\n",
      "['Ek Ajnabee' 'Amitabh Bachchan']\n",
      "['Fareb (2005 film)' 'Shilpa Shetty Kundra']\n",
      "['Elaan (2005 film)' 'Arjun Rampal']\n",
      "['Dus' 'Sanjay Dutt']\n",
      "['Classic – Dance of Love' 'Mithun Chakraborty']\n",
      "['Dosti: Friends Forever' 'Akshay Kumar']\n",
      "['Dil Jo Bhi Kahey...' 'Amitabh Bachchan']\n",
      "['Chehraa' 'Bipasha Basu']\n",
      "['Bullet: Ek Dhamaka' 'Saayli Buva']\n",
      "['Deewane Huye Paagal' 'Akshay Kumar']\n",
      "['D (film)' 'Randeep Hooda']\n",
      "['Chocolate (2005 film)' 'Anil Kapoor']\n",
      "['Chand Sa Roshan Chehra' 'Samir Aftab']\n",
      "['Chetna: The Excitement' 'Jatin Grewal']\n",
      "['Chaahat – Ek Nasha' 'Aryan Vaid']\n",
      "['Bunty Aur Babli' 'Abhishek Bachchan']\n",
      "['Blackmail (2005 film)' 'Ajay Devgn']\n",
      "['Bhagmati (2005 film)' 'Tabu']\n",
      "['Bhola in Bollywood' 'Ali Asgar']\n",
      "['99.9 FM (film)' 'Shawar Ali']\n",
      "['Bluffmaster!' 'Abhishek Bachchan']\n",
      "['Zinda (film)' 'Sanjay Dutt']\n",
      "['Black (2005 film)' 'Amitabh Bachchan']\n",
      "['Bewafaa (2005 film)' 'Anil Kapoor']\n",
      "['Barsaat (2005 film)' 'Bobby Deol']\n",
      "['7½ Phere' 'Juhi Chawla']\n",
      "['Bachke Rehna Re Baba' 'Rekha']\n",
      "['Apaharan' 'Ajay Devgn']\n",
      "['Anjaane (2005 film)' 'Manisha Koirala']\n",
      "['Aashiq Banaya Aapne' 'Emraan Hashmi']\n",
      "['Tom Dick and Harry (2006 film)' 'Rakesh Bedi']\n",
      "['Zindaggi Rocks' 'Sushmita Sen']\n",
      "['Umar (film)' 'Jimmy Sheirgill']\n",
      "['Yun Hota Toh Kya Hota' 'Paresh Rawal']\n",
      "['Woh Lamhe...' 'Kangana Ranaut']\n",
      "['Waris Shah: Ishq Daa Waaris' 'Gurdas Maan']\n",
      "['Utthaan' 'Priyanshu Chatterjee']\n",
      "['Vivah' 'Shahid Kapoor']\n",
      "['Teesri Aankh: The Hidden Camera' 'Sunny Deol']\n",
      "['Taxi No. 9211' 'Nana Patekar']\n",
      "['Umrao Jaan (2006 film)' 'Aishwarya Rai Bachchan']\n",
      "['The Killer (2006 film)' 'Irrfan Khan']\n",
      "['Tathastu' 'Sanjay Dutt']\n",
      "['Children of Heaven' 'Mohammad Amir Naji']\n",
      "['Shikhar (film)' 'Ajay Devgn']\n",
      "['Souten: The Other Woman' 'Mahima Chaudhry']\n",
      "['Shiva (2006 film)' 'Mohit Ahlawat']\n",
      "['Saawan... The Love Season' 'Salman Khan']\n",
      "['Shaadi Se Pehle' 'Akshaye Khanna']\n",
      "['Sandwich (2006 film)' 'Govinda']\n",
      "['Shaadi Karke Phas Gaya Yaar' 'Salman Khan']\n",
      "['Rang De Basanti' 'Aamir Khan']\n",
      "['Sacred Evil – A True Story' 'Sarika']\n",
      "['Prateeksha' 'Jeetendra']\n",
      "['Mere Jeevan Saathi (2006 film)' 'Akshay Kumar']\n",
      "['Pyare Mohan' 'Fardeen Khan']\n",
      "['Phir Hera Pheri' 'Akshay Kumar']\n",
      "['Naksha' 'Sunny Deol']\n",
      "['Pyaar Ke Side Effects' 'Rahul Bose']\n",
      "['Omkara (2006 film)' 'Ajay Devgn']\n",
      "['Malamaal Weekly' 'Paresh Rawal']\n",
      "['Krrish' 'Rekha']\n",
      "['Jigyaasa' 'Nassar Abdulla']\n",
      "['Kabul Express' 'John Abraham']\n",
      "['Lage Raho Munna Bhai' 'Sanjay Dutt']\n",
      "['Love Ke Chakkar Mein' 'Rishi Kapoor']\n",
      "['Kabhi Alvida Naa Kehna' 'Amitabh Bachchan']\n",
      "['Khosla Ka Ghosla' 'Anupam Kher']\n",
      "['Iqraar by Chance' 'Amarjeet']\n",
      "['Holiday (2006 film)' 'Onjolee Nair']\n",
      "['Jawani Diwani: A Youthful Joyride' 'Emraan Hashmi']\n",
      "['Jaan-E-Mann' 'Salman Khan']\n",
      "['Jaane Hoga Kya' 'Aftab Shivdasani']\n",
      "['I See You (2006 film)' 'Arjun Rampal']\n",
      "['Humko Tumse Pyaar Hai' 'Arjun Rampal']\n",
      "['Humko Deewana Kar Gaye' 'Akshay Kumar']\n",
      "['Dharti Kahe Pukar Ke (2006 film)' 'Ajay Devgn']\n",
      "['Fight Club – Members Only' 'Sunil Shetty']\n",
      "['Devaki (2005 film)' 'Ram Kapoor']\n",
      "['Golmaal: Fun Unlimited' 'Ajay Devgn']\n",
      "['Gangster (2006 film)' 'Kangana Ranaut']\n",
      "['Fanaa (2006 film)' 'Aamir Khan']\n",
      "['Family (2006 film)' 'Amitabh Bachchan']\n",
      "['Don (2006 Hindi film)' 'Shah Rukh Khan']\n",
      "['Dor (film)' 'Ayesha Takia']\n",
      "['Dhoom 2' 'Hrithik Roshan']\n",
      "['Eight: The Power of Shani' 'Raj Tara']\n",
      "['Darwaaza Bandh Rakho' 'Ishrat Ali']\n",
      "['Dil Diya Hai' 'Emraan Hashmi']\n",
      "['Deadline: Sirf 24 Ghante' 'Rajit Kapoor']\n",
      "['Darna Zaroori Hai' 'Amitabh Bachchan']\n",
      "['Corporate (2006 film)' 'Bipasha Basu']\n",
      "['Chup Chup Ke' 'Kareena Kapoor']\n",
      "['Aryan: Unbreakable' 'Sohail Khan']\n",
      "['Chand Ke Paar Chalo (film)' 'Somesh Agarwal']\n",
      "['Bhoot Unkle' 'Jackie Shroff']\n",
      "['Chingaari' 'Sushmita Sen']\n",
      "['Bhagam Bhag' 'Akshay Kumar']\n",
      "['Bas Ek Pal' 'Juhi Chawla']\n",
      "['Banaras (2006 film)' 'Urmila Matondkar']\n",
      "['Being Cyrus' 'Naseeruddin Shah']\n",
      "['Adharm (2006 film)' 'Rahul Dev']\n",
      "['Aisa Kyon Hota Hai?' 'Rati Agnihotri']\n",
      "['Baabul (2006 film)' 'Amitabh Bachchan']\n",
      "['Yatra (2007 film)' 'Rekha']\n",
      "['Ankahee (2006 film)' 'Aftab Shivdasani']\n",
      "['Apna Sapna Money Money' 'Bobby Darling']\n",
      "['Anthony Kaun Hai?' 'Sanjay Dutt']\n",
      "['Alag' 'Akshay Kapoor']\n",
      "['Aksar' 'Emraan Hashmi']\n",
      "['Ahista Ahista (2006 film)' 'Abhay Deol']\n",
      "['Aap Ki Khatir (2006 film)' 'Akshaye Khanna']\n",
      "['Zamaanat' 'Jeetendra']\n",
      "['36 China Town' 'Akshaye Khanna']\n",
      "['Welcome (2007 film)' 'Akshay Kumar']\n",
      "['Sunglass (film)' 'Jaya Bachchan']\n",
      "['Showbiz (film)' 'Tushar Jalota']\n",
      "['The Train (2007 film)' 'Emraan Hashmi']\n",
      "['Traffic Signal (film)' 'Kunal Khemu']\n",
      "['Speed (2007 film)' 'Urmila Matondkar']\n",
      "['Ta Ra Rum Pum' 'Saif Ali Khan']\n",
      "['Taare Zameen Par' 'Darsheel Safary']\n",
      "['Swami (2007 film)' 'Manoj Bajpayee']\n",
      "['Strangers (2007 Hindi film)' 'Jimmy Sheirgill']\n",
      "['Shootout at Lokhandwala' 'Amitabh Bachchan']\n",
      "['Red: The Dark Side' 'Aftab Shivdasani']\n",
      "['Say Salaam India' 'Mandar Jadhav']\n",
      "['Sarhad Paar' 'Mahima Chaudhry']\n",
      "['Saawariya' 'Rani Mukerji']\n",
      "['Salaam-e-Ishq: A Tribute to Love' 'Salman Khan']\n",
      "['Red Swastik' 'Sherlyn Chopra']\n",
      "['Shakalaka Boom Boom' 'Bobby Deol']\n",
      "['Risk (2007 film)' 'Vinod Khanna']\n",
      "['Life Mein Kabhie Kabhiee' 'Aftab Shivdasani']\n",
      "['Nanhe Jaisalmer' 'Dwij Yadav']\n",
      "['Raqeeb' 'Rahul Khanna']\n",
      "['Partner (2007 film)' 'Salman Khan']\n",
      "['Om Shanti Om' 'Shah Rukh Khan']\n",
      "['No Smoking (2007 film)' 'John Abraham']\n",
      "['Nishabd' 'Amitabh Bachchan']\n",
      "['Nehlle Pe Dehlla' 'Sanjay Dutt']\n",
      "['My Bollywood Bride' 'Jason Lewis']\n",
      "['Namastey London' 'Akshay Kumar']\n",
      "['The Namesake (film)' 'Kal Penn']\n",
      "['Mumbai Salsa' 'Linda Arsenio']\n",
      "['Naqaab' 'Bobby Deol']\n",
      "['Hattrick (film)' 'Nana Patekar']\n",
      "['MP3: Mera Pehla Pehla Pyaar' 'Menekka Arora']\n",
      "['Marigold (2007 film)' 'Salman Khan']\n",
      "['Manorama Six Feet Under' 'Abhay Deol']\n",
      "['Loins of Punjab Presents' 'Shabana Azmi']\n",
      "['Life in a... Metro' 'Dharmendra']\n",
      "['Laaga Chunari Mein Daag' 'Rani Mukerji']\n",
      "['Hastey Hastey' 'Jimmy Sheirgill']\n",
      "['Kudiyon Ka Hai Zamana' 'Rekha']\n",
      "['Kya Love Story Hai' 'Tusshar Kapoor']\n",
      "['Just Married (2007 film)' 'Fardeen Khan']\n",
      "['Johnny Gaddaar' 'Dharmendra']\n",
      "['Khoya Khoya Chand' 'Shiney Ahuja']\n",
      "['Fool & Final' 'Shahid Kapoor']\n",
      "['Good Boy Bad Boy' 'Tusshar Kapoor']\n",
      "['Jab We Met' 'Shahid Kapoor']\n",
      "['Jhoom Barabar Jhoom' 'Abhishek Bachchan']\n",
      "['Jahan Jaaeyega Hamen Paaeyega' 'Govinda']\n",
      "['Honeymoon Travels Pvt. Ltd.' 'Ranvir Shorey']\n",
      "['Guru (2007 film)' 'Mithun Chakraborty']\n",
      "['Heyy Babyy' 'Juanna Sanghvi']\n",
      "['Gauri: The Unborn' 'Mohan Azaad']\n",
      "['Go (2007 film)' 'Gautam Gupta']\n",
      "['Eklavya: The Royal Guard' 'Amitabh Bachchan']\n",
      "['Dus Kahaniyaan' 'Arbaaz Khan']\n",
      "[\"Don't Stop Dreaming\" 'Rishi Kapoor']\n",
      "['Gandhi My Father' 'Akshaye Khanna']\n",
      "['Familywala' 'Arjun Rampal']\n",
      "['Ek Chalis Ki Last Local' 'Abhay Deol']\n",
      "['Dhol (film)' 'Sharman Joshi']\n",
      "['Dil Dosti Etc' 'Imaaduddin Shah']\n",
      "['Dhokha' 'Muzamil Ibrahim']\n",
      "['Bombay to Goa (2007 film)' 'Sunil Pal']\n",
      "['Dharm (film)' 'Pankaj Kapur']\n",
      "['Goal (2007 Hindi film)' 'John Abraham']\n",
      "['Dhamaal' 'Sanjay Dutt']\n",
      "['Chak De! India' 'Shah Rukh Khan']\n",
      "['Darling (2007 Indian film)' 'Fardeen Khan']\n",
      "['Chhodon Naa Yaar' 'Jimmy Sheirgill']\n",
      "['Cheeni Kum' 'Amitabh Bachchan']\n",
      "['Cash (2007 film)' 'Ajay Devgn']\n",
      "['Buddha Mar Gaya' 'Mona Ambegaonkar']\n",
      "['Blood Brothers (2007 Indian film)' 'Jazzy Doe']\n",
      "['The Blue Umbrella (2005 film)' 'Pankaj Kapur']\n",
      "['Black Friday (2007 film)' 'Kay Kay Menon']\n",
      "['Apna Asmaan' 'Irrfan Khan']\n",
      "['Aur Pappu Paas Ho Gaya' 'Krishna Abhishek']\n",
      "['68 Pages' 'Mouli Ganguly']\n",
      "['Big Brother (2007 film)' 'Sunny Deol']\n",
      "['Bhram' 'Dino Morea']\n",
      "['Bhool Bhulaiyaa' 'Akshay Kumar']\n",
      "['Bheja Fry (film)' 'Vinay Pathak']\n",
      "['Awarapan' 'Emraan Hashmi']\n",
      "['Apne' 'Dharmendra']\n",
      "['Aaja Nachle' 'Madhuri Dixit']\n",
      "['Anwar (2007 film)' 'Nauheed Cyrusi']\n",
      "['Aggar (film)' 'Tusshar Kapoor']\n",
      "['Aap Kaa Surroor' 'Himesh Reshammiya']\n",
      "['Aag (2007 film)' 'Amitabh Bachchan']\n",
      "['Dil Kabaddi' 'Irrfan Khan']\n",
      "['Gumnaam – The Mystery' 'Dino Morea']\n",
      "['Wafa: A Deadly Love Story' 'Rajesh Khanna']\n",
      "['Meerabai Not Out' 'Anupam Kher']\n",
      "['1971 (2007 film)' 'Manoj Bajpayee']\n",
      "['Sorry Bhai!' 'Shabana Azmi']\n",
      "['Oh My God (2008 film)' 'Vinay Pathak']\n",
      "['Oye Lucky! Lucky Oye!' 'Abhay Deol']\n",
      "['Yuvvraaj' 'Salman Khan']\n",
      "['Dasvidaniya' 'Vinay Pathak']\n",
      "['Fashion (2008 film)' 'Priyanka Chopra']\n",
      "['Deshdrohi' 'Kamal Rashid Khan']\n",
      "['Ek Vivaah... Aisa Bhi' 'Isha Koppikar']\n",
      "['Roadside Romeo' 'Saif Ali Khan']\n",
      "['Heroes (2008 film)' 'Sohail Khan']\n",
      "['Karzzzz' 'Himesh Reshammiya']\n",
      "['Hello (2008 film)' 'Sharman Joshi']\n",
      "['Drona (2008 film)' 'Jayshree Arora']\n",
      "['Hari Puttar: A Comedy of Terrors' 'Jackie Shroff']\n",
      "['Saas Bahu Aur Sensex' 'Kiron Kher']\n",
      "['Welcome to Sajjanpur' 'Shreyas Talpade']\n",
      "['The Last Lear' 'Amitabh Bachchan']\n",
      "['1920 (film)' 'Rajniesh Duggall']\n",
      "['Tahaan' 'Victor Banerjee']\n",
      "['Mukhbiir' 'Sammir Dattani']\n",
      "['Chamku' 'Bobby Deol']\n",
      "['C Kkompany' 'Tusshar Kapoor']\n",
      "['Rock On!!' 'Arjun Rampal']\n",
      "['Maan Gaye Mughal-e-Azam' 'Mallika Sherawat']\n",
      "['Mumbai Meri Jaan' 'Paresh Rawal']\n",
      "['God Tussi Great Ho' 'Amitabh Bachchan']\n",
      "['Money Hai Toh Honey Hai' 'Govinda']\n",
      "['Mission Istaanbul' 'Vivek Oberoi']\n",
      "['Contract (2008 film)' 'Adhvik Mahajan']\n",
      "['Love Story 2050' 'Harman Baweja']\n",
      "['Kismat Konnection' 'Shahid Kapoor']\n",
      "['Via Darjeeling' 'Kay Kay Menon']\n",
      "['Thoda Pyaar Thoda Magic' 'Saif Ali Khan']\n",
      "['Thodi Life Thoda Magic' 'Saahil Chadha']\n",
      "['Haal-e-Dil' 'Amita Pathak']\n",
      "['De Taali' 'Aftab Shivdasani']\n",
      "['Summer 2007' 'Ahraz Ahmed']\n",
      "['Mere Baap Pehle Aap' 'Paresh Rawal']\n",
      "['Woodstock Villa' 'Sikander Kher']\n",
      "['Don Muthu Swami' 'Mithun Chakraborty']\n",
      "['Jannat (film)' 'Emraan Hashmi']\n",
      "['Jimmy (2008 film)' 'Mimoh Chakraborty']\n",
      "['Anamika (2008 film)' 'Dino Morea']\n",
      "['Tashan (film)' 'Akshay Kumar']\n",
      "['Sirf (film)' 'Kay Kay Menon']\n",
      "['U Me Aur Hum' 'Ajay Devgn']\n",
      "['Krazzy 4' 'Juhi Chawla']\n",
      "['One Two Three' 'Tusshar Kapoor']\n",
      "['Sunday (2008 film)' 'Ajay Devgn']\n",
      "['Tulsi (film)' 'Manisha Koirala']\n",
      "['Bombay to Bangkok' 'Shreyas Talpade']\n",
      "['Humne Jeena Seekh Liya' 'Omkar Bhatkar']\n",
      "['Halla Bol' 'Ajay Devgn']\n",
      "['Sarkar Raj' 'Amitabh Bachchan']\n",
      "['Bhoothnath' 'Amitabh Bachchan']\n",
      "['Bachna Ae Haseeno' 'Ranbir Kapoor']\n",
      "['Jodhaa Akbar' 'Hrithik Roshan']\n",
      "['Golmaal Returns' 'Ajay Devgn']\n",
      "['Singh Is Kinng' 'Akshay Kumar']\n",
      "['Ghajini (2008 film)' 'Aamir Khan']\n",
      "['Rab Ne Bana Di Jodi' 'Shah Rukh Khan']\n",
      "['Race (2008 film)' 'Saif Ali Khan']\n",
      "['Dostana (2008 film)' 'Abhishek Bachchan']\n",
      "['Chandni Chowk to China' 'Mithun Chakraborty']\n",
      "['Accident on Hill Road' 'Farooq Shaikh']\n",
      "['Raat Gayi Baat Gayi?' 'Aamir Bashir']\n",
      "['Rocket Singh: Salesman of the Year' 'Ranbir Kapoor']\n",
      "['Paa (film)' 'Amitabh Bachchan']\n",
      "['De Dana Dan' 'Akshay Kumar']\n",
      "['Kurbaan (2009 film)' 'Lewis Tan']\n",
      "['Tum Mile' 'Emraan Hashmi']\n",
      "['Jail (2009 film)' 'Manoj Bajpayee']\n",
      "['London Dreams' 'Salman Khan']\n",
      "['Aladin (film)' 'Amitabh Bachchan']\n",
      "['Fruit and Nut (film)' 'Atmaram Bhende']\n",
      "['Blue (2009 film)' 'Akshay Kumar']\n",
      "['Main Aurr Mrs Khanna' 'Salman Khan']\n",
      "['Wake Up Sid' 'Ranbir Kapoor']\n",
      "['All the Best: Fun Begins' 'Sanjay Dutt']\n",
      "['Acid Factory' 'Fardeen Khan']\n",
      "[\"What's Your Raashee?\" 'Harman Baweja']\n",
      "['Dil Bole Hadippa!' 'Shahid Kapoor']\n",
      "['Vaada Raha' 'Bobby Deol']\n",
      "['Phir Kabhi' 'Mithun Chakraborty']\n",
      "['Baabarr' 'Mithun Chakraborty']\n",
      "['Fox (film)' 'Arjun Rampal']\n",
      "['Quick Gun Murugun' 'Rajendra Prasad']\n",
      "['Chintu Ji' 'Rishi Kapoor']\n",
      "['Aagey Se Right' 'Shreyas Talpade']\n",
      "['Yeh Mera India' 'Anupam Kher']\n",
      "['Kisaan' 'Jackie Shroff']\n",
      "['Daddy Cool (2009 Hindi film)' 'Sunil Shetty']\n",
      "['Life Partner' 'Govinda']\n",
      "['Luck (2009 film)' 'Mithun Chakraborty']\n",
      "['Shortkut' 'Sanjay Dutt']\n",
      "['Sankat City' 'Kay Kay Menon']\n",
      "['New York (2009 film)' 'John Abraham']\n",
      "['Paying Guests' 'Shreyas Talpade']\n",
      "['Zor Lagaa Ke...Haiya!' 'Meghan Jadhav']\n",
      "['Sikandar (2009 film)' 'Parzaan Dastur']\n",
      "['Ek Se Bure Do' 'Anita']\n",
      "['Ek: The Power of One' 'Bobby Deol']\n",
      "['99 (2009 film)' 'Kunal Khemu']\n",
      "['Aa Dekhen Zara' 'Neil Nitin Mukesh']\n",
      "['Firaaq' 'Inaamulhaq']\n",
      "['Barah Aana' 'Naseeruddin Shah']\n",
      "['Aloo Chaat (film)' 'Aftab Shivdasani']\n",
      "['Gulaal (film)' 'Kay Kay Menon']\n",
      "['Little Zizou' 'John Abraham']\n",
      "['Jai Veeru' 'Fardeen Khan']\n",
      "['Kaminey' 'Shahid Kapoor']\n",
      "['Victory (2009 film)' 'Harman Baweja']\n",
      "['Karma Aur Holi' 'Rati Agnihotri']\n",
      "['Dhoondte Reh Jaaoge' 'Paresh Rawal']\n",
      "['Kisse Pyaar Karoon' 'Arshad Warsi']\n",
      "['The Stoneman Murders' 'Kay Kay Menon']\n",
      "['Billu' 'Irrfan Khan']\n",
      "['Chal Chala Chal' 'Asrani']\n",
      "['Ajab Prem Ki Ghazab Kahani' 'Ranbir Kapoor']\n",
      "['Aasma: The Sky Is the Limit' 'Hrishitaa Bhatt']\n",
      "['Raaz: The Mystery Continues' 'Kangana Ranaut']\n",
      "['Delhi-6' 'Waheeda Rehman']\n",
      "['Wanted (2009 film)' 'Salman Khan']\n",
      "['Love Aaj Kal' 'Saif Ali Khan']\n",
      "['Luck by Chance' 'Farhan Akhtar']\n",
      "['3 Idiots' 'Aamir Khan']\n",
      "['Action Replayy' 'Akshay Kumar']\n",
      "['Pankh' 'Bipasha Basu']\n",
      "['Dunno Y... Na Jaane Kyon' 'Zeenat Aman']\n",
      "['Anjaana Anjaani' 'Priyanka Chopra']\n",
      "['Dulha Mil Gaya' 'Sushmita Sen']\n",
      "['I Hate Luv Storys' 'Imran Khan']\n",
      "['Ramaa: The Saviour' 'Sahil Khan']\n",
      "['Tera Kya Hoga Johnny' 'Neil Nitin Mukesh']\n",
      "['Toonpur Ka Super Hero' 'Ajay Devgn']\n",
      "['Isi Life Mein' 'Akshay Oberoi']\n",
      "['Tees Maar Khan (2010 film)' 'Akshay Kumar']\n",
      "['Mirch' 'Arunoday Singh']\n",
      "['Kaalo' 'Aditya Srivastava']\n",
      "['Band Baaja Baaraat' 'Ranveer Singh']\n",
      "['No Problem (2010 film)' 'Sanjay Dutt']\n",
      "['A Flat (film)' 'Jimmy Sheirgill']\n",
      "['Malik Ek' 'Akanksha']\n",
      "['Phas Gaye Re Obama' 'Rajat Kapoor']\n",
      "['Khuda Kasam' 'Sunny Deol']\n",
      "['Break Ke Baad' 'Deepika Padukone']\n",
      "['Allah Ke Banday' 'Varun Bhagwat']\n",
      "['Guzaarish (film)' 'Hrithik Roshan']\n",
      "['Jhootha Hi Sahi' 'John Abraham']\n",
      "['Knock Out (2010 film)' 'Sanjay Dutt']\n",
      "['Ramayana: The Epic' 'Manoj Bajpayee']\n",
      "['Aakrosh (2010 film)' 'Ajay Devgn']\n",
      "['Do Dooni Chaar' 'Rishi Kapoor']\n",
      "['Crook (film)' 'Emraan Hashmi']\n",
      "['Hisss' 'Mallika Sherawat']\n",
      "['The Film Emotional Atyachar' 'Ranvir Shorey']\n",
      "['Life Express (2010 film)' 'Rituparna Sengupta']\n",
      "['Red Alert: The War Within' 'Sunil Shetty']\n",
      "['Khichdi: The Movie' 'Supriya Pathak']\n",
      "['Dabangg' 'Salman Khan']\n",
      "['Soch Lo' 'Barkha Madan']\n",
      "['Aashayein' 'John Abraham']\n",
      "['Antardwand' 'Raj Singh Chaudhary']\n",
      "['Hello Darling' 'Gul Panag']\n",
      "['Lafangey Parindey' 'Neil Nitin Mukesh']\n",
      "['Peepli Live' 'Omkar Das Manikpuri']\n",
      "['Help (film)' 'Bobby Deol']\n",
      "['Once Upon a Time in Mumbaai' 'Ajay Devgn']\n",
      "['Udaan (2010 film)' 'Rajat Barmecha']\n",
      "['Tere Bin Laden' 'Ali Zafar']\n",
      "['Khatta Meetha (2010 film)' 'Akshay Kumar']\n",
      "['Lamhaa' 'Sanjay Dutt']\n",
      "['Mr. Singh Mrs. Mehta' 'Prashant Narayanan']\n",
      "['Ek Second... Jo Zindagi Badal De?' 'Bhushan Agarwal']\n",
      "['Milenge Milenge' 'Kareena Kapoor']\n",
      "['Love Sex Aur Dhokha' 'Nushrat Bharucha']\n",
      "['Kites (film)' 'Hrithik Roshan']\n",
      "['Kushti (film)' 'Rajpal Yadav']\n",
      "['Bumm Bumm Bole' 'Atul Kulkarni']\n",
      "['Raavan' 'Abhishek Bachchan']\n",
      "['Prince (2010 film)' 'Vivek Oberoi']\n",
      "[\"It's a Wonderful Afterlife\" 'Sanjeev Bhaskar']\n",
      "['Mittal v/s Mittal' 'Hazel Croney']\n",
      "['Housefull (2010 film)' 'Akshay Kumar']\n",
      "['Chase (2010 film)' 'Anuj Saxena']\n",
      "['City of Gold (2010 film)' 'Sachin Khedekar']\n",
      "['Apartment (film)' 'Rohit Roy']\n",
      "['Lahore (film)' 'Farooq Shaikh']\n",
      "['Phoonk 2' 'Sudeep']\n",
      "['Paathshaala' 'Nana Patekar']\n",
      "['The Japanese Wife' 'Rahul Bose']\n",
      "['Sadiyaan' 'Rekha']\n",
      "['Prem Kaa Game' 'Arbaaz Khan']\n",
      "['Jaane Kahan Se Aayi Hai' 'Priyanka Chopra']\n",
      "['Tum Milo Toh Sahi' 'Nana Patekar']\n",
      "['Well Done Abba' 'Boman Irani']\n",
      "['Hum Tum Aur Ghost' 'Arshad Warsi']\n",
      "['Shaapit' 'Aditya Narayan']\n",
      "['Trump Card (film)' 'Vikrum Kumar']\n",
      "['Na Ghar Ke Na Ghaat Ke' 'Om Puri']\n",
      "['Thanks Maa' 'Master Shams']\n",
      "['Sukhmani: Hope for Life' 'Gurdas Maan']\n",
      "['Right Yaaa Wrong' 'Sunny Deol']\n",
      "['Aakhari Decision' 'Paul Sidhu']\n",
      "['Rokkk' 'Tanushree Dutta']\n",
      "['Don 2' 'Shah Rukh Khan']\n",
      "['Karthik Calling Karthik' 'Siddhartha Gupta']\n",
      "['Teen Patti (film)' 'Amitabh Bachchan']\n",
      "['My Name Is Khan' 'Shah Rukh Khan']\n",
      "['Toh Baat Pakki!' 'Tabu']\n",
      "['Click (2010 film)' 'Shreyas Talpade']\n",
      "['Jo Hum Chahein' 'Sunny Gill']\n",
      "['Road to Sangam' 'Paresh Rawal']\n",
      "['Ishqiya' 'Vidya Balan']\n",
      "['Rann (film)' 'Amitabh Bachchan']\n",
      "['Striker (2010 film)' 'Siddharth']\n",
      "['Veer (2010 film)' 'Salman Khan']\n",
      "['My Friend Pinto' 'Prateik']\n",
      "['Chance Pe Dance' 'Shahid Kapoor']\n",
      "['Pyaar Impossible!' 'Priyanka Chopra']\n",
      "['The Dirty Picture' 'Vidya Balan']\n",
      "['Rascals (2011 film)' 'Ajay Devgn']\n",
      "['No One Killed Jessica' 'Rani Mukerji']\n",
      "['Game (2011 film)' 'Abhishek Bachchan']\n",
      "['Desi Boyz' 'Akshay Kumar']\n",
      "['Ladies vs Ricky Bahl' 'Ranveer Singh']\n",
      "['Damadamm!' 'Himesh Reshammiya']\n",
      "['Tell Me O Kkhuda' 'Dharmendra']\n",
      "['Miley Naa Miley Hum' 'Chirag Paswan']\n",
      "['Rockstar (2011 film)' 'Ranbir Kapoor']\n",
      "['Ra.One' 'Shah Rukh Khan']\n",
      "['Aazaan' 'Sachiin Joshi']\n",
      "['Mujhse Fraaandship Karoge' 'Saqib Saleem']\n",
      "['Love Breakups Zindagi' 'Zayed Khan']\n",
      "['Chargesheet (film)' 'Dev Anand']\n",
      "['Breakaway (2011 film)' 'Vinay Virmani']\n",
      "['Tere Mere Phere' 'Vinay Pathak']\n",
      "['Saheb Biwi Aur Gangster' 'Jimmy Sheirgill']\n",
      "['Force (2011 film)' 'John Abraham']\n",
      "['U R My Jaan' 'Mikaal']\n",
      "['Mausam (2011 film)' 'Shahid Kapoor']\n",
      "['Mere Brother Ki Dulhan' 'Imran Khan']\n",
      "['Mummy Punjabi' 'Kiron Kher']\n",
      "['Hum Tum Shabana' 'Tusshar Kapoor']\n",
      "['Not a Love Story (2011 film)' 'Deepak Dobriyal']\n",
      "['Yeh Dooriyan' 'Deepshika Nagpal']\n",
      "['Bodyguard (2011 Hindi film)' 'Salman Khan']\n",
      "['Sahi Dhandhe Galat Bande' 'Anupam Kher']\n",
      "['Chatur Singh Two Star' 'Sanjay Dutt']\n",
      "['Aarakshan' 'Amitabh Bachchan']\n",
      "['Phhir' 'Rajniesh Duggall']\n",
      "['Shabri' 'Isha Koppikar']\n",
      "['Bubble Gum (film)' 'Apoorva Arora']\n",
      "['Khap (film)' 'Rahul Jaiswal']\n",
      "['Singham' 'Ajay Devgn']\n",
      "['Kucch Luv Jaisaa' 'Shefali Shah']\n",
      "['Bin Bulaye Baraati' 'Naushaad Abbas']\n",
      "['I Am Kalam' 'Gulshan Grover']\n",
      "['Dear Friend Hitler' 'Raghuvir Yadav']\n",
      "['Zindagi Na Milegi Dobara' 'Hrithik Roshan']\n",
      "['Chillar Party' 'Aarav Khanna']\n",
      "['Murder 2' 'Emraan Hashmi']\n",
      "['Delhi Belly (film)' 'Imran Khan']\n",
      "['Bbuddah... Hoga Terra Baap' 'Amitabh Bachchan']\n",
      "['Double Dhamaal' 'Sanjay Dutt']\n",
      "['Always Kabhi Kabhi' 'Lillete Dubey']\n",
      "['Bheja Fry 2' 'Vinay Pathak']\n",
      "['Pyaar Ka Punchnama' 'Kartik Aaryan']\n",
      "['Shaitan (film)' 'Kalki Koechlin']\n",
      "['404 (film)' 'Sara Arjun']\n",
      "['Shagird (2011 film)' 'Nana Patekar']\n",
      "['Stanley Ka Dabba' 'Partho A. Gupte']\n",
      "['Ragini MMS' 'Kainaz Motivala']\n",
      "['Love U...Mr. Kalakaar!' 'Tusshar Kapoor']\n",
      "['Haunted – 3D' 'Mimoh Chakraborty']\n",
      "['Naughty @ 40' 'Govinda']\n",
      "['I Am (2010 Indian film)' 'Juhi Chawla']\n",
      "['Monica (film)' 'Ashutosh Rana']\n",
      "['Satrangee Parachute' 'Sanjay Mishra']\n",
      "['Aashiqui.in' 'Ishaan Manhaas']\n",
      "['Chalo Dilli' 'Vinay Pathak']\n",
      "['Zokkomon' 'Darsheel Safary']\n",
      "['Shor in the City' 'Sendhil Ramamurthy']\n",
      "['Dum Maaro Dum (film)' 'Abhishek Bachchan']\n",
      "['Teen Thay Bhai' 'Om Puri']\n",
      "['Happy Husbands (2011 film)' 'Anay']\n",
      "['Angel (2011 film)' 'Sumit Arora']\n",
      "['Thank You (2011 film)' 'Akshay Kumar']\n",
      "['Memories in March' 'Deepti Naval']\n",
      "['F.A.L.T.U' 'Arshad Warsi']\n",
      "['Tanu Weds Manu' 'Madhavan']\n",
      "['7 Khoon Maaf' 'Priyanka Chopra']\n",
      "['Patiala House (film)' 'Rishi Kapoor']\n",
      "['Utt Pataang' 'Vinay Pathak']\n",
      "['United Six' 'Russell Geoffrey Banks']\n",
      "['Dil Toh Baccha Hai Ji' 'Ajay Devgn']\n",
      "['Hostel (2011 film)' 'Vatsal Sheth']\n",
      "['Turning 30' 'Gul Panag']\n",
      "['Dhobi Ghat (film)' 'Prateik']\n",
      "['Mumbai Mast Kallander' 'Mohsin']\n",
      "['Yamla Pagla Deewana' 'Nafisa Ali']\n",
      "['Impatient Vivek' 'Vivek Sudershan']\n",
      "['English Vinglish' 'Sridevi']\n",
      "['Bol Bachchan' 'Amitabh Bachchan']\n",
      "['Housefull 2' 'Akshay Kumar']\n",
      "['Players (2012 film)' 'Vinod Khanna']\n",
      "['Dabangg 2' 'Salman Khan']\n",
      "['Cigarette Ki Tarah' 'Ashok Banthia']\n",
      "['Son of Sardaar' 'Ajay Devgn']\n",
      "['Login (film)' 'Himanshu Bhatt']\n",
      "['Talaash: The Answer Lies Within' 'Aamir Khan']\n",
      "['Jab Tak Hai Jaan' 'Shah Rukh Khan']\n",
      "['Ata Pata Laapata' 'Asrani']\n",
      "['Sons of Ram' 'Sunidhi Chauhan']\n",
      "['1920: The Evil Returns' 'Vicky Ahuja']\n",
      "['Rush (2012 film)' 'Emraan Hashmi']\n",
      "['Ajab Gazabb Love' 'Jackky Bhagnani']\n",
      "['Student of the Year' 'Alia Bhatt']\n",
      "['Chakravyuh (2012 film)' 'Arjun Rampal']\n",
      "['Delhi Safari' 'Cary Elwes']\n",
      "['Bhoot Returns' 'J.D. Chakravarthi']\n",
      "['Chittagong (film)' 'Manoj Bajpayee']\n",
      "['Aiyyaa' 'Rani Mukerji']\n",
      "['OMG – Oh My God!' 'Paresh Rawal']\n",
      "['Jeena Hai Toh Thok Daal' 'Ravi Kishan']\n",
      "['Kismat Love Paisa Dilli' 'Vivek Oberoi']\n",
      "['Chal Pichchur Banate Hain' 'Sagar Bhangade']\n",
      "['Heroine (2012 film)' 'Kareena Kapoor']\n",
      "['Barfi!' 'Ranbir Kapoor']\n",
      "['Jalpari: The Desert Mermaid' 'Harish Chabbra']\n",
      "['From Sydney with Love' 'Bidita Bag']\n",
      "['Krishna Aur Kans' 'Manoj Bajpayee']\n",
      "['Mere Dost Picture Abhi Baki Hai' 'Sunil Shetty']\n",
      "['Aalaap (film)' 'Omkar Das Manikpuri']\n",
      "['Joker (2012 film)' 'Akshay Kumar']\n",
      "['Shirin Farhad Ki Toh Nikal Padi' 'Freny Bhagat']\n",
      "['Challo Driver' 'Vickrant Mahajan']\n",
      "['Ek Tha Tiger' 'Salman Khan']\n",
      "['Paanch Ghantey Mien Paanch Crore' 'Nassar Abdulla']\n",
      "['Maximum (film)' 'Sonu Sood']\n",
      "['Kyaa Super Kool Hain Hum' 'Riteish Deshmukh']\n",
      "['Gattu' 'Naresh Sharma']\n",
      "['Cocktail (2012 film)' 'Saif Ali Khan']\n",
      "['Gangs of Wasseypur – Part 2' 'Manoj Bajpayee']\n",
      "['Gangs of Wasseypur' 'Manoj Bajpayee']\n",
      "['Rakhtbeej' 'Julia Datt']\n",
      "['Yeh Khula Aasmaan' 'Anya Anand']\n",
      "['Mr. Bhatti on Chutti' 'Anupam Kher']\n",
      "['Teri Meri Kahaani (film)' 'Shahid Kapoor']\n",
      "['Ferrari Ki Sawaari' 'Sharman Joshi']\n",
      "['Shanghai (2012 film)' 'Emraan Hashmi']\n",
      "['Life Ki Toh Lag Gayi' 'Kay Kay Menon']\n",
      "['Arjun: The Warrior Prince' 'Yudhveer Bakoliya']\n",
      "['Fatso!' 'Gul Panag']\n",
      "['Department (film)' 'Sanjay Dutt']\n",
      "['Ishaqzaade' 'Arjun Kapoor']\n",
      "['Dangerous Ishhq' 'Karisma Kapoor']\n",
      "['Tezz' 'Anil Kapoor']\n",
      "['Hate Story' 'Nikhil Dwivedi']\n",
      "['Vicky Donor' 'Ayushmann Khurrana']\n",
      "['Bittoo Boss' 'Pulkit Samrat']\n",
      "['Chaar Din Ki Chandni' 'Tusshar Kapoor']\n",
      "['Married 2 America' 'Archana Joglekar']\n",
      "[\"Valentine's Night\" 'Shikhi Gupta']\n",
      "['Bumboo' 'Kavin Dave']\n",
      "['Blood Money (2012 film)' 'Manish Chaudhary']\n",
      "['Agent Vinod (2012 film)' 'Kareena Kapoor']\n",
      "['Zindagi Tere Naam' 'Mithun Chakraborty']\n",
      "['Kahaani' 'Vidya Balan']\n",
      "['Paan Singh Tomar (film)' 'Irrfan Khan']\n",
      "['Staying Alive (2012 film)' 'Jahangir Khan']\n",
      "['Tere Naal Love Ho Gaya' 'Riteish Deshmukh']\n",
      "['Jodi Breakers' 'Bipasha Basu']\n",
      "['?: A Question Mark' 'Kiran Bhatia']\n",
      "['Ekk Deewana Tha' 'Prateik']\n",
      "['Ek Main Aur Ekk Tu' 'Kareena Kapoor']\n",
      "['Agneepath (2012 film)' 'Hrithik Roshan']\n",
      "['Goliyon Ki Raasleela Ram-Leela' 'Ranveer Singh']\n",
      "['Singh Saab the Great' 'Sunny Deol']\n",
      "['Sadda Adda' 'Karan Sharma']\n",
      "['Ghost (2012 film)' 'Shiney Ahuja']\n",
      "['Chaalis Chauraasi' 'Naseeruddin Shah']\n",
      "['War Chhod Na Yaar' 'Sharman Joshi']\n",
      "['Lootera' 'Ranveer Singh']\n",
      "['Chashme Baddoor (2013 film)' 'Ali Zafar']\n",
      "['Dhoom 3' 'Aamir Khan']\n",
      "['Bullett Raja' 'Saif Ali Khan']\n",
      "['Table No. 21' 'Paresh Rawal']\n",
      "['Jackpot (2013 film)' 'Naseeruddin Shah']\n",
      "['What the Fish' 'Manu Rishi Chadha']\n",
      "['Gori Tere Pyaar Mein' 'Imran Khan']\n",
      "['Super Model (film)' 'Ashmit Patel']\n",
      "['Wake Up India' 'Elisha Kriis']\n",
      "['Prague (2013 film)' 'Chandan Roy Sanyal']\n",
      "['Sooper Se Ooper' 'Tinnu Anand']\n",
      "['Maazii' 'Sumit Nijhawan']\n",
      "['Rajjo' 'Kangana Ranaut']\n",
      "['Satya 2' 'Puneet Singh Ratn']\n",
      "['Mickey Virus' 'Manish Paul']\n",
      "['Shahid (film)' 'Rajkummar Rao']\n",
      "['Boss (2013 Hindi film)' 'Akshay Kumar']\n",
      "['Baat Bann Gayi' 'Anisa Butt']\n",
      "['The Lunchbox' 'Irrfan Khan']\n",
      "['Ship of Theseus (film)' 'Aida Elkashef']\n",
      "['Phata Poster Nikhla Hero' 'Shahid Kapoor']\n",
      "['Horror Story (film)' 'Karan Kundrra']\n",
      "['John Day (film)' 'Naseeruddin Shah']\n",
      "['Grand Masti' 'Vivek Oberoi']\n",
      "['Chennai Express' 'Deepika Padukone']\n",
      "['Ramaiya Vastavaiya' 'Shruti Haasan']\n",
      "['Shuddh Desi Romance' 'Sushant Singh Rajput']\n",
      "['Satyagraha (film)' 'Amitabh Bachchan']\n",
      "['Madras Cafe' 'John Abraham']\n",
      "['Once Upon ay Time in Mumbai Dobaara!' 'Akshay Kumar']\n",
      "['Siddharth (2013 film)' 'Rajesh Tailang']\n",
      "['D-Day (2013 film)' 'Rishi Kapoor']\n",
      "['Love in Bombay' 'Joy Mukherjee']\n",
      "['Calapor (film)' 'Hemant Gopal']\n",
      "['Chor Chor Super Chor' 'Deepak Dobriyal']\n",
      "['Nasha (film)' 'Poonam Pandey']\n",
      "['Luv U Soniyo' 'Tanuj Virwani']\n",
      "['Bajatey Raho' 'Tusshar Kapoor']\n",
      "['Issaq' 'Prateik']\n",
      "['Enemmy' 'Sunil Shetty']\n",
      "['B.A. Pass' 'Shadab Kamal']\n",
      "['Sixteen (2013 Indian film)' 'Wamiqa Gabbi']\n",
      "['Bhaag Milkha Bhaag' 'Farhan Akhtar']\n",
      "['Policegiri' 'Sanjay Dutt']\n",
      "['Hum Hai Raahi Car Ke' 'Anupam Kher']\n",
      "['Ghanchakkar (film)' 'Vidya Balan']\n",
      "['Shortcut Romeo' 'Neil Nitin Mukesh']\n",
      "['Ankur Arora Murder Case' 'Kay Kay Menon']\n",
      "['Raanjhanaa' 'Dhanush']\n",
      "['Chhota Bheem and the Throne of Bali' 'Rupa Bhimani']\n",
      "['Fukrey' 'Pulkit Samrat']\n",
      "['Yeh Jawaani Hai Deewani' 'Ranbir Kapoor']\n",
      "['Zindagi 50-50' 'Veena Malik']\n",
      "['Ishkq in Paris' 'Preity Zinta']\n",
      "['Aurangzeb (film)' 'Arjun Kapoor']\n",
      "['Gippi' 'Riya Vij']\n",
      "['Go Goa Gone' 'Saif Ali Khan']\n",
      "['Bombay Talkies (film)' 'Rani Mukerji']\n",
      "['Commando: A One Man Army' 'Vidyut Jammwal']\n",
      "['Jayantabhai Ki Luv Story' 'Vivek Oberoi']\n",
      "['Nautanki Saala!' 'Ayushmann Khurrana']\n",
      "['Himmatwala (2013 film)' 'Ajay Devgn']\n",
      "['Ek Thi Daayan' 'Emraan Hashmi']\n",
      "['Aashiqui 2' 'Aditya Roy Kapoor']\n",
      "['Rangrezz' 'Jackky Bhagnani']\n",
      "['Vishwaroopam' 'Kamal Haasan']\n",
      "['Mai (2013 film)' 'Asha Bhosle']\n",
      "['Saheb Biwi Aur Gangster Returns' 'Jimmy Sheirgill']\n",
      "['Jolly LLB' 'Arshad Warsi']\n",
      "['Mere Dad Ki Maruti' 'Saqib Saleem']\n",
      "['3G (film)' 'Neil Nitin Mukesh']\n",
      "['Saare Jahaan Se Mehnga' 'Vishwa Mohan Badola']\n",
      "['Bloody Isshq' 'Akash']\n",
      "['Kai Po Che!' 'Rajkummar Rao']\n",
      "['Zila Ghaziabad' 'Vivek Oberoi']\n",
      "['Murder 3' 'Randeep Hooda']\n",
      "['Special 26' 'Akshay Kumar']\n",
      "['Listen... Amaya' 'Farooq Shaikh']\n",
      "['Bandook' 'Manisha Kelkar']\n",
      "['Race 2' 'Saif Ali Khan']\n",
      "['Main Krishna Hoon' 'Juhi Chawla']\n",
      "['Akaash Vani' 'Kartik Aaryan']\n",
      "['Gangoobai' 'Sarita Joshi']\n",
      "['Inkaar (2013 film)' 'Arjun Rampal']\n",
      "['Sulemani Keeda' 'Naveen Kasturia']\n",
      "['Matru Ki Bijlee Ka Mandola' 'Imran Khan']\n",
      "['Dehraadun Diary' 'Adhyayan Suman']\n",
      "['PK (film)' 'Aamir Khan']\n",
      "['Ugly (film)' 'Rahul Bhat']\n",
      "['Main Aur Mr. Riight' 'Barun Sobti']\n",
      "['Badlapur Boys' 'Annu Kapoor']\n",
      "['Mumbai Delhi Mumbai' 'Shiv Panditt']\n",
      "['Bhopal: A Prayer for Rain' 'Mischa Barton']\n",
      "['Action Jackson (2014 film)' 'Prabhas']\n",
      "['Zid (2014 film)' 'Mannara Chopra']\n",
      "['Zed Plus' 'Vinod Acharya']\n",
      "['Happy Ending (film)' 'Saif Ali Khan']\n",
      "['Ungli' 'Emraan Hashmi']\n",
      "['Kill Dil' 'Ranveer Singh']\n",
      "['Titoo MBA' 'Nishant Dahiya']\n",
      "['Gollu Aur Pappu' 'Dimple Kapadia']\n",
      "['A Decent Arrangement' 'Shabana Azmi']\n",
      "['Roar: Tigers of the Sundarbans' 'Aadil Chahal']\n",
      "['The Shaukeens' 'Akshay Kumar']\n",
      "['Rang Rasiya' 'Randeep Hooda']\n",
      "['Ekkees Toppon Ki Salaami' 'Anupam Kher']\n",
      "['Super Nani' 'Rekha']\n",
      "['Happy New Year (2014 film)' 'Shah Rukh Khan']\n",
      "['Sonali Cable' 'Rhea Chakraborty']\n",
      "['Chaarfutiya Chhokare' 'Soha Ali Khan']\n",
      "['Meinu Ek Ladki Chaahiye' 'Puru Chibber']\n",
      "['Mumbai 125 KM' 'Karanvir Bohra']\n",
      "['Tamanchey' 'Nikhil Dwivedi']\n",
      "['Jigariyaa' 'Harshvardhan Deo']\n",
      "['Balwinder Singh Famous Ho Gaya' 'Asrani']\n",
      "['Daawat-e-Ishq' 'Aditya Roy Kapoor']\n",
      "['Spark (2014 film)' 'Rati Agnihotri']\n",
      "['Bang Bang!' 'Hrithik Roshan']\n",
      "['Haider (film)' 'Tabu']\n",
      "['Desi Kattey' 'Sasha Aagha']\n",
      "['Life Is Beautiful (2014 film)' 'Manoj Amarnani']\n",
      "['Mumbhai Connection' 'Alieesa P Badresia']\n",
      "['Mad About Dance' 'Saahil Prem']\n",
      "['Kick (2014 film)' 'Salman Khan']\n",
      "['3 A.M. (2014 film)' 'Salil Acharya']\n",
      "['Khoobsurat (2014 film)' 'Sonam Kapoor']\n",
      "['Finding Fanny' 'Deepika Padukone']\n",
      "['Creature 3D' 'Bipasha Basu']\n",
      "['Mary Kom (film)' 'Priyanka Chopra']\n",
      "['Raja Natwarlal' 'Emraan Hashmi']\n",
      "['Mardaani' 'Rani Mukerji']\n",
      "['Singham Returns' 'Anupam Kher']\n",
      "['Entertainment (2014 film)' 'Akshay Kumar']\n",
      "['Pizza (2014 film)' 'Akshay Oberoi']\n",
      "['Bazaar E Husn' 'Reshmi Ghosh']\n",
      "['Fugly (film)' 'Jimmy Sheirgill']\n",
      "['Holiday: A Soldier Is Never Off Duty' 'Akshay Kumar']\n",
      "['Amit Sahni Ki List' 'Vir Das']\n",
      "['Riyasat (film)' 'Rajesh Khanna']\n",
      "['Lekar Hum Deewana Dil' 'Armaan Jain']\n",
      "['Hate Story 2' 'Jay Bhanushali']\n",
      "['Humpty Sharma Ki Dulhania' 'Varun Dhawan']\n",
      "['Humshakals' 'Saif Ali Khan']\n",
      "['Bobby Jasoos' 'Vidya Balan']\n",
      "['Ek Villain' 'Sidharth Malhotra']\n",
      "['Yeh Hai Bakrapur' 'Anshuman Jha']\n",
      "['Khwaabb' 'Simer Motiani']\n",
      "['Machhli Jal Ki Rani Hai' 'Swara Bhaskar']\n",
      "['Kaanchi: The Unbreakable' 'Kartik Aaryan']\n",
      "['Revolver Rani' 'Kangana Ranaut']\n",
      "['Filmistaan' 'Sharib Hashmi']\n",
      "['CityLights (2014 film)' 'Rajkummar Rao']\n",
      "['Heropanti' 'Tiger Shroff']\n",
      "['Kuku Mathur Ki Jhand Ho Gayi' 'Siddharth Gupta']\n",
      "['Kahin Hai Mera Pyar' 'Eesha Agarwal']\n",
      "['Hawaa Hawaai' 'Makrand Deshpande']\n",
      "['Children of War (2014 film)' 'Farooq Shaikh']\n",
      "['The Xposé' 'Himesh Reshammiya']\n",
      "['Mastram' 'Rahul Bagga']\n",
      "['Dekh Tamasha Dekh' 'Satish Kaushik']\n",
      "['Manjunath (film)' 'Anjori Alagh']\n",
      "['Koyelaanchal' 'Kannan Arunachalam']\n",
      "['Kya Dilli Kya Lahore' 'Vijay Raaz']\n",
      "['Purani Jeans' 'Tanuj Virwani']\n",
      "['Samrat & Co.' 'Rajeev Khandelwal']\n",
      "['Youngistaan' 'Jackky Bhagnani']\n",
      "['Station (2014 film)' 'Kanika Batra']\n",
      "['Lucky Kabootar' 'Arvinder Bhatti']\n",
      "['Main Tera Hero' 'Varun Dhawan']\n",
      "['Bhoothnath Returns' 'Amitabh Bachchan']\n",
      "['Jal (film)' 'Purab Kohli']\n",
      "['2 States (2014 film)' 'Arjun Kapoor']\n",
      "['Honour Killing (film)' 'Zara Sheikh']\n",
      "['O Teri' 'Pulkit Samrat']\n",
      "['W (2014 film)' 'Leeza Mangaldas']\n",
      "['Anuradha (2014 film)' 'Sachin Khedekar']\n",
      "['Gang of Ghosts' 'Sharman Joshi']\n",
      "['Ankhon Dekhi' 'Sanjay Mishra']\n",
      "['Dishkiyaoon' 'Harman Baweja']\n",
      "['Ragini MMS 2' 'Sunny Leone']\n",
      "['Lakshmi (2014 film)' 'Monali Thakur']\n",
      "['Karar: The Deal' 'Mahek Chahal']\n",
      "['Total Siyapaa' 'Ali Zafar']\n",
      "['Bewakoofiyaan' 'Ayushmann Khurrana']\n",
      "['Queen (2014 film)' 'Kangana Ranaut']\n",
      "['Gulaab Gang' 'Madhuri Dixit']\n",
      "['Shaadi Ke Side Effects' 'Farhan Akhtar']\n",
      "['Gulabi Gang (film)' 'Sampat Pal Devi']\n",
      "['Highway (2014 Hindi film)' 'Alia Bhatt']\n",
      "['Babloo Happy Hai' 'Sahil Anand']\n",
      "['One by Two (2014 film)' 'Abhay Deol']\n",
      "['Darr @ the Mall' 'Jimmy Sheirgill']\n",
      "['Ya Rab' 'Indrapal Ahuja']\n",
      "['Heartless (2014 film)' 'Adhyayan Suman']\n",
      "['Hasee Toh Phasee' 'Sidharth Malhotra']\n",
      "['Jai Ho (film)' 'Salman Khan']\n",
      "['Gunday' 'Ranveer Singh']\n",
      "['Strings of Passion' 'Zeenat Aman']\n",
      "['Paranthe Wali Gali' 'Mohinder Gujral']\n",
      "['Om-Dar-B-Dar' 'Gopi Desai']\n",
      "['Karle Pyaar Karle' 'Shiv Darshan']\n",
      "['Dedh Ishqiya' 'Madhuri Dixit']\n",
      "['Sholay' 'Sanjeev Kumar']\n",
      "['Ranbanka' 'Manish Paul']\n",
      "['The Silent Heroes' 'Mann Bagga']\n",
      "['Guddu Ki Gun' 'Kunal Khemu']\n",
      "['Titli (2014 film)' 'Nawazuddin Siddiqui']\n",
      "['Shaandaar' 'Shahid Kapoor']\n",
      "['Wedding Pullav' 'Diganth']\n",
      "['Pyaar Ka Punchnama 2' 'Kartik Aaryan']\n",
      "['Kis Kisko Pyaar Karoon' 'Kapil Sharma']\n",
      "['Chinar Daastaan-E-Ishq' 'Parveen Kaur']\n",
      "['Bumper Draw' 'Seema Azmi']\n",
      "['Jazbaa' 'Aishwarya Rai Bachchan']\n",
      "['Bhaag Johnny' 'Kunal Khemu']\n",
      "['Calendar Girls (2015 film)' 'Akanksha Puri']\n",
      "['MSG-2 The Messenger' 'Charanpreet Insan']\n",
      "['Meeruthiya Gangsters' 'Jaideep Ahlawat']\n",
      "['Katti Batti' 'Suhaas Ahuja']\n",
      "['Talvar (film)' 'Irrfan Khan']\n",
      "['Sorry Daddy' 'Shamim Khan']\n",
      "['Hero (2015 Hindi film)' 'Suraj Pancholi']\n",
      "['Phantom (2015 film)' 'Saif Ali Khan']\n",
      "['Thoda Lutf Thoda Ishq' 'Bhavita Anand']\n",
      "['Manjhi – The Mountain Man' 'Nawazuddin Siddiqui']\n",
      "['Gour Hari Dastaan' 'Vinay Pathak']\n",
      "['Brothers (2015 film)' 'Akshay Kumar']\n",
      "['All Is Well (2015 film)' 'Rishi Kapoor']\n",
      "['Bangistan' 'Jacqueline Fernandez']\n",
      "['Drishyam (2015 film)' 'Ajay Devgn']\n",
      "['Kaun Kitne Paani Mein' 'Kunal Kapoor']\n",
      "['Main Hoon Part-Time Killer' 'Smitha Gondkar']\n",
      "['I Love NY (2015 film)' 'Sunny Deol']\n",
      "['Second Hand Husband' 'Dharmendra']\n",
      "['Aisa Yeh Jahaan' 'Yashpal Sharma']\n",
      "['Bezubaan Ishq' 'Mugdha Godse']\n",
      "['Guddu Rangeela' 'Arshad Warsi']\n",
      "['Masaan' 'Richa Chadha']\n",
      "['Sabki Bajegi Band' 'Swara Bhaskar']\n",
      "['Ishqedarriyaan' 'Mimoh Chakraborty']\n",
      "['Ishq Ke Parindey' 'Rishi Verma']\n",
      "['Uvaa' 'Mohit Baghel']\n",
      "['Miss Tanakpur Haazir Ho' 'Rahul Bagga']\n",
      "['Hamari Adhuri Kahani' 'Rajkummar Rao']\n",
      "['Mere Genie Uncle' 'Yash Acharya']\n",
      "['P Se PM Tak' 'Meenakshi Dixit']\n",
      "['Welcome 2 Karachi' 'Arshad Warsi']\n",
      "['Dil Dhadakne Do' 'Anil Kapoor']\n",
      "['I Love Desi' 'Shakti Anand']\n",
      "['Bombay Velvet' 'Ranbir Kapoor']\n",
      "['Piku' 'Deepika Padukone']\n",
      "['Kuch Kuch Locha Hai' 'Ram Kapoor']\n",
      "['Kaagaz Ke Fools' 'Vinay Pathak']\n",
      "['Dharam Sankat Mein' 'Naseeruddin Shah']\n",
      "['Dilliwali Zaalim Girlfriend' 'Ira Dubey']\n",
      "['NH-8 Road to Nidhivan' 'Auroshika Dey']\n",
      "['Mr. X (2015 film)' 'Emraan Hashmi']\n",
      "['Barkhaa' 'Sara Loren']\n",
      "['Ek Paheli Leela' 'Sunny Leone']\n",
      "['Margarita with a Straw' 'Kalki Koechlin']\n",
      "['Court (film)' 'Vira Sathidar']\n",
      "['Luckhnowi Ishq' 'Adhyayan Suman']\n",
      "['Detective Byomkesh Bakshy!' 'Sushant Singh Rajput']\n",
      "['Hunterrr' 'Gulshan Devaiah']\n",
      "['NH10 (film)' 'Anushka Sharma']\n",
      "['Hey Bro' 'Ganesh Acharya']\n",
      "['Coffee Bloom' 'Arjun Mathur']\n",
      "['Badmashiyaan' 'Sidhant Gupta']\n",
      "['MSG: The Messenger' 'Gurmeet Ram Rahim Singh']\n",
      "['Dirty Politics (film)' 'Anupam Kher']\n",
      "['Dum Laga Ke Haisha' 'Ayushmann Khurrana']\n",
      "['Ab Tak Chhappan 2' 'Nana Patekar']\n",
      "['Qissa (film)' 'Irrfan Khan']\n",
      "['Take It Easy (2015 film)' 'Sulabha Arya']\n",
      "['Crazy Cukkad Family' 'Swanand Kirkire']\n",
      "['Badlapur (film)' 'Varun Dhawan']\n",
      "['Roy (film)' 'Arjun Rampal']\n",
      "['Shamitabh' 'Amitabh Bachchan']\n",
      "['Jai Jawaan Jai Kisaan (film)' 'Rati Agnihotri']\n",
      "['Rahasya' 'Kay Kay Menon']\n",
      "['Khamoshiyan' 'Gurmeet Choudhary']\n",
      "['Hawaizaada' 'Naman Jain']\n",
      "['Dolly Ki Doli' 'Malaika Arora']\n",
      "['Sharafat Gayi Tel Lene' 'Zayed Khan']\n",
      "['Tevar' 'Arjun Kapoor']\n",
      "['Alone (2015 Hindi film)' 'Bipasha Basu']\n",
      "['Mumbai Can Dance Saala' 'Shakti Kapoor']\n",
      "['Gabbar Is Back' 'Akshay Kumar']\n",
      "['Gabbar Is Back' 'Akshay Kumar']\n",
      "['Singh Is Bliing' 'Akshay Kumar']\n",
      "['Baby (2015 Hindi film)' 'Akshay Kumar']\n",
      "['Welcome Back (film)' 'Anil Kapoor']\n",
      "['Bajirao Mastani' 'Ranveer Singh']\n",
      "['Bajrangi Bhaijaan' 'Salman Khan']\n",
      "['Dilwale (2015 film)' 'Shah Rukh Khan']\n",
      "['ABCD 2' 'Prabhu Deva']\n",
      "['31st October (film)' 'Soha Ali Khan']\n",
      "['Tanu Weds Manu: Returns' 'Kangana Ranaut']\n",
      "['Tanu Weds Manu: Returns' 'Kangana Ranaut']\n",
      "['Prem Ratan Dhan Payo' 'Salman Khan']\n",
      "['Mirzya (film)' 'Harshvardhan Kapoor']\n",
      "['Dangal (film)' 'Aamir Khan']\n",
      "['Wajah Tum Ho' 'Sharman Joshi']\n",
      "['Ki & Ka' 'Amitabh Bachchan']\n",
      "['Saansein' 'Sonarika Bhadoria']\n",
      "['Shorgul' 'Jimmy Sheirgill']\n",
      "['Moh Maya Money' 'Neha Dhupia']\n",
      "['Befikre' 'Vaani Kapoor']\n",
      "['Dear Zindagi' 'Alia Bhatt']\n",
      "['Force 2' 'John Abraham']\n",
      "['Rock On 2' 'Farhan Akhtar']\n",
      "['Tum Bin II' 'Neha Sharma']\n",
      "['Ae Dil Hai Mushkil' 'Ranbir Kapoor']\n",
      "['Dongari Ka Raja' 'Ronit Roy']\n",
      "['Shivaay' 'Ajay Devgn']\n",
      "['Umrika' 'Aashish Bhatt']\n",
      "['Beiimaan Love' 'Sunny Leone']\n",
      "['Saat Uchakkey' 'Manoj Bajpayee']\n",
      "['Fuddu' 'Shubham']\n",
      "['Anna (2016 film)' 'Shashank Udapurkar']\n",
      "['Motu Patlu: King of Kings' 'Saurav Chakraborty']\n",
      "['Devi (2016 film)' 'RJ Balaji']\n",
      "['MSG: The Warrior Lion Heart' 'Ashok Insan']\n",
      "['M.S. Dhoni: The Untold Story' 'Sushant Singh Rajput']\n",
      "['Ek Kahani Julie Ki' 'Jimmy Sharma']\n",
      "['Island City (2015 film)' 'Vinay Pathak']\n",
      "['Wah Taj' 'Shreyas Talpade']\n",
      "['Days of Tafree' 'Yash Soni']\n",
      "['Banjo (2016 film)' 'Riteish Deshmukh']\n",
      "['Parched' 'Tannishtha Chatterjee']\n",
      "['Pink (2016 film)' 'Taapsee Pannu']\n",
      "['Raaz: Reboot' 'Emraan Hashmi']\n",
      "['Freaky Ali' 'Nawazuddin Siddiqui']\n",
      "['Baar Baar Dekho' 'Sidharth Malhotra']\n",
      "['A Flying Jatt' 'Tiger Shroff']\n",
      "['Waarrior Savitri' 'Niharica Raizada']\n",
      "['Happy Bhag Jayegi' 'Diana Penty']\n",
      "['Mohenjo Daro (film)' 'Hrithik Roshan']\n",
      "['Hai Apna Dil Toh Awara' 'Sahil Anand']\n",
      "['Rustom (film)' \"Ileana D'Cruz\"]\n",
      "['Fever (2016 film)' 'Rajeev Khandelwal']\n",
      "['Dishoom' 'John Abraham']\n",
      "['Madaari' 'Irrfan Khan']\n",
      "['M Cream' 'Tom Alter']\n",
      "['Ishq Click' 'Sara Loren']\n",
      "['Waiting (2015 film)' 'Naseeruddin Shah']\n",
      "['Great Grand Masti' 'Urvashi Rautela']\n",
      "['Brahman Naman' 'Shashank Arora']\n",
      "['Sultan (2016 film)' 'Salman Khan']\n",
      "['Dil Toh Deewana Hai' 'Zeenat Aman']\n",
      "['Fredrick (film)' 'Avinash Dhyani']\n",
      "['Dhanak' 'Krrish Chhabria']\n",
      "['Rough Book' 'Tannishtha Chatterjee']\n",
      "['Junooniyat' 'Pulkit Samrat']\n",
      "['Raman Raghav 2.0' 'Nawazuddin Siddiqui']\n",
      "['7 Hours to Go' 'Vipin Sharma']\n",
      "['Luv U Alia' 'V. Ravichandran']\n",
      "['Khel Toh Ab Shuru Hoga' 'Hazel Croney']\n",
      "['Udta Punjab' 'Shahid Kapoor']\n",
      "['Te3n' 'Amitabh Bachchan']\n",
      "['Do Lafzon Ki Kahani (film)' 'Kajal Aggarwal']\n",
      "['Veerappan (2016 film)' 'Sachiin Joshi']\n",
      "['Sarbjit (film)' 'Randeep Hooda']\n",
      "['Phobia (2016 film)' 'Radhika Apte']\n",
      "['Dear Dad (film)' 'Arvind Swamy']\n",
      "['Murari the Mad Gentleman' 'Sanjay Singh']\n",
      "['Buddha in a Traffic Jam' 'Aanchal Dwivedi']\n",
      "['Azhar (film)' 'Emraan Hashmi']\n",
      "['1920: London' 'Sharman Joshi']\n",
      "['Traffic (2016 film)' 'Manoj Bajpayee']\n",
      "['Santa Banta Pvt Ltd' 'Boman Irani']\n",
      "['The Blueberry Hunt' 'Kartik Elangovan']\n",
      "['Shortcut Safari' 'Jimmy Sheirgill']\n",
      "['Global Baba' 'Pankaj Tripathi']\n",
      "['Baaghi (2016 film)' 'Shraddha Kapoor']\n",
      "['Laal Rang' 'Randeep Hooda']\n",
      "['Nil Battey Sannata' 'Swara Bhaskar']\n",
      "['Fan (film)' 'Shah Rukh Khan']\n",
      "['Love Games (film)' 'Patralekhaa Paul']\n",
      "['Rocky Handsome' 'John Abraham']\n",
      "['Kapoor & Sons' 'Sidharth Malhotra']\n",
      "['Jai Gangaajal' 'Priyanka Chopra']\n",
      "['Tere Bin Laden: Dead or Alive' 'Parthaa Akerkar']\n",
      "['Love Shagun' 'Anuj Sachdeva']\n",
      "['Bollywood Diaries' 'Raima Sen']\n",
      "['Aligarh (film)' 'Sukhesh Arora']\n",
      "['Neerja' 'Sonam Kapoor']\n",
      "['Loveshhuda' 'Girish Taurani']\n",
      "['Ishq Forever' 'Krishna Chaturvedi']\n",
      "['Direct Ishq' 'Rajniesh Duggall']\n",
      "['Sanam Re' 'Rishi Kapoor']\n",
      "['Fitoor' 'Aditya Roy Kapoor']\n",
      "['Ghayal: Once Again' 'Sunny Deol']\n",
      "['Jugni (2016 film)' 'Sadhana Singh']\n",
      "['Dil Jo Na Keh Saka' 'Himansh Kohli']\n",
      "['Mastizaade' 'Tusshar Kapoor']\n",
      "['Kyaa Kool Hain Hum 3' 'Tusshar Kapoor']\n",
      "['Irudhi Suttru' 'Madhavan']\n",
      "['Sallu Ki Shaadi' 'Zeenat Aman']\n",
      "['Airlift (film)' 'Akshay Kumar']\n",
      "['Saankal' 'Tanima Bhattacharya']\n",
      "['Rebellious Flower' 'Prince Shah']\n",
      "['Chalk n Duster' 'Richa Chadha']\n",
      "['Ajji' 'Sushama Deshpande']\n",
      "['Monsoon Shootout' 'Vijay Varma']\n",
      "['Fukrey Returns' 'Pulkit Samrat']\n",
      "['Firangi' 'Kapil Sharma']\n",
      "['Kadvi Hawa' 'Sanjay Mishra']\n",
      "['Julie 2' 'Nishikant Kamat']\n",
      "['Tumhari Sulu' 'Vidya Balan']\n",
      "['Panchlait' 'Nayna Bandhopadhyay']\n",
      "['Aksar 2' 'Zareen Khan']\n",
      "['Qarib Qarib Singlle' 'Irrfan Khan']\n",
      "['Jia Aur Jia' 'Richa Chadha']\n",
      "['Shaadi Mein Zaroor Aana' 'Rajkummar Rao']\n",
      "['Ribbon (film)' 'Kalki Koechlin']\n",
      "['Aval (2017 film)' 'Prakash Belawadi']\n",
      "['Secret Superstar' 'Zaira Wasim']\n",
      "['Rukh (film)' 'Manoj Bajpayee']\n",
      "['Babuji Ek Ticket Bambai' 'Sudha Chandran']\n",
      "['Ranchi Diaries' 'Soundarya Sharma']\n",
      "['Chef (2017 film)' 'Saif Ali Khan']\n",
      "['Mom (film)' 'Sridevi']\n",
      "['Poster Boys' 'Sunny Deol']\n",
      "['Haraamkhor' 'Nawazuddin Siddiqui']\n",
      "['JD (film)' 'Rina Charaniya']\n",
      "['Haseena Parkar' 'Shraddha Kapoor']\n",
      "['Bhoomi (film)' 'Sunny Leone']\n",
      "['The Final Exit' 'Kunaal Roy Kapur']\n",
      "['Newton (film)' 'Rajkummar Rao']\n",
      "['Patel Ki Punjabi Shaadi' 'Rishi Kapoor']\n",
      "[\"Viceroy's House (film)\" 'Hugh Bonneville']\n",
      "['A Gentleman' 'Sidharth Malhotra']\n",
      "['Lucknow Central' 'Farhan Akhtar']\n",
      "['Simran (film)' 'Kangana Ranaut']\n",
      "['Daddy (2017 film)' 'Arjun Rampal']\n",
      "['Raag Desh (film)' 'Kunal Kapoor']\n",
      "['Shubh Mangal Saavdhan' 'Ayushmann Khurrana']\n",
      "['Qaidi Band' 'Aadar Jain']\n",
      "['Yadvi – The Dignified Princess' 'Prisha Aneja']\n",
      "['Babumoshai Bandookbaaz' 'Nawazuddin Siddiqui']\n",
      "['Bareilly Ki Barfi' 'Ayushmann Khurrana']\n",
      "['Guest iin London' 'Kartik Aaryan']\n",
      "['Mubarakan' 'Anil Kapoor']\n",
      "['Toilet: Ek Prem Katha' 'Akshay Kumar']\n",
      "['Munna Michael' 'Tiger Shroff']\n",
      "['Jab Harry Met Sejal' 'Shah Rukh Khan']\n",
      "['Indu Sarkar' 'Kirti Kulhari']\n",
      "['G Kutta Se' 'Rajveer Ankur Singh']\n",
      "['Bachche Kachche Sachche' 'Manoj Babani']\n",
      "['Lipstick Under My Burkha' 'Aahana Kumra']\n",
      "['Shab (film)' 'Ashish Bisht']\n",
      "['Jagga Jasoos' 'Ranbir Kapoor']\n",
      "['Ek Haseena Thi Ek Deewana Tha' 'Shiv Darshan']\n",
      "['Bank Chor' 'Riteish Deshmukh']\n",
      "['Tubelight (2017 Hindi film)' 'Salman Khan']\n",
      "['Behen Hogi Teri' 'Rajkummar Rao']\n",
      "['Raabta (film)' 'Deepika Padukone']\n",
      "['Dear Maya' 'Manisha Koirala']\n",
      "['Flat 211' 'Jayesh Raj']\n",
      "['Dobaara: See Your Evil' 'Adil Hussain']\n",
      "['Sweetiee Weds NRI' 'Himansh Kohli']\n",
      "['Hindi Medium' 'Irrfan Khan']\n",
      "['Sachin: A Billion Dreams' 'Sachin Tendulkar']\n",
      "['Meri Pyaari Bindu' 'Ayushmann Khurrana']\n",
      "['Half Girlfriend (film)' 'Shraddha Kapoor']\n",
      "['Jattu Engineer' 'Amardeep Insan']\n",
      "['Sarkar 3' 'Amitabh Bachchan']\n",
      "['Maatr' 'Raveena Tandon']\n",
      "['Ek Thi Rani Aisi Bhi' 'Hema Malini']\n",
      "['Noor (film)' 'Sunny Leone']\n",
      "['Begum Jaan' 'Amitabh Bachchan']\n",
      "['Hotel Salvation' 'Adil Hussain']\n",
      "['Naam Shabana' 'Taapsee Pannu']\n",
      "['Anaarkali of Aarah' 'Pankaj Tripathi']\n",
      "['Bhanwarey' 'Shaurya Singh']\n",
      "['Machine (2017 film)' 'Kiara Advani']\n",
      "['Phillauri (film)' 'Anushka Sharma']\n",
      "['Mantra (2016 film)' 'Rajat Kapoor']\n",
      "['Aa Gaya Hero' 'Govinda']\n",
      "['Trapped (2016 Hindi film)' 'Rajkummar Rao']\n",
      "['Badrinath Ki Dulhania' 'Varun Dhawan']\n",
      "['Jeena Isi Ka Naam Hai (film)' 'Arbaaz Khan']\n",
      "['Wedding Anniversary' 'Nana Patekar']\n",
      "['Rangoon (2017 Hindi film)' 'Kangana Ranaut']\n",
      "['Irada (2017 film)' 'Naseeruddin Shah']\n",
      "['The Ghazi Attack' 'Rana Daggubati']\n",
      "['Running Shaadi' 'Arsh Bajwa']\n",
      "['Hind Ka Napak Ko Jawab: MSG Lion Heart 2' 'Gurmeet Ram Rahim Singh']\n",
      "['Thugs of Hindostan' 'Aamir Khan']\n",
      "['Raees (film)' 'Raj Arjun']\n",
      "['Kaabil' 'Hrithik Roshan']\n",
      "['Coffee with D' 'Sunil Grover']\n",
      "['Ok Jaanu' 'Shraddha Kapoor']\n",
      "['Judwaa 2' 'Varun Dhawan']\n",
      "['Golmaal Again' 'Ajay Devgn']\n",
      "['Tiger Zinda Hai' 'Salman Khan']\n",
      "['Simmba' 'Ranveer Singh']\n",
      "['Zero (2018 film)' 'Shah Rukh Khan']\n",
      "['Rajma Chawal' 'Amyra Dastur']\n",
      "['Bhaiaji Superhit' 'Sunny Deol']\n",
      "['Pihu' 'Rahul Bagga']\n",
      "['Mohalla Assi' 'Sunny Deol']\n",
      "['Jack and Dil' 'Amit Sadh']\n",
      "['The Journey of Karma' 'Shakti Kapoor']\n",
      "['Dassehra' 'Neil Nitin Mukesh']\n",
      "['Kaashi in Search of Ganga' 'Aishwarya Devan']\n",
      "['5 Weddings' 'Nargis Fakhri']\n",
      "['Badhaai Ho' 'Ayushmann Khurrana']\n",
      "['Andhadhun' 'Ayushmann Khurrana']\n",
      "['Namaste England' 'Arjun Kapoor']\n",
      "['Helicopter Eela' 'Kajol']\n",
      "['Tumbbad' 'Sohum Shah']\n",
      "['FryDay' 'Govinda']\n",
      "['Jalebi (film)' 'Rhea Chakraborty']\n",
      "['Baazaar' 'Radhika Apte']\n",
      "['Sui Dhaaga' 'Anushka Sharma']\n",
      "['Mitron' 'Jackky Bhagnani']\n",
      "['Manmarziyaan' 'Taapsee Pannu']\n",
      "['Ishqeria' 'Manish Anand']\n",
      "['Manto (2018 film)' 'Nawazuddin Siddiqui']\n",
      "['Love Sonia' 'Abhishek Bharate']\n",
      "['Batti Gul Meter Chalu' 'Shahid Kapoor']\n",
      "['Pataakha' 'Sanya Malhotra']\n",
      "['Halkaa' 'Paoli Dam']\n",
      "['Gali Guleiyan' 'Manoj Bajpayee']\n",
      "['Laila Majnu (2018 film)' 'Avinash Tiwary']\n",
      "['Paltan (film)' 'Jackie Shroff']\n",
      "['Stree (2018 film)' 'Rajkummar Rao']\n",
      "['Yamla Pagla Deewana: Phir Se' 'Dharmendra']\n",
      "['Genius (2018 Hindi film)' 'Utkarsh Sharma']\n",
      "['Happy Phirr Bhag Jayegi' 'Sonakshi Sinha']\n",
      "['Satyameva Jayate (2018 film)' 'John Abraham']\n",
      "['Gold (2018 film)' 'Akshay Kumar']\n",
      "['Karwaan' 'Irrfan Khan']\n",
      "['Brij Mohan Amar Rahe' 'Arjun Mathur']\n",
      "['Mulk (film)' 'Taapsee Pannu']\n",
      "['Nawabzaade' 'Dharmesh Yelande']\n",
      "['Saheb Biwi Aur Gangster 3' 'Sanjay Dutt']\n",
      "['Sanju' 'Ranbir Kapoor']\n",
      "['Dhadak' 'Ishaan Khattar']\n",
      "['Race 3' 'Anil Kapoor']\n",
      "['Phamous' 'Jimmy Sheirgill']\n",
      "['Bhavesh Joshi Superhero' 'Harshvardhan Kapoor']\n",
      "['Bioscopewala' 'Danny Denzongpa']\n",
      "['Parmanu: The Story of Pokhran' 'John Abraham']\n",
      "['Khajoor Pe Atke' 'Vinay Pathak']\n",
      "['High Jack (film)' 'Sumeet Vyas']\n",
      "['Hope Aur Hum' 'Naseeruddin Shah']\n",
      "['Raazi' 'Alia Bhatt']\n",
      "['Omerta (film)' 'Rajkummar Rao']\n",
      "['Daas Dev' 'Yogesh Raj Mishra']\n",
      "['Nanu Ki Jaanu' 'Abhay Deol']\n",
      "['Beyond the Clouds (2017 film)' 'Ishaan Khattar']\n",
      "['Mercury (film)' 'Prabhu Deva']\n",
      "['October (2018 film)' 'Varun Dhawan']\n",
      "['Baaghi 2' 'Tiger Shroff']\n",
      "['Missing (2018 film)' 'Manoj Bajpayee']\n",
      "['Hichki' 'Rani Mukerji']\n",
      "['Raid (2018 film)' 'Ajay Devgn']\n",
      "['3 Storeys' 'Aisha Ahmed']\n",
      "['Dil Juunglee' 'Taapsee Pannu']\n",
      "['Hate Story 4' 'Lee Byford']\n",
      "['Sonu Ke Titu Ki Sweety' 'Kartik Aaryan']\n",
      "['Veerey Ki Wedding' 'Pulkit Samrat']\n",
      "['Jaane Kyun De Yaaron' 'Akshay Anand']\n",
      "['Kuchh Bheege Alfaaz' 'Geetanjali Thapa']\n",
      "['Padmaavat' 'Deepika Padukone']\n",
      "['Aiyaary' 'Sidharth Malhotra']\n",
      "['Love per Square Foot' 'Vicky Kaushal']\n",
      "['Union Leader (film)' 'Rahul Bhat']\n",
      "['Mukkabaaz' 'Viineet Kumar']\n",
      "['Nirdosh' 'Ashmit Patel']\n",
      "['My Birthday Song' 'Nora Fatehi']\n",
      "['Vodka Diaries' 'Kay Kay Menon']\n",
      "['Kaalakaandi' 'Saif Ali Khan']\n",
      "['Good Newwz' 'Akshay Kumar']\n",
      "['Dabangg 3' 'Salman Khan']\n",
      "['Mardaani 2' 'Rani Mukerji']\n",
      "['Commando 3 (film)' 'Vidyut Jammwal']\n",
      "['Pati Patni Aur Woh (2019 film)' 'Kartik Aaryan']\n",
      "['Dil Bechara' 'Sushant Singh Rajput']\n",
      "['Yeh Saali Aashiqui' 'Vardhan Puri']\n",
      "['Ramprasad Ki Tehrvi' 'Naseeruddin Shah']\n",
      "['Pagalpanti (2019 film)' 'Kriti Kharbanda']\n",
      "['Keep Safe Distance (film)' 'Shahbaaz Khan']\n",
      "['Motichoor Chaknachoor' 'Nawazuddin Siddiqui']\n",
      "['Marjaavaan' 'Riteish Deshmukh']\n",
      "['Jhalki' 'Boman Irani']\n",
      "['Satellite Shankar' 'Suraj Pancholi']\n",
      "['Bypass Road (film)' 'Neil Nitin Mukesh']\n",
      "['Ujda Chaman' 'Sunny Singh Nijjar']\n",
      "['Made in China (2019 film)' 'Rajkummar Rao']\n",
      "['Saand Ki Aankh' 'Taapsee Pannu']\n",
      "['Housefull 4' 'Akshay Kumar']\n",
      "['Yaaram (2019 film)' 'Siddhanth Kapoor']\n",
      "['Bala (2019 film)' 'Ayushmann Khurrana']\n",
      "['Ghost (2019 film)' 'Sanaya Irani']\n",
      "['P Se Pyaar F Se Faraar' 'Bhavesh Kumar']\n",
      "['Prassthanam' 'Sanjay Dutt']\n",
      "['Pal Pal Dil Ke Paas' 'Karan Deol']\n",
      "['The Zoya Factor (film)' 'Sonam Kapoor']\n",
      "['Section 375' 'Akshaye Khanna']\n",
      "['Dream Girl (2019 film)' 'Ayushmann Khurrana']\n",
      "['Saaho' 'Jacqueline Fernandez']\n",
      "['Mission Mangal' 'Akshay Kumar']\n",
      "['The Sky Is Pink' 'Zaira Wasim']\n",
      "['Pranaam' 'Rajeev Khandelwal']\n",
      "['Jabariya Jodi' 'Sidharth Malhotra']\n",
      "['Arjun Patiala' 'Diljit Dosanjh']\n",
      "['Chicken Curry Law' 'Natalia Janoszek']\n",
      "['Judgementall Hai Kya' 'Kangana Ranaut']\n",
      "['Jhootha Kahin Ka' 'Rishi Kapoor']\n",
      "['Batla House' 'John Abraham']\n",
      "['Family of Thakurganj' 'Jimmy Sheirgill']\n",
      "['Super 30 (film)' 'Hrithik Roshan']\n",
      "['Hume Tumse Pyaar Kitna' 'Karanvir Bohra']\n",
      "['One Day: Justice Delivered' 'Anupam Kher']\n",
      "['Article 15 (film)' 'Ayushmann Khurrana']\n",
      "['Kabir Singh' 'Shahid Kapoor']\n",
      "['Khamoshi (2019 film)' 'Prabhu Deva']\n",
      "['Yeh Hai India' 'Gavie Chahal']\n",
      "[\"India's Most Wanted (film)\" 'Arjun Kapoor']\n",
      "['De De Pyaar De' 'Ajay Devgn']\n",
      "['PM Narendra Modi' 'Boman Irani']\n",
      "['Student of the Year 2' 'Tiger Shroff']\n",
      "['Setters (film)' 'Shreyas Talpade']\n",
      "['Kalank' 'Varun Dhawan']\n",
      "['The Tashkent Files' 'Naseeruddin Shah']\n",
      "['Albert Pinto Ko Gussa Kyun Aata Hai?' 'Manav Kaul']\n",
      "['Gone Kesh' 'Deepika Amin']\n",
      "['Junglee (2019 film)' 'Vidyut Jammwal']\n",
      "['Notebook (2019 film)' 'Zaheer Iqbal']\n",
      "['Kesari (film)' 'Akshay Kumar']\n",
      "['22 Yards' 'Barun Sobti']\n",
      "['Mere Pyare Prime Minister' 'Rasika Agashe']\n",
      "['Risknamaa' 'Garima Agarwal']\n",
      "['Photograph (film)' 'Nawazuddin Siddiqui']\n",
      "['Hamid (film)' 'Talha Arshad Reshi']\n",
      "['Mard Ko Dard Nahi Hota' 'Abhimanyu Dasani']\n",
      "['Badla (2019 film)' 'Amitabh Bachchan']\n",
      "['Sonchiriya' 'Sushant Singh Rajput']\n",
      "['Total Dhamaal' 'Ajay Devgn']\n",
      "['Hum Chaar' 'Prit Kamani']\n",
      "['Gully Boy' 'Ranveer Singh']\n",
      "['Amavas' 'Ali Asgar']\n",
      "['Thackeray (film)' 'Nawazuddin Siddiqui']\n",
      "['Manikarnika: The Queen of Jhansi' 'Kangana Ranaut']\n",
      "['Bombairiya' 'Radhika Apte']\n",
      "['Fraud Saiyaan' 'Arshad Warsi']\n",
      "['Soni (film)' 'Geetika Vidya Ohlyan']\n",
      "['Evening Shadows' 'Mona Ambegaonkar']\n",
      "['Why Cheat India' 'Emraan Hashmi']\n",
      "['The Accidental Prime Minister (film)' 'Anupam Kher']\n",
      "['Battalion 609' 'Vicky Ahuja']\n",
      "['Uri: The Surgical Strike' 'Vicky Kaushal']\n"
     ]
    }
   ],
   "source": [
    "#looping\n",
    "for i in movies.values:\n",
    "    print(i)"
   ]
  },
  {
   "cell_type": "code",
   "execution_count": 47,
   "id": "5814e9964b822bb3",
   "metadata": {
    "ExecuteTime": {
     "end_time": "2025-02-07T11:30:23.407894Z",
     "start_time": "2025-02-07T11:30:23.355160Z"
    }
   },
   "outputs": [
    {
     "data": {
      "text/plain": [
       "Math       190\n",
       "English    200\n",
       "Science    170\n",
       "Hindi      160\n",
       "Marathi    150\n",
       "evs        200\n",
       "Name: Marks of student, dtype: int64"
      ]
     },
     "execution_count": 47,
     "metadata": {},
     "output_type": "execute_result"
    }
   ],
   "source": [
    "# Arithmetic Operators(Broadcasting)\n",
    "100+marks_series"
   ]
  },
  {
   "cell_type": "code",
   "execution_count": 48,
   "id": "57d1a73e022b557e",
   "metadata": {
    "ExecuteTime": {
     "end_time": "2025-02-07T11:30:23.694908Z",
     "start_time": "2025-02-07T11:30:23.615239Z"
    }
   },
   "outputs": [
    {
     "data": {
      "text/html": [
       "<div>\n",
       "<style scoped>\n",
       "    .dataframe tbody tr th:only-of-type {\n",
       "        vertical-align: middle;\n",
       "    }\n",
       "\n",
       "    .dataframe tbody tr th {\n",
       "        vertical-align: top;\n",
       "    }\n",
       "\n",
       "    .dataframe thead th {\n",
       "        text-align: right;\n",
       "    }\n",
       "</style>\n",
       "<table border=\"1\" class=\"dataframe\">\n",
       "  <thead>\n",
       "    <tr style=\"text-align: right;\">\n",
       "      <th></th>\n",
       "      <th>match_no</th>\n",
       "      <th>runs</th>\n",
       "    </tr>\n",
       "  </thead>\n",
       "  <tbody>\n",
       "    <tr>\n",
       "      <th>0</th>\n",
       "      <td>False</td>\n",
       "      <td>False</td>\n",
       "    </tr>\n",
       "    <tr>\n",
       "      <th>1</th>\n",
       "      <td>False</td>\n",
       "      <td>False</td>\n",
       "    </tr>\n",
       "    <tr>\n",
       "      <th>2</th>\n",
       "      <td>False</td>\n",
       "      <td>False</td>\n",
       "    </tr>\n",
       "    <tr>\n",
       "      <th>3</th>\n",
       "      <td>False</td>\n",
       "      <td>False</td>\n",
       "    </tr>\n",
       "    <tr>\n",
       "      <th>4</th>\n",
       "      <td>False</td>\n",
       "      <td>False</td>\n",
       "    </tr>\n",
       "    <tr>\n",
       "      <th>...</th>\n",
       "      <td>...</td>\n",
       "      <td>...</td>\n",
       "    </tr>\n",
       "    <tr>\n",
       "      <th>210</th>\n",
       "      <td>True</td>\n",
       "      <td>False</td>\n",
       "    </tr>\n",
       "    <tr>\n",
       "      <th>211</th>\n",
       "      <td>True</td>\n",
       "      <td>False</td>\n",
       "    </tr>\n",
       "    <tr>\n",
       "      <th>212</th>\n",
       "      <td>True</td>\n",
       "      <td>True</td>\n",
       "    </tr>\n",
       "    <tr>\n",
       "      <th>213</th>\n",
       "      <td>True</td>\n",
       "      <td>False</td>\n",
       "    </tr>\n",
       "    <tr>\n",
       "      <th>214</th>\n",
       "      <td>True</td>\n",
       "      <td>False</td>\n",
       "    </tr>\n",
       "  </tbody>\n",
       "</table>\n",
       "<p>215 rows × 2 columns</p>\n",
       "</div>"
      ],
      "text/plain": [
       "     match_no   runs\n",
       "0       False  False\n",
       "1       False  False\n",
       "2       False  False\n",
       "3       False  False\n",
       "4       False  False\n",
       "..        ...    ...\n",
       "210      True  False\n",
       "211      True  False\n",
       "212      True   True\n",
       "213      True  False\n",
       "214      True  False\n",
       "\n",
       "[215 rows x 2 columns]"
      ]
     },
     "execution_count": 48,
     "metadata": {},
     "output_type": "execute_result"
    }
   ],
   "source": [
    "# Relational Operators\n",
    "vk>=50"
   ]
  },
  {
   "cell_type": "markdown",
   "id": "8007aecb61c1a1ee",
   "metadata": {},
   "source": [
    "### Boolean indexing on series"
   ]
  },
  {
   "cell_type": "code",
   "execution_count": 49,
   "id": "944a7f1cf780aa",
   "metadata": {
    "ExecuteTime": {
     "end_time": "2025-02-07T11:30:24.061193Z",
     "start_time": "2025-02-07T11:30:24.027878Z"
    }
   },
   "outputs": [
    {
     "data": {
      "text/plain": [
       "1"
      ]
     },
     "execution_count": 49,
     "metadata": {},
     "output_type": "execute_result"
    }
   ],
   "source": [
    "x[x==12].size"
   ]
  },
  {
   "cell_type": "code",
   "execution_count": 50,
   "id": "2c8c3c187f195b34",
   "metadata": {
    "ExecuteTime": {
     "end_time": "2025-02-07T11:30:24.727801Z",
     "start_time": "2025-02-07T11:30:24.702768Z"
    }
   },
   "outputs": [
    {
     "data": {
      "text/plain": [
       "59"
      ]
     },
     "execution_count": 50,
     "metadata": {},
     "output_type": "execute_result"
    }
   ],
   "source": [
    "# Count number of day when I had more than 200 subs a day\n",
    "subs[subs>200].size"
   ]
  },
  {
   "cell_type": "code",
   "execution_count": 51,
   "id": "83b6a3596ffa42e4",
   "metadata": {
    "ExecuteTime": {
     "end_time": "2025-02-07T11:30:25.259064Z",
     "start_time": "2025-02-07T11:30:25.214037Z"
    }
   },
   "outputs": [
    {
     "data": {
      "text/plain": [
       "lead\n",
       "Akshay Kumar        48\n",
       "Amitabh Bachchan    45\n",
       "Ajay Devgn          38\n",
       "Salman Khan         31\n",
       "Sanjay Dutt         26\n",
       "Shah Rukh Khan      22\n",
       "Emraan Hashmi       21\n",
       "Name: count, dtype: int64"
      ]
     },
     "execution_count": 51,
     "metadata": {},
     "output_type": "execute_result"
    }
   ],
   "source": [
    "# find actors who have done more than 20 movies\n",
    "movies_series = movies['lead']\n",
    "num_movie = movies_series.value_counts()\n",
    "num_movie[num_movie>20]"
   ]
  },
  {
   "cell_type": "markdown",
   "id": "5c84acdad2a934f9",
   "metadata": {},
   "source": [
    "### Plotting graph on Series"
   ]
  },
  {
   "cell_type": "code",
   "execution_count": 52,
   "id": "83918c74766901e9",
   "metadata": {
    "ExecuteTime": {
     "end_time": "2025-02-07T11:30:30.608664Z",
     "start_time": "2025-02-07T11:30:25.712139Z"
    }
   },
   "outputs": [
    {
     "data": {
      "text/plain": [
       "<Axes: >"
      ]
     },
     "execution_count": 52,
     "metadata": {},
     "output_type": "execute_result"
    },
    {
     "data": {
      "image/png": "[encoded data removed]",
      "text/plain": [
       "<Figure size 640x480 with 1 Axes>"
      ]
     },
     "metadata": {},
     "output_type": "display_data"
    }
   ],
   "source": [
    "subs.plot(kind='bar')"
   ]
  },
  {
   "cell_type": "code",
   "execution_count": 53,
   "id": "3f37167253b89377",
   "metadata": {
    "ExecuteTime": {
     "end_time": "2025-02-07T11:30:31.139325Z",
     "start_time": "2025-02-07T11:30:30.680236Z"
    }
   },
   "outputs": [
    {
     "data": {
      "text/plain": [
       "<Axes: ylabel='count'>"
      ]
     },
     "execution_count": 53,
     "metadata": {},
     "output_type": "execute_result"
    },
    {
     "data": {
      "image/png": "[encoded data removed]",
      "text/plain": [
       "<Figure size 640x480 with 1 Axes>"
      ]
     },
     "metadata": {},
     "output_type": "display_data"
    }
   ],
   "source": [
    "movies.value_counts().head(20).plot(kind='pie')"
   ]
  },
  {
   "cell_type": "markdown",
   "id": "6e99debdf3685656",
   "metadata": {},
   "source": [
    "### Some Important Series method"
   ]
  },
  {
   "cell_type": "code",
   "execution_count": 54,
   "id": "11d75924a8999a8a",
   "metadata": {
    "ExecuteTime": {
     "end_time": "2025-02-07T11:30:31.264307Z",
     "start_time": "2025-02-07T11:30:31.233079Z"
    }
   },
   "outputs": [
    {
     "data": {
      "text/plain": [
       "match_no\n",
       "1       1\n",
       "2      23\n",
       "3      13\n",
       "4      12\n",
       "5       1\n",
       "       ..\n",
       "211     0\n",
       "212    20\n",
       "213    73\n",
       "214    25\n",
       "215     7\n",
       "Name: runs, Length: 215, dtype: int64"
      ]
     },
     "execution_count": 54,
     "metadata": {},
     "output_type": "execute_result"
    }
   ],
   "source": [
    "vk = pd.read_csv('../datasets/kohli_ipl.csv',index_col = 'match_no').squeeze()\n",
    "vk"
   ]
  },
  {
   "cell_type": "code",
   "execution_count": 55,
   "id": "7417879ce17eb904",
   "metadata": {
    "ExecuteTime": {
     "end_time": "2025-02-07T11:30:31.713217Z",
     "start_time": "2025-02-07T11:30:31.666340Z"
    }
   },
   "outputs": [
    {
     "data": {
      "text/plain": [
       "movie\n",
       "Uri: The Surgical Strike                   Vicky Kaushal\n",
       "Battalion 609                                Vicky Ahuja\n",
       "The Accidental Prime Minister (film)         Anupam Kher\n",
       "Why Cheat India                            Emraan Hashmi\n",
       "Evening Shadows                         Mona Ambegaonkar\n",
       "                                              ...       \n",
       "Hum Tumhare Hain Sanam                    Shah Rukh Khan\n",
       "Aankhen (2002 film)                     Amitabh Bachchan\n",
       "Saathiya (film)                             Vivek Oberoi\n",
       "Company (film)                                Ajay Devgn\n",
       "Awara Paagal Deewana                        Akshay Kumar\n",
       "Name: lead, Length: 1500, dtype: object"
      ]
     },
     "execution_count": 55,
     "metadata": {},
     "output_type": "execute_result"
    }
   ],
   "source": [
    "movies= pd.read_csv('../datasets/bollywood.csv',index_col='movie').squeeze()\n",
    "movies"
   ]
  },
  {
   "cell_type": "code",
   "execution_count": 56,
   "id": "3bc6b7992a8e9dd9",
   "metadata": {
    "ExecuteTime": {
     "end_time": "2025-02-07T11:30:31.870721Z",
     "start_time": "2025-02-07T11:30:31.839222Z"
    }
   },
   "outputs": [
    {
     "data": {
      "text/plain": [
       "3456"
      ]
     },
     "execution_count": 56,
     "metadata": {},
     "output_type": "execute_result"
    }
   ],
   "source": [
    "import  sys\n",
    "sys.getsizeof(vk)"
   ]
  },
  {
   "cell_type": "code",
   "execution_count": 57,
   "id": "843d0fa83f5b01ff",
   "metadata": {
    "ExecuteTime": {
     "end_time": "2025-02-07T11:30:32.122876Z",
     "start_time": "2025-02-07T11:30:32.091177Z"
    }
   },
   "outputs": [
    {
     "data": {
      "text/plain": [
       "2166"
      ]
     },
     "execution_count": 57,
     "metadata": {},
     "output_type": "execute_result"
    }
   ],
   "source": [
    "sys.getsizeof(vk.astype('int16'))"
   ]
  },
  {
   "cell_type": "markdown",
   "id": "f431f1acaffdd0d5",
   "metadata": {},
   "source": [
    "#### between\n",
    "The `between()` method in Pandas checks if elements are within a specified range. It returns a boolean Series or DataFrame where each element is `True` if it falls between the two specified bounds (inclusive), and `False` otherwise.\n",
    "\n",
    "- **Syntax**:\n",
    "  ```python\n",
    "  Series.between(start, end)\n",
    "\n",
    "  DataFrame.between(start, end, axis=0)\n",
    "  ```\n",
    "\n",
    "- **Parameters**:\n",
    "  - `start`: The lower bound of the range.\n",
    "  - `end`: The upper bound of the range.\n",
    "  - `axis` (DataFrame only): Specifies whether to check rows (`axis=0`) or columns (`axis=1`).\n",
    "\n",
    "- **Returns**:\n",
    "  A boolean Series or DataFrame indicating which elements are within the specified range."
   ]
  },
  {
   "cell_type": "code",
   "execution_count": 58,
   "id": "82d1d08aab2e6acb",
   "metadata": {
    "ExecuteTime": {
     "end_time": "2025-02-07T11:30:32.458227Z",
     "start_time": "2025-02-07T11:30:32.434307Z"
    }
   },
   "outputs": [
    {
     "data": {
      "text/plain": [
       "43"
      ]
     },
     "execution_count": 58,
     "metadata": {},
     "output_type": "execute_result"
    }
   ],
   "source": [
    "# between\n",
    "vk[vk.between(51,99)].size"
   ]
  },
  {
   "cell_type": "markdown",
   "id": "d3cc5b9a8632ac2b",
   "metadata": {},
   "source": [
    "### clip\n",
    "The `clip()` method in Pandas clips or bounds the values of a Series or DataFrame to fall between specified minimum and maximum values.\n",
    "\n",
    "- **Syntax**:\n",
    "  ```python\n",
    "  Series.clip(lower=None, upper=None)\n",
    "\n",
    "  DataFrame.clip(lower=None, upper=None, axis=0)\n",
    "  ```\n",
    "\n",
    "- **Parameters**:\n",
    "  - `lower`: The lower boundary. Values less than this will be set to `lower`.\n",
    "  - `upper`: The upper boundary. Values greater than this will be set to `upper`.\n",
    "  - `axis` (DataFrame only): Specifies whether to clip by row (`axis=0`) or column (`axis=1`).\n",
    "\n",
    "- **Returns**:\n",
    "  A new Series or DataFrame with values clipped to the specified range.\n",
    "\n",
    "This method is useful for capping values within a certain range, ensuring that no value exceeds the defined bounds."
   ]
  },
  {
   "cell_type": "code",
   "execution_count": 59,
   "id": "2855b663567b1cde",
   "metadata": {
    "ExecuteTime": {
     "end_time": "2025-02-07T11:30:32.688796Z",
     "start_time": "2025-02-07T11:30:32.669523Z"
    }
   },
   "outputs": [
    {
     "data": {
      "text/plain": [
       "0      100\n",
       "1      100\n",
       "2      100\n",
       "3      100\n",
       "4      100\n",
       "      ... \n",
       "360    200\n",
       "361    200\n",
       "362    155\n",
       "363    144\n",
       "364    172\n",
       "Name: Subscribers gained, Length: 365, dtype: int64"
      ]
     },
     "execution_count": 59,
     "metadata": {},
     "output_type": "execute_result"
    }
   ],
   "source": [
    "# clip\n",
    "subs.clip(100,200)"
   ]
  },
  {
   "cell_type": "markdown",
   "id": "4ea79dbcd9356531",
   "metadata": {},
   "source": [
    "### drops_duplicate\n",
    "Drops duplicate rows based on object value.\n",
    "```python\n",
    " Syntax: Series.drop_duplicates(subset=None, keep='first', inplace=False)\n",
    "```"
   ]
  },
  {
   "cell_type": "code",
   "execution_count": 60,
   "id": "6050d25020fd2ead",
   "metadata": {
    "ExecuteTime": {
     "end_time": "2025-02-07T11:30:32.892120Z",
     "start_time": "2025-02-07T11:30:32.868767Z"
    }
   },
   "outputs": [
    {
     "data": {
      "text/plain": [
       "0    1\n",
       "1    1\n",
       "2    2\n",
       "3    2\n",
       "4    3\n",
       "5    3\n",
       "6    4\n",
       "7    4\n",
       "dtype: int64"
      ]
     },
     "execution_count": 60,
     "metadata": {},
     "output_type": "execute_result"
    }
   ],
   "source": [
    "# drop_duplicates\n",
    "temp = pd.Series([1,1,2,2,3,3,4,4])\n",
    "temp"
   ]
  },
  {
   "cell_type": "code",
   "execution_count": 61,
   "id": "22dc5635cf849aaa",
   "metadata": {
    "ExecuteTime": {
     "end_time": "2025-02-07T11:30:33.046253Z",
     "start_time": "2025-02-07T11:30:33.023093Z"
    }
   },
   "outputs": [
    {
     "data": {
      "text/plain": [
       "1    1\n",
       "3    2\n",
       "5    3\n",
       "7    4\n",
       "dtype: int64"
      ]
     },
     "execution_count": 61,
     "metadata": {},
     "output_type": "execute_result"
    }
   ],
   "source": [
    "temp.drop_duplicates(keep=\"last\")"
   ]
  },
  {
   "cell_type": "code",
   "execution_count": 62,
   "id": "3d9499c5cf97f34c",
   "metadata": {
    "ExecuteTime": {
     "end_time": "2025-02-07T11:30:33.506338Z",
     "start_time": "2025-02-07T11:30:33.487629Z"
    }
   },
   "outputs": [
    {
     "data": {
      "text/plain": [
       "np.int64(10)"
      ]
     },
     "execution_count": 62,
     "metadata": {},
     "output_type": "execute_result"
    }
   ],
   "source": [
    "temp.drop_duplicates().sum()"
   ]
  },
  {
   "cell_type": "code",
   "execution_count": 63,
   "id": "c2df76bfdaf990c1",
   "metadata": {
    "ExecuteTime": {
     "end_time": "2025-02-07T11:30:33.793006Z",
     "start_time": "2025-02-07T11:30:33.780449Z"
    }
   },
   "outputs": [
    {
     "data": {
      "text/plain": [
       "566"
      ]
     },
     "execution_count": 63,
     "metadata": {},
     "output_type": "execute_result"
    }
   ],
   "source": [
    "movies.drop_duplicates().size"
   ]
  },
  {
   "cell_type": "code",
   "execution_count": 64,
   "id": "c0bdaab3ca625a91",
   "metadata": {
    "ExecuteTime": {
     "end_time": "2025-02-07T11:30:34.205430Z",
     "start_time": "2025-02-07T11:30:34.183735Z"
    }
   },
   "outputs": [
    {
     "data": {
      "text/plain": [
       "0    1.0\n",
       "1    2.0\n",
       "2    3.0\n",
       "3    4.0\n",
       "4    5.0\n",
       "5    NaN\n",
       "6    NaN\n",
       "7    NaN\n",
       "dtype: float64"
      ]
     },
     "execution_count": 64,
     "metadata": {},
     "output_type": "execute_result"
    }
   ],
   "source": [
    "temp=pd.Series([1,2,3,4,5,np.nan,np.nan,np.nan])\n",
    "temp"
   ]
  },
  {
   "cell_type": "code",
   "execution_count": 65,
   "id": "55bcf2c2dd369644",
   "metadata": {
    "ExecuteTime": {
     "end_time": "2025-02-07T11:30:34.427917Z",
     "start_time": "2025-02-07T11:30:34.403462Z"
    }
   },
   "outputs": [
    {
     "data": {
      "text/plain": [
       "8"
      ]
     },
     "execution_count": 65,
     "metadata": {},
     "output_type": "execute_result"
    }
   ],
   "source": [
    "temp.size"
   ]
  },
  {
   "cell_type": "markdown",
   "id": "cc9655eca843ee35",
   "metadata": {},
   "source": [
    "### Working On Missing Value\n",
    "In Pandas, several attributes and methods are useful when working with NaN (missing) values in a `Series`. Here are some commonly used ones:\n",
    "\n",
    "1. **`isna()`** or `isnull()`: Checks for NaN values.\n",
    "   ```python\n",
    "   series.isna()  # or series.isnull()\n",
    "   ```\n",
    "\n",
    "2. **`notna()`**: Checks for non-NaN values.\n",
    "   ```python\n",
    "   series.notna()\n",
    "   ```\n",
    "\n",
    "3. **`dropna()`**: Removes rows with any NaN values.\n",
    "   ```python\n",
    "   series.dropna()\n",
    "   ```\n",
    "\n",
    "4. **`fillna()`**: Fills NaN values with a specified value or method.\n",
    "   ```python\n",
    "   series.fillna(value)\n",
    "   series.fillna(method='ffill')  # Forward fill\n",
    "   series.fillna(method='bfill')  # Backward fill\n",
    "   ```\n",
    "\n",
    "5. **`drop_duplicates()`**: Not directly related to NaNs, but useful for removing duplicate rows with NaN values.\n",
    "   ```python\n",
    "   series.drop_duplicates()\n",
    "   ```\n",
    "\n",
    "6. **`count()`**: Counts non-NaN elements in the Series.\n",
    "   ```python\n",
    "   series.count()\n",
    "   ```\n",
    "\n",
    "7. **`fillna()` and `interpolate()`**: Combines to fill NaNs using interpolation methods.\n",
    "   ```python\n",
    "   series.fillna(series.interpolate())\n",
    "   ```\n",
    "\n",
    "These attributes and methods provide comprehensive tools for handling NaN values in a Pandas `Series`."
   ]
  },
  {
   "cell_type": "code",
   "execution_count": 66,
   "id": "8aed8a4df8a5e558",
   "metadata": {
    "ExecuteTime": {
     "end_time": "2025-02-07T11:30:34.565002Z",
     "start_time": "2025-02-07T11:30:34.549377Z"
    }
   },
   "outputs": [
    {
     "data": {
      "text/plain": [
       "True"
      ]
     },
     "execution_count": 66,
     "metadata": {},
     "output_type": "execute_result"
    }
   ],
   "source": [
    "# hasnans\n",
    "temp.hasnans"
   ]
  },
  {
   "cell_type": "code",
   "execution_count": 67,
   "id": "67bd07e6f0d5406d",
   "metadata": {
    "ExecuteTime": {
     "end_time": "2025-02-07T11:30:34.763039Z",
     "start_time": "2025-02-07T11:30:34.731787Z"
    }
   },
   "outputs": [
    {
     "data": {
      "text/plain": [
       "np.int64(3)"
      ]
     },
     "execution_count": 67,
     "metadata": {},
     "output_type": "execute_result"
    }
   ],
   "source": [
    "temp.isnull().sum()"
   ]
  },
  {
   "cell_type": "code",
   "execution_count": 68,
   "id": "a001c069870e75fd",
   "metadata": {
    "ExecuteTime": {
     "end_time": "2025-02-07T11:30:34.916034Z",
     "start_time": "2025-02-07T11:30:34.884889Z"
    }
   },
   "outputs": [
    {
     "data": {
      "text/plain": [
       "np.int64(5)"
      ]
     },
     "execution_count": 68,
     "metadata": {},
     "output_type": "execute_result"
    }
   ],
   "source": [
    "temp.notnull().sum()"
   ]
  },
  {
   "cell_type": "code",
   "execution_count": 69,
   "id": "bac60898208dc8c6",
   "metadata": {
    "ExecuteTime": {
     "end_time": "2025-02-07T11:30:35.024673Z",
     "start_time": "2025-02-07T11:30:34.973693Z"
    }
   },
   "outputs": [
    {
     "data": {
      "text/plain": [
       "0    1.0\n",
       "1    2.0\n",
       "2    3.0\n",
       "3    4.0\n",
       "4    5.0\n",
       "dtype: float64"
      ]
     },
     "execution_count": 69,
     "metadata": {},
     "output_type": "execute_result"
    }
   ],
   "source": [
    "temp.dropna()"
   ]
  },
  {
   "cell_type": "code",
   "execution_count": 70,
   "id": "80ff9fb430bd0107",
   "metadata": {
    "ExecuteTime": {
     "end_time": "2025-02-07T11:30:35.323075Z",
     "start_time": "2025-02-07T11:30:35.297035Z"
    }
   },
   "outputs": [
    {
     "data": {
      "text/plain": [
       "0    1.0\n",
       "1    2.0\n",
       "2    3.0\n",
       "3    4.0\n",
       "4    5.0\n",
       "5    3.0\n",
       "6    3.0\n",
       "7    3.0\n",
       "dtype: float64"
      ]
     },
     "execution_count": 70,
     "metadata": {},
     "output_type": "execute_result"
    }
   ],
   "source": [
    "temp.fillna(temp.mean())"
   ]
  },
  {
   "cell_type": "markdown",
   "id": "65d2d9d85a644005",
   "metadata": {},
   "source": [
    "### isin\n",
    "The method `isin()` is used to check if each element of the Series is contained in a given list or set of values. It returns a boolean array indicating whether each element is in the specified set.\n",
    "\n",
    "### Syntax:\n",
    "```python\n",
    "DataFrame.isin(values)\n",
    "Series.isin(values)\n",
    "```"
   ]
  },
  {
   "cell_type": "code",
   "execution_count": 71,
   "id": "8256a5c949243989",
   "metadata": {
    "ExecuteTime": {
     "end_time": "2025-02-07T11:30:35.514720Z",
     "start_time": "2025-02-07T11:30:35.482360Z"
    }
   },
   "outputs": [
    {
     "data": {
      "text/plain": [
       "match_no\n",
       "82    99\n",
       "86    49\n",
       "Name: runs, dtype: int64"
      ]
     },
     "execution_count": 71,
     "metadata": {},
     "output_type": "execute_result"
    }
   ],
   "source": [
    "# isin\n",
    "vk[vk.isin([49,99])]"
   ]
  },
  {
   "cell_type": "markdown",
   "id": "31858c340fc12af8",
   "metadata": {},
   "source": [
    "### apply\n",
    "The `apply` function is used on Series or DataFrame objects to apply a given function to each element of the data. Syntax:\n",
    "\n",
    "```python\n",
    "new_series = series.apply(func, axis=0, raw=True, result_type='reduce', args=None, **kwargs)\n",
    "```\n",
    "\n",
    "or\n",
    "\n",
    "```python\n",
    "result = df.apply(func, axis=1, raw=False, result_type='expand')\n",
    "```\n",
    "The `axis` parameter specifies whether it should be applied along the rows (`0`) or columns (`1`). The `raw` parameter can be set to `True` if you want to apply the function directly to the data. `result_type` determines how the output type is handled. You can also pass additional keyword arguments to `func` as needed."
   ]
  },
  {
   "cell_type": "code",
   "execution_count": 72,
   "id": "49436e8a980daff4",
   "metadata": {
    "ExecuteTime": {
     "end_time": "2025-02-07T11:30:35.907630Z",
     "start_time": "2025-02-07T11:30:35.870673Z"
    }
   },
   "outputs": [
    {
     "data": {
      "text/plain": [
       "0       bad day\n",
       "1       bad day\n",
       "2       bad day\n",
       "3       bad day\n",
       "4       bad day\n",
       "         ...   \n",
       "360    good day\n",
       "361    good day\n",
       "362    good day\n",
       "363    good day\n",
       "364    good day\n",
       "Name: Subscribers gained, Length: 365, dtype: object"
      ]
     },
     "execution_count": 72,
     "metadata": {},
     "output_type": "execute_result"
    }
   ],
   "source": [
    "# apply\n",
    "subs.apply(lambda x : \"good day\" if x>subs.mean() else \"bad day\")"
   ]
  },
  {
   "cell_type": "markdown",
   "id": "27fff85398271068",
   "metadata": {},
   "source": [
    "### apply\n",
    "The `copy()` method creates a shallow copy of the DataFrame, Series or any other object in pandas. It returns a new object with the same data as the original. Syntax:\n",
    "\n",
    "```python\n",
    "new_obj = obj.copy()\n",
    "```\n",
    "You can pass various parameters to customize the operation:\n",
    "\n",
    "- `deep`: If True, then nested objects (like lists or dictionaries) will be deep copied.\n",
    "- `index`: Can specify the index if you don't want to use the original one.\n",
    "- `columns`: Similar to index, but for columns instead of the index.\n",
    "- `copy_interval`: Specifies the number of rows that should fit in memory before a copy is made.\n",
    "\n",
    "```python\n",
    "new_obj = obj.copy(deep=True, index=index_subset)\n",
    "```\n",
    "\n",
    "This creates a deep copy of `obj` using only the subset of `index`."
   ]
  },
  {
   "cell_type": "code",
   "execution_count": 73,
   "id": "65222ed8657a0770",
   "metadata": {
    "ExecuteTime": {
     "end_time": "2025-02-07T11:30:36.457609Z",
     "start_time": "2025-02-07T11:30:36.433668Z"
    }
   },
   "outputs": [
    {
     "data": {
      "text/plain": [
       "match_no\n",
       "1    100\n",
       "2     23\n",
       "3     13\n",
       "4     12\n",
       "5      1\n",
       "Name: runs, dtype: int64"
      ]
     },
     "execution_count": 73,
     "metadata": {},
     "output_type": "execute_result"
    }
   ],
   "source": [
    "# copy\n",
    "new = vk.head()\n",
    "new[1]=100\n",
    "new"
   ]
  },
  {
   "cell_type": "code",
   "execution_count": 74,
   "id": "bb18698bcc2fc2e5",
   "metadata": {
    "ExecuteTime": {
     "end_time": "2025-02-07T11:30:36.839865Z",
     "start_time": "2025-02-07T11:30:36.826426Z"
    }
   },
   "outputs": [
    {
     "data": {
      "text/plain": [
       "match_no\n",
       "1    100\n",
       "2     23\n",
       "3     13\n",
       "4     12\n",
       "5      1\n",
       "Name: runs, dtype: int64"
      ]
     },
     "execution_count": 74,
     "metadata": {},
     "output_type": "execute_result"
    }
   ],
   "source": [
    "vk.head()"
   ]
  },
  {
   "cell_type": "code",
   "execution_count": 75,
   "id": "c2af79f903c90a3b",
   "metadata": {
    "ExecuteTime": {
     "end_time": "2025-02-07T11:30:37.156019Z",
     "start_time": "2025-02-07T11:30:37.128158Z"
    }
   },
   "outputs": [
    {
     "name": "stdout",
     "output_type": "stream",
     "text": [
      "match_no\n",
      "1    100\n",
      "2     23\n",
      "3     13\n",
      "4     12\n",
      "5      1\n",
      "0     10\n",
      "Name: runs, dtype: int64\n"
     ]
    }
   ],
   "source": [
    "new = vk.head().copy()\n",
    "new[0]=10\n",
    "print(new)"
   ]
  }
 ],
 "metadata": {
  "kernelspec": {
   "display_name": "Python 3 (ipykernel)",
   "language": "python",
   "name": "python3"
  },
  "language_info": {
   "codemirror_mode": {
    "name": "ipython",
    "version": 3
   },
   "file_extension": ".py",
   "mimetype": "text/x-python",
   "name": "python",
   "nbconvert_exporter": "python",
   "pygments_lexer": "ipython3",
   "version": "3.10.6"
  }
 },
 "nbformat": 4,
 "nbformat_minor": 5
}
