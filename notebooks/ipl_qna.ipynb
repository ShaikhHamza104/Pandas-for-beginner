{
 "cells": [
  {
   "cell_type": "code",
   "execution_count": 7,
   "id": "3c6530a4080fe7b0",
   "metadata": {
    "ExecuteTime": {
     "end_time": "2025-02-08T15:28:55.144726Z",
     "start_time": "2025-02-08T15:28:55.113474Z"
    }
   },
   "outputs": [],
   "source": [
    "import  pandas as pd\n",
    "import numpy as np\n",
    "matches = pd.read_csv('../datasets/matches_clean.csv')"
   ]
  },
  {
   "cell_type": "code",
   "execution_count": 8,
   "id": "65b95d492ea3a904",
   "metadata": {
    "ExecuteTime": {
     "end_time": "2025-02-08T15:28:56.906493Z",
     "start_time": "2025-02-08T15:28:56.860243Z"
    }
   },
   "outputs": [
    {
     "data": {
      "text/html": [
       "<div>\n",
       "<style scoped>\n",
       "    .dataframe tbody tr th:only-of-type {\n",
       "        vertical-align: middle;\n",
       "    }\n",
       "\n",
       "    .dataframe tbody tr th {\n",
       "        vertical-align: top;\n",
       "    }\n",
       "\n",
       "    .dataframe thead th {\n",
       "        text-align: right;\n",
       "    }\n",
       "</style>\n",
       "<table border=\"1\" class=\"dataframe\">\n",
       "  <thead>\n",
       "    <tr style=\"text-align: right;\">\n",
       "      <th></th>\n",
       "      <th>season</th>\n",
       "      <th>city</th>\n",
       "      <th>date</th>\n",
       "      <th>match_type</th>\n",
       "      <th>player_of_match</th>\n",
       "      <th>venue</th>\n",
       "      <th>team1</th>\n",
       "      <th>team2</th>\n",
       "      <th>toss_winner</th>\n",
       "      <th>toss_decision</th>\n",
       "      <th>winner</th>\n",
       "      <th>result</th>\n",
       "      <th>result_margin</th>\n",
       "      <th>target_runs</th>\n",
       "      <th>target_overs</th>\n",
       "      <th>super_over</th>\n",
       "      <th>method</th>\n",
       "      <th>umpire1</th>\n",
       "      <th>umpire2</th>\n",
       "    </tr>\n",
       "  </thead>\n",
       "  <tbody>\n",
       "    <tr>\n",
       "      <th>0</th>\n",
       "      <td>2007</td>\n",
       "      <td>Bangalore</td>\n",
       "      <td>2008-04-18</td>\n",
       "      <td>League</td>\n",
       "      <td>BB McCullum</td>\n",
       "      <td>M Chinnaswamy Stadium</td>\n",
       "      <td>Royal Challengers Bangalore</td>\n",
       "      <td>Kolkata Knight Riders</td>\n",
       "      <td>Royal Challengers Bangalore</td>\n",
       "      <td>field</td>\n",
       "      <td>Kolkata Knight Riders</td>\n",
       "      <td>runs</td>\n",
       "      <td>140.0</td>\n",
       "      <td>223.0</td>\n",
       "      <td>20.0</td>\n",
       "      <td>N</td>\n",
       "      <td>NaN</td>\n",
       "      <td>Asad Rauf</td>\n",
       "      <td>RE Koertzen</td>\n",
       "    </tr>\n",
       "    <tr>\n",
       "      <th>1</th>\n",
       "      <td>2007</td>\n",
       "      <td>Chandigarh</td>\n",
       "      <td>2008-04-19</td>\n",
       "      <td>League</td>\n",
       "      <td>MEK Hussey</td>\n",
       "      <td>Punjab Cricket Association Stadium, Mohali</td>\n",
       "      <td>Kings XI Punjab</td>\n",
       "      <td>Chennai Super Kings</td>\n",
       "      <td>Chennai Super Kings</td>\n",
       "      <td>bat</td>\n",
       "      <td>Chennai Super Kings</td>\n",
       "      <td>runs</td>\n",
       "      <td>33.0</td>\n",
       "      <td>241.0</td>\n",
       "      <td>20.0</td>\n",
       "      <td>N</td>\n",
       "      <td>NaN</td>\n",
       "      <td>MR Benson</td>\n",
       "      <td>SL Shastri</td>\n",
       "    </tr>\n",
       "  </tbody>\n",
       "</table>\n",
       "</div>"
      ],
      "text/plain": [
       "   season        city        date match_type player_of_match  \\\n",
       "0    2007   Bangalore  2008-04-18     League     BB McCullum   \n",
       "1    2007  Chandigarh  2008-04-19     League      MEK Hussey   \n",
       "\n",
       "                                        venue                        team1  \\\n",
       "0                       M Chinnaswamy Stadium  Royal Challengers Bangalore   \n",
       "1  Punjab Cricket Association Stadium, Mohali              Kings XI Punjab   \n",
       "\n",
       "                   team2                  toss_winner toss_decision  \\\n",
       "0  Kolkata Knight Riders  Royal Challengers Bangalore         field   \n",
       "1    Chennai Super Kings          Chennai Super Kings           bat   \n",
       "\n",
       "                  winner result  result_margin  target_runs  target_overs  \\\n",
       "0  Kolkata Knight Riders   runs          140.0        223.0          20.0   \n",
       "1    Chennai Super Kings   runs           33.0        241.0          20.0   \n",
       "\n",
       "  super_over method    umpire1      umpire2  \n",
       "0          N    NaN  Asad Rauf  RE Koertzen  \n",
       "1          N    NaN  MR Benson   SL Shastri  "
      ]
     },
     "execution_count": 8,
     "metadata": {},
     "output_type": "execute_result"
    }
   ],
   "source": [
    "matches.head(2)"
   ]
  },
  {
   "cell_type": "code",
   "execution_count": 13,
   "id": "a1aa2a7581483a6c",
   "metadata": {
    "ExecuteTime": {
     "end_time": "2025-02-08T15:29:56.434312Z",
     "start_time": "2025-02-08T15:29:56.403061Z"
    }
   },
   "outputs": [
    {
     "data": {
      "text/plain": [
       "winner\n",
       "Mumbai Indians    144\n",
       "Name: count, dtype: int64"
      ]
     },
     "execution_count": 13,
     "metadata": {},
     "output_type": "execute_result"
    }
   ],
   "source": [
    "matches.winner.value_counts().sort_values(ascending=False).head(1)"
   ]
  },
  {
   "cell_type": "markdown",
   "id": "a8012bba4c75880",
   "metadata": {},
   "source": [
    "2. Toss Impact: Does winning the toss significantly increase the chances of winning the match?\n"
   ]
  },
  {
   "cell_type": "code",
   "execution_count": 17,
   "id": "b6c38a9c5d990f58",
   "metadata": {
    "ExecuteTime": {
     "end_time": "2025-02-08T15:31:49.891926Z",
     "start_time": "2025-02-08T15:31:49.876290Z"
    }
   },
   "outputs": [
    {
     "data": {
      "text/plain": [
       "toss_decision\n",
       "field    704\n",
       "bat      391\n",
       "Name: count, dtype: int64"
      ]
     },
     "execution_count": 17,
     "metadata": {},
     "output_type": "execute_result"
    }
   ],
   "source": [
    "matches.toss_decision.value_counts().sort_values(ascending=False)"
   ]
  },
  {
   "cell_type": "markdown",
   "id": "e180341c908f130",
   "metadata": {},
   "source": [
    "3. Biggest Wins: What are the top 5 matches with the highest winning margins?\n"
   ]
  },
  {
   "cell_type": "code",
   "execution_count": 21,
   "id": "e15319ec2964a0c1",
   "metadata": {
    "ExecuteTime": {
     "end_time": "2025-02-08T15:34:07.792785Z",
     "start_time": "2025-02-08T15:34:07.761476Z"
    }
   },
   "outputs": [
    {
     "data": {
      "text/plain": [
       "result_margin\n",
       "6.0    131\n",
       "7.0    130\n",
       "5.0    109\n",
       "8.0     85\n",
       "4.0     74\n",
       "Name: count, dtype: int64"
      ]
     },
     "execution_count": 21,
     "metadata": {},
     "output_type": "execute_result"
    }
   ],
   "source": [
    "matches.result_margin.value_counts().sort_values(ascending=False).head()"
   ]
  },
  {
   "cell_type": "markdown",
   "id": "d2ac21d686630655",
   "metadata": {},
   "source": [
    "4. Super Over Frequency: How often do matches go into a Super Over?\n"
   ]
  },
  {
   "cell_type": "code",
   "execution_count": 36,
   "id": "f8daabf9e89ff363",
   "metadata": {
    "ExecuteTime": {
     "end_time": "2025-02-08T15:37:27.071044Z",
     "start_time": "2025-02-08T15:37:27.039796Z"
    }
   },
   "outputs": [
    {
     "data": {
      "text/plain": [
       "14"
      ]
     },
     "execution_count": 36,
     "metadata": {},
     "output_type": "execute_result"
    }
   ],
   "source": [
    "matches[matches['super_over']=='Y'].shape[0]"
   ]
  },
  {
   "cell_type": "markdown",
   "id": "bb258b09bbbe3b2d",
   "metadata": {},
   "source": [
    "5. Venue Influence: Which stadium has hosted the most IPL matches?"
   ]
  },
  {
   "cell_type": "code",
   "execution_count": 39,
   "id": "593eebd5f7592d66",
   "metadata": {
    "ExecuteTime": {
     "end_time": "2025-02-08T15:38:43.872625Z",
     "start_time": "2025-02-08T15:38:43.856906Z"
    }
   },
   "outputs": [
    {
     "data": {
      "text/plain": [
       "venue\n",
       "Eden Gardens    77\n",
       "Name: count, dtype: int64"
      ]
     },
     "execution_count": 39,
     "metadata": {},
     "output_type": "execute_result"
    }
   ],
   "source": [
    "matches.venue.value_counts().sort_values(ascending=False).head(1)"
   ]
  },
  {
   "cell_type": "markdown",
   "id": "cbd2b3f1f417d5ce",
   "metadata": {},
   "source": [
    "6. Toss Decision Trends: Do teams prefer to bat first or chase more often after winning the toss?\n"
   ]
  },
  {
   "cell_type": "code",
   "execution_count": 53,
   "id": "6406e7a253541177",
   "metadata": {
    "ExecuteTime": {
     "end_time": "2025-02-08T15:43:18.375956Z",
     "start_time": "2025-02-08T15:43:18.359921Z"
    }
   },
   "outputs": [
    {
     "data": {
      "text/plain": [
       "Index(['season', 'city', 'date', 'match_type', 'player_of_match', 'venue',\n",
       "       'team1', 'team2', 'toss_winner', 'toss_decision', 'winner', 'result',\n",
       "       'result_margin', 'target_runs', 'target_overs', 'super_over', 'method',\n",
       "       'umpire1', 'umpire2'],\n",
       "      dtype='object')"
      ]
     },
     "execution_count": 53,
     "metadata": {},
     "output_type": "execute_result"
    }
   ],
   "source": [
    "matches.columns"
   ]
  },
  {
   "cell_type": "code",
   "execution_count": 76,
   "id": "e25f965dc0a4c9e5",
   "metadata": {
    "ExecuteTime": {
     "end_time": "2025-02-08T15:48:51.043967Z",
     "start_time": "2025-02-08T15:48:51.028343Z"
    }
   },
   "outputs": [
    {
     "data": {
      "text/plain": [
       "winner\n",
       "Chennai Super Kings    63\n",
       "Name: count, dtype: int64"
      ]
     },
     "execution_count": 76,
     "metadata": {},
     "output_type": "execute_result"
    }
   ],
   "source": [
    "matches[matches['toss_decision']=='bat']['winner'].value_counts().sort_values(ascending=False).head(1)"
   ]
  },
  {
   "cell_type": "markdown",
   "id": "18830bef91075c9a",
   "metadata": {},
   "source": [
    "7. Best Chasing Teams: Which team has won the most matches while chasing a target?"
   ]
  },
  {
   "cell_type": "code",
   "execution_count": 77,
   "id": "fd14c4ba2d21c4d0",
   "metadata": {
    "ExecuteTime": {
     "end_time": "2025-02-08T15:50:25.283957Z",
     "start_time": "2025-02-08T15:50:25.252718Z"
    }
   },
   "outputs": [
    {
     "data": {
      "text/plain": [
       "Index(['season', 'city', 'date', 'match_type', 'player_of_match', 'venue',\n",
       "       'team1', 'team2', 'toss_winner', 'toss_decision', 'winner', 'result',\n",
       "       'result_margin', 'target_runs', 'target_overs', 'super_over', 'method',\n",
       "       'umpire1', 'umpire2'],\n",
       "      dtype='object')"
      ]
     },
     "execution_count": 77,
     "metadata": {},
     "output_type": "execute_result"
    }
   ],
   "source": [
    "matches.columns"
   ]
  },
  {
   "cell_type": "code",
   "execution_count": 129,
   "id": "89105546c3bd2ec9",
   "metadata": {
    "ExecuteTime": {
     "end_time": "2025-02-08T16:20:20.212859Z",
     "start_time": "2025-02-08T16:20:20.182217Z"
    }
   },
   "outputs": [
    {
     "data": {
      "text/plain": [
       "Gujarat Lions             80.000000\n",
       "Gujarat Titans            73.913043\n",
       "Kochi Tuskers Kerala      66.666667\n",
       "Rajasthan Royals          66.336634\n",
       "Mumbai Indians            60.169492\n",
       "Kolkata Knight Riders     58.914729\n",
       "Delhi Capitals            58.536585\n",
       "Chennai Super Kings       57.758621\n",
       "Delhi Daredevils          51.851852\n",
       "Rising Pune Supergiant    50.000000\n",
       "Name: count, dtype: float64"
      ]
     },
     "execution_count": 129,
     "metadata": {},
     "output_type": "execute_result"
    }
   ],
   "source": [
    "# Filter matches where the result was decided by wickets (i.e., chased successfully)\n",
    "chasing_wins = matches[matches[\"result\"] == \"wickets\"]\n",
    "\n",
    "# Count the number of times each team won while chasing\n",
    "chasing_wins_count = chasing_wins[\"winner\"].value_counts()\n",
    "\n",
    "# Count the number of times each team got a chance to chase\n",
    "chasing_matches_count = matches[matches[\"team1\"] != matches[\"toss_winner\"]][\"team1\"].value_counts() + \\\n",
    "                        matches[matches[\"team2\"] != matches[\"toss_winner\"]][\"team2\"].value_counts()\n",
    "\n",
    "# Calculate chase win percentage\n",
    "chase_win_percentage = (chasing_wins_count / chasing_matches_count) * 100\n",
    "\n",
    "# Display top chasing teams\n",
    "chase_win_percentage.dropna().sort_values(ascending=False).head(10)\n"
   ]
  },
  {
   "cell_type": "markdown",
   "id": "b6864929d7ad8372",
   "metadata": {},
   "source": [
    "8. Player Performances: Who has won the most \"Player of the Match\" awards?\n"
   ]
  },
  {
   "cell_type": "code",
   "execution_count": 80,
   "id": "4d2cb3975a7d6b21",
   "metadata": {
    "ExecuteTime": {
     "end_time": "2025-02-08T15:52:08.859875Z",
     "start_time": "2025-02-08T15:52:08.838625Z"
    }
   },
   "outputs": [
    {
     "data": {
      "text/plain": [
       "player_of_match\n",
       "AB de Villiers    25\n",
       "Name: count, dtype: int64"
      ]
     },
     "execution_count": 80,
     "metadata": {},
     "output_type": "execute_result"
    }
   ],
   "source": [
    "matches['player_of_match'].value_counts().sort_values(ascending=False).head(1)"
   ]
  },
  {
   "cell_type": "markdown",
   "id": "864c82c00b684efa",
   "metadata": {},
   "source": [
    "9. Rain-Affected Matches: How many matches were decided by the \"method\" column (Duckworth-Lewis or other)?"
   ]
  },
  {
   "cell_type": "code",
   "execution_count": 116,
   "id": "52b818c217fb01bc",
   "metadata": {
    "ExecuteTime": {
     "end_time": "2025-02-08T16:09:41.228530Z",
     "start_time": "2025-02-08T16:09:41.150412Z"
    }
   },
   "outputs": [
    {
     "data": {
      "text/plain": [
       "21"
      ]
     },
     "execution_count": 116,
     "metadata": {},
     "output_type": "execute_result"
    }
   ],
   "source": [
    "matches.groupby('method').value_counts(ascending=False).sort_values(ascending=False).shape[0]"
   ]
  },
  {
   "cell_type": "code",
   "execution_count": 119,
   "id": "482b59a3f2b95181",
   "metadata": {
    "ExecuteTime": {
     "end_time": "2025-02-08T16:10:36.161983Z",
     "start_time": "2025-02-08T16:10:36.131340Z"
    }
   },
   "outputs": [
    {
     "data": {
      "text/plain": [
       "21"
      ]
     },
     "execution_count": 119,
     "metadata": {},
     "output_type": "execute_result"
    }
   ],
   "source": [
    "matches[matches['method']=='D/L'].value_counts().sort_values(ascending=False).shape[0]"
   ]
  },
  {
   "cell_type": "markdown",
   "id": "8d0aa4a359fe591d",
   "metadata": {},
   "source": [
    "10. Season Trends: Has the average winning margin changed over the seasons?"
   ]
  },
  {
   "cell_type": "code",
   "execution_count": 131,
   "id": "6b1386b77352bb41",
   "metadata": {
    "ExecuteTime": {
     "end_time": "2025-02-08T16:21:14.625096Z",
     "start_time": "2025-02-08T16:21:14.117304Z"
    }
   },
   "outputs": [
    {
     "data": {
      "image/png": "[encoded data removed]",
      "text/plain": [
       "<Figure size 1000x500 with 1 Axes>"
      ]
     },
     "metadata": {},
     "output_type": "display_data"
    }
   ],
   "source": [
    "import matplotlib.pyplot as plt\n",
    "\n",
    "# Group by season and calculate the average winning margin (for both runs and wickets)\n",
    "season_trends = matches.groupby(\"season\")[\"result_margin\"].mean()\n",
    "\n",
    "# Plot the trend\n",
    "plt.figure(figsize=(10, 5))\n",
    "plt.plot(season_trends.index, season_trends.values, marker='o', linestyle='-', color='b')\n",
    "plt.xlabel(\"Season\")\n",
    "plt.ylabel(\"Average Winning Margin\")\n",
    "plt.title(\"Trend of Average Winning Margin in IPL Over the Years\")\n",
    "plt.grid(True)\n",
    "plt.show()\n"
   ]
  }
 ],
 "metadata": {
  "kernelspec": {
   "display_name": "Python 3",
   "language": "python",
   "name": "python3"
  },
  "language_info": {
   "codemirror_mode": {
    "name": "ipython",
    "version": 2
   },
   "file_extension": ".py",
   "mimetype": "text/x-python",
   "name": "python",
   "nbconvert_exporter": "python",
   "pygments_lexer": "ipython2",
   "version": "2.7.6"
  }
 },
 "nbformat": 4,
 "nbformat_minor": 5
}
