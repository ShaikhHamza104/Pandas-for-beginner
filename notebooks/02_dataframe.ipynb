{
 "cells": [
  {
   "metadata": {},
   "cell_type": "markdown",
   "source": [
    "### What is Dataframe?\n",
    "In pandas, a DataFrame is a two-dimensional table of data with labeled axes (rows and columns). It's similar to an\n",
    "Excel spreadsheet or a SQL table. A DataFrame allows you to store and manipulate tabular data, such as numbers,\n",
    "strings, and dates. DataFrames are often used for data analysis, manipulation, and visualization."
   ],
   "id": "e2a9e8680eb1e805"
  },
  {
   "metadata": {
    "ExecuteTime": {
     "end_time": "2025-02-05T16:18:16.545390Z",
     "start_time": "2025-02-05T16:18:16.521140Z"
    }
   },
   "cell_type": "code",
   "source": [
    "import pandas as pd\n",
    "import numpy as np"
   ],
   "id": "4a5977a2f42de0fe",
   "outputs": [],
   "execution_count": 30
  },
  {
   "metadata": {},
   "cell_type": "markdown",
   "source": "### Creating a dataframe",
   "id": "3b47a9850092f53a"
  },
  {
   "metadata": {
    "ExecuteTime": {
     "end_time": "2025-02-05T16:18:16.577460Z",
     "start_time": "2025-02-05T16:18:16.553406Z"
    }
   },
   "cell_type": "code",
   "source": [
    "# Using lists\n",
    "student_data = [\n",
    "    [100,80,10],\n",
    "    [90,70,7],\n",
    "    [120,100,14],\n",
    "    [80,50,2]\n",
    "]\n",
    "pd.DataFrame(student_data,columns=['Iq','Marks','Package'],dtype='int8')"
   ],
   "id": "ea2b821773fb1205",
   "outputs": [
    {
     "data": {
      "text/plain": [
       "    Iq  Marks  Package\n",
       "0  100     80       10\n",
       "1   90     70        7\n",
       "2  120    100       14\n",
       "3   80     50        2"
      ],
      "text/html": [
       "<div>\n",
       "<style scoped>\n",
       "    .dataframe tbody tr th:only-of-type {\n",
       "        vertical-align: middle;\n",
       "    }\n",
       "\n",
       "    .dataframe tbody tr th {\n",
       "        vertical-align: top;\n",
       "    }\n",
       "\n",
       "    .dataframe thead th {\n",
       "        text-align: right;\n",
       "    }\n",
       "</style>\n",
       "<table border=\"1\" class=\"dataframe\">\n",
       "  <thead>\n",
       "    <tr style=\"text-align: right;\">\n",
       "      <th></th>\n",
       "      <th>Iq</th>\n",
       "      <th>Marks</th>\n",
       "      <th>Package</th>\n",
       "    </tr>\n",
       "  </thead>\n",
       "  <tbody>\n",
       "    <tr>\n",
       "      <th>0</th>\n",
       "      <td>100</td>\n",
       "      <td>80</td>\n",
       "      <td>10</td>\n",
       "    </tr>\n",
       "    <tr>\n",
       "      <th>1</th>\n",
       "      <td>90</td>\n",
       "      <td>70</td>\n",
       "      <td>7</td>\n",
       "    </tr>\n",
       "    <tr>\n",
       "      <th>2</th>\n",
       "      <td>120</td>\n",
       "      <td>100</td>\n",
       "      <td>14</td>\n",
       "    </tr>\n",
       "    <tr>\n",
       "      <th>3</th>\n",
       "      <td>80</td>\n",
       "      <td>50</td>\n",
       "      <td>2</td>\n",
       "    </tr>\n",
       "  </tbody>\n",
       "</table>\n",
       "</div>"
      ]
     },
     "execution_count": 31,
     "metadata": {},
     "output_type": "execute_result"
    }
   ],
   "execution_count": 31
  },
  {
   "metadata": {
    "ExecuteTime": {
     "end_time": "2025-02-05T16:20:29.299937Z",
     "start_time": "2025-02-05T16:20:29.264013Z"
    }
   },
   "cell_type": "code",
   "source": [
    "student_dict = {\n",
    "'name':['Hamza','ankit','rupesh','rishabh','amit','ankita'],\n",
    "'iq':[100,90,120,80,0,0],\n",
    "'marks':[80,70,100,50,0,0],\n",
    "'package':[10,7,14,2,0,0]\n",
    "}\n",
    "students = pd.DataFrame(student_dict)\n",
    "students.set_index('name',inplace=True)\n",
    "students"
   ],
   "id": "1afc6a215434aec3",
   "outputs": [
    {
     "data": {
      "text/plain": [
       "          iq  marks  package\n",
       "name                        \n",
       "Hamza    100     80       10\n",
       "ankit     90     70        7\n",
       "rupesh   120    100       14\n",
       "rishabh   80     50        2\n",
       "amit       0      0        0\n",
       "ankita     0      0        0"
      ],
      "text/html": [
       "<div>\n",
       "<style scoped>\n",
       "    .dataframe tbody tr th:only-of-type {\n",
       "        vertical-align: middle;\n",
       "    }\n",
       "\n",
       "    .dataframe tbody tr th {\n",
       "        vertical-align: top;\n",
       "    }\n",
       "\n",
       "    .dataframe thead th {\n",
       "        text-align: right;\n",
       "    }\n",
       "</style>\n",
       "<table border=\"1\" class=\"dataframe\">\n",
       "  <thead>\n",
       "    <tr style=\"text-align: right;\">\n",
       "      <th></th>\n",
       "      <th>iq</th>\n",
       "      <th>marks</th>\n",
       "      <th>package</th>\n",
       "    </tr>\n",
       "    <tr>\n",
       "      <th>name</th>\n",
       "      <th></th>\n",
       "      <th></th>\n",
       "      <th></th>\n",
       "    </tr>\n",
       "  </thead>\n",
       "  <tbody>\n",
       "    <tr>\n",
       "      <th>Hamza</th>\n",
       "      <td>100</td>\n",
       "      <td>80</td>\n",
       "      <td>10</td>\n",
       "    </tr>\n",
       "    <tr>\n",
       "      <th>ankit</th>\n",
       "      <td>90</td>\n",
       "      <td>70</td>\n",
       "      <td>7</td>\n",
       "    </tr>\n",
       "    <tr>\n",
       "      <th>rupesh</th>\n",
       "      <td>120</td>\n",
       "      <td>100</td>\n",
       "      <td>14</td>\n",
       "    </tr>\n",
       "    <tr>\n",
       "      <th>rishabh</th>\n",
       "      <td>80</td>\n",
       "      <td>50</td>\n",
       "      <td>2</td>\n",
       "    </tr>\n",
       "    <tr>\n",
       "      <th>amit</th>\n",
       "      <td>0</td>\n",
       "      <td>0</td>\n",
       "      <td>0</td>\n",
       "    </tr>\n",
       "    <tr>\n",
       "      <th>ankita</th>\n",
       "      <td>0</td>\n",
       "      <td>0</td>\n",
       "      <td>0</td>\n",
       "    </tr>\n",
       "  </tbody>\n",
       "</table>\n",
       "</div>"
      ]
     },
     "execution_count": 51,
     "metadata": {},
     "output_type": "execute_result"
    }
   ],
   "execution_count": 51
  },
  {
   "metadata": {
    "ExecuteTime": {
     "end_time": "2025-02-05T16:18:17.023749Z",
     "start_time": "2025-02-05T16:18:16.927601Z"
    }
   },
   "cell_type": "code",
   "source": [
    "# using read csv\n",
    "movies = pd.read_csv('../datasets/movies.csv')\n",
    "movies.head()"
   ],
   "id": "383e98744ad1bd87",
   "outputs": [
    {
     "data": {
      "text/plain": [
       "                                title_x    imdb_id  \\\n",
       "0              Uri: The Surgical Strike  tt8291224   \n",
       "1                         Battalion 609  tt9472208   \n",
       "2  The Accidental Prime Minister (film)  tt6986710   \n",
       "3                       Why Cheat India  tt8108208   \n",
       "4                       Evening Shadows  tt6028796   \n",
       "\n",
       "                                                                                                                                poster_path  \\\n",
       "0                                      https://upload.wikimedia.org/wikipedia/en/thumb/3/3b/URI_-_New_poster.jpg/220px-URI_-_New_poster.jpg   \n",
       "1                                                                                                                                       NaN   \n",
       "2  https://upload.wikimedia.org/wikipedia/en/thumb/a/a1/The_Accidental_Prime_Minister_film.jpg/220px-The_Accidental_Prime_Minister_film.jpg   \n",
       "3                          https://upload.wikimedia.org/wikipedia/en/thumb/a/a2/Why_Cheat_India_poster.jpg/220px-Why_Cheat_India_poster.jpg   \n",
       "4                                                                                                                                       NaN   \n",
       "\n",
       "                                                            wiki_link  \\\n",
       "0              https://en.wikipedia.org/wiki/Uri:_The_Surgical_Strike   \n",
       "1                         https://en.wikipedia.org/wiki/Battalion_609   \n",
       "2  https://en.wikipedia.org/wiki/The_Accidental_Prime_Minister_(film)   \n",
       "3                       https://en.wikipedia.org/wiki/Why_Cheat_India   \n",
       "4                       https://en.wikipedia.org/wiki/Evening_Shadows   \n",
       "\n",
       "                         title_y                 original_title  is_adult  \\\n",
       "0       Uri: The Surgical Strike       Uri: The Surgical Strike         0   \n",
       "1                  Battalion 609                  Battalion 609         0   \n",
       "2  The Accidental Prime Minister  The Accidental Prime Minister         0   \n",
       "3                Why Cheat India                Why Cheat India         0   \n",
       "4                Evening Shadows                Evening Shadows         0   \n",
       "\n",
       "   year_of_release runtime            genres  imdb_rating  imdb_votes  \\\n",
       "0             2019     138  Action|Drama|War          8.4       35112   \n",
       "1             2019     131               War          4.1          73   \n",
       "2             2019     112   Biography|Drama          6.1        5549   \n",
       "3             2019     121       Crime|Drama          6.0        1891   \n",
       "4             2018     102             Drama          7.3         280   \n",
       "\n",
       "                                                                                                                                                                                                                                                                                                                                                                                                                                                                                                                                                                                                                                                                                                                                                                                  story  \\\n",
       "0                                                                                                                                                                                                                                                                                                                                                                            Divided over five chapters  the film chronicles the events of the surgical strike conducted by the Indian military against suspected militants in Pakistan occupied Kashmir. It tells the story of the 11 tumultuous events over which the operation was carried out. Indian army special forces carry out a covert operation to avenge the killing of fellow army men at their base by a terrorist group.   \n",
       "1  The story revolves around a cricket match between the Indian Army and the Pakistan Army gone wrong and narrates the tale of the soldiers of Battalion 609 putting up a fight with Taliban. After an attack on Indian Army that is Battalion 609 near the LOC  the match which was to be played between India and Pakistan is cancelled. Anwar Hussein  a Pakistani soldier who is very fond of cricket and was looking forward to the match  throws a cricket bat at the other end of the LOC and calls the Indian army and Indians a bunch of cowards. In anger  the Indian army throws a ball towards them. Soon  a verbal fight breaks between them which leads to the two teams deciding to play a cricket match. The losing team will take their post eighteen kilometres back.   \n",
       "2                                                                                                                                                                                                                                                                                                   Based on the memoir by Indian policy analyst Sanjaya Baru  The Accidental Prime Minister explores Manmohan Singh's tenure as the Prime Minister of India  and the interference of Congress Party in contradicting his decisions during his first tenure. He details how Singh fell a victim to Congress Party's dynastic approach. It highlights how Manmohan Singh was constantly ignored by Congress to maintain turf for Rahul Gandhi  the son of Sonia Gandhi and Rajiv Gandhi.   \n",
       "3                                                                                                                                                                                                                                                                                                                                                           The movie focuses on existing malpractices in country's education system  the whole concept of buying your way through education  jobs and earnings. Even with an evolving education system  the country faces scams like SSC and HSC paper leaks  CBSE re-examination  Vyaapam  etc. The movie tries to shift the attention of people to understand the vulnerability of hardworking and gifted students who get left out.   \n",
       "4                                                         While gay rights and marriage equality has been embraced by most countries  a small town in Southern India lives within a cocoon of traditions and social morality. In such a milieu when a young gay man Kartik  comes out to his mother Vasudha  her entire world comes crashing down. She has no one to turn to dispel her fears and doubts  to understand her loving son's truth. Moreover as a woman  trapped within a patriarchal conservative society  her biggest challenge is to deal with her dogmatic husband Damodar  and the conservative society around her. 'Evening Shadows' is a universal story about a mother-son bonding and its emotional strength to withstand the ravages of time and harsh realities.   \n",
       "\n",
       "                                                                                                                                                                                                                                 summary  \\\n",
       "0                                                                                                     Indian army special forces execute a covert operation  avenging the killing of fellow army men at their base by a terrorist group.   \n",
       "1           The story of Battalion 609 revolves around a cricket match between the Indian Army and the Pakistan army gone wrong and narrates the tale of the brave soldiers of Battalion 609 putting up a fight with the mighty Taliban.   \n",
       "2                                                                                                       Explores Manmohan Singh's tenure as the Prime Minister of India and the kind of control he had over the cabinet and the country.   \n",
       "3                   The movie focuses on existing malpractices in country's education system  the whole concept of buying your way through education  jobs and earnings. Even with an evolving education system  ...                       \n",
       "4  Under the 'Evening Shadows'  truth often plays hide and seek. Set in South India and Mumbai  'Evening Shadows' is a tender heartwarming story about a mother-son bond that has to withstand the ravages of time  distance and truths.   \n",
       "\n",
       "  tagline  \\\n",
       "0     NaN   \n",
       "1     NaN   \n",
       "2     NaN   \n",
       "3     NaN   \n",
       "4     NaN   \n",
       "\n",
       "                                                                                                                                                                                                          actors  \\\n",
       "0                Vicky Kaushal|Paresh Rawal|Mohit Raina|Yami Gautam|Kirti Kulhari|Rajit Kapoor|Ivan Rodrigues|Manasi Parekh|Swaroop Sampat|Riva Arora|Yogesh Soman|Fareed Ahmed|Akashdeep Arora|Kallol Banerjee|   \n",
       "1  Vicky Ahuja|Shoaib Ibrahim|Shrikant Kamat|Elena Kazan|Vishwas Kini|Major Kishore|Jashn Kohli|Rammy C. Pandey|Manish Sharma|Sparsh Sharma|Farnaz Shetty|Vikas Shrivastav|Chandraprakash Thakur|Brajesh Tiwari|   \n",
       "2                   Anupam Kher|Akshaye Khanna|Aahana Kumra|Atul Sharma|Manoj Anand|Arjun Mathur|Suzanne Bernert|Abdul Quadir Amin|Bharat Mistri|Divya Seth|Anil Rastogi|Ramesh Bhatkar|Parrgash Kaur|Jess Kaur|   \n",
       "3                                                                                                                        Emraan Hashmi|Shreya Dhanwanthary|Snighdadeep Chatterji|Navneet Srivastava|Nanda Yadav|   \n",
       "4                                                  Mona Ambegaonkar|Ananth Narayan Mahadevan|Devansh Doshi|Arpit Chaudhary|Yamini Singh|Abhay Kulkarni|Veena Nair|Disha Thakur|Kala Ramanathan|Sushant Divgikar|   \n",
       "\n",
       "         wins_nominations             release_date  \n",
       "0                  4 wins    11 January 2019 (USA)  \n",
       "1                     NaN  11 January 2019 (India)  \n",
       "2                     NaN    11 January 2019 (USA)  \n",
       "3                     NaN    18 January 2019 (USA)  \n",
       "4  17 wins & 1 nomination  11 January 2019 (India)  "
      ],
      "text/html": [
       "<div>\n",
       "<style scoped>\n",
       "    .dataframe tbody tr th:only-of-type {\n",
       "        vertical-align: middle;\n",
       "    }\n",
       "\n",
       "    .dataframe tbody tr th {\n",
       "        vertical-align: top;\n",
       "    }\n",
       "\n",
       "    .dataframe thead th {\n",
       "        text-align: right;\n",
       "    }\n",
       "</style>\n",
       "<table border=\"1\" class=\"dataframe\">\n",
       "  <thead>\n",
       "    <tr style=\"text-align: right;\">\n",
       "      <th></th>\n",
       "      <th>title_x</th>\n",
       "      <th>imdb_id</th>\n",
       "      <th>poster_path</th>\n",
       "      <th>wiki_link</th>\n",
       "      <th>title_y</th>\n",
       "      <th>original_title</th>\n",
       "      <th>is_adult</th>\n",
       "      <th>year_of_release</th>\n",
       "      <th>runtime</th>\n",
       "      <th>genres</th>\n",
       "      <th>imdb_rating</th>\n",
       "      <th>imdb_votes</th>\n",
       "      <th>story</th>\n",
       "      <th>summary</th>\n",
       "      <th>tagline</th>\n",
       "      <th>actors</th>\n",
       "      <th>wins_nominations</th>\n",
       "      <th>release_date</th>\n",
       "    </tr>\n",
       "  </thead>\n",
       "  <tbody>\n",
       "    <tr>\n",
       "      <th>0</th>\n",
       "      <td>Uri: The Surgical Strike</td>\n",
       "      <td>tt8291224</td>\n",
       "      <td>https://upload.wikimedia.org/wikipedia/en/thumb/3/3b/URI_-_New_poster.jpg/220px-URI_-_New_poster.jpg</td>\n",
       "      <td>https://en.wikipedia.org/wiki/Uri:_The_Surgical_Strike</td>\n",
       "      <td>Uri: The Surgical Strike</td>\n",
       "      <td>Uri: The Surgical Strike</td>\n",
       "      <td>0</td>\n",
       "      <td>2019</td>\n",
       "      <td>138</td>\n",
       "      <td>Action|Drama|War</td>\n",
       "      <td>8.4</td>\n",
       "      <td>35112</td>\n",
       "      <td>Divided over five chapters  the film chronicles the events of the surgical strike conducted by the Indian military against suspected militants in Pakistan occupied Kashmir. It tells the story of the 11 tumultuous events over which the operation was carried out. Indian army special forces carry out a covert operation to avenge the killing of fellow army men at their base by a terrorist group.</td>\n",
       "      <td>Indian army special forces execute a covert operation  avenging the killing of fellow army men at their base by a terrorist group.</td>\n",
       "      <td>NaN</td>\n",
       "      <td>Vicky Kaushal|Paresh Rawal|Mohit Raina|Yami Gautam|Kirti Kulhari|Rajit Kapoor|Ivan Rodrigues|Manasi Parekh|Swaroop Sampat|Riva Arora|Yogesh Soman|Fareed Ahmed|Akashdeep Arora|Kallol Banerjee|</td>\n",
       "      <td>4 wins</td>\n",
       "      <td>11 January 2019 (USA)</td>\n",
       "    </tr>\n",
       "    <tr>\n",
       "      <th>1</th>\n",
       "      <td>Battalion 609</td>\n",
       "      <td>tt9472208</td>\n",
       "      <td>NaN</td>\n",
       "      <td>https://en.wikipedia.org/wiki/Battalion_609</td>\n",
       "      <td>Battalion 609</td>\n",
       "      <td>Battalion 609</td>\n",
       "      <td>0</td>\n",
       "      <td>2019</td>\n",
       "      <td>131</td>\n",
       "      <td>War</td>\n",
       "      <td>4.1</td>\n",
       "      <td>73</td>\n",
       "      <td>The story revolves around a cricket match between the Indian Army and the Pakistan Army gone wrong and narrates the tale of the soldiers of Battalion 609 putting up a fight with Taliban. After an attack on Indian Army that is Battalion 609 near the LOC  the match which was to be played between India and Pakistan is cancelled. Anwar Hussein  a Pakistani soldier who is very fond of cricket and was looking forward to the match  throws a cricket bat at the other end of the LOC and calls the Indian army and Indians a bunch of cowards. In anger  the Indian army throws a ball towards them. Soon  a verbal fight breaks between them which leads to the two teams deciding to play a cricket match. The losing team will take their post eighteen kilometres back.</td>\n",
       "      <td>The story of Battalion 609 revolves around a cricket match between the Indian Army and the Pakistan army gone wrong and narrates the tale of the brave soldiers of Battalion 609 putting up a fight with the mighty Taliban.</td>\n",
       "      <td>NaN</td>\n",
       "      <td>Vicky Ahuja|Shoaib Ibrahim|Shrikant Kamat|Elena Kazan|Vishwas Kini|Major Kishore|Jashn Kohli|Rammy C. Pandey|Manish Sharma|Sparsh Sharma|Farnaz Shetty|Vikas Shrivastav|Chandraprakash Thakur|Brajesh Tiwari|</td>\n",
       "      <td>NaN</td>\n",
       "      <td>11 January 2019 (India)</td>\n",
       "    </tr>\n",
       "    <tr>\n",
       "      <th>2</th>\n",
       "      <td>The Accidental Prime Minister (film)</td>\n",
       "      <td>tt6986710</td>\n",
       "      <td>https://upload.wikimedia.org/wikipedia/en/thumb/a/a1/The_Accidental_Prime_Minister_film.jpg/220px-The_Accidental_Prime_Minister_film.jpg</td>\n",
       "      <td>https://en.wikipedia.org/wiki/The_Accidental_Prime_Minister_(film)</td>\n",
       "      <td>The Accidental Prime Minister</td>\n",
       "      <td>The Accidental Prime Minister</td>\n",
       "      <td>0</td>\n",
       "      <td>2019</td>\n",
       "      <td>112</td>\n",
       "      <td>Biography|Drama</td>\n",
       "      <td>6.1</td>\n",
       "      <td>5549</td>\n",
       "      <td>Based on the memoir by Indian policy analyst Sanjaya Baru  The Accidental Prime Minister explores Manmohan Singh's tenure as the Prime Minister of India  and the interference of Congress Party in contradicting his decisions during his first tenure. He details how Singh fell a victim to Congress Party's dynastic approach. It highlights how Manmohan Singh was constantly ignored by Congress to maintain turf for Rahul Gandhi  the son of Sonia Gandhi and Rajiv Gandhi.</td>\n",
       "      <td>Explores Manmohan Singh's tenure as the Prime Minister of India and the kind of control he had over the cabinet and the country.</td>\n",
       "      <td>NaN</td>\n",
       "      <td>Anupam Kher|Akshaye Khanna|Aahana Kumra|Atul Sharma|Manoj Anand|Arjun Mathur|Suzanne Bernert|Abdul Quadir Amin|Bharat Mistri|Divya Seth|Anil Rastogi|Ramesh Bhatkar|Parrgash Kaur|Jess Kaur|</td>\n",
       "      <td>NaN</td>\n",
       "      <td>11 January 2019 (USA)</td>\n",
       "    </tr>\n",
       "    <tr>\n",
       "      <th>3</th>\n",
       "      <td>Why Cheat India</td>\n",
       "      <td>tt8108208</td>\n",
       "      <td>https://upload.wikimedia.org/wikipedia/en/thumb/a/a2/Why_Cheat_India_poster.jpg/220px-Why_Cheat_India_poster.jpg</td>\n",
       "      <td>https://en.wikipedia.org/wiki/Why_Cheat_India</td>\n",
       "      <td>Why Cheat India</td>\n",
       "      <td>Why Cheat India</td>\n",
       "      <td>0</td>\n",
       "      <td>2019</td>\n",
       "      <td>121</td>\n",
       "      <td>Crime|Drama</td>\n",
       "      <td>6.0</td>\n",
       "      <td>1891</td>\n",
       "      <td>The movie focuses on existing malpractices in country's education system  the whole concept of buying your way through education  jobs and earnings. Even with an evolving education system  the country faces scams like SSC and HSC paper leaks  CBSE re-examination  Vyaapam  etc. The movie tries to shift the attention of people to understand the vulnerability of hardworking and gifted students who get left out.</td>\n",
       "      <td>The movie focuses on existing malpractices in country's education system  the whole concept of buying your way through education  jobs and earnings. Even with an evolving education system  ...</td>\n",
       "      <td>NaN</td>\n",
       "      <td>Emraan Hashmi|Shreya Dhanwanthary|Snighdadeep Chatterji|Navneet Srivastava|Nanda Yadav|</td>\n",
       "      <td>NaN</td>\n",
       "      <td>18 January 2019 (USA)</td>\n",
       "    </tr>\n",
       "    <tr>\n",
       "      <th>4</th>\n",
       "      <td>Evening Shadows</td>\n",
       "      <td>tt6028796</td>\n",
       "      <td>NaN</td>\n",
       "      <td>https://en.wikipedia.org/wiki/Evening_Shadows</td>\n",
       "      <td>Evening Shadows</td>\n",
       "      <td>Evening Shadows</td>\n",
       "      <td>0</td>\n",
       "      <td>2018</td>\n",
       "      <td>102</td>\n",
       "      <td>Drama</td>\n",
       "      <td>7.3</td>\n",
       "      <td>280</td>\n",
       "      <td>While gay rights and marriage equality has been embraced by most countries  a small town in Southern India lives within a cocoon of traditions and social morality. In such a milieu when a young gay man Kartik  comes out to his mother Vasudha  her entire world comes crashing down. She has no one to turn to dispel her fears and doubts  to understand her loving son's truth. Moreover as a woman  trapped within a patriarchal conservative society  her biggest challenge is to deal with her dogmatic husband Damodar  and the conservative society around her. 'Evening Shadows' is a universal story about a mother-son bonding and its emotional strength to withstand the ravages of time and harsh realities.</td>\n",
       "      <td>Under the 'Evening Shadows'  truth often plays hide and seek. Set in South India and Mumbai  'Evening Shadows' is a tender heartwarming story about a mother-son bond that has to withstand the ravages of time  distance and truths.</td>\n",
       "      <td>NaN</td>\n",
       "      <td>Mona Ambegaonkar|Ananth Narayan Mahadevan|Devansh Doshi|Arpit Chaudhary|Yamini Singh|Abhay Kulkarni|Veena Nair|Disha Thakur|Kala Ramanathan|Sushant Divgikar|</td>\n",
       "      <td>17 wins &amp; 1 nomination</td>\n",
       "      <td>11 January 2019 (India)</td>\n",
       "    </tr>\n",
       "  </tbody>\n",
       "</table>\n",
       "</div>"
      ]
     },
     "execution_count": 33,
     "metadata": {},
     "output_type": "execute_result"
    }
   ],
   "execution_count": 33
  },
  {
   "metadata": {
    "ExecuteTime": {
     "end_time": "2025-02-05T16:18:17.368700Z",
     "start_time": "2025-02-05T16:18:17.304443Z"
    }
   },
   "cell_type": "code",
   "source": [
    "ipl = pd.read_csv('../datasets/ipl-matches.csv')\n",
    "ipl.head()"
   ],
   "id": "373b0e3733d6d90c",
   "outputs": [
    {
     "data": {
      "text/plain": [
       "        ID       City        Date Season  MatchNumber  \\\n",
       "0  1312200  Ahmedabad  2022-05-29   2022        Final   \n",
       "1  1312199  Ahmedabad  2022-05-27   2022  Qualifier 2   \n",
       "2  1312198    Kolkata  2022-05-25   2022   Eliminator   \n",
       "3  1312197    Kolkata  2022-05-24   2022  Qualifier 1   \n",
       "4  1304116     Mumbai  2022-05-22   2022           70   \n",
       "\n",
       "                         Team1                 Team2  \\\n",
       "0             Rajasthan Royals        Gujarat Titans   \n",
       "1  Royal Challengers Bangalore      Rajasthan Royals   \n",
       "2  Royal Challengers Bangalore  Lucknow Super Giants   \n",
       "3             Rajasthan Royals        Gujarat Titans   \n",
       "4          Sunrisers Hyderabad          Punjab Kings   \n",
       "\n",
       "                              Venue            TossWinner TossDecision  \\\n",
       "0  Narendra Modi Stadium, Ahmedabad      Rajasthan Royals          bat   \n",
       "1  Narendra Modi Stadium, Ahmedabad      Rajasthan Royals        field   \n",
       "2             Eden Gardens, Kolkata  Lucknow Super Giants        field   \n",
       "3             Eden Gardens, Kolkata        Gujarat Titans        field   \n",
       "4          Wankhede Stadium, Mumbai   Sunrisers Hyderabad          bat   \n",
       "\n",
       "  SuperOver                  WinningTeam    WonBy  Margin method  \\\n",
       "0         N               Gujarat Titans  Wickets     7.0    NaN   \n",
       "1         N             Rajasthan Royals  Wickets     7.0    NaN   \n",
       "2         N  Royal Challengers Bangalore     Runs    14.0    NaN   \n",
       "3         N               Gujarat Titans  Wickets     7.0    NaN   \n",
       "4         N                 Punjab Kings  Wickets     5.0    NaN   \n",
       "\n",
       "  Player_of_Match  \\\n",
       "0       HH Pandya   \n",
       "1      JC Buttler   \n",
       "2      RM Patidar   \n",
       "3       DA Miller   \n",
       "4   Harpreet Brar   \n",
       "\n",
       "                                                                                                                                                            Team1Players  \\\n",
       "0                ['YBK Jaiswal', 'JC Buttler', 'SV Samson', 'D Padikkal', 'SO Hetmyer', 'R Ashwin', 'R Parag', 'TA Boult', 'OC McCoy', 'M Prasidh Krishna', 'YS Chahal']   \n",
       "1      ['V Kohli', 'F du Plessis', 'RM Patidar', 'GJ Maxwell', 'MK Lomror', 'KD Karthik', 'Shahbaz Ahmed', 'PWH de Silva', 'HV Patel', 'JR Hazlewood', 'Mohammed Siraj']   \n",
       "2      ['V Kohli', 'F du Plessis', 'RM Patidar', 'GJ Maxwell', 'MK Lomror', 'KD Karthik', 'Shahbaz Ahmed', 'HV Patel', 'PWH de Silva', 'JR Hazlewood', 'Mohammed Siraj']   \n",
       "3                ['YBK Jaiswal', 'JC Buttler', 'SV Samson', 'D Padikkal', 'SO Hetmyer', 'R Parag', 'R Ashwin', 'TA Boult', 'YS Chahal', 'M Prasidh Krishna', 'OC McCoy']   \n",
       "4  ['PK Garg', 'Abhishek Sharma', 'RA Tripathi', 'AK Markram', 'N Pooran', 'Washington Sundar', 'R Shepherd', 'J Suchith', 'B Kumar', 'Umran Malik', 'Fazalhaq Farooqi']   \n",
       "\n",
       "                                                                                                                                                          Team2Players  \\\n",
       "0         ['WP Saha', 'Shubman Gill', 'MS Wade', 'HH Pandya', 'DA Miller', 'R Tewatia', 'Rashid Khan', 'R Sai Kishore', 'LH Ferguson', 'Yash Dayal', 'Mohammed Shami']   \n",
       "1              ['YBK Jaiswal', 'JC Buttler', 'SV Samson', 'D Padikkal', 'SO Hetmyer', 'R Parag', 'R Ashwin', 'TA Boult', 'YS Chahal', 'M Prasidh Krishna', 'OC McCoy']   \n",
       "2                  ['Q de Kock', 'KL Rahul', 'M Vohra', 'DJ Hooda', 'MP Stoinis', 'E Lewis', 'KH Pandya', 'PVD Chameera', 'Mohsin Khan', 'Avesh Khan', 'Ravi Bishnoi']   \n",
       "3           ['WP Saha', 'Shubman Gill', 'MS Wade', 'HH Pandya', 'DA Miller', 'R Tewatia', 'Rashid Khan', 'R Sai Kishore', 'AS Joseph', 'Yash Dayal', 'Mohammed Shami']   \n",
       "4  ['JM Bairstow', 'S Dhawan', 'M Shahrukh Khan', 'MA Agarwal', 'LS Livingstone', 'JM Sharma', 'PN Mankad', 'Harpreet Brar', 'K Rabada', 'NT Ellis', 'Arshdeep Singh']   \n",
       "\n",
       "         Umpire1        Umpire2  \n",
       "0    CB Gaffaney    Nitin Menon  \n",
       "1    CB Gaffaney    Nitin Menon  \n",
       "2  J Madanagopal       MA Gough  \n",
       "3   BNJ Oxenford      VK Sharma  \n",
       "4   AK Chaudhary  NA Patwardhan  "
      ],
      "text/html": [
       "<div>\n",
       "<style scoped>\n",
       "    .dataframe tbody tr th:only-of-type {\n",
       "        vertical-align: middle;\n",
       "    }\n",
       "\n",
       "    .dataframe tbody tr th {\n",
       "        vertical-align: top;\n",
       "    }\n",
       "\n",
       "    .dataframe thead th {\n",
       "        text-align: right;\n",
       "    }\n",
       "</style>\n",
       "<table border=\"1\" class=\"dataframe\">\n",
       "  <thead>\n",
       "    <tr style=\"text-align: right;\">\n",
       "      <th></th>\n",
       "      <th>ID</th>\n",
       "      <th>City</th>\n",
       "      <th>Date</th>\n",
       "      <th>Season</th>\n",
       "      <th>MatchNumber</th>\n",
       "      <th>Team1</th>\n",
       "      <th>Team2</th>\n",
       "      <th>Venue</th>\n",
       "      <th>TossWinner</th>\n",
       "      <th>TossDecision</th>\n",
       "      <th>SuperOver</th>\n",
       "      <th>WinningTeam</th>\n",
       "      <th>WonBy</th>\n",
       "      <th>Margin</th>\n",
       "      <th>method</th>\n",
       "      <th>Player_of_Match</th>\n",
       "      <th>Team1Players</th>\n",
       "      <th>Team2Players</th>\n",
       "      <th>Umpire1</th>\n",
       "      <th>Umpire2</th>\n",
       "    </tr>\n",
       "  </thead>\n",
       "  <tbody>\n",
       "    <tr>\n",
       "      <th>0</th>\n",
       "      <td>1312200</td>\n",
       "      <td>Ahmedabad</td>\n",
       "      <td>2022-05-29</td>\n",
       "      <td>2022</td>\n",
       "      <td>Final</td>\n",
       "      <td>Rajasthan Royals</td>\n",
       "      <td>Gujarat Titans</td>\n",
       "      <td>Narendra Modi Stadium, Ahmedabad</td>\n",
       "      <td>Rajasthan Royals</td>\n",
       "      <td>bat</td>\n",
       "      <td>N</td>\n",
       "      <td>Gujarat Titans</td>\n",
       "      <td>Wickets</td>\n",
       "      <td>7.0</td>\n",
       "      <td>NaN</td>\n",
       "      <td>HH Pandya</td>\n",
       "      <td>['YBK Jaiswal', 'JC Buttler', 'SV Samson', 'D Padikkal', 'SO Hetmyer', 'R Ashwin', 'R Parag', 'TA Boult', 'OC McCoy', 'M Prasidh Krishna', 'YS Chahal']</td>\n",
       "      <td>['WP Saha', 'Shubman Gill', 'MS Wade', 'HH Pandya', 'DA Miller', 'R Tewatia', 'Rashid Khan', 'R Sai Kishore', 'LH Ferguson', 'Yash Dayal', 'Mohammed Shami']</td>\n",
       "      <td>CB Gaffaney</td>\n",
       "      <td>Nitin Menon</td>\n",
       "    </tr>\n",
       "    <tr>\n",
       "      <th>1</th>\n",
       "      <td>1312199</td>\n",
       "      <td>Ahmedabad</td>\n",
       "      <td>2022-05-27</td>\n",
       "      <td>2022</td>\n",
       "      <td>Qualifier 2</td>\n",
       "      <td>Royal Challengers Bangalore</td>\n",
       "      <td>Rajasthan Royals</td>\n",
       "      <td>Narendra Modi Stadium, Ahmedabad</td>\n",
       "      <td>Rajasthan Royals</td>\n",
       "      <td>field</td>\n",
       "      <td>N</td>\n",
       "      <td>Rajasthan Royals</td>\n",
       "      <td>Wickets</td>\n",
       "      <td>7.0</td>\n",
       "      <td>NaN</td>\n",
       "      <td>JC Buttler</td>\n",
       "      <td>['V Kohli', 'F du Plessis', 'RM Patidar', 'GJ Maxwell', 'MK Lomror', 'KD Karthik', 'Shahbaz Ahmed', 'PWH de Silva', 'HV Patel', 'JR Hazlewood', 'Mohammed Siraj']</td>\n",
       "      <td>['YBK Jaiswal', 'JC Buttler', 'SV Samson', 'D Padikkal', 'SO Hetmyer', 'R Parag', 'R Ashwin', 'TA Boult', 'YS Chahal', 'M Prasidh Krishna', 'OC McCoy']</td>\n",
       "      <td>CB Gaffaney</td>\n",
       "      <td>Nitin Menon</td>\n",
       "    </tr>\n",
       "    <tr>\n",
       "      <th>2</th>\n",
       "      <td>1312198</td>\n",
       "      <td>Kolkata</td>\n",
       "      <td>2022-05-25</td>\n",
       "      <td>2022</td>\n",
       "      <td>Eliminator</td>\n",
       "      <td>Royal Challengers Bangalore</td>\n",
       "      <td>Lucknow Super Giants</td>\n",
       "      <td>Eden Gardens, Kolkata</td>\n",
       "      <td>Lucknow Super Giants</td>\n",
       "      <td>field</td>\n",
       "      <td>N</td>\n",
       "      <td>Royal Challengers Bangalore</td>\n",
       "      <td>Runs</td>\n",
       "      <td>14.0</td>\n",
       "      <td>NaN</td>\n",
       "      <td>RM Patidar</td>\n",
       "      <td>['V Kohli', 'F du Plessis', 'RM Patidar', 'GJ Maxwell', 'MK Lomror', 'KD Karthik', 'Shahbaz Ahmed', 'HV Patel', 'PWH de Silva', 'JR Hazlewood', 'Mohammed Siraj']</td>\n",
       "      <td>['Q de Kock', 'KL Rahul', 'M Vohra', 'DJ Hooda', 'MP Stoinis', 'E Lewis', 'KH Pandya', 'PVD Chameera', 'Mohsin Khan', 'Avesh Khan', 'Ravi Bishnoi']</td>\n",
       "      <td>J Madanagopal</td>\n",
       "      <td>MA Gough</td>\n",
       "    </tr>\n",
       "    <tr>\n",
       "      <th>3</th>\n",
       "      <td>1312197</td>\n",
       "      <td>Kolkata</td>\n",
       "      <td>2022-05-24</td>\n",
       "      <td>2022</td>\n",
       "      <td>Qualifier 1</td>\n",
       "      <td>Rajasthan Royals</td>\n",
       "      <td>Gujarat Titans</td>\n",
       "      <td>Eden Gardens, Kolkata</td>\n",
       "      <td>Gujarat Titans</td>\n",
       "      <td>field</td>\n",
       "      <td>N</td>\n",
       "      <td>Gujarat Titans</td>\n",
       "      <td>Wickets</td>\n",
       "      <td>7.0</td>\n",
       "      <td>NaN</td>\n",
       "      <td>DA Miller</td>\n",
       "      <td>['YBK Jaiswal', 'JC Buttler', 'SV Samson', 'D Padikkal', 'SO Hetmyer', 'R Parag', 'R Ashwin', 'TA Boult', 'YS Chahal', 'M Prasidh Krishna', 'OC McCoy']</td>\n",
       "      <td>['WP Saha', 'Shubman Gill', 'MS Wade', 'HH Pandya', 'DA Miller', 'R Tewatia', 'Rashid Khan', 'R Sai Kishore', 'AS Joseph', 'Yash Dayal', 'Mohammed Shami']</td>\n",
       "      <td>BNJ Oxenford</td>\n",
       "      <td>VK Sharma</td>\n",
       "    </tr>\n",
       "    <tr>\n",
       "      <th>4</th>\n",
       "      <td>1304116</td>\n",
       "      <td>Mumbai</td>\n",
       "      <td>2022-05-22</td>\n",
       "      <td>2022</td>\n",
       "      <td>70</td>\n",
       "      <td>Sunrisers Hyderabad</td>\n",
       "      <td>Punjab Kings</td>\n",
       "      <td>Wankhede Stadium, Mumbai</td>\n",
       "      <td>Sunrisers Hyderabad</td>\n",
       "      <td>bat</td>\n",
       "      <td>N</td>\n",
       "      <td>Punjab Kings</td>\n",
       "      <td>Wickets</td>\n",
       "      <td>5.0</td>\n",
       "      <td>NaN</td>\n",
       "      <td>Harpreet Brar</td>\n",
       "      <td>['PK Garg', 'Abhishek Sharma', 'RA Tripathi', 'AK Markram', 'N Pooran', 'Washington Sundar', 'R Shepherd', 'J Suchith', 'B Kumar', 'Umran Malik', 'Fazalhaq Farooqi']</td>\n",
       "      <td>['JM Bairstow', 'S Dhawan', 'M Shahrukh Khan', 'MA Agarwal', 'LS Livingstone', 'JM Sharma', 'PN Mankad', 'Harpreet Brar', 'K Rabada', 'NT Ellis', 'Arshdeep Singh']</td>\n",
       "      <td>AK Chaudhary</td>\n",
       "      <td>NA Patwardhan</td>\n",
       "    </tr>\n",
       "  </tbody>\n",
       "</table>\n",
       "</div>"
      ]
     },
     "execution_count": 34,
     "metadata": {},
     "output_type": "execute_result"
    }
   ],
   "execution_count": 34
  },
  {
   "metadata": {},
   "cell_type": "markdown",
   "source": "### Data frame Attribute and method",
   "id": "b30f76739c9a93d1"
  },
  {
   "metadata": {
    "ExecuteTime": {
     "end_time": "2025-02-05T16:18:17.604563Z",
     "start_time": "2025-02-05T16:18:17.588569Z"
    }
   },
   "cell_type": "code",
   "source": [
    "# shape\n",
    "ipl.shape"
   ],
   "id": "1823931c26d9f0ec",
   "outputs": [
    {
     "data": {
      "text/plain": [
       "(950, 20)"
      ]
     },
     "execution_count": 35,
     "metadata": {},
     "output_type": "execute_result"
    }
   ],
   "execution_count": 35
  },
  {
   "metadata": {
    "ExecuteTime": {
     "end_time": "2025-02-05T16:18:17.976810Z",
     "start_time": "2025-02-05T16:18:17.945259Z"
    }
   },
   "cell_type": "code",
   "source": [
    "#dtype\n",
    "movies.dtypes"
   ],
   "id": "6f93624f4831fab5",
   "outputs": [
    {
     "data": {
      "text/plain": [
       "title_x              object\n",
       "imdb_id              object\n",
       "poster_path          object\n",
       "wiki_link            object\n",
       "title_y              object\n",
       "original_title       object\n",
       "is_adult              int64\n",
       "year_of_release       int64\n",
       "runtime              object\n",
       "genres               object\n",
       "imdb_rating         float64\n",
       "imdb_votes            int64\n",
       "story                object\n",
       "summary              object\n",
       "tagline              object\n",
       "actors               object\n",
       "wins_nominations     object\n",
       "release_date         object\n",
       "dtype: object"
      ]
     },
     "execution_count": 36,
     "metadata": {},
     "output_type": "execute_result"
    }
   ],
   "execution_count": 36
  },
  {
   "metadata": {
    "ExecuteTime": {
     "end_time": "2025-02-05T16:18:18.396404Z",
     "start_time": "2025-02-05T16:18:18.372408Z"
    }
   },
   "cell_type": "code",
   "source": [
    "#index\n",
    "ipl.index"
   ],
   "id": "a39c141d1087d90c",
   "outputs": [
    {
     "data": {
      "text/plain": [
       "RangeIndex(start=0, stop=950, step=1)"
      ]
     },
     "execution_count": 37,
     "metadata": {},
     "output_type": "execute_result"
    }
   ],
   "execution_count": 37
  },
  {
   "metadata": {
    "ExecuteTime": {
     "end_time": "2025-02-05T16:18:18.643089Z",
     "start_time": "2025-02-05T16:18:18.611089Z"
    }
   },
   "cell_type": "code",
   "source": [
    "#colum\n",
    "movies.columns"
   ],
   "id": "322c96a4796455e9",
   "outputs": [
    {
     "data": {
      "text/plain": [
       "Index(['title_x', 'imdb_id', 'poster_path', 'wiki_link', 'title_y',\n",
       "       'original_title', 'is_adult', 'year_of_release', 'runtime', 'genres',\n",
       "       'imdb_rating', 'imdb_votes', 'story', 'summary', 'tagline', 'actors',\n",
       "       'wins_nominations', 'release_date'],\n",
       "      dtype='object')"
      ]
     },
     "execution_count": 38,
     "metadata": {},
     "output_type": "execute_result"
    }
   ],
   "execution_count": 38
  },
  {
   "metadata": {
    "ExecuteTime": {
     "end_time": "2025-02-05T16:18:18.876567Z",
     "start_time": "2025-02-05T16:18:18.844422Z"
    }
   },
   "cell_type": "code",
   "source": [
    "# Values\n",
    "students.values"
   ],
   "id": "49ce29d280edc6c1",
   "outputs": [
    {
     "data": {
      "text/plain": [
       "array([[100,  80,  10],\n",
       "       [ 90,  70,   7],\n",
       "       [120, 100,  14],\n",
       "       [ 80,  50,   2],\n",
       "       [  0,   0,   0],\n",
       "       [  0,   0,   0]])"
      ]
     },
     "execution_count": 39,
     "metadata": {},
     "output_type": "execute_result"
    }
   ],
   "execution_count": 39
  },
  {
   "metadata": {
    "ExecuteTime": {
     "end_time": "2025-02-05T16:18:19.119213Z",
     "start_time": "2025-02-05T16:18:19.079201Z"
    }
   },
   "cell_type": "code",
   "source": [
    "#head and tail and sample\n",
    "movies.head()\n",
    "movies.tail()\n",
    "print(movies.sample())"
   ],
   "id": "d7ae5d640b65ea53",
   "outputs": [
    {
     "name": "stdout",
     "output_type": "stream",
     "text": [
      "          title_x    imdb_id  \\\n",
      "1433  Hawa (film)  tt0369516   \n",
      "\n",
      "                                                                                 poster_path  \\\n",
      "1433  https://upload.wikimedia.org/wikipedia/en/thumb/1/13/Hawa_film.jpg/220px-Hawa_film.jpg   \n",
      "\n",
      "                                      wiki_link title_y original_title  \\\n",
      "1433  https://en.wikipedia.org/wiki/Hawa_(film)    Hawa           Hawa   \n",
      "\n",
      "      is_adult  year_of_release runtime           genres  imdb_rating  \\\n",
      "1433         0             2003     129  Horror|Thriller          3.3   \n",
      "\n",
      "      imdb_votes  \\\n",
      "1433         272   \n",
      "\n",
      "                                                                                                                                                                                                                                                                                                                                                                                                                                                                                                                                                                                                                                                                                                                                                                                                                                                                                                                                                                                    story  \\\n",
      "1433  Sanjana lives in a big city along with her husband and two daughters. But things are not quite rosy as the couple faces a disastrous situation in there life which leads to divorce. Sanjana along with her brother  Vicky  her two daughters and a dog relocates to a lonely house in a forest. While residing there Sanjana begins to see some odd situations taking place especially when her house is struck by lightening  her dog attacked her and she and her daughters is mysteriously raped. This is too much to take for Sanjana and she decides to contact a sage who is specialized in black magic he worked a spell and Sanjana was able to gather information that several hundred years ago elders in a tribe thought the best punishment of wrong-doers was death - by pushing them down a deep ravine to fall and die and that the sum-total of the wretched souls have combined into one giant unseen and unfelt entity and this leads to a tense finale to Hawa.   \n",
      "\n",
      "                                                                                                                                                                                                                   summary  \\\n",
      "1433  Sanjana lives in a big city along with her husband and two daughters. But things are not quite rosy as the couple faces a disastrous situation in there life which leads to divorce. Sanjana ...                       \n",
      "\n",
      "     tagline  \\\n",
      "1433     NaN   \n",
      "\n",
      "                                                                                                                                              actors  \\\n",
      "1433  Tabu|Shahbaaz Khan|Mukesh Tiwari|Imran Khan|Grusha Kapoor|Vishwajeet Pradhan|Amit Behl|Avtar Gill|Hansika Motwani|Baby Bhavika|Suresh Chatwal|   \n",
      "\n",
      "     wins_nominations         release_date  \n",
      "1433              NaN  4 July 2003 (India)  \n"
     ]
    }
   ],
   "execution_count": 40
  },
  {
   "metadata": {
    "ExecuteTime": {
     "end_time": "2025-02-05T16:18:19.310582Z",
     "start_time": "2025-02-05T16:18:19.279051Z"
    }
   },
   "cell_type": "code",
   "source": [
    "# info\n",
    "movies.info()"
   ],
   "id": "2fa5da7a4d57c06e",
   "outputs": [
    {
     "name": "stdout",
     "output_type": "stream",
     "text": [
      "<class 'pandas.core.frame.DataFrame'>\n",
      "RangeIndex: 1629 entries, 0 to 1628\n",
      "Data columns (total 18 columns):\n",
      " #   Column            Non-Null Count  Dtype  \n",
      "---  ------            --------------  -----  \n",
      " 0   title_x           1629 non-null   object \n",
      " 1   imdb_id           1629 non-null   object \n",
      " 2   poster_path       1526 non-null   object \n",
      " 3   wiki_link         1629 non-null   object \n",
      " 4   title_y           1629 non-null   object \n",
      " 5   original_title    1629 non-null   object \n",
      " 6   is_adult          1629 non-null   int64  \n",
      " 7   year_of_release   1629 non-null   int64  \n",
      " 8   runtime           1629 non-null   object \n",
      " 9   genres            1629 non-null   object \n",
      " 10  imdb_rating       1629 non-null   float64\n",
      " 11  imdb_votes        1629 non-null   int64  \n",
      " 12  story             1609 non-null   object \n",
      " 13  summary           1629 non-null   object \n",
      " 14  tagline           557 non-null    object \n",
      " 15  actors            1624 non-null   object \n",
      " 16  wins_nominations  707 non-null    object \n",
      " 17  release_date      1522 non-null   object \n",
      "dtypes: float64(1), int64(3), object(14)\n",
      "memory usage: 229.2+ KB\n"
     ]
    }
   ],
   "execution_count": 41
  },
  {
   "metadata": {
    "ExecuteTime": {
     "end_time": "2025-02-05T16:18:19.450887Z",
     "start_time": "2025-02-05T16:18:19.418881Z"
    }
   },
   "cell_type": "code",
   "source": "ipl.info()",
   "id": "a4989c738249bc56",
   "outputs": [
    {
     "name": "stdout",
     "output_type": "stream",
     "text": [
      "<class 'pandas.core.frame.DataFrame'>\n",
      "RangeIndex: 950 entries, 0 to 949\n",
      "Data columns (total 20 columns):\n",
      " #   Column           Non-Null Count  Dtype  \n",
      "---  ------           --------------  -----  \n",
      " 0   ID               950 non-null    int64  \n",
      " 1   City             899 non-null    object \n",
      " 2   Date             950 non-null    object \n",
      " 3   Season           950 non-null    object \n",
      " 4   MatchNumber      950 non-null    object \n",
      " 5   Team1            950 non-null    object \n",
      " 6   Team2            950 non-null    object \n",
      " 7   Venue            950 non-null    object \n",
      " 8   TossWinner       950 non-null    object \n",
      " 9   TossDecision     950 non-null    object \n",
      " 10  SuperOver        946 non-null    object \n",
      " 11  WinningTeam      946 non-null    object \n",
      " 12  WonBy            950 non-null    object \n",
      " 13  Margin           932 non-null    float64\n",
      " 14  method           19 non-null     object \n",
      " 15  Player_of_Match  946 non-null    object \n",
      " 16  Team1Players     950 non-null    object \n",
      " 17  Team2Players     950 non-null    object \n",
      " 18  Umpire1          950 non-null    object \n",
      " 19  Umpire2          950 non-null    object \n",
      "dtypes: float64(1), int64(1), object(18)\n",
      "memory usage: 148.6+ KB\n"
     ]
    }
   ],
   "execution_count": 42
  },
  {
   "metadata": {
    "ExecuteTime": {
     "end_time": "2025-02-05T16:18:19.595432Z",
     "start_time": "2025-02-05T16:18:19.531214Z"
    }
   },
   "cell_type": "code",
   "source": [
    "#describe\n",
    "movies.describe()"
   ],
   "id": "8856bd965d6022d9",
   "outputs": [
    {
     "data": {
      "text/plain": [
       "       is_adult  year_of_release  imdb_rating     imdb_votes\n",
       "count    1629.0      1629.000000  1629.000000    1629.000000\n",
       "mean        0.0      2010.263966     5.557459    5384.263352\n",
       "std         0.0         5.381542     1.567609   14552.103231\n",
       "min         0.0      2001.000000     0.000000       0.000000\n",
       "25%         0.0      2005.000000     4.400000     233.000000\n",
       "50%         0.0      2011.000000     5.600000    1000.000000\n",
       "75%         0.0      2015.000000     6.800000    4287.000000\n",
       "max         0.0      2019.000000     9.400000  310481.000000"
      ],
      "text/html": [
       "<div>\n",
       "<style scoped>\n",
       "    .dataframe tbody tr th:only-of-type {\n",
       "        vertical-align: middle;\n",
       "    }\n",
       "\n",
       "    .dataframe tbody tr th {\n",
       "        vertical-align: top;\n",
       "    }\n",
       "\n",
       "    .dataframe thead th {\n",
       "        text-align: right;\n",
       "    }\n",
       "</style>\n",
       "<table border=\"1\" class=\"dataframe\">\n",
       "  <thead>\n",
       "    <tr style=\"text-align: right;\">\n",
       "      <th></th>\n",
       "      <th>is_adult</th>\n",
       "      <th>year_of_release</th>\n",
       "      <th>imdb_rating</th>\n",
       "      <th>imdb_votes</th>\n",
       "    </tr>\n",
       "  </thead>\n",
       "  <tbody>\n",
       "    <tr>\n",
       "      <th>count</th>\n",
       "      <td>1629.0</td>\n",
       "      <td>1629.000000</td>\n",
       "      <td>1629.000000</td>\n",
       "      <td>1629.000000</td>\n",
       "    </tr>\n",
       "    <tr>\n",
       "      <th>mean</th>\n",
       "      <td>0.0</td>\n",
       "      <td>2010.263966</td>\n",
       "      <td>5.557459</td>\n",
       "      <td>5384.263352</td>\n",
       "    </tr>\n",
       "    <tr>\n",
       "      <th>std</th>\n",
       "      <td>0.0</td>\n",
       "      <td>5.381542</td>\n",
       "      <td>1.567609</td>\n",
       "      <td>14552.103231</td>\n",
       "    </tr>\n",
       "    <tr>\n",
       "      <th>min</th>\n",
       "      <td>0.0</td>\n",
       "      <td>2001.000000</td>\n",
       "      <td>0.000000</td>\n",
       "      <td>0.000000</td>\n",
       "    </tr>\n",
       "    <tr>\n",
       "      <th>25%</th>\n",
       "      <td>0.0</td>\n",
       "      <td>2005.000000</td>\n",
       "      <td>4.400000</td>\n",
       "      <td>233.000000</td>\n",
       "    </tr>\n",
       "    <tr>\n",
       "      <th>50%</th>\n",
       "      <td>0.0</td>\n",
       "      <td>2011.000000</td>\n",
       "      <td>5.600000</td>\n",
       "      <td>1000.000000</td>\n",
       "    </tr>\n",
       "    <tr>\n",
       "      <th>75%</th>\n",
       "      <td>0.0</td>\n",
       "      <td>2015.000000</td>\n",
       "      <td>6.800000</td>\n",
       "      <td>4287.000000</td>\n",
       "    </tr>\n",
       "    <tr>\n",
       "      <th>max</th>\n",
       "      <td>0.0</td>\n",
       "      <td>2019.000000</td>\n",
       "      <td>9.400000</td>\n",
       "      <td>310481.000000</td>\n",
       "    </tr>\n",
       "  </tbody>\n",
       "</table>\n",
       "</div>"
      ]
     },
     "execution_count": 43,
     "metadata": {},
     "output_type": "execute_result"
    }
   ],
   "execution_count": 43
  },
  {
   "metadata": {
    "ExecuteTime": {
     "end_time": "2025-02-05T16:18:19.906868Z",
     "start_time": "2025-02-05T16:18:19.876049Z"
    }
   },
   "cell_type": "code",
   "source": [
    "# isnull and notnull\n",
    "print(movies.isnull().sum())\n",
    "print(ipl.notnull().sum())"
   ],
   "id": "40ecf702cc97b224",
   "outputs": [
    {
     "name": "stdout",
     "output_type": "stream",
     "text": [
      "title_x                0\n",
      "imdb_id                0\n",
      "poster_path          103\n",
      "wiki_link              0\n",
      "title_y                0\n",
      "original_title         0\n",
      "is_adult               0\n",
      "year_of_release        0\n",
      "runtime                0\n",
      "genres                 0\n",
      "imdb_rating            0\n",
      "imdb_votes             0\n",
      "story                 20\n",
      "summary                0\n",
      "tagline             1072\n",
      "actors                 5\n",
      "wins_nominations     922\n",
      "release_date         107\n",
      "dtype: int64\n",
      "ID                 950\n",
      "City               899\n",
      "Date               950\n",
      "Season             950\n",
      "MatchNumber        950\n",
      "Team1              950\n",
      "Team2              950\n",
      "Venue              950\n",
      "TossWinner         950\n",
      "TossDecision       950\n",
      "SuperOver          946\n",
      "WinningTeam        946\n",
      "WonBy              950\n",
      "Margin             932\n",
      "method              19\n",
      "Player_of_Match    946\n",
      "Team1Players       950\n",
      "Team2Players       950\n",
      "Umpire1            950\n",
      "Umpire2            950\n",
      "dtype: int64\n"
     ]
    }
   ],
   "execution_count": 44
  },
  {
   "metadata": {
    "ExecuteTime": {
     "end_time": "2025-02-05T16:18:20.172507Z",
     "start_time": "2025-02-05T16:18:20.140964Z"
    }
   },
   "cell_type": "code",
   "source": [
    "# duplicated\n",
    "movies.duplicated().sum()"
   ],
   "id": "6511cd4e3fff7cb0",
   "outputs": [
    {
     "data": {
      "text/plain": [
       "np.int64(0)"
      ]
     },
     "execution_count": 45,
     "metadata": {},
     "output_type": "execute_result"
    }
   ],
   "execution_count": 45
  },
  {
   "metadata": {
    "ExecuteTime": {
     "end_time": "2025-02-05T16:18:20.399481Z",
     "start_time": "2025-02-05T16:18:20.376312Z"
    }
   },
   "cell_type": "code",
   "source": "students.duplicated().sum()",
   "id": "8c3daee0e66b8dbc",
   "outputs": [
    {
     "data": {
      "text/plain": [
       "np.int64(1)"
      ]
     },
     "execution_count": 46,
     "metadata": {},
     "output_type": "execute_result"
    }
   ],
   "execution_count": 46
  },
  {
   "metadata": {
    "ExecuteTime": {
     "end_time": "2025-02-05T16:18:20.598851Z",
     "start_time": "2025-02-05T16:18:20.574843Z"
    }
   },
   "cell_type": "code",
   "source": [
    "#rename\n",
    "students.head(2)"
   ],
   "id": "cf7cbe287cde8be9",
   "outputs": [
    {
     "data": {
      "text/plain": [
       "        Iq  Marks  Package\n",
       "Name                      \n",
       "Hamza  100     80       10\n",
       "Ankit   90     70        7"
      ],
      "text/html": [
       "<div>\n",
       "<style scoped>\n",
       "    .dataframe tbody tr th:only-of-type {\n",
       "        vertical-align: middle;\n",
       "    }\n",
       "\n",
       "    .dataframe tbody tr th {\n",
       "        vertical-align: top;\n",
       "    }\n",
       "\n",
       "    .dataframe thead th {\n",
       "        text-align: right;\n",
       "    }\n",
       "</style>\n",
       "<table border=\"1\" class=\"dataframe\">\n",
       "  <thead>\n",
       "    <tr style=\"text-align: right;\">\n",
       "      <th></th>\n",
       "      <th>Iq</th>\n",
       "      <th>Marks</th>\n",
       "      <th>Package</th>\n",
       "    </tr>\n",
       "    <tr>\n",
       "      <th>Name</th>\n",
       "      <th></th>\n",
       "      <th></th>\n",
       "      <th></th>\n",
       "    </tr>\n",
       "  </thead>\n",
       "  <tbody>\n",
       "    <tr>\n",
       "      <th>Hamza</th>\n",
       "      <td>100</td>\n",
       "      <td>80</td>\n",
       "      <td>10</td>\n",
       "    </tr>\n",
       "    <tr>\n",
       "      <th>Ankit</th>\n",
       "      <td>90</td>\n",
       "      <td>70</td>\n",
       "      <td>7</td>\n",
       "    </tr>\n",
       "  </tbody>\n",
       "</table>\n",
       "</div>"
      ]
     },
     "execution_count": 47,
     "metadata": {},
     "output_type": "execute_result"
    }
   ],
   "execution_count": 47
  },
  {
   "metadata": {
    "ExecuteTime": {
     "end_time": "2025-02-05T16:23:00.870344Z",
     "start_time": "2025-02-05T16:23:00.838076Z"
    }
   },
   "cell_type": "code",
   "source": [
    "students.rename({'marks':'percentage','package':'lpa'},inplace=True,axis='columns')\n",
    "students.head(2)"
   ],
   "id": "f7947ab6cc953bf6",
   "outputs": [
    {
     "data": {
      "text/plain": [
       "        iq  percentage  lpa\n",
       "name                       \n",
       "Hamza  100          80   10\n",
       "ankit   90          70    7"
      ],
      "text/html": [
       "<div>\n",
       "<style scoped>\n",
       "    .dataframe tbody tr th:only-of-type {\n",
       "        vertical-align: middle;\n",
       "    }\n",
       "\n",
       "    .dataframe tbody tr th {\n",
       "        vertical-align: top;\n",
       "    }\n",
       "\n",
       "    .dataframe thead th {\n",
       "        text-align: right;\n",
       "    }\n",
       "</style>\n",
       "<table border=\"1\" class=\"dataframe\">\n",
       "  <thead>\n",
       "    <tr style=\"text-align: right;\">\n",
       "      <th></th>\n",
       "      <th>iq</th>\n",
       "      <th>percentage</th>\n",
       "      <th>lpa</th>\n",
       "    </tr>\n",
       "    <tr>\n",
       "      <th>name</th>\n",
       "      <th></th>\n",
       "      <th></th>\n",
       "      <th></th>\n",
       "    </tr>\n",
       "  </thead>\n",
       "  <tbody>\n",
       "    <tr>\n",
       "      <th>Hamza</th>\n",
       "      <td>100</td>\n",
       "      <td>80</td>\n",
       "      <td>10</td>\n",
       "    </tr>\n",
       "    <tr>\n",
       "      <th>ankit</th>\n",
       "      <td>90</td>\n",
       "      <td>70</td>\n",
       "      <td>7</td>\n",
       "    </tr>\n",
       "  </tbody>\n",
       "</table>\n",
       "</div>"
      ]
     },
     "execution_count": 55,
     "metadata": {},
     "output_type": "execute_result"
    }
   ],
   "execution_count": 55
  },
  {
   "metadata": {},
   "cell_type": "markdown",
   "source": "### Math Method",
   "id": "c95cf61b977ad3e1"
  },
  {
   "metadata": {
    "ExecuteTime": {
     "end_time": "2025-02-05T16:26:36.200981Z",
     "start_time": "2025-02-05T16:26:36.180066Z"
    }
   },
   "cell_type": "code",
   "source": [
    "# sum -> axis argument\n",
    "students.sum(axis=0)\n"
   ],
   "id": "462c824533f82cf",
   "outputs": [
    {
     "data": {
      "text/plain": [
       "name\n",
       "Hamza      190\n",
       "ankit      167\n",
       "rupesh     234\n",
       "rishabh    132\n",
       "amit         0\n",
       "ankita       0\n",
       "dtype: int64"
      ]
     },
     "execution_count": 57,
     "metadata": {},
     "output_type": "execute_result"
    }
   ],
   "execution_count": 57
  },
  {
   "metadata": {
    "ExecuteTime": {
     "end_time": "2025-02-05T16:26:59.828900Z",
     "start_time": "2025-02-05T16:26:59.797603Z"
    }
   },
   "cell_type": "code",
   "source": "students.mean(axis=0)",
   "id": "ba4a98e6e5fa2f46",
   "outputs": [
    {
     "data": {
      "text/plain": [
       "iq            65.0\n",
       "percentage    50.0\n",
       "lpa            5.5\n",
       "dtype: float64"
      ]
     },
     "execution_count": 58,
     "metadata": {},
     "output_type": "execute_result"
    }
   ],
   "execution_count": 58
  },
  {
   "metadata": {
    "ExecuteTime": {
     "end_time": "2025-02-05T16:27:19.472288Z",
     "start_time": "2025-02-05T16:27:19.444285Z"
    }
   },
   "cell_type": "code",
   "source": "students.var()",
   "id": "c4e5e755e2efdced",
   "outputs": [
    {
     "data": {
      "text/plain": [
       "iq            2710.0\n",
       "percentage    1760.0\n",
       "lpa             33.5\n",
       "dtype: float64"
      ]
     },
     "execution_count": 59,
     "metadata": {},
     "output_type": "execute_result"
    }
   ],
   "execution_count": 59
  },
  {
   "metadata": {},
   "cell_type": "code",
   "outputs": [],
   "execution_count": null,
   "source": "",
   "id": "97b03f9f9133cc2d"
  },
  {
   "metadata": {},
   "cell_type": "markdown",
   "source": "### Selecting colum from a DataFrame",
   "id": "3fcde258d7c9e13e"
  },
  {
   "metadata": {
    "ExecuteTime": {
     "end_time": "2025-02-05T16:29:10.854386Z",
     "start_time": "2025-02-05T16:29:10.828382Z"
    }
   },
   "cell_type": "code",
   "source": [
    "#Single\n",
    "movies['title_x']"
   ],
   "id": "2a34e08353935ce",
   "outputs": [
    {
     "data": {
      "text/plain": [
       "0                   Uri: The Surgical Strike\n",
       "1                              Battalion 609\n",
       "2       The Accidental Prime Minister (film)\n",
       "3                            Why Cheat India\n",
       "4                            Evening Shadows\n",
       "                        ...                 \n",
       "1624                   Tera Mera Saath Rahen\n",
       "1625                    Yeh Zindagi Ka Safar\n",
       "1626                         Sabse Bada Sukh\n",
       "1627                                   Daaka\n",
       "1628                                Humsafar\n",
       "Name: title_x, Length: 1629, dtype: object"
      ]
     },
     "execution_count": 61,
     "metadata": {},
     "output_type": "execute_result"
    }
   ],
   "execution_count": 61
  },
  {
   "metadata": {
    "ExecuteTime": {
     "end_time": "2025-02-05T16:29:31.978384Z",
     "start_time": "2025-02-05T16:29:31.946751Z"
    }
   },
   "cell_type": "code",
   "source": "ipl['Venue']",
   "id": "be62dfb11d5f260c",
   "outputs": [
    {
     "data": {
      "text/plain": [
       "0                Narendra Modi Stadium, Ahmedabad\n",
       "1                Narendra Modi Stadium, Ahmedabad\n",
       "2                           Eden Gardens, Kolkata\n",
       "3                           Eden Gardens, Kolkata\n",
       "4                        Wankhede Stadium, Mumbai\n",
       "                          ...                    \n",
       "945                                  Eden Gardens\n",
       "946                              Wankhede Stadium\n",
       "947                              Feroz Shah Kotla\n",
       "948    Punjab Cricket Association Stadium, Mohali\n",
       "949                         M Chinnaswamy Stadium\n",
       "Name: Venue, Length: 950, dtype: object"
      ]
     },
     "execution_count": 63,
     "metadata": {},
     "output_type": "execute_result"
    }
   ],
   "execution_count": 63
  },
  {
   "metadata": {
    "ExecuteTime": {
     "end_time": "2025-02-05T16:31:03.866614Z",
     "start_time": "2025-02-05T16:31:03.850606Z"
    }
   },
   "cell_type": "code",
   "source": [
    "# multiple cols\n",
    "movies[['year_of_release','actors','title_x','title_y']]"
   ],
   "id": "7c914a7cf5d9c127",
   "outputs": [
    {
     "data": {
      "text/plain": [
       "      year_of_release  \\\n",
       "0                2019   \n",
       "1                2019   \n",
       "2                2019   \n",
       "3                2019   \n",
       "4                2018   \n",
       "...               ...   \n",
       "1624             2001   \n",
       "1625             2001   \n",
       "1626             2018   \n",
       "1627             2019   \n",
       "1628             2011   \n",
       "\n",
       "                                                                                                                                                                                                             actors  \\\n",
       "0                   Vicky Kaushal|Paresh Rawal|Mohit Raina|Yami Gautam|Kirti Kulhari|Rajit Kapoor|Ivan Rodrigues|Manasi Parekh|Swaroop Sampat|Riva Arora|Yogesh Soman|Fareed Ahmed|Akashdeep Arora|Kallol Banerjee|   \n",
       "1     Vicky Ahuja|Shoaib Ibrahim|Shrikant Kamat|Elena Kazan|Vishwas Kini|Major Kishore|Jashn Kohli|Rammy C. Pandey|Manish Sharma|Sparsh Sharma|Farnaz Shetty|Vikas Shrivastav|Chandraprakash Thakur|Brajesh Tiwari|   \n",
       "2                      Anupam Kher|Akshaye Khanna|Aahana Kumra|Atul Sharma|Manoj Anand|Arjun Mathur|Suzanne Bernert|Abdul Quadir Amin|Bharat Mistri|Divya Seth|Anil Rastogi|Ramesh Bhatkar|Parrgash Kaur|Jess Kaur|   \n",
       "3                                                                                                                           Emraan Hashmi|Shreya Dhanwanthary|Snighdadeep Chatterji|Navneet Srivastava|Nanda Yadav|   \n",
       "4                                                     Mona Ambegaonkar|Ananth Narayan Mahadevan|Devansh Doshi|Arpit Chaudhary|Yamini Singh|Abhay Kulkarni|Veena Nair|Disha Thakur|Kala Ramanathan|Sushant Divgikar|   \n",
       "...                                                                                                                                                                                                             ...   \n",
       "1624          Ajay Devgn|Sonali Bendre|Namrata Shirodkar|Prem Chopra|Hemu Adhikari|Jayant Sawarkar|Shubhangi Damle|Nilesh Diwekar|Atul Kale|Abhijeet Satam|Daman Baggan|Mangesh Satpute|Shilpa Chauhan|Nirmal Soni|   \n",
       "1625                                                                                                                                            Ameesha Patel|Jimmy Sheirgill|Nafisa Ali|Gulshan Grover|Ehsan Khan|   \n",
       "1626                                                                            Vijay Arora|Asrani|Rajni Bala|Kumud Damle|Utpal Dutt|Meeta Faiyyaz|Rabi Ghosh|Tarun Ghosh|Sanjeev Kumar|Keshto Mukherjee|Meena Rai|   \n",
       "1627                                                                                                                                                                                      Gippy Grewal|Zareen Khan|   \n",
       "1628                                                                                                                                                                                                    Fawad Khan|   \n",
       "\n",
       "                                   title_x                        title_y  \n",
       "0                 Uri: The Surgical Strike       Uri: The Surgical Strike  \n",
       "1                            Battalion 609                  Battalion 609  \n",
       "2     The Accidental Prime Minister (film)  The Accidental Prime Minister  \n",
       "3                          Why Cheat India                Why Cheat India  \n",
       "4                          Evening Shadows                Evening Shadows  \n",
       "...                                    ...                            ...  \n",
       "1624                 Tera Mera Saath Rahen          Tera Mera Saath Rahen  \n",
       "1625                  Yeh Zindagi Ka Safar           Yeh Zindagi Ka Safar  \n",
       "1626                       Sabse Bada Sukh                Sabse Bada Sukh  \n",
       "1627                                 Daaka                          Daaka  \n",
       "1628                              Humsafar                       Humsafar  \n",
       "\n",
       "[1629 rows x 4 columns]"
      ],
      "text/html": [
       "<div>\n",
       "<style scoped>\n",
       "    .dataframe tbody tr th:only-of-type {\n",
       "        vertical-align: middle;\n",
       "    }\n",
       "\n",
       "    .dataframe tbody tr th {\n",
       "        vertical-align: top;\n",
       "    }\n",
       "\n",
       "    .dataframe thead th {\n",
       "        text-align: right;\n",
       "    }\n",
       "</style>\n",
       "<table border=\"1\" class=\"dataframe\">\n",
       "  <thead>\n",
       "    <tr style=\"text-align: right;\">\n",
       "      <th></th>\n",
       "      <th>year_of_release</th>\n",
       "      <th>actors</th>\n",
       "      <th>title_x</th>\n",
       "      <th>title_y</th>\n",
       "    </tr>\n",
       "  </thead>\n",
       "  <tbody>\n",
       "    <tr>\n",
       "      <th>0</th>\n",
       "      <td>2019</td>\n",
       "      <td>Vicky Kaushal|Paresh Rawal|Mohit Raina|Yami Gautam|Kirti Kulhari|Rajit Kapoor|Ivan Rodrigues|Manasi Parekh|Swaroop Sampat|Riva Arora|Yogesh Soman|Fareed Ahmed|Akashdeep Arora|Kallol Banerjee|</td>\n",
       "      <td>Uri: The Surgical Strike</td>\n",
       "      <td>Uri: The Surgical Strike</td>\n",
       "    </tr>\n",
       "    <tr>\n",
       "      <th>1</th>\n",
       "      <td>2019</td>\n",
       "      <td>Vicky Ahuja|Shoaib Ibrahim|Shrikant Kamat|Elena Kazan|Vishwas Kini|Major Kishore|Jashn Kohli|Rammy C. Pandey|Manish Sharma|Sparsh Sharma|Farnaz Shetty|Vikas Shrivastav|Chandraprakash Thakur|Brajesh Tiwari|</td>\n",
       "      <td>Battalion 609</td>\n",
       "      <td>Battalion 609</td>\n",
       "    </tr>\n",
       "    <tr>\n",
       "      <th>2</th>\n",
       "      <td>2019</td>\n",
       "      <td>Anupam Kher|Akshaye Khanna|Aahana Kumra|Atul Sharma|Manoj Anand|Arjun Mathur|Suzanne Bernert|Abdul Quadir Amin|Bharat Mistri|Divya Seth|Anil Rastogi|Ramesh Bhatkar|Parrgash Kaur|Jess Kaur|</td>\n",
       "      <td>The Accidental Prime Minister (film)</td>\n",
       "      <td>The Accidental Prime Minister</td>\n",
       "    </tr>\n",
       "    <tr>\n",
       "      <th>3</th>\n",
       "      <td>2019</td>\n",
       "      <td>Emraan Hashmi|Shreya Dhanwanthary|Snighdadeep Chatterji|Navneet Srivastava|Nanda Yadav|</td>\n",
       "      <td>Why Cheat India</td>\n",
       "      <td>Why Cheat India</td>\n",
       "    </tr>\n",
       "    <tr>\n",
       "      <th>4</th>\n",
       "      <td>2018</td>\n",
       "      <td>Mona Ambegaonkar|Ananth Narayan Mahadevan|Devansh Doshi|Arpit Chaudhary|Yamini Singh|Abhay Kulkarni|Veena Nair|Disha Thakur|Kala Ramanathan|Sushant Divgikar|</td>\n",
       "      <td>Evening Shadows</td>\n",
       "      <td>Evening Shadows</td>\n",
       "    </tr>\n",
       "    <tr>\n",
       "      <th>...</th>\n",
       "      <td>...</td>\n",
       "      <td>...</td>\n",
       "      <td>...</td>\n",
       "      <td>...</td>\n",
       "    </tr>\n",
       "    <tr>\n",
       "      <th>1624</th>\n",
       "      <td>2001</td>\n",
       "      <td>Ajay Devgn|Sonali Bendre|Namrata Shirodkar|Prem Chopra|Hemu Adhikari|Jayant Sawarkar|Shubhangi Damle|Nilesh Diwekar|Atul Kale|Abhijeet Satam|Daman Baggan|Mangesh Satpute|Shilpa Chauhan|Nirmal Soni|</td>\n",
       "      <td>Tera Mera Saath Rahen</td>\n",
       "      <td>Tera Mera Saath Rahen</td>\n",
       "    </tr>\n",
       "    <tr>\n",
       "      <th>1625</th>\n",
       "      <td>2001</td>\n",
       "      <td>Ameesha Patel|Jimmy Sheirgill|Nafisa Ali|Gulshan Grover|Ehsan Khan|</td>\n",
       "      <td>Yeh Zindagi Ka Safar</td>\n",
       "      <td>Yeh Zindagi Ka Safar</td>\n",
       "    </tr>\n",
       "    <tr>\n",
       "      <th>1626</th>\n",
       "      <td>2018</td>\n",
       "      <td>Vijay Arora|Asrani|Rajni Bala|Kumud Damle|Utpal Dutt|Meeta Faiyyaz|Rabi Ghosh|Tarun Ghosh|Sanjeev Kumar|Keshto Mukherjee|Meena Rai|</td>\n",
       "      <td>Sabse Bada Sukh</td>\n",
       "      <td>Sabse Bada Sukh</td>\n",
       "    </tr>\n",
       "    <tr>\n",
       "      <th>1627</th>\n",
       "      <td>2019</td>\n",
       "      <td>Gippy Grewal|Zareen Khan|</td>\n",
       "      <td>Daaka</td>\n",
       "      <td>Daaka</td>\n",
       "    </tr>\n",
       "    <tr>\n",
       "      <th>1628</th>\n",
       "      <td>2011</td>\n",
       "      <td>Fawad Khan|</td>\n",
       "      <td>Humsafar</td>\n",
       "      <td>Humsafar</td>\n",
       "    </tr>\n",
       "  </tbody>\n",
       "</table>\n",
       "<p>1629 rows × 4 columns</p>\n",
       "</div>"
      ]
     },
     "execution_count": 66,
     "metadata": {},
     "output_type": "execute_result"
    }
   ],
   "execution_count": 66
  },
  {
   "metadata": {
    "ExecuteTime": {
     "end_time": "2025-02-05T16:31:40.536224Z",
     "start_time": "2025-02-05T16:31:40.515835Z"
    }
   },
   "cell_type": "code",
   "source": "ipl[['Team1','Team2','WinningTeam']]",
   "id": "dd5c88cabd44b990",
   "outputs": [
    {
     "data": {
      "text/plain": [
       "                           Team1                        Team2  \\\n",
       "0               Rajasthan Royals               Gujarat Titans   \n",
       "1    Royal Challengers Bangalore             Rajasthan Royals   \n",
       "2    Royal Challengers Bangalore         Lucknow Super Giants   \n",
       "3               Rajasthan Royals               Gujarat Titans   \n",
       "4            Sunrisers Hyderabad                 Punjab Kings   \n",
       "..                           ...                          ...   \n",
       "945        Kolkata Knight Riders              Deccan Chargers   \n",
       "946               Mumbai Indians  Royal Challengers Bangalore   \n",
       "947             Delhi Daredevils             Rajasthan Royals   \n",
       "948              Kings XI Punjab          Chennai Super Kings   \n",
       "949  Royal Challengers Bangalore        Kolkata Knight Riders   \n",
       "\n",
       "                     WinningTeam  \n",
       "0                 Gujarat Titans  \n",
       "1               Rajasthan Royals  \n",
       "2    Royal Challengers Bangalore  \n",
       "3                 Gujarat Titans  \n",
       "4                   Punjab Kings  \n",
       "..                           ...  \n",
       "945        Kolkata Knight Riders  \n",
       "946  Royal Challengers Bangalore  \n",
       "947             Delhi Daredevils  \n",
       "948          Chennai Super Kings  \n",
       "949        Kolkata Knight Riders  \n",
       "\n",
       "[950 rows x 3 columns]"
      ],
      "text/html": [
       "<div>\n",
       "<style scoped>\n",
       "    .dataframe tbody tr th:only-of-type {\n",
       "        vertical-align: middle;\n",
       "    }\n",
       "\n",
       "    .dataframe tbody tr th {\n",
       "        vertical-align: top;\n",
       "    }\n",
       "\n",
       "    .dataframe thead th {\n",
       "        text-align: right;\n",
       "    }\n",
       "</style>\n",
       "<table border=\"1\" class=\"dataframe\">\n",
       "  <thead>\n",
       "    <tr style=\"text-align: right;\">\n",
       "      <th></th>\n",
       "      <th>Team1</th>\n",
       "      <th>Team2</th>\n",
       "      <th>WinningTeam</th>\n",
       "    </tr>\n",
       "  </thead>\n",
       "  <tbody>\n",
       "    <tr>\n",
       "      <th>0</th>\n",
       "      <td>Rajasthan Royals</td>\n",
       "      <td>Gujarat Titans</td>\n",
       "      <td>Gujarat Titans</td>\n",
       "    </tr>\n",
       "    <tr>\n",
       "      <th>1</th>\n",
       "      <td>Royal Challengers Bangalore</td>\n",
       "      <td>Rajasthan Royals</td>\n",
       "      <td>Rajasthan Royals</td>\n",
       "    </tr>\n",
       "    <tr>\n",
       "      <th>2</th>\n",
       "      <td>Royal Challengers Bangalore</td>\n",
       "      <td>Lucknow Super Giants</td>\n",
       "      <td>Royal Challengers Bangalore</td>\n",
       "    </tr>\n",
       "    <tr>\n",
       "      <th>3</th>\n",
       "      <td>Rajasthan Royals</td>\n",
       "      <td>Gujarat Titans</td>\n",
       "      <td>Gujarat Titans</td>\n",
       "    </tr>\n",
       "    <tr>\n",
       "      <th>4</th>\n",
       "      <td>Sunrisers Hyderabad</td>\n",
       "      <td>Punjab Kings</td>\n",
       "      <td>Punjab Kings</td>\n",
       "    </tr>\n",
       "    <tr>\n",
       "      <th>...</th>\n",
       "      <td>...</td>\n",
       "      <td>...</td>\n",
       "      <td>...</td>\n",
       "    </tr>\n",
       "    <tr>\n",
       "      <th>945</th>\n",
       "      <td>Kolkata Knight Riders</td>\n",
       "      <td>Deccan Chargers</td>\n",
       "      <td>Kolkata Knight Riders</td>\n",
       "    </tr>\n",
       "    <tr>\n",
       "      <th>946</th>\n",
       "      <td>Mumbai Indians</td>\n",
       "      <td>Royal Challengers Bangalore</td>\n",
       "      <td>Royal Challengers Bangalore</td>\n",
       "    </tr>\n",
       "    <tr>\n",
       "      <th>947</th>\n",
       "      <td>Delhi Daredevils</td>\n",
       "      <td>Rajasthan Royals</td>\n",
       "      <td>Delhi Daredevils</td>\n",
       "    </tr>\n",
       "    <tr>\n",
       "      <th>948</th>\n",
       "      <td>Kings XI Punjab</td>\n",
       "      <td>Chennai Super Kings</td>\n",
       "      <td>Chennai Super Kings</td>\n",
       "    </tr>\n",
       "    <tr>\n",
       "      <th>949</th>\n",
       "      <td>Royal Challengers Bangalore</td>\n",
       "      <td>Kolkata Knight Riders</td>\n",
       "      <td>Kolkata Knight Riders</td>\n",
       "    </tr>\n",
       "  </tbody>\n",
       "</table>\n",
       "<p>950 rows × 3 columns</p>\n",
       "</div>"
      ]
     },
     "execution_count": 68,
     "metadata": {},
     "output_type": "execute_result"
    }
   ],
   "execution_count": 68
  },
  {
   "metadata": {},
   "cell_type": "markdown",
   "source": [
    "### Selecting rows from a DataFrame\n",
    "- **iloc**- Searches using index positions\n",
    "- **loc**- Searches using index labels"
   ],
   "id": "d8599c0a3db8313b"
  },
  {
   "metadata": {
    "ExecuteTime": {
     "end_time": "2025-02-05T16:36:06.294286Z",
     "start_time": "2025-02-05T16:36:06.263012Z"
    }
   },
   "cell_type": "code",
   "source": [
    "# single row\n",
    "movies.iloc[5]"
   ],
   "id": "b5a7d972d641d9b1",
   "outputs": [
    {
     "data": {
      "text/plain": [
       "title_x                                                                                                                                                                                                                                                                Soni (film)\n",
       "imdb_id                                                                                                                                                                                                                                                                  tt6078866\n",
       "poster_path                                                                                                                                     https://upload.wikimedia.org/wikipedia/en/thumb/d/de/Soni_India_Netflix_Movie_Poster.jpg/220px-Soni_India_Netflix_Movie_Poster.jpg\n",
       "wiki_link                                                                                                                                                                                                                                https://en.wikipedia.org/wiki/Soni_(film)\n",
       "title_y                                                                                                                                                                                                                                                                       Soni\n",
       "original_title                                                                                                                                                                                                                                                                Soni\n",
       "is_adult                                                                                                                                                                                                                                                                         0\n",
       "year_of_release                                                                                                                                                                                                                                                               2018\n",
       "runtime                                                                                                                                                                                                                                                                         97\n",
       "genres                                                                                                                                                                                                                                                                       Drama\n",
       "imdb_rating                                                                                                                                                                                                                                                                    7.2\n",
       "imdb_votes                                                                                                                                                                                                                                                                    1595\n",
       "story               Soni  a young policewoman in Delhi  and her superintendent  Kalpana  have collectively taken on a growing crisis of violent crimes against women. However  their alliance suffers a major setback when Soni is transferred out for alleged misconduct on duty.\n",
       "summary                                                                                                                    While fighting crimes against women in Delhi  a short-fused policewoman and her level-headed female boss grapple with gender issues in their own lives.\n",
       "tagline                                                                                                                                                                                                                                                                        NaN\n",
       "actors                                                                                     Geetika Vidya Ohlyan|Saloni Batra|Vikas Shukla|Mohit Chauhan|Himanshu Kohli|Gauri Chakraborty|Mohinder Gujral|Upasya Goswami|Simrat Kaur|Dimple Kaur|Prateek Pachori|Kalpana Jha|Samar|\n",
       "wins_nominations                                                                                                                                                                                                                                            3 wins & 5 nominations\n",
       "release_date                                                                                                                                                                                                                                                 18 January 2019 (USA)\n",
       "Name: 5, dtype: object"
      ]
     },
     "execution_count": 72,
     "metadata": {},
     "output_type": "execute_result"
    }
   ],
   "execution_count": 72
  },
  {
   "metadata": {
    "ExecuteTime": {
     "end_time": "2025-02-05T16:36:20.134635Z",
     "start_time": "2025-02-05T16:36:20.087621Z"
    }
   },
   "cell_type": "code",
   "source": [
    "# multiple row\n",
    "movies.iloc[:5]"
   ],
   "id": "d2757cf8f34e0b26",
   "outputs": [
    {
     "data": {
      "text/plain": [
       "                                title_x    imdb_id  \\\n",
       "0              Uri: The Surgical Strike  tt8291224   \n",
       "1                         Battalion 609  tt9472208   \n",
       "2  The Accidental Prime Minister (film)  tt6986710   \n",
       "3                       Why Cheat India  tt8108208   \n",
       "4                       Evening Shadows  tt6028796   \n",
       "\n",
       "                                                                                                                                poster_path  \\\n",
       "0                                      https://upload.wikimedia.org/wikipedia/en/thumb/3/3b/URI_-_New_poster.jpg/220px-URI_-_New_poster.jpg   \n",
       "1                                                                                                                                       NaN   \n",
       "2  https://upload.wikimedia.org/wikipedia/en/thumb/a/a1/The_Accidental_Prime_Minister_film.jpg/220px-The_Accidental_Prime_Minister_film.jpg   \n",
       "3                          https://upload.wikimedia.org/wikipedia/en/thumb/a/a2/Why_Cheat_India_poster.jpg/220px-Why_Cheat_India_poster.jpg   \n",
       "4                                                                                                                                       NaN   \n",
       "\n",
       "                                                            wiki_link  \\\n",
       "0              https://en.wikipedia.org/wiki/Uri:_The_Surgical_Strike   \n",
       "1                         https://en.wikipedia.org/wiki/Battalion_609   \n",
       "2  https://en.wikipedia.org/wiki/The_Accidental_Prime_Minister_(film)   \n",
       "3                       https://en.wikipedia.org/wiki/Why_Cheat_India   \n",
       "4                       https://en.wikipedia.org/wiki/Evening_Shadows   \n",
       "\n",
       "                         title_y                 original_title  is_adult  \\\n",
       "0       Uri: The Surgical Strike       Uri: The Surgical Strike         0   \n",
       "1                  Battalion 609                  Battalion 609         0   \n",
       "2  The Accidental Prime Minister  The Accidental Prime Minister         0   \n",
       "3                Why Cheat India                Why Cheat India         0   \n",
       "4                Evening Shadows                Evening Shadows         0   \n",
       "\n",
       "   year_of_release runtime            genres  imdb_rating  imdb_votes  \\\n",
       "0             2019     138  Action|Drama|War          8.4       35112   \n",
       "1             2019     131               War          4.1          73   \n",
       "2             2019     112   Biography|Drama          6.1        5549   \n",
       "3             2019     121       Crime|Drama          6.0        1891   \n",
       "4             2018     102             Drama          7.3         280   \n",
       "\n",
       "                                                                                                                                                                                                                                                                                                                                                                                                                                                                                                                                                                                                                                                                                                                                                                                  story  \\\n",
       "0                                                                                                                                                                                                                                                                                                                                                                            Divided over five chapters  the film chronicles the events of the surgical strike conducted by the Indian military against suspected militants in Pakistan occupied Kashmir. It tells the story of the 11 tumultuous events over which the operation was carried out. Indian army special forces carry out a covert operation to avenge the killing of fellow army men at their base by a terrorist group.   \n",
       "1  The story revolves around a cricket match between the Indian Army and the Pakistan Army gone wrong and narrates the tale of the soldiers of Battalion 609 putting up a fight with Taliban. After an attack on Indian Army that is Battalion 609 near the LOC  the match which was to be played between India and Pakistan is cancelled. Anwar Hussein  a Pakistani soldier who is very fond of cricket and was looking forward to the match  throws a cricket bat at the other end of the LOC and calls the Indian army and Indians a bunch of cowards. In anger  the Indian army throws a ball towards them. Soon  a verbal fight breaks between them which leads to the two teams deciding to play a cricket match. The losing team will take their post eighteen kilometres back.   \n",
       "2                                                                                                                                                                                                                                                                                                   Based on the memoir by Indian policy analyst Sanjaya Baru  The Accidental Prime Minister explores Manmohan Singh's tenure as the Prime Minister of India  and the interference of Congress Party in contradicting his decisions during his first tenure. He details how Singh fell a victim to Congress Party's dynastic approach. It highlights how Manmohan Singh was constantly ignored by Congress to maintain turf for Rahul Gandhi  the son of Sonia Gandhi and Rajiv Gandhi.   \n",
       "3                                                                                                                                                                                                                                                                                                                                                           The movie focuses on existing malpractices in country's education system  the whole concept of buying your way through education  jobs and earnings. Even with an evolving education system  the country faces scams like SSC and HSC paper leaks  CBSE re-examination  Vyaapam  etc. The movie tries to shift the attention of people to understand the vulnerability of hardworking and gifted students who get left out.   \n",
       "4                                                         While gay rights and marriage equality has been embraced by most countries  a small town in Southern India lives within a cocoon of traditions and social morality. In such a milieu when a young gay man Kartik  comes out to his mother Vasudha  her entire world comes crashing down. She has no one to turn to dispel her fears and doubts  to understand her loving son's truth. Moreover as a woman  trapped within a patriarchal conservative society  her biggest challenge is to deal with her dogmatic husband Damodar  and the conservative society around her. 'Evening Shadows' is a universal story about a mother-son bonding and its emotional strength to withstand the ravages of time and harsh realities.   \n",
       "\n",
       "                                                                                                                                                                                                                                 summary  \\\n",
       "0                                                                                                     Indian army special forces execute a covert operation  avenging the killing of fellow army men at their base by a terrorist group.   \n",
       "1           The story of Battalion 609 revolves around a cricket match between the Indian Army and the Pakistan army gone wrong and narrates the tale of the brave soldiers of Battalion 609 putting up a fight with the mighty Taliban.   \n",
       "2                                                                                                       Explores Manmohan Singh's tenure as the Prime Minister of India and the kind of control he had over the cabinet and the country.   \n",
       "3                   The movie focuses on existing malpractices in country's education system  the whole concept of buying your way through education  jobs and earnings. Even with an evolving education system  ...                       \n",
       "4  Under the 'Evening Shadows'  truth often plays hide and seek. Set in South India and Mumbai  'Evening Shadows' is a tender heartwarming story about a mother-son bond that has to withstand the ravages of time  distance and truths.   \n",
       "\n",
       "  tagline  \\\n",
       "0     NaN   \n",
       "1     NaN   \n",
       "2     NaN   \n",
       "3     NaN   \n",
       "4     NaN   \n",
       "\n",
       "                                                                                                                                                                                                          actors  \\\n",
       "0                Vicky Kaushal|Paresh Rawal|Mohit Raina|Yami Gautam|Kirti Kulhari|Rajit Kapoor|Ivan Rodrigues|Manasi Parekh|Swaroop Sampat|Riva Arora|Yogesh Soman|Fareed Ahmed|Akashdeep Arora|Kallol Banerjee|   \n",
       "1  Vicky Ahuja|Shoaib Ibrahim|Shrikant Kamat|Elena Kazan|Vishwas Kini|Major Kishore|Jashn Kohli|Rammy C. Pandey|Manish Sharma|Sparsh Sharma|Farnaz Shetty|Vikas Shrivastav|Chandraprakash Thakur|Brajesh Tiwari|   \n",
       "2                   Anupam Kher|Akshaye Khanna|Aahana Kumra|Atul Sharma|Manoj Anand|Arjun Mathur|Suzanne Bernert|Abdul Quadir Amin|Bharat Mistri|Divya Seth|Anil Rastogi|Ramesh Bhatkar|Parrgash Kaur|Jess Kaur|   \n",
       "3                                                                                                                        Emraan Hashmi|Shreya Dhanwanthary|Snighdadeep Chatterji|Navneet Srivastava|Nanda Yadav|   \n",
       "4                                                  Mona Ambegaonkar|Ananth Narayan Mahadevan|Devansh Doshi|Arpit Chaudhary|Yamini Singh|Abhay Kulkarni|Veena Nair|Disha Thakur|Kala Ramanathan|Sushant Divgikar|   \n",
       "\n",
       "         wins_nominations             release_date  \n",
       "0                  4 wins    11 January 2019 (USA)  \n",
       "1                     NaN  11 January 2019 (India)  \n",
       "2                     NaN    11 January 2019 (USA)  \n",
       "3                     NaN    18 January 2019 (USA)  \n",
       "4  17 wins & 1 nomination  11 January 2019 (India)  "
      ],
      "text/html": [
       "<div>\n",
       "<style scoped>\n",
       "    .dataframe tbody tr th:only-of-type {\n",
       "        vertical-align: middle;\n",
       "    }\n",
       "\n",
       "    .dataframe tbody tr th {\n",
       "        vertical-align: top;\n",
       "    }\n",
       "\n",
       "    .dataframe thead th {\n",
       "        text-align: right;\n",
       "    }\n",
       "</style>\n",
       "<table border=\"1\" class=\"dataframe\">\n",
       "  <thead>\n",
       "    <tr style=\"text-align: right;\">\n",
       "      <th></th>\n",
       "      <th>title_x</th>\n",
       "      <th>imdb_id</th>\n",
       "      <th>poster_path</th>\n",
       "      <th>wiki_link</th>\n",
       "      <th>title_y</th>\n",
       "      <th>original_title</th>\n",
       "      <th>is_adult</th>\n",
       "      <th>year_of_release</th>\n",
       "      <th>runtime</th>\n",
       "      <th>genres</th>\n",
       "      <th>imdb_rating</th>\n",
       "      <th>imdb_votes</th>\n",
       "      <th>story</th>\n",
       "      <th>summary</th>\n",
       "      <th>tagline</th>\n",
       "      <th>actors</th>\n",
       "      <th>wins_nominations</th>\n",
       "      <th>release_date</th>\n",
       "    </tr>\n",
       "  </thead>\n",
       "  <tbody>\n",
       "    <tr>\n",
       "      <th>0</th>\n",
       "      <td>Uri: The Surgical Strike</td>\n",
       "      <td>tt8291224</td>\n",
       "      <td>https://upload.wikimedia.org/wikipedia/en/thumb/3/3b/URI_-_New_poster.jpg/220px-URI_-_New_poster.jpg</td>\n",
       "      <td>https://en.wikipedia.org/wiki/Uri:_The_Surgical_Strike</td>\n",
       "      <td>Uri: The Surgical Strike</td>\n",
       "      <td>Uri: The Surgical Strike</td>\n",
       "      <td>0</td>\n",
       "      <td>2019</td>\n",
       "      <td>138</td>\n",
       "      <td>Action|Drama|War</td>\n",
       "      <td>8.4</td>\n",
       "      <td>35112</td>\n",
       "      <td>Divided over five chapters  the film chronicles the events of the surgical strike conducted by the Indian military against suspected militants in Pakistan occupied Kashmir. It tells the story of the 11 tumultuous events over which the operation was carried out. Indian army special forces carry out a covert operation to avenge the killing of fellow army men at their base by a terrorist group.</td>\n",
       "      <td>Indian army special forces execute a covert operation  avenging the killing of fellow army men at their base by a terrorist group.</td>\n",
       "      <td>NaN</td>\n",
       "      <td>Vicky Kaushal|Paresh Rawal|Mohit Raina|Yami Gautam|Kirti Kulhari|Rajit Kapoor|Ivan Rodrigues|Manasi Parekh|Swaroop Sampat|Riva Arora|Yogesh Soman|Fareed Ahmed|Akashdeep Arora|Kallol Banerjee|</td>\n",
       "      <td>4 wins</td>\n",
       "      <td>11 January 2019 (USA)</td>\n",
       "    </tr>\n",
       "    <tr>\n",
       "      <th>1</th>\n",
       "      <td>Battalion 609</td>\n",
       "      <td>tt9472208</td>\n",
       "      <td>NaN</td>\n",
       "      <td>https://en.wikipedia.org/wiki/Battalion_609</td>\n",
       "      <td>Battalion 609</td>\n",
       "      <td>Battalion 609</td>\n",
       "      <td>0</td>\n",
       "      <td>2019</td>\n",
       "      <td>131</td>\n",
       "      <td>War</td>\n",
       "      <td>4.1</td>\n",
       "      <td>73</td>\n",
       "      <td>The story revolves around a cricket match between the Indian Army and the Pakistan Army gone wrong and narrates the tale of the soldiers of Battalion 609 putting up a fight with Taliban. After an attack on Indian Army that is Battalion 609 near the LOC  the match which was to be played between India and Pakistan is cancelled. Anwar Hussein  a Pakistani soldier who is very fond of cricket and was looking forward to the match  throws a cricket bat at the other end of the LOC and calls the Indian army and Indians a bunch of cowards. In anger  the Indian army throws a ball towards them. Soon  a verbal fight breaks between them which leads to the two teams deciding to play a cricket match. The losing team will take their post eighteen kilometres back.</td>\n",
       "      <td>The story of Battalion 609 revolves around a cricket match between the Indian Army and the Pakistan army gone wrong and narrates the tale of the brave soldiers of Battalion 609 putting up a fight with the mighty Taliban.</td>\n",
       "      <td>NaN</td>\n",
       "      <td>Vicky Ahuja|Shoaib Ibrahim|Shrikant Kamat|Elena Kazan|Vishwas Kini|Major Kishore|Jashn Kohli|Rammy C. Pandey|Manish Sharma|Sparsh Sharma|Farnaz Shetty|Vikas Shrivastav|Chandraprakash Thakur|Brajesh Tiwari|</td>\n",
       "      <td>NaN</td>\n",
       "      <td>11 January 2019 (India)</td>\n",
       "    </tr>\n",
       "    <tr>\n",
       "      <th>2</th>\n",
       "      <td>The Accidental Prime Minister (film)</td>\n",
       "      <td>tt6986710</td>\n",
       "      <td>https://upload.wikimedia.org/wikipedia/en/thumb/a/a1/The_Accidental_Prime_Minister_film.jpg/220px-The_Accidental_Prime_Minister_film.jpg</td>\n",
       "      <td>https://en.wikipedia.org/wiki/The_Accidental_Prime_Minister_(film)</td>\n",
       "      <td>The Accidental Prime Minister</td>\n",
       "      <td>The Accidental Prime Minister</td>\n",
       "      <td>0</td>\n",
       "      <td>2019</td>\n",
       "      <td>112</td>\n",
       "      <td>Biography|Drama</td>\n",
       "      <td>6.1</td>\n",
       "      <td>5549</td>\n",
       "      <td>Based on the memoir by Indian policy analyst Sanjaya Baru  The Accidental Prime Minister explores Manmohan Singh's tenure as the Prime Minister of India  and the interference of Congress Party in contradicting his decisions during his first tenure. He details how Singh fell a victim to Congress Party's dynastic approach. It highlights how Manmohan Singh was constantly ignored by Congress to maintain turf for Rahul Gandhi  the son of Sonia Gandhi and Rajiv Gandhi.</td>\n",
       "      <td>Explores Manmohan Singh's tenure as the Prime Minister of India and the kind of control he had over the cabinet and the country.</td>\n",
       "      <td>NaN</td>\n",
       "      <td>Anupam Kher|Akshaye Khanna|Aahana Kumra|Atul Sharma|Manoj Anand|Arjun Mathur|Suzanne Bernert|Abdul Quadir Amin|Bharat Mistri|Divya Seth|Anil Rastogi|Ramesh Bhatkar|Parrgash Kaur|Jess Kaur|</td>\n",
       "      <td>NaN</td>\n",
       "      <td>11 January 2019 (USA)</td>\n",
       "    </tr>\n",
       "    <tr>\n",
       "      <th>3</th>\n",
       "      <td>Why Cheat India</td>\n",
       "      <td>tt8108208</td>\n",
       "      <td>https://upload.wikimedia.org/wikipedia/en/thumb/a/a2/Why_Cheat_India_poster.jpg/220px-Why_Cheat_India_poster.jpg</td>\n",
       "      <td>https://en.wikipedia.org/wiki/Why_Cheat_India</td>\n",
       "      <td>Why Cheat India</td>\n",
       "      <td>Why Cheat India</td>\n",
       "      <td>0</td>\n",
       "      <td>2019</td>\n",
       "      <td>121</td>\n",
       "      <td>Crime|Drama</td>\n",
       "      <td>6.0</td>\n",
       "      <td>1891</td>\n",
       "      <td>The movie focuses on existing malpractices in country's education system  the whole concept of buying your way through education  jobs and earnings. Even with an evolving education system  the country faces scams like SSC and HSC paper leaks  CBSE re-examination  Vyaapam  etc. The movie tries to shift the attention of people to understand the vulnerability of hardworking and gifted students who get left out.</td>\n",
       "      <td>The movie focuses on existing malpractices in country's education system  the whole concept of buying your way through education  jobs and earnings. Even with an evolving education system  ...</td>\n",
       "      <td>NaN</td>\n",
       "      <td>Emraan Hashmi|Shreya Dhanwanthary|Snighdadeep Chatterji|Navneet Srivastava|Nanda Yadav|</td>\n",
       "      <td>NaN</td>\n",
       "      <td>18 January 2019 (USA)</td>\n",
       "    </tr>\n",
       "    <tr>\n",
       "      <th>4</th>\n",
       "      <td>Evening Shadows</td>\n",
       "      <td>tt6028796</td>\n",
       "      <td>NaN</td>\n",
       "      <td>https://en.wikipedia.org/wiki/Evening_Shadows</td>\n",
       "      <td>Evening Shadows</td>\n",
       "      <td>Evening Shadows</td>\n",
       "      <td>0</td>\n",
       "      <td>2018</td>\n",
       "      <td>102</td>\n",
       "      <td>Drama</td>\n",
       "      <td>7.3</td>\n",
       "      <td>280</td>\n",
       "      <td>While gay rights and marriage equality has been embraced by most countries  a small town in Southern India lives within a cocoon of traditions and social morality. In such a milieu when a young gay man Kartik  comes out to his mother Vasudha  her entire world comes crashing down. She has no one to turn to dispel her fears and doubts  to understand her loving son's truth. Moreover as a woman  trapped within a patriarchal conservative society  her biggest challenge is to deal with her dogmatic husband Damodar  and the conservative society around her. 'Evening Shadows' is a universal story about a mother-son bonding and its emotional strength to withstand the ravages of time and harsh realities.</td>\n",
       "      <td>Under the 'Evening Shadows'  truth often plays hide and seek. Set in South India and Mumbai  'Evening Shadows' is a tender heartwarming story about a mother-son bond that has to withstand the ravages of time  distance and truths.</td>\n",
       "      <td>NaN</td>\n",
       "      <td>Mona Ambegaonkar|Ananth Narayan Mahadevan|Devansh Doshi|Arpit Chaudhary|Yamini Singh|Abhay Kulkarni|Veena Nair|Disha Thakur|Kala Ramanathan|Sushant Divgikar|</td>\n",
       "      <td>17 wins &amp; 1 nomination</td>\n",
       "      <td>11 January 2019 (India)</td>\n",
       "    </tr>\n",
       "  </tbody>\n",
       "</table>\n",
       "</div>"
      ]
     },
     "execution_count": 73,
     "metadata": {},
     "output_type": "execute_result"
    }
   ],
   "execution_count": 73
  },
  {
   "metadata": {
    "ExecuteTime": {
     "end_time": "2025-02-05T16:36:40.624394Z",
     "start_time": "2025-02-05T16:36:40.592489Z"
    }
   },
   "cell_type": "code",
   "source": [
    "# fancy indexing\n",
    "movies.iloc[[0,4,5]]"
   ],
   "id": "6200579e34647d3a",
   "outputs": [
    {
     "data": {
      "text/plain": [
       "                    title_x    imdb_id  \\\n",
       "0  Uri: The Surgical Strike  tt8291224   \n",
       "4           Evening Shadows  tt6028796   \n",
       "5               Soni (film)  tt6078866   \n",
       "\n",
       "                                                                                                                          poster_path  \\\n",
       "0                                https://upload.wikimedia.org/wikipedia/en/thumb/3/3b/URI_-_New_poster.jpg/220px-URI_-_New_poster.jpg   \n",
       "4                                                                                                                                 NaN   \n",
       "5  https://upload.wikimedia.org/wikipedia/en/thumb/d/de/Soni_India_Netflix_Movie_Poster.jpg/220px-Soni_India_Netflix_Movie_Poster.jpg   \n",
       "\n",
       "                                                wiki_link  \\\n",
       "0  https://en.wikipedia.org/wiki/Uri:_The_Surgical_Strike   \n",
       "4           https://en.wikipedia.org/wiki/Evening_Shadows   \n",
       "5               https://en.wikipedia.org/wiki/Soni_(film)   \n",
       "\n",
       "                    title_y            original_title  is_adult  \\\n",
       "0  Uri: The Surgical Strike  Uri: The Surgical Strike         0   \n",
       "4           Evening Shadows           Evening Shadows         0   \n",
       "5                      Soni                      Soni         0   \n",
       "\n",
       "   year_of_release runtime            genres  imdb_rating  imdb_votes  \\\n",
       "0             2019     138  Action|Drama|War          8.4       35112   \n",
       "4             2018     102             Drama          7.3         280   \n",
       "5             2018      97             Drama          7.2        1595   \n",
       "\n",
       "                                                                                                                                                                                                                                                                                                                                                                                                                                                                                                                                                                                                                                                                                                                           story  \\\n",
       "0                                                                                                                                                                                                                                                                                                                     Divided over five chapters  the film chronicles the events of the surgical strike conducted by the Indian military against suspected militants in Pakistan occupied Kashmir. It tells the story of the 11 tumultuous events over which the operation was carried out. Indian army special forces carry out a covert operation to avenge the killing of fellow army men at their base by a terrorist group.   \n",
       "4  While gay rights and marriage equality has been embraced by most countries  a small town in Southern India lives within a cocoon of traditions and social morality. In such a milieu when a young gay man Kartik  comes out to his mother Vasudha  her entire world comes crashing down. She has no one to turn to dispel her fears and doubts  to understand her loving son's truth. Moreover as a woman  trapped within a patriarchal conservative society  her biggest challenge is to deal with her dogmatic husband Damodar  and the conservative society around her. 'Evening Shadows' is a universal story about a mother-son bonding and its emotional strength to withstand the ravages of time and harsh realities.   \n",
       "5                                                                                                                                                                                                                                                                                                                                                                                                                                                                 Soni  a young policewoman in Delhi  and her superintendent  Kalpana  have collectively taken on a growing crisis of violent crimes against women. However  their alliance suffers a major setback when Soni is transferred out for alleged misconduct on duty.   \n",
       "\n",
       "                                                                                                                                                                                                                                 summary  \\\n",
       "0                                                                                                     Indian army special forces execute a covert operation  avenging the killing of fellow army men at their base by a terrorist group.   \n",
       "4  Under the 'Evening Shadows'  truth often plays hide and seek. Set in South India and Mumbai  'Evening Shadows' is a tender heartwarming story about a mother-son bond that has to withstand the ravages of time  distance and truths.   \n",
       "5                                                                                While fighting crimes against women in Delhi  a short-fused policewoman and her level-headed female boss grapple with gender issues in their own lives.   \n",
       "\n",
       "  tagline  \\\n",
       "0     NaN   \n",
       "4     NaN   \n",
       "5     NaN   \n",
       "\n",
       "                                                                                                                                                                                            actors  \\\n",
       "0  Vicky Kaushal|Paresh Rawal|Mohit Raina|Yami Gautam|Kirti Kulhari|Rajit Kapoor|Ivan Rodrigues|Manasi Parekh|Swaroop Sampat|Riva Arora|Yogesh Soman|Fareed Ahmed|Akashdeep Arora|Kallol Banerjee|   \n",
       "4                                    Mona Ambegaonkar|Ananth Narayan Mahadevan|Devansh Doshi|Arpit Chaudhary|Yamini Singh|Abhay Kulkarni|Veena Nair|Disha Thakur|Kala Ramanathan|Sushant Divgikar|   \n",
       "5          Geetika Vidya Ohlyan|Saloni Batra|Vikas Shukla|Mohit Chauhan|Himanshu Kohli|Gauri Chakraborty|Mohinder Gujral|Upasya Goswami|Simrat Kaur|Dimple Kaur|Prateek Pachori|Kalpana Jha|Samar|   \n",
       "\n",
       "         wins_nominations             release_date  \n",
       "0                  4 wins    11 January 2019 (USA)  \n",
       "4  17 wins & 1 nomination  11 January 2019 (India)  \n",
       "5  3 wins & 5 nominations    18 January 2019 (USA)  "
      ],
      "text/html": [
       "<div>\n",
       "<style scoped>\n",
       "    .dataframe tbody tr th:only-of-type {\n",
       "        vertical-align: middle;\n",
       "    }\n",
       "\n",
       "    .dataframe tbody tr th {\n",
       "        vertical-align: top;\n",
       "    }\n",
       "\n",
       "    .dataframe thead th {\n",
       "        text-align: right;\n",
       "    }\n",
       "</style>\n",
       "<table border=\"1\" class=\"dataframe\">\n",
       "  <thead>\n",
       "    <tr style=\"text-align: right;\">\n",
       "      <th></th>\n",
       "      <th>title_x</th>\n",
       "      <th>imdb_id</th>\n",
       "      <th>poster_path</th>\n",
       "      <th>wiki_link</th>\n",
       "      <th>title_y</th>\n",
       "      <th>original_title</th>\n",
       "      <th>is_adult</th>\n",
       "      <th>year_of_release</th>\n",
       "      <th>runtime</th>\n",
       "      <th>genres</th>\n",
       "      <th>imdb_rating</th>\n",
       "      <th>imdb_votes</th>\n",
       "      <th>story</th>\n",
       "      <th>summary</th>\n",
       "      <th>tagline</th>\n",
       "      <th>actors</th>\n",
       "      <th>wins_nominations</th>\n",
       "      <th>release_date</th>\n",
       "    </tr>\n",
       "  </thead>\n",
       "  <tbody>\n",
       "    <tr>\n",
       "      <th>0</th>\n",
       "      <td>Uri: The Surgical Strike</td>\n",
       "      <td>tt8291224</td>\n",
       "      <td>https://upload.wikimedia.org/wikipedia/en/thumb/3/3b/URI_-_New_poster.jpg/220px-URI_-_New_poster.jpg</td>\n",
       "      <td>https://en.wikipedia.org/wiki/Uri:_The_Surgical_Strike</td>\n",
       "      <td>Uri: The Surgical Strike</td>\n",
       "      <td>Uri: The Surgical Strike</td>\n",
       "      <td>0</td>\n",
       "      <td>2019</td>\n",
       "      <td>138</td>\n",
       "      <td>Action|Drama|War</td>\n",
       "      <td>8.4</td>\n",
       "      <td>35112</td>\n",
       "      <td>Divided over five chapters  the film chronicles the events of the surgical strike conducted by the Indian military against suspected militants in Pakistan occupied Kashmir. It tells the story of the 11 tumultuous events over which the operation was carried out. Indian army special forces carry out a covert operation to avenge the killing of fellow army men at their base by a terrorist group.</td>\n",
       "      <td>Indian army special forces execute a covert operation  avenging the killing of fellow army men at their base by a terrorist group.</td>\n",
       "      <td>NaN</td>\n",
       "      <td>Vicky Kaushal|Paresh Rawal|Mohit Raina|Yami Gautam|Kirti Kulhari|Rajit Kapoor|Ivan Rodrigues|Manasi Parekh|Swaroop Sampat|Riva Arora|Yogesh Soman|Fareed Ahmed|Akashdeep Arora|Kallol Banerjee|</td>\n",
       "      <td>4 wins</td>\n",
       "      <td>11 January 2019 (USA)</td>\n",
       "    </tr>\n",
       "    <tr>\n",
       "      <th>4</th>\n",
       "      <td>Evening Shadows</td>\n",
       "      <td>tt6028796</td>\n",
       "      <td>NaN</td>\n",
       "      <td>https://en.wikipedia.org/wiki/Evening_Shadows</td>\n",
       "      <td>Evening Shadows</td>\n",
       "      <td>Evening Shadows</td>\n",
       "      <td>0</td>\n",
       "      <td>2018</td>\n",
       "      <td>102</td>\n",
       "      <td>Drama</td>\n",
       "      <td>7.3</td>\n",
       "      <td>280</td>\n",
       "      <td>While gay rights and marriage equality has been embraced by most countries  a small town in Southern India lives within a cocoon of traditions and social morality. In such a milieu when a young gay man Kartik  comes out to his mother Vasudha  her entire world comes crashing down. She has no one to turn to dispel her fears and doubts  to understand her loving son's truth. Moreover as a woman  trapped within a patriarchal conservative society  her biggest challenge is to deal with her dogmatic husband Damodar  and the conservative society around her. 'Evening Shadows' is a universal story about a mother-son bonding and its emotional strength to withstand the ravages of time and harsh realities.</td>\n",
       "      <td>Under the 'Evening Shadows'  truth often plays hide and seek. Set in South India and Mumbai  'Evening Shadows' is a tender heartwarming story about a mother-son bond that has to withstand the ravages of time  distance and truths.</td>\n",
       "      <td>NaN</td>\n",
       "      <td>Mona Ambegaonkar|Ananth Narayan Mahadevan|Devansh Doshi|Arpit Chaudhary|Yamini Singh|Abhay Kulkarni|Veena Nair|Disha Thakur|Kala Ramanathan|Sushant Divgikar|</td>\n",
       "      <td>17 wins &amp; 1 nomination</td>\n",
       "      <td>11 January 2019 (India)</td>\n",
       "    </tr>\n",
       "    <tr>\n",
       "      <th>5</th>\n",
       "      <td>Soni (film)</td>\n",
       "      <td>tt6078866</td>\n",
       "      <td>https://upload.wikimedia.org/wikipedia/en/thumb/d/de/Soni_India_Netflix_Movie_Poster.jpg/220px-Soni_India_Netflix_Movie_Poster.jpg</td>\n",
       "      <td>https://en.wikipedia.org/wiki/Soni_(film)</td>\n",
       "      <td>Soni</td>\n",
       "      <td>Soni</td>\n",
       "      <td>0</td>\n",
       "      <td>2018</td>\n",
       "      <td>97</td>\n",
       "      <td>Drama</td>\n",
       "      <td>7.2</td>\n",
       "      <td>1595</td>\n",
       "      <td>Soni  a young policewoman in Delhi  and her superintendent  Kalpana  have collectively taken on a growing crisis of violent crimes against women. However  their alliance suffers a major setback when Soni is transferred out for alleged misconduct on duty.</td>\n",
       "      <td>While fighting crimes against women in Delhi  a short-fused policewoman and her level-headed female boss grapple with gender issues in their own lives.</td>\n",
       "      <td>NaN</td>\n",
       "      <td>Geetika Vidya Ohlyan|Saloni Batra|Vikas Shukla|Mohit Chauhan|Himanshu Kohli|Gauri Chakraborty|Mohinder Gujral|Upasya Goswami|Simrat Kaur|Dimple Kaur|Prateek Pachori|Kalpana Jha|Samar|</td>\n",
       "      <td>3 wins &amp; 5 nominations</td>\n",
       "      <td>18 January 2019 (USA)</td>\n",
       "    </tr>\n",
       "  </tbody>\n",
       "</table>\n",
       "</div>"
      ]
     },
     "execution_count": 74,
     "metadata": {},
     "output_type": "execute_result"
    }
   ],
   "execution_count": 74
  },
  {
   "metadata": {
    "ExecuteTime": {
     "end_time": "2025-02-05T16:36:56.762829Z",
     "start_time": "2025-02-05T16:36:56.735838Z"
    }
   },
   "cell_type": "code",
   "source": [
    "# loc\n",
    "students"
   ],
   "id": "efb0ae18def63617",
   "outputs": [
    {
     "data": {
      "text/plain": [
       "          iq  percentage  lpa\n",
       "name                         \n",
       "Hamza    100          80   10\n",
       "ankit     90          70    7\n",
       "rupesh   120         100   14\n",
       "rishabh   80          50    2\n",
       "amit       0           0    0\n",
       "ankita     0           0    0"
      ],
      "text/html": [
       "<div>\n",
       "<style scoped>\n",
       "    .dataframe tbody tr th:only-of-type {\n",
       "        vertical-align: middle;\n",
       "    }\n",
       "\n",
       "    .dataframe tbody tr th {\n",
       "        vertical-align: top;\n",
       "    }\n",
       "\n",
       "    .dataframe thead th {\n",
       "        text-align: right;\n",
       "    }\n",
       "</style>\n",
       "<table border=\"1\" class=\"dataframe\">\n",
       "  <thead>\n",
       "    <tr style=\"text-align: right;\">\n",
       "      <th></th>\n",
       "      <th>iq</th>\n",
       "      <th>percentage</th>\n",
       "      <th>lpa</th>\n",
       "    </tr>\n",
       "    <tr>\n",
       "      <th>name</th>\n",
       "      <th></th>\n",
       "      <th></th>\n",
       "      <th></th>\n",
       "    </tr>\n",
       "  </thead>\n",
       "  <tbody>\n",
       "    <tr>\n",
       "      <th>Hamza</th>\n",
       "      <td>100</td>\n",
       "      <td>80</td>\n",
       "      <td>10</td>\n",
       "    </tr>\n",
       "    <tr>\n",
       "      <th>ankit</th>\n",
       "      <td>90</td>\n",
       "      <td>70</td>\n",
       "      <td>7</td>\n",
       "    </tr>\n",
       "    <tr>\n",
       "      <th>rupesh</th>\n",
       "      <td>120</td>\n",
       "      <td>100</td>\n",
       "      <td>14</td>\n",
       "    </tr>\n",
       "    <tr>\n",
       "      <th>rishabh</th>\n",
       "      <td>80</td>\n",
       "      <td>50</td>\n",
       "      <td>2</td>\n",
       "    </tr>\n",
       "    <tr>\n",
       "      <th>amit</th>\n",
       "      <td>0</td>\n",
       "      <td>0</td>\n",
       "      <td>0</td>\n",
       "    </tr>\n",
       "    <tr>\n",
       "      <th>ankita</th>\n",
       "      <td>0</td>\n",
       "      <td>0</td>\n",
       "      <td>0</td>\n",
       "    </tr>\n",
       "  </tbody>\n",
       "</table>\n",
       "</div>"
      ]
     },
     "execution_count": 75,
     "metadata": {},
     "output_type": "execute_result"
    }
   ],
   "execution_count": 75
  },
  {
   "metadata": {
    "ExecuteTime": {
     "end_time": "2025-02-05T16:37:18.064097Z",
     "start_time": "2025-02-05T16:37:18.032681Z"
    }
   },
   "cell_type": "code",
   "source": "students.loc['Hamza']",
   "id": "e84e6d9d8df1e892",
   "outputs": [
    {
     "data": {
      "text/plain": [
       "iq            100\n",
       "percentage     80\n",
       "lpa            10\n",
       "Name: Hamza, dtype: int64"
      ]
     },
     "execution_count": 76,
     "metadata": {},
     "output_type": "execute_result"
    }
   ],
   "execution_count": 76
  },
  {
   "metadata": {
    "ExecuteTime": {
     "end_time": "2025-02-05T16:37:48.536333Z",
     "start_time": "2025-02-05T16:37:48.505073Z"
    }
   },
   "cell_type": "code",
   "source": "students.loc['Hamza':'rishabh':2]",
   "id": "2183b5f43b79b550",
   "outputs": [
    {
     "data": {
      "text/plain": [
       "         iq  percentage  lpa\n",
       "name                        \n",
       "Hamza   100          80   10\n",
       "rupesh  120         100   14"
      ],
      "text/html": [
       "<div>\n",
       "<style scoped>\n",
       "    .dataframe tbody tr th:only-of-type {\n",
       "        vertical-align: middle;\n",
       "    }\n",
       "\n",
       "    .dataframe tbody tr th {\n",
       "        vertical-align: top;\n",
       "    }\n",
       "\n",
       "    .dataframe thead th {\n",
       "        text-align: right;\n",
       "    }\n",
       "</style>\n",
       "<table border=\"1\" class=\"dataframe\">\n",
       "  <thead>\n",
       "    <tr style=\"text-align: right;\">\n",
       "      <th></th>\n",
       "      <th>iq</th>\n",
       "      <th>percentage</th>\n",
       "      <th>lpa</th>\n",
       "    </tr>\n",
       "    <tr>\n",
       "      <th>name</th>\n",
       "      <th></th>\n",
       "      <th></th>\n",
       "      <th></th>\n",
       "    </tr>\n",
       "  </thead>\n",
       "  <tbody>\n",
       "    <tr>\n",
       "      <th>Hamza</th>\n",
       "      <td>100</td>\n",
       "      <td>80</td>\n",
       "      <td>10</td>\n",
       "    </tr>\n",
       "    <tr>\n",
       "      <th>rupesh</th>\n",
       "      <td>120</td>\n",
       "      <td>100</td>\n",
       "      <td>14</td>\n",
       "    </tr>\n",
       "  </tbody>\n",
       "</table>\n",
       "</div>"
      ]
     },
     "execution_count": 78,
     "metadata": {},
     "output_type": "execute_result"
    }
   ],
   "execution_count": 78
  },
  {
   "metadata": {
    "ExecuteTime": {
     "end_time": "2025-02-05T16:38:34.949214Z",
     "start_time": "2025-02-05T16:38:34.929219Z"
    }
   },
   "cell_type": "code",
   "source": "students.loc[['Hamza','ankit','rishabh']]",
   "id": "1d701f7c7a099d73",
   "outputs": [
    {
     "data": {
      "text/plain": [
       "          iq  percentage  lpa\n",
       "name                         \n",
       "Hamza    100          80   10\n",
       "ankit     90          70    7\n",
       "rishabh   80          50    2"
      ],
      "text/html": [
       "<div>\n",
       "<style scoped>\n",
       "    .dataframe tbody tr th:only-of-type {\n",
       "        vertical-align: middle;\n",
       "    }\n",
       "\n",
       "    .dataframe tbody tr th {\n",
       "        vertical-align: top;\n",
       "    }\n",
       "\n",
       "    .dataframe thead th {\n",
       "        text-align: right;\n",
       "    }\n",
       "</style>\n",
       "<table border=\"1\" class=\"dataframe\">\n",
       "  <thead>\n",
       "    <tr style=\"text-align: right;\">\n",
       "      <th></th>\n",
       "      <th>iq</th>\n",
       "      <th>percentage</th>\n",
       "      <th>lpa</th>\n",
       "    </tr>\n",
       "    <tr>\n",
       "      <th>name</th>\n",
       "      <th></th>\n",
       "      <th></th>\n",
       "      <th></th>\n",
       "    </tr>\n",
       "  </thead>\n",
       "  <tbody>\n",
       "    <tr>\n",
       "      <th>Hamza</th>\n",
       "      <td>100</td>\n",
       "      <td>80</td>\n",
       "      <td>10</td>\n",
       "    </tr>\n",
       "    <tr>\n",
       "      <th>ankit</th>\n",
       "      <td>90</td>\n",
       "      <td>70</td>\n",
       "      <td>7</td>\n",
       "    </tr>\n",
       "    <tr>\n",
       "      <th>rishabh</th>\n",
       "      <td>80</td>\n",
       "      <td>50</td>\n",
       "      <td>2</td>\n",
       "    </tr>\n",
       "  </tbody>\n",
       "</table>\n",
       "</div>"
      ]
     },
     "execution_count": 79,
     "metadata": {},
     "output_type": "execute_result"
    }
   ],
   "execution_count": 79
  },
  {
   "metadata": {},
   "cell_type": "markdown",
   "source": "### Selecting both rows and cols",
   "id": "a0b84705848d2386"
  },
  {
   "metadata": {
    "ExecuteTime": {
     "end_time": "2025-02-05T16:39:56.469568Z",
     "start_time": "2025-02-05T16:39:56.433452Z"
    }
   },
   "cell_type": "code",
   "source": "movies.iloc[:3,:3]",
   "id": "9aaae1c535897bf3",
   "outputs": [
    {
     "data": {
      "text/plain": [
       "                                title_x    imdb_id  \\\n",
       "0              Uri: The Surgical Strike  tt8291224   \n",
       "1                         Battalion 609  tt9472208   \n",
       "2  The Accidental Prime Minister (film)  tt6986710   \n",
       "\n",
       "                                                                                                                                poster_path  \n",
       "0                                      https://upload.wikimedia.org/wikipedia/en/thumb/3/3b/URI_-_New_poster.jpg/220px-URI_-_New_poster.jpg  \n",
       "1                                                                                                                                       NaN  \n",
       "2  https://upload.wikimedia.org/wikipedia/en/thumb/a/a1/The_Accidental_Prime_Minister_film.jpg/220px-The_Accidental_Prime_Minister_film.jpg  "
      ],
      "text/html": [
       "<div>\n",
       "<style scoped>\n",
       "    .dataframe tbody tr th:only-of-type {\n",
       "        vertical-align: middle;\n",
       "    }\n",
       "\n",
       "    .dataframe tbody tr th {\n",
       "        vertical-align: top;\n",
       "    }\n",
       "\n",
       "    .dataframe thead th {\n",
       "        text-align: right;\n",
       "    }\n",
       "</style>\n",
       "<table border=\"1\" class=\"dataframe\">\n",
       "  <thead>\n",
       "    <tr style=\"text-align: right;\">\n",
       "      <th></th>\n",
       "      <th>title_x</th>\n",
       "      <th>imdb_id</th>\n",
       "      <th>poster_path</th>\n",
       "    </tr>\n",
       "  </thead>\n",
       "  <tbody>\n",
       "    <tr>\n",
       "      <th>0</th>\n",
       "      <td>Uri: The Surgical Strike</td>\n",
       "      <td>tt8291224</td>\n",
       "      <td>https://upload.wikimedia.org/wikipedia/en/thumb/3/3b/URI_-_New_poster.jpg/220px-URI_-_New_poster.jpg</td>\n",
       "    </tr>\n",
       "    <tr>\n",
       "      <th>1</th>\n",
       "      <td>Battalion 609</td>\n",
       "      <td>tt9472208</td>\n",
       "      <td>NaN</td>\n",
       "    </tr>\n",
       "    <tr>\n",
       "      <th>2</th>\n",
       "      <td>The Accidental Prime Minister (film)</td>\n",
       "      <td>tt6986710</td>\n",
       "      <td>https://upload.wikimedia.org/wikipedia/en/thumb/a/a1/The_Accidental_Prime_Minister_film.jpg/220px-The_Accidental_Prime_Minister_film.jpg</td>\n",
       "    </tr>\n",
       "  </tbody>\n",
       "</table>\n",
       "</div>"
      ]
     },
     "execution_count": 80,
     "metadata": {},
     "output_type": "execute_result"
    }
   ],
   "execution_count": 80
  },
  {
   "metadata": {},
   "cell_type": "markdown",
   "source": "### Filtering a DataFrame",
   "id": "200c9629dc68a5dd"
  },
  {
   "metadata": {
    "ExecuteTime": {
     "end_time": "2025-02-05T16:42:03.882692Z",
     "start_time": "2025-02-05T16:42:03.843347Z"
    }
   },
   "cell_type": "code",
   "source": "ipl.head(2)",
   "id": "7f18cd200195a32b",
   "outputs": [
    {
     "data": {
      "text/plain": [
       "        ID       City        Date Season  MatchNumber  \\\n",
       "0  1312200  Ahmedabad  2022-05-29   2022        Final   \n",
       "1  1312199  Ahmedabad  2022-05-27   2022  Qualifier 2   \n",
       "\n",
       "                         Team1             Team2  \\\n",
       "0             Rajasthan Royals    Gujarat Titans   \n",
       "1  Royal Challengers Bangalore  Rajasthan Royals   \n",
       "\n",
       "                              Venue        TossWinner TossDecision SuperOver  \\\n",
       "0  Narendra Modi Stadium, Ahmedabad  Rajasthan Royals          bat         N   \n",
       "1  Narendra Modi Stadium, Ahmedabad  Rajasthan Royals        field         N   \n",
       "\n",
       "        WinningTeam    WonBy  Margin method Player_of_Match  \\\n",
       "0    Gujarat Titans  Wickets     7.0    NaN       HH Pandya   \n",
       "1  Rajasthan Royals  Wickets     7.0    NaN      JC Buttler   \n",
       "\n",
       "                                                                                                                                                        Team1Players  \\\n",
       "0            ['YBK Jaiswal', 'JC Buttler', 'SV Samson', 'D Padikkal', 'SO Hetmyer', 'R Ashwin', 'R Parag', 'TA Boult', 'OC McCoy', 'M Prasidh Krishna', 'YS Chahal']   \n",
       "1  ['V Kohli', 'F du Plessis', 'RM Patidar', 'GJ Maxwell', 'MK Lomror', 'KD Karthik', 'Shahbaz Ahmed', 'PWH de Silva', 'HV Patel', 'JR Hazlewood', 'Mohammed Siraj']   \n",
       "\n",
       "                                                                                                                                                   Team2Players  \\\n",
       "0  ['WP Saha', 'Shubman Gill', 'MS Wade', 'HH Pandya', 'DA Miller', 'R Tewatia', 'Rashid Khan', 'R Sai Kishore', 'LH Ferguson', 'Yash Dayal', 'Mohammed Shami']   \n",
       "1       ['YBK Jaiswal', 'JC Buttler', 'SV Samson', 'D Padikkal', 'SO Hetmyer', 'R Parag', 'R Ashwin', 'TA Boult', 'YS Chahal', 'M Prasidh Krishna', 'OC McCoy']   \n",
       "\n",
       "       Umpire1      Umpire2  \n",
       "0  CB Gaffaney  Nitin Menon  \n",
       "1  CB Gaffaney  Nitin Menon  "
      ],
      "text/html": [
       "<div>\n",
       "<style scoped>\n",
       "    .dataframe tbody tr th:only-of-type {\n",
       "        vertical-align: middle;\n",
       "    }\n",
       "\n",
       "    .dataframe tbody tr th {\n",
       "        vertical-align: top;\n",
       "    }\n",
       "\n",
       "    .dataframe thead th {\n",
       "        text-align: right;\n",
       "    }\n",
       "</style>\n",
       "<table border=\"1\" class=\"dataframe\">\n",
       "  <thead>\n",
       "    <tr style=\"text-align: right;\">\n",
       "      <th></th>\n",
       "      <th>ID</th>\n",
       "      <th>City</th>\n",
       "      <th>Date</th>\n",
       "      <th>Season</th>\n",
       "      <th>MatchNumber</th>\n",
       "      <th>Team1</th>\n",
       "      <th>Team2</th>\n",
       "      <th>Venue</th>\n",
       "      <th>TossWinner</th>\n",
       "      <th>TossDecision</th>\n",
       "      <th>SuperOver</th>\n",
       "      <th>WinningTeam</th>\n",
       "      <th>WonBy</th>\n",
       "      <th>Margin</th>\n",
       "      <th>method</th>\n",
       "      <th>Player_of_Match</th>\n",
       "      <th>Team1Players</th>\n",
       "      <th>Team2Players</th>\n",
       "      <th>Umpire1</th>\n",
       "      <th>Umpire2</th>\n",
       "    </tr>\n",
       "  </thead>\n",
       "  <tbody>\n",
       "    <tr>\n",
       "      <th>0</th>\n",
       "      <td>1312200</td>\n",
       "      <td>Ahmedabad</td>\n",
       "      <td>2022-05-29</td>\n",
       "      <td>2022</td>\n",
       "      <td>Final</td>\n",
       "      <td>Rajasthan Royals</td>\n",
       "      <td>Gujarat Titans</td>\n",
       "      <td>Narendra Modi Stadium, Ahmedabad</td>\n",
       "      <td>Rajasthan Royals</td>\n",
       "      <td>bat</td>\n",
       "      <td>N</td>\n",
       "      <td>Gujarat Titans</td>\n",
       "      <td>Wickets</td>\n",
       "      <td>7.0</td>\n",
       "      <td>NaN</td>\n",
       "      <td>HH Pandya</td>\n",
       "      <td>['YBK Jaiswal', 'JC Buttler', 'SV Samson', 'D Padikkal', 'SO Hetmyer', 'R Ashwin', 'R Parag', 'TA Boult', 'OC McCoy', 'M Prasidh Krishna', 'YS Chahal']</td>\n",
       "      <td>['WP Saha', 'Shubman Gill', 'MS Wade', 'HH Pandya', 'DA Miller', 'R Tewatia', 'Rashid Khan', 'R Sai Kishore', 'LH Ferguson', 'Yash Dayal', 'Mohammed Shami']</td>\n",
       "      <td>CB Gaffaney</td>\n",
       "      <td>Nitin Menon</td>\n",
       "    </tr>\n",
       "    <tr>\n",
       "      <th>1</th>\n",
       "      <td>1312199</td>\n",
       "      <td>Ahmedabad</td>\n",
       "      <td>2022-05-27</td>\n",
       "      <td>2022</td>\n",
       "      <td>Qualifier 2</td>\n",
       "      <td>Royal Challengers Bangalore</td>\n",
       "      <td>Rajasthan Royals</td>\n",
       "      <td>Narendra Modi Stadium, Ahmedabad</td>\n",
       "      <td>Rajasthan Royals</td>\n",
       "      <td>field</td>\n",
       "      <td>N</td>\n",
       "      <td>Rajasthan Royals</td>\n",
       "      <td>Wickets</td>\n",
       "      <td>7.0</td>\n",
       "      <td>NaN</td>\n",
       "      <td>JC Buttler</td>\n",
       "      <td>['V Kohli', 'F du Plessis', 'RM Patidar', 'GJ Maxwell', 'MK Lomror', 'KD Karthik', 'Shahbaz Ahmed', 'PWH de Silva', 'HV Patel', 'JR Hazlewood', 'Mohammed Siraj']</td>\n",
       "      <td>['YBK Jaiswal', 'JC Buttler', 'SV Samson', 'D Padikkal', 'SO Hetmyer', 'R Parag', 'R Ashwin', 'TA Boult', 'YS Chahal', 'M Prasidh Krishna', 'OC McCoy']</td>\n",
       "      <td>CB Gaffaney</td>\n",
       "      <td>Nitin Menon</td>\n",
       "    </tr>\n",
       "  </tbody>\n",
       "</table>\n",
       "</div>"
      ]
     },
     "execution_count": 83,
     "metadata": {},
     "output_type": "execute_result"
    }
   ],
   "execution_count": 83
  },
  {
   "metadata": {
    "ExecuteTime": {
     "end_time": "2025-02-05T16:44:34.669795Z",
     "start_time": "2025-02-05T16:44:34.621783Z"
    }
   },
   "cell_type": "code",
   "source": [
    "# find all the final winners\n",
    "ipl[ipl['MatchNumber']=='Final'][['Season','WinningTeam']]"
   ],
   "id": "866c359ac6538fd9",
   "outputs": [
    {
     "data": {
      "text/plain": [
       "      Season            WinningTeam\n",
       "0       2022         Gujarat Titans\n",
       "74      2021    Chennai Super Kings\n",
       "134  2020/21         Mumbai Indians\n",
       "194     2019         Mumbai Indians\n",
       "254     2018    Chennai Super Kings\n",
       "314     2017         Mumbai Indians\n",
       "373     2016    Sunrisers Hyderabad\n",
       "433     2015         Mumbai Indians\n",
       "492     2014  Kolkata Knight Riders\n",
       "552     2013         Mumbai Indians\n",
       "628     2012  Kolkata Knight Riders\n",
       "702     2011    Chennai Super Kings\n",
       "775  2009/10    Chennai Super Kings\n",
       "835     2009        Deccan Chargers\n",
       "892  2007/08       Rajasthan Royals"
      ],
      "text/html": [
       "<div>\n",
       "<style scoped>\n",
       "    .dataframe tbody tr th:only-of-type {\n",
       "        vertical-align: middle;\n",
       "    }\n",
       "\n",
       "    .dataframe tbody tr th {\n",
       "        vertical-align: top;\n",
       "    }\n",
       "\n",
       "    .dataframe thead th {\n",
       "        text-align: right;\n",
       "    }\n",
       "</style>\n",
       "<table border=\"1\" class=\"dataframe\">\n",
       "  <thead>\n",
       "    <tr style=\"text-align: right;\">\n",
       "      <th></th>\n",
       "      <th>Season</th>\n",
       "      <th>WinningTeam</th>\n",
       "    </tr>\n",
       "  </thead>\n",
       "  <tbody>\n",
       "    <tr>\n",
       "      <th>0</th>\n",
       "      <td>2022</td>\n",
       "      <td>Gujarat Titans</td>\n",
       "    </tr>\n",
       "    <tr>\n",
       "      <th>74</th>\n",
       "      <td>2021</td>\n",
       "      <td>Chennai Super Kings</td>\n",
       "    </tr>\n",
       "    <tr>\n",
       "      <th>134</th>\n",
       "      <td>2020/21</td>\n",
       "      <td>Mumbai Indians</td>\n",
       "    </tr>\n",
       "    <tr>\n",
       "      <th>194</th>\n",
       "      <td>2019</td>\n",
       "      <td>Mumbai Indians</td>\n",
       "    </tr>\n",
       "    <tr>\n",
       "      <th>254</th>\n",
       "      <td>2018</td>\n",
       "      <td>Chennai Super Kings</td>\n",
       "    </tr>\n",
       "    <tr>\n",
       "      <th>314</th>\n",
       "      <td>2017</td>\n",
       "      <td>Mumbai Indians</td>\n",
       "    </tr>\n",
       "    <tr>\n",
       "      <th>373</th>\n",
       "      <td>2016</td>\n",
       "      <td>Sunrisers Hyderabad</td>\n",
       "    </tr>\n",
       "    <tr>\n",
       "      <th>433</th>\n",
       "      <td>2015</td>\n",
       "      <td>Mumbai Indians</td>\n",
       "    </tr>\n",
       "    <tr>\n",
       "      <th>492</th>\n",
       "      <td>2014</td>\n",
       "      <td>Kolkata Knight Riders</td>\n",
       "    </tr>\n",
       "    <tr>\n",
       "      <th>552</th>\n",
       "      <td>2013</td>\n",
       "      <td>Mumbai Indians</td>\n",
       "    </tr>\n",
       "    <tr>\n",
       "      <th>628</th>\n",
       "      <td>2012</td>\n",
       "      <td>Kolkata Knight Riders</td>\n",
       "    </tr>\n",
       "    <tr>\n",
       "      <th>702</th>\n",
       "      <td>2011</td>\n",
       "      <td>Chennai Super Kings</td>\n",
       "    </tr>\n",
       "    <tr>\n",
       "      <th>775</th>\n",
       "      <td>2009/10</td>\n",
       "      <td>Chennai Super Kings</td>\n",
       "    </tr>\n",
       "    <tr>\n",
       "      <th>835</th>\n",
       "      <td>2009</td>\n",
       "      <td>Deccan Chargers</td>\n",
       "    </tr>\n",
       "    <tr>\n",
       "      <th>892</th>\n",
       "      <td>2007/08</td>\n",
       "      <td>Rajasthan Royals</td>\n",
       "    </tr>\n",
       "  </tbody>\n",
       "</table>\n",
       "</div>"
      ]
     },
     "execution_count": 89,
     "metadata": {},
     "output_type": "execute_result"
    }
   ],
   "execution_count": 89
  },
  {
   "metadata": {
    "ExecuteTime": {
     "end_time": "2025-02-05T16:47:04.643033Z",
     "start_time": "2025-02-05T16:47:04.608857Z"
    }
   },
   "cell_type": "code",
   "source": [
    "# how many super over finishes have occured\n",
    "ipl[ipl['SuperOver'] == 'Y'].shape[0]"
   ],
   "id": "9baa9f216ca0d619",
   "outputs": [
    {
     "data": {
      "text/plain": [
       "14"
      ]
     },
     "execution_count": 101,
     "metadata": {},
     "output_type": "execute_result"
    }
   ],
   "execution_count": 101
  },
  {
   "metadata": {
    "ExecuteTime": {
     "end_time": "2025-02-05T16:50:24.678681Z",
     "start_time": "2025-02-05T16:50:24.650440Z"
    }
   },
   "cell_type": "code",
   "source": [
    "# how many matches has csk won in kolkata\n",
    "ipl[(ipl['City']=='Kolkata')& (ipl['WinningTeam']=='Chennai Super Kings')].shape[0]"
   ],
   "id": "dfd71f3d7bb6a00",
   "outputs": [
    {
     "data": {
      "text/plain": [
       "5"
      ]
     },
     "execution_count": 109,
     "metadata": {},
     "output_type": "execute_result"
    }
   ],
   "execution_count": 109
  },
  {
   "metadata": {
    "ExecuteTime": {
     "end_time": "2025-02-05T16:56:50.827117Z",
     "start_time": "2025-02-05T16:56:50.764603Z"
    }
   },
   "cell_type": "code",
   "source": [
    "# movies with rating higher than 8 and votes>10000\n",
    "movies[(movies['imdb_rating']>8.5) & (movies['imdb_votes']>100)]"
   ],
   "id": "8a34af5d00fd1a13",
   "outputs": [
    {
     "data": {
      "text/plain": [
       "                         title_x    imdb_id  \\\n",
       "41          Family of Thakurganj  tt8897986   \n",
       "58             Ghost (2019 film)  tt9378950   \n",
       "62                Saand Ki Aankh  tt8108206   \n",
       "192     Sachin: A Billion Dreams  tt4640206   \n",
       "1435  Final Solution (2003 film)  tt0402178   \n",
       "1628                    Humsafar  tt2403201   \n",
       "\n",
       "                                                                                                                           poster_path  \\\n",
       "41                                                             https://upload.wikimedia.org/wikipedia/en/9/99/Family_of_Thakurganj.jpg   \n",
       "58                              https://upload.wikimedia.org/wikipedia/en/thumb/b/ba/Ghost_Film_Poster.jpg/220px-Ghost_Film_Poster.jpg   \n",
       "62                      https://upload.wikimedia.org/wikipedia/en/thumb/c/c3/Saand_Ki_Aankh_poster.jpg/220px-Saand_Ki_Aankh_poster.jpg   \n",
       "192   https://upload.wikimedia.org/wikipedia/en/thumb/8/86/Sachin_A_Billion_Dreams_Poster.jpg/220px-Sachin_A_Billion_Dreams_Poster.jpg   \n",
       "1435                                                                                                                               NaN   \n",
       "1628                                 https://upload.wikimedia.org/wikipedia/en/thumb/4/41/Flag_of_India.svg/23px-Flag_of_India.svg.png   \n",
       "\n",
       "                                                     wiki_link  \\\n",
       "41          https://en.wikipedia.org/wiki/Family_of_Thakurganj   \n",
       "58             https://en.wikipedia.org/wiki/Ghost_(2019_film)   \n",
       "62                https://en.wikipedia.org/wiki/Saand_Ki_Aankh   \n",
       "192     https://en.wikipedia.org/wiki/Sachin:_A_Billion_Dreams   \n",
       "1435  https://en.wikipedia.org/wiki/Final_Solution_(2003_film)   \n",
       "1628                    https://en.wikipedia.org/wiki/Humsafar   \n",
       "\n",
       "                   title_y        original_title  is_adult  year_of_release  \\\n",
       "41    Family of Thakurganj  Family of Thakurganj         0             2019   \n",
       "58                   Ghost                 Ghost         0             2019   \n",
       "62          Saand Ki Aankh        Saand Ki Aankh         0             2019   \n",
       "192                 Sachin                Sachin         0             2017   \n",
       "1435        Final Solution        Final Solution         0             2004   \n",
       "1628              Humsafar              Humsafar         0             2011   \n",
       "\n",
       "     runtime             genres  imdb_rating  imdb_votes  \\\n",
       "41       127       Action|Drama          9.4         895   \n",
       "58       130    Horror|Thriller          8.7        1379   \n",
       "62       146    Biography|Drama          8.9        1902   \n",
       "192      138  Documentary|Sport          8.6        7239   \n",
       "1435     218        Documentary          8.7         333   \n",
       "1628      35      Drama|Romance          9.0        2968   \n",
       "\n",
       "                                                                                                                                                                                                                                                                                                                                                                                                                                                                                                                                                                                                                                                                                                                                                                                                                                                                   story  \\\n",
       "41                                                                                                                                                                                                                                                                                                                                                                                                                                                                                                                                                                                                                                                                                                                                   The film is based on small town of North India. Film's story is about confrontation of love and thoughts. Along with entertainment.   \n",
       "58                                                                                                                                                                                                                                                                                                                                                                                                                                                                                                                                                                                                                                                      The story of the film follows Karan Khanna  a politician of Indian origin in the United Kingdom  who is accused of killing his wife. He tells his lawyer that a spirit committed the murder and should be tried.   \n",
       "62                                                                                                                                                                                                                                                                                                                                                                                                                                                                                                                                                                                                                                                                                                                       Both over the age of 60  Chandro Tomar and Prakashi Tomar inspire other women in India when they demonstrate their expert sharpshooting skills.   \n",
       "192                                                                                                                                                                                                                                                                                                                                                                                                                                                                                                                                                                                                                                                                                                                                A tale of a small boy with dreams and his journey to becoming the God of Cricket and the most celebrated sportsperson in his country.   \n",
       "1435  The Final Solution is a 2003 documentary directed by Rakesh Sharma about the 2002 communal Gujarat Riots that arose as a response to the Godhra Train Burning incident on February 27  2002  where 58 Hindus were burnt alive on a train carriage. An official estimate states that 254 Hindus and 790 Muslims were killed during the riots  with 223 more missing. The documentary consists mostly of interviews  with both Muslims and Hindus  of multiple generations  and both sexes  with different views regarding the causes  justifications  and the actual events of the violence that occurred  as well as their prospects for the future. The government of Gujurat at the time  led by Chief Minister Narendra Modi  was highly criticised throughout the documentary and was accused of inciting much of the rioting and not doing enough to halt it.   \n",
       "1628                                                                                                           Sara and Ashar are childhood friends who share the same status  Sara has always had strong emotions for Ashar; while Khirad lives with her mother in a two bedroom apartment. Ashar and Khirad are forced into a marriage due to desperate circumstances. Khirad is a proud and self-sufficient person and does not give importance to wealth and power  she only hopes for respect. Ashar believes that he would have married a girl equal to his stature but was forced into a loveless marriage. Slowly their relationship gets stronger and the two find common grounds to begin their marriage. Along with internal struggles between these two strong characters; Sara and those around her plot to create enmity between the newly married couple.   \n",
       "\n",
       "                                                                                                                                                                                                                                          summary  \\\n",
       "41                                                                                                            The film is based on small town of North India. Film's story is about confrontation of love and thoughts. Along with entertainment.   \n",
       "58                               The story of the film follows Karan Khanna  a politician of Indian origin in the United Kingdom  who is accused of killing his wife. He tells his lawyer that a spirit committed the murder and should be tried.   \n",
       "62                                                                                                Both over the age of 60  Chandro Tomar and Prakashi Tomar inspire other women in India when they demonstrate their expert sharpshooting skills.   \n",
       "192                                                                                                         A tale of a small boy with dreams and his journey to becoming the God of Cricket and the most celebrated sportsperson in his country.   \n",
       "1435                         The Final Solution is a 2003 documentary directed by Rakesh Sharma about the 2002 communal Gujarat Riots that arose as a response to the Godhra Train Burning incident on February 27  2002  ...                       \n",
       "1628  Ashar and Khirad are forced to get married due to desperate circumstances. Sara is Ashar's childhood friend and believed she would marry Ashar. Khirad is caught within this love-triangle with other internal and external forces at play.   \n",
       "\n",
       "     tagline  \\\n",
       "41       NaN   \n",
       "58       NaN   \n",
       "62       NaN   \n",
       "192      NaN   \n",
       "1435     NaN   \n",
       "1628     NaN   \n",
       "\n",
       "                                                                                                                                                                                                                  actors  \\\n",
       "41    Jimmy Sheirgill|Mahie Gill|Nandish Singh|Pranati Rai Prakash|Saurabh Shukla|Sudhir Pandey|Supriya Pilgaonkar|Pavan Malhotra|Yashpal Sharma|Mukesh Tiwari|Raj Zutshi|Salil Acharya|Shivika Rishi|Lokesh Tilakdhari|   \n",
       "58                                                                                                                 Sanaya Irani|Shivam Bhaargava|Vikram Bhatt|Ameet Chana|Ananya Sengupta|Caroline Wilde|Monisha Hassen|   \n",
       "62                                                                                                                                                  Taapsee Pannu|Bhumi Pednekar|Prakash Jha|Viineet Kumar|Pawan Chopra|   \n",
       "192                                                                                                                                                                            Sachin Tendulkar|Mayur More|Mayuresh Pem|   \n",
       "1435                                                                                                                                                                                                                 NaN   \n",
       "1628                                                                                                                                                                                                         Fawad Khan|   \n",
       "\n",
       "            wins_nominations                release_date  \n",
       "41                       NaN        19 July 2019 (India)  \n",
       "58                       NaN     18 October 2019 (India)  \n",
       "62              1 nomination       25 October 2019 (USA)  \n",
       "192                      NaN           26 May 2017 (USA)  \n",
       "1435  5 wins & 2 nominations  13 February 2004 (Germany)  \n",
       "1628                     NaN       TV Series (2011–2012)  "
      ],
      "text/html": [
       "<div>\n",
       "<style scoped>\n",
       "    .dataframe tbody tr th:only-of-type {\n",
       "        vertical-align: middle;\n",
       "    }\n",
       "\n",
       "    .dataframe tbody tr th {\n",
       "        vertical-align: top;\n",
       "    }\n",
       "\n",
       "    .dataframe thead th {\n",
       "        text-align: right;\n",
       "    }\n",
       "</style>\n",
       "<table border=\"1\" class=\"dataframe\">\n",
       "  <thead>\n",
       "    <tr style=\"text-align: right;\">\n",
       "      <th></th>\n",
       "      <th>title_x</th>\n",
       "      <th>imdb_id</th>\n",
       "      <th>poster_path</th>\n",
       "      <th>wiki_link</th>\n",
       "      <th>title_y</th>\n",
       "      <th>original_title</th>\n",
       "      <th>is_adult</th>\n",
       "      <th>year_of_release</th>\n",
       "      <th>runtime</th>\n",
       "      <th>genres</th>\n",
       "      <th>imdb_rating</th>\n",
       "      <th>imdb_votes</th>\n",
       "      <th>story</th>\n",
       "      <th>summary</th>\n",
       "      <th>tagline</th>\n",
       "      <th>actors</th>\n",
       "      <th>wins_nominations</th>\n",
       "      <th>release_date</th>\n",
       "    </tr>\n",
       "  </thead>\n",
       "  <tbody>\n",
       "    <tr>\n",
       "      <th>41</th>\n",
       "      <td>Family of Thakurganj</td>\n",
       "      <td>tt8897986</td>\n",
       "      <td>https://upload.wikimedia.org/wikipedia/en/9/99/Family_of_Thakurganj.jpg</td>\n",
       "      <td>https://en.wikipedia.org/wiki/Family_of_Thakurganj</td>\n",
       "      <td>Family of Thakurganj</td>\n",
       "      <td>Family of Thakurganj</td>\n",
       "      <td>0</td>\n",
       "      <td>2019</td>\n",
       "      <td>127</td>\n",
       "      <td>Action|Drama</td>\n",
       "      <td>9.4</td>\n",
       "      <td>895</td>\n",
       "      <td>The film is based on small town of North India. Film's story is about confrontation of love and thoughts. Along with entertainment.</td>\n",
       "      <td>The film is based on small town of North India. Film's story is about confrontation of love and thoughts. Along with entertainment.</td>\n",
       "      <td>NaN</td>\n",
       "      <td>Jimmy Sheirgill|Mahie Gill|Nandish Singh|Pranati Rai Prakash|Saurabh Shukla|Sudhir Pandey|Supriya Pilgaonkar|Pavan Malhotra|Yashpal Sharma|Mukesh Tiwari|Raj Zutshi|Salil Acharya|Shivika Rishi|Lokesh Tilakdhari|</td>\n",
       "      <td>NaN</td>\n",
       "      <td>19 July 2019 (India)</td>\n",
       "    </tr>\n",
       "    <tr>\n",
       "      <th>58</th>\n",
       "      <td>Ghost (2019 film)</td>\n",
       "      <td>tt9378950</td>\n",
       "      <td>https://upload.wikimedia.org/wikipedia/en/thumb/b/ba/Ghost_Film_Poster.jpg/220px-Ghost_Film_Poster.jpg</td>\n",
       "      <td>https://en.wikipedia.org/wiki/Ghost_(2019_film)</td>\n",
       "      <td>Ghost</td>\n",
       "      <td>Ghost</td>\n",
       "      <td>0</td>\n",
       "      <td>2019</td>\n",
       "      <td>130</td>\n",
       "      <td>Horror|Thriller</td>\n",
       "      <td>8.7</td>\n",
       "      <td>1379</td>\n",
       "      <td>The story of the film follows Karan Khanna  a politician of Indian origin in the United Kingdom  who is accused of killing his wife. He tells his lawyer that a spirit committed the murder and should be tried.</td>\n",
       "      <td>The story of the film follows Karan Khanna  a politician of Indian origin in the United Kingdom  who is accused of killing his wife. He tells his lawyer that a spirit committed the murder and should be tried.</td>\n",
       "      <td>NaN</td>\n",
       "      <td>Sanaya Irani|Shivam Bhaargava|Vikram Bhatt|Ameet Chana|Ananya Sengupta|Caroline Wilde|Monisha Hassen|</td>\n",
       "      <td>NaN</td>\n",
       "      <td>18 October 2019 (India)</td>\n",
       "    </tr>\n",
       "    <tr>\n",
       "      <th>62</th>\n",
       "      <td>Saand Ki Aankh</td>\n",
       "      <td>tt8108206</td>\n",
       "      <td>https://upload.wikimedia.org/wikipedia/en/thumb/c/c3/Saand_Ki_Aankh_poster.jpg/220px-Saand_Ki_Aankh_poster.jpg</td>\n",
       "      <td>https://en.wikipedia.org/wiki/Saand_Ki_Aankh</td>\n",
       "      <td>Saand Ki Aankh</td>\n",
       "      <td>Saand Ki Aankh</td>\n",
       "      <td>0</td>\n",
       "      <td>2019</td>\n",
       "      <td>146</td>\n",
       "      <td>Biography|Drama</td>\n",
       "      <td>8.9</td>\n",
       "      <td>1902</td>\n",
       "      <td>Both over the age of 60  Chandro Tomar and Prakashi Tomar inspire other women in India when they demonstrate their expert sharpshooting skills.</td>\n",
       "      <td>Both over the age of 60  Chandro Tomar and Prakashi Tomar inspire other women in India when they demonstrate their expert sharpshooting skills.</td>\n",
       "      <td>NaN</td>\n",
       "      <td>Taapsee Pannu|Bhumi Pednekar|Prakash Jha|Viineet Kumar|Pawan Chopra|</td>\n",
       "      <td>1 nomination</td>\n",
       "      <td>25 October 2019 (USA)</td>\n",
       "    </tr>\n",
       "    <tr>\n",
       "      <th>192</th>\n",
       "      <td>Sachin: A Billion Dreams</td>\n",
       "      <td>tt4640206</td>\n",
       "      <td>https://upload.wikimedia.org/wikipedia/en/thumb/8/86/Sachin_A_Billion_Dreams_Poster.jpg/220px-Sachin_A_Billion_Dreams_Poster.jpg</td>\n",
       "      <td>https://en.wikipedia.org/wiki/Sachin:_A_Billion_Dreams</td>\n",
       "      <td>Sachin</td>\n",
       "      <td>Sachin</td>\n",
       "      <td>0</td>\n",
       "      <td>2017</td>\n",
       "      <td>138</td>\n",
       "      <td>Documentary|Sport</td>\n",
       "      <td>8.6</td>\n",
       "      <td>7239</td>\n",
       "      <td>A tale of a small boy with dreams and his journey to becoming the God of Cricket and the most celebrated sportsperson in his country.</td>\n",
       "      <td>A tale of a small boy with dreams and his journey to becoming the God of Cricket and the most celebrated sportsperson in his country.</td>\n",
       "      <td>NaN</td>\n",
       "      <td>Sachin Tendulkar|Mayur More|Mayuresh Pem|</td>\n",
       "      <td>NaN</td>\n",
       "      <td>26 May 2017 (USA)</td>\n",
       "    </tr>\n",
       "    <tr>\n",
       "      <th>1435</th>\n",
       "      <td>Final Solution (2003 film)</td>\n",
       "      <td>tt0402178</td>\n",
       "      <td>NaN</td>\n",
       "      <td>https://en.wikipedia.org/wiki/Final_Solution_(2003_film)</td>\n",
       "      <td>Final Solution</td>\n",
       "      <td>Final Solution</td>\n",
       "      <td>0</td>\n",
       "      <td>2004</td>\n",
       "      <td>218</td>\n",
       "      <td>Documentary</td>\n",
       "      <td>8.7</td>\n",
       "      <td>333</td>\n",
       "      <td>The Final Solution is a 2003 documentary directed by Rakesh Sharma about the 2002 communal Gujarat Riots that arose as a response to the Godhra Train Burning incident on February 27  2002  where 58 Hindus were burnt alive on a train carriage. An official estimate states that 254 Hindus and 790 Muslims were killed during the riots  with 223 more missing. The documentary consists mostly of interviews  with both Muslims and Hindus  of multiple generations  and both sexes  with different views regarding the causes  justifications  and the actual events of the violence that occurred  as well as their prospects for the future. The government of Gujurat at the time  led by Chief Minister Narendra Modi  was highly criticised throughout the documentary and was accused of inciting much of the rioting and not doing enough to halt it.</td>\n",
       "      <td>The Final Solution is a 2003 documentary directed by Rakesh Sharma about the 2002 communal Gujarat Riots that arose as a response to the Godhra Train Burning incident on February 27  2002  ...</td>\n",
       "      <td>NaN</td>\n",
       "      <td>NaN</td>\n",
       "      <td>5 wins &amp; 2 nominations</td>\n",
       "      <td>13 February 2004 (Germany)</td>\n",
       "    </tr>\n",
       "    <tr>\n",
       "      <th>1628</th>\n",
       "      <td>Humsafar</td>\n",
       "      <td>tt2403201</td>\n",
       "      <td>https://upload.wikimedia.org/wikipedia/en/thumb/4/41/Flag_of_India.svg/23px-Flag_of_India.svg.png</td>\n",
       "      <td>https://en.wikipedia.org/wiki/Humsafar</td>\n",
       "      <td>Humsafar</td>\n",
       "      <td>Humsafar</td>\n",
       "      <td>0</td>\n",
       "      <td>2011</td>\n",
       "      <td>35</td>\n",
       "      <td>Drama|Romance</td>\n",
       "      <td>9.0</td>\n",
       "      <td>2968</td>\n",
       "      <td>Sara and Ashar are childhood friends who share the same status  Sara has always had strong emotions for Ashar; while Khirad lives with her mother in a two bedroom apartment. Ashar and Khirad are forced into a marriage due to desperate circumstances. Khirad is a proud and self-sufficient person and does not give importance to wealth and power  she only hopes for respect. Ashar believes that he would have married a girl equal to his stature but was forced into a loveless marriage. Slowly their relationship gets stronger and the two find common grounds to begin their marriage. Along with internal struggles between these two strong characters; Sara and those around her plot to create enmity between the newly married couple.</td>\n",
       "      <td>Ashar and Khirad are forced to get married due to desperate circumstances. Sara is Ashar's childhood friend and believed she would marry Ashar. Khirad is caught within this love-triangle with other internal and external forces at play.</td>\n",
       "      <td>NaN</td>\n",
       "      <td>Fawad Khan|</td>\n",
       "      <td>NaN</td>\n",
       "      <td>TV Series (2011–2012)</td>\n",
       "    </tr>\n",
       "  </tbody>\n",
       "</table>\n",
       "</div>"
      ]
     },
     "execution_count": 112,
     "metadata": {},
     "output_type": "execute_result"
    }
   ],
   "execution_count": 112
  },
  {
   "metadata": {
    "ExecuteTime": {
     "end_time": "2025-02-05T17:03:17.784634Z",
     "start_time": "2025-02-05T17:03:17.752859Z"
    }
   },
   "cell_type": "code",
   "source": [
    "# Action movies with rating higher than 7.5\n",
    "movies[(movies['genres'].str.split('|').apply(lambda x : 'Action' in x))& (movies['imdb_rating']>7.5)].shape[0]"
   ],
   "id": "ed0344e43f2a5ba7",
   "outputs": [
    {
     "data": {
      "text/plain": [
       "33"
      ]
     },
     "execution_count": 129,
     "metadata": {},
     "output_type": "execute_result"
    }
   ],
   "execution_count": 129
  },
  {
   "metadata": {},
   "cell_type": "markdown",
   "source": "### Adding new cols",
   "id": "1e10744f802a7b00"
  },
  {
   "metadata": {
    "ExecuteTime": {
     "end_time": "2025-02-05T17:04:49.567372Z",
     "start_time": "2025-02-05T17:04:49.552321Z"
    }
   },
   "cell_type": "code",
   "source": "movies['Country']='India'",
   "id": "8250ad3ea7d161e3",
   "outputs": [],
   "execution_count": 130
  },
  {
   "metadata": {
    "ExecuteTime": {
     "end_time": "2025-02-05T17:05:02.050154Z",
     "start_time": "2025-02-05T17:05:02.032156Z"
    }
   },
   "cell_type": "code",
   "source": "movies['Country']",
   "id": "77d0c224fc327a0f",
   "outputs": [
    {
     "data": {
      "text/plain": [
       "0       India\n",
       "1       India\n",
       "2       India\n",
       "3       India\n",
       "4       India\n",
       "        ...  \n",
       "1624    India\n",
       "1625    India\n",
       "1626    India\n",
       "1627    India\n",
       "1628    India\n",
       "Name: Country, Length: 1629, dtype: object"
      ]
     },
     "execution_count": 131,
     "metadata": {},
     "output_type": "execute_result"
    }
   ],
   "execution_count": 131
  },
  {
   "metadata": {
    "ExecuteTime": {
     "end_time": "2025-02-05T17:06:33.035908Z",
     "start_time": "2025-02-05T17:06:33.004656Z"
    }
   },
   "cell_type": "code",
   "source": [
    "# from existing ones\n",
    "movies.dropna(inplace=True)"
   ],
   "id": "ae998133f246ce78",
   "outputs": [],
   "execution_count": 134
  },
  {
   "metadata": {
    "ExecuteTime": {
     "end_time": "2025-02-05T17:06:37.220457Z",
     "start_time": "2025-02-05T17:06:37.189224Z"
    }
   },
   "cell_type": "code",
   "source": "movies.info()",
   "id": "a5c26e305d21f0f2",
   "outputs": [
    {
     "name": "stdout",
     "output_type": "stream",
     "text": [
      "<class 'pandas.core.frame.DataFrame'>\n",
      "Index: 298 entries, 11 to 1623\n",
      "Data columns (total 19 columns):\n",
      " #   Column            Non-Null Count  Dtype  \n",
      "---  ------            --------------  -----  \n",
      " 0   title_x           298 non-null    object \n",
      " 1   imdb_id           298 non-null    object \n",
      " 2   poster_path       298 non-null    object \n",
      " 3   wiki_link         298 non-null    object \n",
      " 4   title_y           298 non-null    object \n",
      " 5   original_title    298 non-null    object \n",
      " 6   is_adult          298 non-null    int64  \n",
      " 7   year_of_release   298 non-null    int64  \n",
      " 8   runtime           298 non-null    object \n",
      " 9   genres            298 non-null    object \n",
      " 10  imdb_rating       298 non-null    float64\n",
      " 11  imdb_votes        298 non-null    int64  \n",
      " 12  story             298 non-null    object \n",
      " 13  summary           298 non-null    object \n",
      " 14  tagline           298 non-null    object \n",
      " 15  actors            298 non-null    object \n",
      " 16  wins_nominations  298 non-null    object \n",
      " 17  release_date      298 non-null    object \n",
      " 18  Country           298 non-null    object \n",
      "dtypes: float64(1), int64(3), object(15)\n",
      "memory usage: 46.6+ KB\n"
     ]
    }
   ],
   "execution_count": 135
  },
  {
   "metadata": {},
   "cell_type": "markdown",
   "source": "### Important DataFrame Function",
   "id": "99e120f90daa1d95"
  },
  {
   "metadata": {
    "ExecuteTime": {
     "end_time": "2025-02-05T17:07:53.092233Z",
     "start_time": "2025-02-05T17:07:53.070720Z"
    }
   },
   "cell_type": "code",
   "source": "ipl.info()",
   "id": "b3016a8d83b19d1b",
   "outputs": [
    {
     "name": "stdout",
     "output_type": "stream",
     "text": [
      "<class 'pandas.core.frame.DataFrame'>\n",
      "RangeIndex: 950 entries, 0 to 949\n",
      "Data columns (total 20 columns):\n",
      " #   Column           Non-Null Count  Dtype  \n",
      "---  ------           --------------  -----  \n",
      " 0   ID               950 non-null    int64  \n",
      " 1   City             899 non-null    object \n",
      " 2   Date             950 non-null    object \n",
      " 3   Season           950 non-null    object \n",
      " 4   MatchNumber      950 non-null    object \n",
      " 5   Team1            950 non-null    object \n",
      " 6   Team2            950 non-null    object \n",
      " 7   Venue            950 non-null    object \n",
      " 8   TossWinner       950 non-null    object \n",
      " 9   TossDecision     950 non-null    object \n",
      " 10  SuperOver        946 non-null    object \n",
      " 11  WinningTeam      946 non-null    object \n",
      " 12  WonBy            950 non-null    object \n",
      " 13  Margin           932 non-null    float64\n",
      " 14  method           19 non-null     object \n",
      " 15  Player_of_Match  946 non-null    object \n",
      " 16  Team1Players     950 non-null    object \n",
      " 17  Team2Players     950 non-null    object \n",
      " 18  Umpire1          950 non-null    object \n",
      " 19  Umpire2          950 non-null    object \n",
      "dtypes: float64(1), int64(1), object(18)\n",
      "memory usage: 148.6+ KB\n"
     ]
    }
   ],
   "execution_count": 136
  },
  {
   "metadata": {
    "ExecuteTime": {
     "end_time": "2025-02-05T17:09:12.782142Z",
     "start_time": "2025-02-05T17:09:12.757925Z"
    }
   },
   "cell_type": "code",
   "source": [
    "# astype\n",
    "ipl['ID'] = ipl['ID'].astype(np.int32)"
   ],
   "id": "b7f297bbffa51d2f",
   "outputs": [],
   "execution_count": 141
  },
  {
   "metadata": {
    "ExecuteTime": {
     "end_time": "2025-02-05T17:09:20.348120Z",
     "start_time": "2025-02-05T17:09:20.313400Z"
    }
   },
   "cell_type": "code",
   "source": "ipl.info()",
   "id": "e111d1eaae92b531",
   "outputs": [
    {
     "name": "stdout",
     "output_type": "stream",
     "text": [
      "<class 'pandas.core.frame.DataFrame'>\n",
      "RangeIndex: 950 entries, 0 to 949\n",
      "Data columns (total 20 columns):\n",
      " #   Column           Non-Null Count  Dtype  \n",
      "---  ------           --------------  -----  \n",
      " 0   ID               950 non-null    int32  \n",
      " 1   City             899 non-null    object \n",
      " 2   Date             950 non-null    object \n",
      " 3   Season           950 non-null    object \n",
      " 4   MatchNumber      950 non-null    object \n",
      " 5   Team1            950 non-null    object \n",
      " 6   Team2            950 non-null    object \n",
      " 7   Venue            950 non-null    object \n",
      " 8   TossWinner       950 non-null    object \n",
      " 9   TossDecision     950 non-null    object \n",
      " 10  SuperOver        946 non-null    object \n",
      " 11  WinningTeam      946 non-null    object \n",
      " 12  WonBy            950 non-null    object \n",
      " 13  Margin           932 non-null    float64\n",
      " 14  method           19 non-null     object \n",
      " 15  Player_of_Match  946 non-null    object \n",
      " 16  Team1Players     950 non-null    object \n",
      " 17  Team2Players     950 non-null    object \n",
      " 18  Umpire1          950 non-null    object \n",
      " 19  Umpire2          950 non-null    object \n",
      "dtypes: float64(1), int32(1), object(18)\n",
      "memory usage: 144.9+ KB\n"
     ]
    }
   ],
   "execution_count": 142
  },
  {
   "metadata": {
    "ExecuteTime": {
     "end_time": "2025-02-05T17:09:50.362541Z",
     "start_time": "2025-02-05T17:09:50.336565Z"
    }
   },
   "cell_type": "code",
   "source": [
    "# ipl['Season'] = ipl['Season'].astype('category')\n",
    "ipl['Team1'] = ipl['Team1'].astype('category')\n",
    "ipl['Team2'] = ipl['Team2'].astype('category')"
   ],
   "id": "d66337104bb14412",
   "outputs": [],
   "execution_count": 143
  },
  {
   "metadata": {
    "ExecuteTime": {
     "end_time": "2025-02-05T17:10:03.912654Z",
     "start_time": "2025-02-05T17:10:03.857214Z"
    }
   },
   "cell_type": "code",
   "source": "ipl.info()",
   "id": "fa7eb5993c24dd1e",
   "outputs": [
    {
     "name": "stdout",
     "output_type": "stream",
     "text": [
      "<class 'pandas.core.frame.DataFrame'>\n",
      "RangeIndex: 950 entries, 0 to 949\n",
      "Data columns (total 20 columns):\n",
      " #   Column           Non-Null Count  Dtype   \n",
      "---  ------           --------------  -----   \n",
      " 0   ID               950 non-null    int32   \n",
      " 1   City             899 non-null    object  \n",
      " 2   Date             950 non-null    object  \n",
      " 3   Season           950 non-null    object  \n",
      " 4   MatchNumber      950 non-null    object  \n",
      " 5   Team1            950 non-null    category\n",
      " 6   Team2            950 non-null    category\n",
      " 7   Venue            950 non-null    object  \n",
      " 8   TossWinner       950 non-null    object  \n",
      " 9   TossDecision     950 non-null    object  \n",
      " 10  SuperOver        946 non-null    object  \n",
      " 11  WinningTeam      946 non-null    object  \n",
      " 12  WonBy            950 non-null    object  \n",
      " 13  Margin           932 non-null    float64 \n",
      " 14  method           19 non-null     object  \n",
      " 15  Player_of_Match  946 non-null    object  \n",
      " 16  Team1Players     950 non-null    object  \n",
      " 17  Team2Players     950 non-null    object  \n",
      " 18  Umpire1          950 non-null    object  \n",
      " 19  Umpire2          950 non-null    object  \n",
      "dtypes: category(2), float64(1), int32(1), object(16)\n",
      "memory usage: 133.2+ KB\n"
     ]
    }
   ],
   "execution_count": 144
  },
  {
   "metadata": {
    "ExecuteTime": {
     "end_time": "2025-02-05T17:11:59.267187Z",
     "start_time": "2025-02-05T17:11:59.243173Z"
    }
   },
   "cell_type": "code",
   "source": [
    "#value_counts\n",
    "ipl['City'].value_counts().sort_values(ascending=False).head(1)"
   ],
   "id": "163d76e9d5f2dfc2",
   "outputs": [
    {
     "data": {
      "text/plain": [
       "City\n",
       "Mumbai    159\n",
       "Name: count, dtype: int64"
      ]
     },
     "execution_count": 150,
     "metadata": {},
     "output_type": "execute_result"
    }
   ],
   "execution_count": 150
  }
 ],
 "metadata": {
  "kernelspec": {
   "display_name": "Python 3 (ipykernel)",
   "language": "python",
   "name": "python3"
  },
  "language_info": {
   "codemirror_mode": {
    "name": "ipython",
    "version": 3
   },
   "file_extension": ".py",
   "mimetype": "text/x-python",
   "name": "python",
   "nbconvert_exporter": "python",
   "pygments_lexer": "ipython3",
   "version": "3.10.6"
  }
 },
 "nbformat": 4,
 "nbformat_minor": 5
}
